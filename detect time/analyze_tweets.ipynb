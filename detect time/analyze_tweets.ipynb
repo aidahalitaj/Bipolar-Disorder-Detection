{
 "cells": [
  {
   "cell_type": "code",
   "execution_count": 11,
   "metadata": {
    "collapsed": false
   },
   "outputs": [],
   "source": [
    "# python2\n",
    "from EmotionDetection import EmotionDetection\n",
    "\n",
    "import plotly.plotly as py\n",
    "import plotly.graph_objs as go\n"
   ]
  },
  {
   "cell_type": "code",
   "execution_count": 1,
   "metadata": {
    "collapsed": true
   },
   "outputs": [],
   "source": [
    "\n",
    "\n",
    "def readPatient(folder, filename):\n",
    "    with open(folder + filename, 'r') as openfile:\n",
    "        return [line.split(';') for line in openfile.readlines()]\n",
    "\n"
   ]
  },
  {
   "cell_type": "code",
   "execution_count": 2,
   "metadata": {
    "collapsed": true
   },
   "outputs": [],
   "source": [
    "ed = EmotionDetection()\n",
    "\n",
    "patient_tweets = readPatient('../twitter crawler/csv_user_tweets/','Karltruthful.csv')[1:]\n",
    "\n"
   ]
  },
  {
   "cell_type": "code",
   "execution_count": 7,
   "metadata": {
    "collapsed": false
   },
   "outputs": [],
   "source": [
    "user_post_timeline = []\n",
    "\n",
    "# list attribute\n",
    "# username;date;retweets;favorites;text;geo;mentions;hashtags;id;permalink\n",
    "for tweets in patient_tweets:\n",
    "    post_time = tweets[1]\n",
    "    emotion_json = ed.get_emotion_json(tweets[4])\n",
    "    if emotion_json[u'ambiguous'] == u'yes':\n",
    "        post_emotion = 'ambiguous'\n",
    "    else:\n",
    "        post_emotion = emotion_json[u'groups'][0][u'name']\n",
    "        \n",
    "    user_post_timeline.append((post_time,post_emotion))\n",
    "# print(user_post_timeline)"
   ]
  },
  {
   "cell_type": "code",
   "execution_count": 23,
   "metadata": {
    "collapsed": true
   },
   "outputs": [],
   "source": [
    "emotion_degree_dict = {'joy':2,\n",
    "                       'anticipation':1,\n",
    "                       'trust':1,\n",
    "                       'surprise':1,\n",
    "                       'ambiguous':0,\n",
    "                       'fear':-1,\n",
    "                       'anger':-2,\n",
    "                       'disgust':-1,\n",
    "                       'sadness':-1 \n",
    "                      }"
   ]
  },
  {
   "cell_type": "code",
   "execution_count": 24,
   "metadata": {
    "collapsed": true
   },
   "outputs": [],
   "source": [
    "x_axis = []\n",
    "y_axis = []\n",
    "\n",
    "for post in user_post_timeline:\n",
    "    x_axis.append(post[0])\n",
    "    y_axis.append(emotion_degree_dict[post[1]])"
   ]
  },
  {
   "cell_type": "code",
   "execution_count": 25,
   "metadata": {
    "collapsed": false
   },
   "outputs": [
    {
     "data": {
      "text/html": [
       "<iframe id=\"igraph\" scrolling=\"no\" style=\"border:none;\" seamless=\"seamless\" src=\"https://plot.ly/~yenhao0218/52.embed\" height=\"525px\" width=\"100%\"></iframe>"
      ],
      "text/plain": [
       "<plotly.tools.PlotlyDisplay object>"
      ]
     },
     "execution_count": 25,
     "metadata": {},
     "output_type": "execute_result"
    }
   ],
   "source": [
    "\n",
    "data = [go.Scatter(\n",
    "          x=x_axis,\n",
    "          y=y_axis)]\n",
    "py.iplot(data)\n"
   ]
  },
  {
   "cell_type": "code",
   "execution_count": null,
   "metadata": {
    "collapsed": true
   },
   "outputs": [],
   "source": []
  }
 ],
 "metadata": {
  "kernelspec": {
   "display_name": "Python 2",
   "language": "python",
   "name": "python2"
  },
  "language_info": {
   "codemirror_mode": {
    "name": "ipython",
    "version": 2
   },
   "file_extension": ".py",
   "mimetype": "text/x-python",
   "name": "python",
   "nbconvert_exporter": "python",
   "pygments_lexer": "ipython2",
   "version": "2.7.12"
  }
 },
 "nbformat": 4,
 "nbformat_minor": 2
}
