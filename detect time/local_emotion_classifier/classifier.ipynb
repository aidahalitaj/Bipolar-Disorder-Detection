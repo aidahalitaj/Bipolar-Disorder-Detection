{
 "cells": [
  {
   "cell_type": "code",
   "execution_count": 1,
   "metadata": {
    "collapsed": false,
    "deletable": true,
    "editable": true
   },
   "outputs": [],
   "source": [
    "import pandas as pd\n",
    "import numpy as np\n",
    "import sklearn.metrics\n",
    "import os\n",
    "from sklearn import preprocessing\n",
    "from sklearn.externals import joblib\n",
    "import multiprocessing as mp\n",
    "\n",
    "#import PatternVectorizer and SimpleClassifier\n",
    "from pattern_classifier import  SimpleClassifier, PatternVectorizer"
   ]
  },
  {
   "cell_type": "code",
   "execution_count": 2,
   "metadata": {
    "collapsed": true,
    "deletable": true,
    "editable": true
   },
   "outputs": [],
   "source": [
    "cls_persistence = 'data/simple_classifier_model.pkl.compressed'\n",
    "pv_persistence = 'data/pattern_vectorizer.pkl.compressed'\n",
    "\n",
    "cls = joblib.load(cls_persistence)\n",
    "pv = joblib.load(pv_persistence)"
   ]
  },
  {
   "cell_type": "markdown",
   "metadata": {
    "deletable": true,
    "editable": true
   },
   "source": [
    "## Load tweets"
   ]
  },
  {
   "cell_type": "code",
   "execution_count": 3,
   "metadata": {
    "collapsed": true,
    "deletable": true,
    "editable": true
   },
   "outputs": [],
   "source": [
    "file_dir = 'mention_recent/'\n",
    "col = ['id', 'screen', 'datetime', 'text']\n",
    "user_tweet_list = [pd.read_csv(file_dir+file, delimiter = '\\t', names = col) for file in os.listdir(file_dir)]"
   ]
  },
  {
   "cell_type": "markdown",
   "metadata": {
    "deletable": true,
    "editable": true
   },
   "source": [
    "## Query Emotion"
   ]
  },
  {
   "cell_type": "code",
   "execution_count": 4,
   "metadata": {
    "collapsed": true,
    "deletable": true,
    "editable": true
   },
   "outputs": [],
   "source": [
    "def emotion_query(user_tweets):\n",
    "    documentPatternVectors = pv.transform(user_tweets.text)\n",
    "\n",
    "    # using two emotion, guess the one with the smallest rank\n",
    "    Y_GUESS_2 = cls.get_top_emotion_ambiguous(documentPatternVectors, ascending=True, n=2)\n",
    "\n",
    "    Guess_array = np.array(Y_GUESS_2)\n",
    "\n",
    "    user_tweets['emotion1'] = Guess_array[:,0]\n",
    "    user_tweets['emotion2'] = Guess_array[:,1]\n",
    "    user_tweets['ambiguous'] = Guess_array[:,2]\n",
    "    \n",
    "    return user_tweets"
   ]
  },
  {
   "cell_type": "markdown",
   "metadata": {
    "deletable": true,
    "editable": true
   },
   "source": [
    "### Multi-processing"
   ]
  },
  {
   "cell_type": "code",
   "execution_count": 5,
   "metadata": {
    "collapsed": false,
    "deletable": true,
    "editable": true
   },
   "outputs": [],
   "source": [
    "pool = mp.Pool(processes=mp.cpu_count()-1)\n",
    "multi_res = [pool.apply_async(emotion_query, (user_tweets,)) for user_tweets in user_tweet_list]\n",
    "\n",
    "emo_user_tweet_list = [res.get() for res in multi_res]"
   ]
  },
  {
   "cell_type": "markdown",
   "metadata": {
    "collapsed": true,
    "deletable": true,
    "editable": true
   },
   "source": [
    "## Query Sentiment 140"
   ]
  },
  {
   "cell_type": "code",
   "execution_count": 37,
   "metadata": {
    "collapsed": false
   },
   "outputs": [],
   "source": [
    "import re\n",
    "import urllib\n",
    "import json\n",
    "from datetime import datetime"
   ]
  },
  {
   "cell_type": "code",
   "execution_count": 42,
   "metadata": {
    "collapsed": true
   },
   "outputs": [],
   "source": [
    "# function to delete url\n",
    "def del_url(line):\n",
    "    return re.sub(r'(\\S*(\\.com).*)|(https?:\\/\\/.*)', \"\", line)\n",
    "# replace tag\n",
    "def checktag(line): \n",
    "    return re.sub(r'\\@|\\#', \"\", line)\n",
    "# Some special character\n",
    "def checkSpecial(line):\n",
    "    return line.replace('♡', 'love ').replace('\\\"','').replace('“','').replace('”','').replace('…','...').replace('’','\\'').replace('•', '').replace('–','-')\n",
    "\n",
    "def sendto140(line):\n",
    "        query_string = '{\"data\": ['\n",
    "        # username, date, datetime, content \n",
    "        query_string += '{\"text\": \"' + checkSpecial(checktag(del_url(str(line).strip()))) + '\"},'\n",
    "\n",
    "        query_string = query_string[:-1] + ']}'\n",
    "        try:\n",
    "            data = query_string.encode('utf-8');\n",
    "            response = urllib.request.urlopen('http://www.sentiment140.com/api/bulkClassifyJson', data) # request to server     \n",
    "            page = response.read() # get the response     \n",
    "            # print page # print the result     \n",
    "            query_result = json.loads((page).decode('utf-8')) # parse the result. The result is in JSON format\n",
    "            return sentiment_dict[int(query_result[\"data\"][0][\"polarity\"])]\n",
    "        except:\n",
    "            print('\\n{} - Fail : {}'.format( datetime.now().strftime(\"%Y/%m/%d %H:%M:%S\"), query_string))\n",
    "            return sentiment_dict[2]\n",
    "\n",
    "\n",
    "\n",
    "sentiment_dict = {\n",
    "                0:-1,\n",
    "                2: 0,\n",
    "                4: 1\n",
    "                }"
   ]
  },
  {
   "cell_type": "code",
   "execution_count": null,
   "metadata": {
    "collapsed": false
   },
   "outputs": [
    {
     "name": "stdout",
     "output_type": "stream",
     "text": [
      "LynneThrasher\n",
      "jamQueGorb\n",
      "NikkiLedgerwood\n",
      "\n",
      "2017/05/06 19:44:30 - Fail : {\"data\": [{\"text\": \"AndrewCTE ️ \"}]}\n"
     ]
    }
   ],
   "source": [
    "for i, emo_user_tweets in enumerate(emo_user_tweet_list):\n",
    "    print(emo_user_tweets['screen'][0])\n",
    "    emo_user_tweet_list[i]['sentiment'] = emo_user_tweets.text.apply(lambda t: sendto140(t))"
   ]
  },
  {
   "cell_type": "code",
   "execution_count": null,
   "metadata": {
    "collapsed": true
   },
   "outputs": [],
   "source": []
  }
 ],
 "metadata": {
  "kernelspec": {
   "display_name": "Python 3",
   "language": "python",
   "name": "python3"
  },
  "language_info": {
   "codemirror_mode": {
    "name": "ipython",
    "version": 3
   },
   "file_extension": ".py",
   "mimetype": "text/x-python",
   "name": "python",
   "nbconvert_exporter": "python",
   "pygments_lexer": "ipython3",
   "version": "3.5.2"
  }
 },
 "nbformat": 4,
 "nbformat_minor": 2
}
