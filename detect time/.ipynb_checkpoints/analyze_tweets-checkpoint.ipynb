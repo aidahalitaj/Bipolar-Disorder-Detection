{
 "cells": [
  {
   "cell_type": "code",
   "execution_count": 1,
   "metadata": {
    "collapsed": true
   },
   "outputs": [],
   "source": [
    "# python2\n",
    "from EmotionDetection import EmotionDetection\n",
    "\n",
    "\n",
    "def readPatient(folder, filename):\n",
    "    with open(folder + filename, 'r') as openfile:\n",
    "        return [line.split(';') for line in openfile.readlines()]\n",
    "\n"
   ]
  },
  {
   "cell_type": "code",
   "execution_count": 2,
   "metadata": {
    "collapsed": true
   },
   "outputs": [],
   "source": [
    "ed = EmotionDetection()\n",
    "\n",
    "patient_tweets = readPatient('../twitter crawler/csv_user_tweets/','Karltruthful.csv')[1:]\n",
    "\n"
   ]
  },
  {
   "cell_type": "code",
   "execution_count": 6,
   "metadata": {
    "collapsed": false
   },
   "outputs": [
    {
     "name": "stdout",
     "output_type": "stream",
     "text": [
      "[('2016-12-16 05:22', 'ambiguous'), ('2016-12-16 00:56', u'sadness'), ('2016-12-15 06:09', 'ambiguous'), ('2016-12-15 04:48', u'joy'), ('2016-12-14 23:00', u'sadness'), ('2016-12-14 20:52', u'sadness'), ('2016-12-14 20:51', u'anticipation'), ('2016-12-14 07:38', u'sadness'), ('2016-12-14 05:10', 'ambiguous'), ('2016-12-13 07:57', u'disgust')]\n"
     ]
    }
   ],
   "source": [
    "user_post_timeline = []\n",
    "\n",
    "# list attribute\n",
    "# username;date;retweets;favorites;text;geo;mentions;hashtags;id;permalink\n",
    "for tweets in patient_tweets[:10]:\n",
    "    post_time = tweets[1]\n",
    "    emotion_json = ed.get_emotion_json(tweets[4])\n",
    "    if emotion_json[u'ambiguous'] == u'yes':\n",
    "        post_emotion = 'ambiguous'\n",
    "    else:\n",
    "        post_emotion = emotion_json[u'groups'][0][u'name']\n",
    "        \n",
    "    user_post_timeline.append((post_time,post_emotion))\n",
    "# print(user_post_timeline)"
   ]
  },
  {
   "cell_type": "code",
   "execution_count": null,
   "metadata": {
    "collapsed": true
   },
   "outputs": [],
   "source": []
  }
 ],
 "metadata": {
  "kernelspec": {
   "display_name": "Python 2",
   "language": "python",
   "name": "python2"
  },
  "language_info": {
   "codemirror_mode": {
    "name": "ipython",
    "version": 2
   },
   "file_extension": ".py",
   "mimetype": "text/x-python",
   "name": "python",
   "nbconvert_exporter": "python",
   "pygments_lexer": "ipython2",
   "version": "2.7.12"
  }
 },
 "nbformat": 4,
 "nbformat_minor": 2
}
