{
 "cells": [
  {
   "cell_type": "code",
   "execution_count": 22,
   "metadata": {
    "collapsed": true
   },
   "outputs": [],
   "source": [
    "import sys\n",
    "import os \n",
    "sys.path.append('../../../Mental_Disorder/3_feature_visualization') # get old tweets library\n",
    "import age_gender_predictor\n",
    "from collections import defaultdict\n",
    "import re\n",
    "from tabulate import tabulate\n",
    "from datetime import datetime, timedelta\n",
    "import math"
   ]
  },
  {
   "cell_type": "markdown",
   "metadata": {},
   "source": [
    "## Emotion Ratios\n",
    "Each ratio represents the percentage of an emotion in total tweets"
   ]
  },
  {
   "cell_type": "markdown",
   "metadata": {},
   "source": [
    "## Load tweets & emotion"
   ]
  },
  {
   "cell_type": "code",
   "execution_count": 7,
   "metadata": {
    "collapsed": false
   },
   "outputs": [],
   "source": [
    "def listFolderFile(folder):\n",
    "    return os.listdir(folder)\n",
    "def loadTweets():\n",
    "    # {username:{int(date):{[(datetime,content),...]}}}\n",
    "    tweets_dict = defaultdict(lambda: defaultdict(lambda: []))\n",
    "    folder = '../patient emotion/'\n",
    "    for user_file in listFolderFile(folder):\n",
    "        with open(folder + user_file) as tweets:\n",
    "            for line in tweets.readlines():\n",
    "                username, date, content, emotion1, emotion2, ambiguous = line.split('\\t')\n",
    "                tweets_dict[username][int(date)].append((content, emotion1, emotion2, ambiguous))\n",
    "\n",
    "    return tweets_dict"
   ]
  },
  {
   "cell_type": "code",
   "execution_count": 8,
   "metadata": {
    "collapsed": false
   },
   "outputs": [],
   "source": [
    "tweets_dict = loadTweets()"
   ]
  },
  {
   "cell_type": "markdown",
   "metadata": {},
   "source": [
    "## Get user ill time"
   ]
  },
  {
   "cell_type": "code",
   "execution_count": 11,
   "metadata": {
    "collapsed": true
   },
   "outputs": [],
   "source": [
    "def readPatientIllTime(folder, filename):\n",
    "    with open(folder + filename, 'r') as openfile:\n",
    "        return [line.strip().split('\\t') for line in openfile.readlines()]\n",
    "\n"
   ]
  },
  {
   "cell_type": "code",
   "execution_count": 20,
   "metadata": {
    "collapsed": false
   },
   "outputs": [
    {
     "name": "stdout",
     "output_type": "stream",
     "text": [
      "Patient Counts from month ill time:277\n"
     ]
    }
   ],
   "source": [
    "# ## Get ill time information\n",
    "patient_ill_time_list = readPatientIllTime('../../twitter crawler/', 'bipolar_list')\n",
    "patient_ill_time_dict = {line[0]: line[1] for line in patient_ill_time_list}\n",
    "\n",
    "# dict[user][diagnosed_time(datetime)]\n",
    "patient_month_time_dict = {}\n",
    "\n",
    "for patient in patient_ill_time_dict:\n",
    "    datetime_list = patient_ill_time_dict[patient].split('/')\n",
    "    if len(datetime_list) > 1:\n",
    "        if len(datetime_list) > 2:\n",
    "            patient_month_time_dict[patient] = datetime(int(datetime_list[0]), int(datetime_list[1]), int(datetime_list[2]))\n",
    "        else:\n",
    "            patient_month_time_dict[patient] = datetime(int(datetime_list[0]),int(datetime_list[1]),1)\n",
    "    else:\n",
    "        continue\n",
    "print( 'Patient Counts from month ill time:' + str(len(patient_month_time_dict)))"
   ]
  },
  {
   "cell_type": "code",
   "execution_count": 21,
   "metadata": {
    "collapsed": false
   },
   "outputs": [
    {
     "name": "stdout",
     "output_type": "stream",
     "text": [
      "NiallBunny\n",
      "2016-06-20 00:00:00\n"
     ]
    }
   ],
   "source": [
    "for patient, diagnosed_time in patient_month_time_dict.iteritems():\n",
    "    print(patient)\n",
    "    print(diagnosed_time)\n",
    "    break"
   ]
  },
  {
   "cell_type": "markdown",
   "metadata": {},
   "source": [
    "## Get emotion count\n",
    "Get user's emotion count around ( 6 weeks ~ diagnosed time ~ 2 weeks)"
   ]
  },
  {
   "cell_type": "code",
   "execution_count": 44,
   "metadata": {
    "collapsed": true
   },
   "outputs": [],
   "source": [
    "def date_not_in_range(user, date):\n",
    "    if date >= patient_month_time_dict[user] - timedelta(days=42) \\\n",
    "    and date <= patient_month_time_dict[user] + timedelta(days=14):\n",
    "        return False\n",
    "    else:\n",
    "        return True\n",
    "\n",
    "\n",
    "def getUsersEmotionsDict(users_timeSeries):\n",
    "#     user -> emotion count\n",
    "    user_emotion_dict = defaultdict(lambda: {\"joy\":0,\n",
    "                                       \"sadness\": 0,\n",
    "                                       \"fear\":0,\n",
    "                                       \"anticipation\": 0,\n",
    "                                       \"anger\":0,\n",
    "                                       \"trust\": 0,\n",
    "                                       \"disgust\": 0,\n",
    "                                       \"surprise\" : 0\n",
    "                                      })\n",
    "    for user in users_timeSeries:\n",
    "        user_tweets_count = 0\n",
    "#         date, [tweet_info, tweets_info ...]\n",
    "        for date, tweets_infos in users_timeSeries[user].iteritems():\n",
    "            if date_not_in_range(user, datetime.strptime(str(date), \"%Y%m%d\")): continue\n",
    "            for tweet_info in tweets_infos:                \n",
    "    #             content, emotion1, emotion2, ambiguous\n",
    "                if(tweet_info[3].strip() != 'yes'):\n",
    "    #         only get the first emotion now\n",
    "                    user_emotion_dict[user][tweet_info[1]] += 1\n",
    "                    user_tweets_count += 1\n",
    "    \n",
    "        for emotion in user_emotion_dict[user]:\n",
    "            if user_tweets_count == 0:\n",
    "                user_emotion_dict[user][emotion] = 0\n",
    "            else:\n",
    "                user_emotion_dict[user][emotion] = float(user_emotion_dict[user][emotion]) / user_tweets_count\n",
    "    return user_emotion_dict\n",
    "        "
   ]
  },
  {
   "cell_type": "code",
   "execution_count": 45,
   "metadata": {
    "collapsed": false
   },
   "outputs": [],
   "source": [
    "user_emotion_dict = getUsersEmotionsDict(tweets_dict)"
   ]
  },
  {
   "cell_type": "code",
   "execution_count": 55,
   "metadata": {
    "collapsed": false,
    "scrolled": false
   },
   "outputs": [
    {
     "name": "stdout",
     "output_type": "stream",
     "text": [
      "User             joy     sadness    fear    anticipation    anger    trust    disgust    surprise\n",
      "---------------  ------  ---------  ------  --------------  -------  -------  ---------  ----------\n",
      "yobitchmiranda   18.71%  21.58%     1.44%   17.99%          10.79%   5.04%    20.86%     3.6%\n",
      "TionSavageee     6.93%   21.39%     2.71%   12.05%          23.49%   1.51%    28.92%     3.01%\n",
      "sanchezpaige     7.26%   45.3%      2.99%   8.12%           17.09%   3.42%    13.25%     2.56%\n",
      "C_Leex3          0.0%    36.36%     0.0%    36.36%          0.0%     0.0%     27.27%     0.0%\n",
      "silencedrowns    10.38%  31.3%      5.46%   10.17%          10.01%   3.62%    21.24%     7.82%\n",
      "LochnessaMarie   11.38%  36.59%     4.88%   12.2%           14.63%   3.25%    16.26%     0.81%\n",
      "TommmMate        7.69%   30.77%     3.85%   26.92%          11.54%   7.69%    11.54%     0.0%\n",
      "X_JuliiiiBabyyy  8.25%   26.75%     2.75%   13.25%          19.0%    4.5%     23.75%     1.75%\n",
      "nicoletteblando  0.0%    28.57%     0.0%    14.29%          35.71%   7.14%    14.29%     0.0%\n",
      "BreSwaGz         0.0%    20.0%      0.0%    20.0%           20.0%    20.0%    20.0%      0.0%\n",
      "rozordie         9.49%   34.95%     9.49%   11.34%          8.33%    2.08%    20.6%      3.7%\n",
      "killingmyselfpl  5.08%   41.81%     2.82%   7.91%           17.51%   1.69%    20.34%     2.82%\n",
      "verybraveface    15.33%  29.81%     2.74%   17.21%          9.25%    6.57%    15.15%     3.95%\n",
      "shiku___         11.25%  29.18%     2.43%   15.2%           14.29%   4.86%    20.36%     2.43%\n",
      "right2hell       14.77%  27.27%     3.41%   15.91%          9.09%    7.95%    15.91%     5.68%\n",
      "aleexturneer_    11.66%  31.48%     3.86%   19.1%           11.93%   3.05%    15.96%     2.96%\n",
      "ElegantN7        11.67%  35.0%      8.33%   10.0%           8.33%    1.67%    21.67%     3.33%\n",
      "complicatedcon   15.93%  36.73%     2.32%   12.5%           10.51%   5.97%    11.39%     4.65%\n",
      "PlumBananas      30.0%   20.0%      0.0%    10.0%           10.0%    0.0%     10.0%      20.0%\n",
      "AwesomeAsh       42.86%  10.71%     7.14%   14.29%          3.57%    10.71%   10.71%     0.0%\n",
      "Nattyneou        10.57%  34.15%     2.44%   13.41%          13.01%   2.85%    17.89%     5.69%\n",
      "_raspberries     11.38%  30.69%     4.14%   12.41%          10.34%   5.52%    19.66%     5.86%\n",
      "reportzoIo       13.85%  37.04%     3.72%   12.48%          9.19%    6.44%    12.88%     4.41%\n",
      "Erin_Louisee     27.1%   17.42%     3.23%   17.42%          10.97%   7.74%    11.61%     4.52%\n",
      "Jennys67         17.81%  20.09%     8.68%   16.89%          9.13%    8.22%    10.96%     8.22%\n",
      "Vixoen           10.24%  30.88%     5.46%   12.44%          13.13%   5.99%    17.3%      4.55%\n",
      "PunkRockHappy    21.05%  15.79%     7.89%   23.68%          0.0%     18.42%   5.26%      7.89%\n",
      "kakes_bakes      11.11%  22.22%     16.67%  11.11%          16.67%   11.11%   11.11%     0.0%\n",
      "PennyCenturyXo   15.38%  35.04%     3.42%   12.82%          10.26%   5.13%    10.26%     7.69%\n",
      "ValeourM         13.84%  28.79%     6.7%    11.16%          9.82%    3.13%    18.75%     7.81%\n",
      "KashawnTaylor    12.86%  34.29%     2.86%   13.33%          10.0%    5.24%    18.57%     2.86%\n",
      "Ma7mood101       10.34%  13.79%     12.07%  25.86%          8.62%    10.34%   15.52%     3.45%\n",
      "Boricua611       28.24%  21.18%     1.18%   9.41%           1.18%    15.29%   17.65%     5.88%\n",
      "WHATISAPLANET    6.14%   39.5%      5.43%   13.73%          14.72%   2.44%    14.88%     3.16%\n",
      "lil_miss_caf     7.67%   31.42%     3.11%   11.77%          15.74%   4.25%    21.75%     4.28%\n",
      "musicaIhoe       12.3%   29.11%     4.59%   10.36%          14.83%   4.91%    20.33%     3.56%\n",
      "Scooby_Who       16.51%  25.91%     8.25%   12.09%          5.18%    6.91%    16.7%      8.45%\n",
      "k3lvy_           6.38%   37.8%      3.48%   12.33%          15.3%    2.78%    19.22%     2.72%\n",
      "NeliaCarolyn     8.76%   32.92%     4.81%   14.28%          10.18%   4.36%    20.33%     4.36%\n",
      "coolfamilyblog   100.0%  0.0%       0.0%    0.0%            0.0%     0.0%     0.0%       0.0%\n",
      "musicandincense  7.32%   34.96%     3.66%   9.76%           20.33%   2.03%    18.7%      3.25%\n",
      "kawaiicutforth   14.29%  30.6%      6.09%   17.44%          5.79%    7.37%    12.03%     6.39%\n",
      "obliviousm3      11.71%  28.15%     4.5%    15.09%          12.5%    5.29%    17.57%     5.18%\n",
      "Lesh_taboo       22.73%  20.45%     2.27%   20.45%          6.82%    4.55%    20.45%     2.27%\n",
      "freedomMLMtips   0.0%    0.0%       0.0%    0.0%            0.0%     0.0%     0.0%       0.0%\n",
      "razorblxde       5.92%   43.55%     2.44%   12.89%          16.38%   3.48%    13.24%     2.09%\n",
      "SammyFucknFenty  23.39%  19.35%     9.27%   13.31%          6.85%    16.13%   7.66%      4.03%\n",
      "f0reverliving    10.47%  28.8%      2.62%   16.75%          18.32%   3.14%    16.75%     3.14%\n",
      "TheBornDreamer   9.57%   26.88%     5.01%   19.36%          13.9%    3.42%    18.45%     3.42%\n",
      "DatShitKrae      5.0%    31.35%     3.85%   10.58%          19.23%   2.88%    20.38%     6.73%\n",
      "LostKaiyna       10.0%   33.33%     1.67%   18.33%          15.0%    1.67%    18.33%     1.67%\n",
      "clyder1966       27.27%  12.12%     3.03%   15.15%          9.09%    21.21%   6.06%      6.06%\n",
      "KARLXCARL        10.25%  31.68%     2.17%   12.42%          15.53%   2.8%     19.25%     5.9%\n",
      "CassandraBurns7  20.16%  23.64%     3.1%    13.18%          14.73%   11.63%   10.08%     3.49%\n",
      "ArtistSomeday    0.0%    0.0%       0.0%    0.0%            0.0%     0.0%     0.0%       0.0%\n",
      "philomathspirit  12.98%  33.27%     5.07%   14.63%          10.83%   7.41%    11.9%      3.9%\n",
      "CMBogan          8.09%   27.02%     3.34%   9.76%           17.18%   4.17%    24.52%     5.92%\n",
      "Radica_XO_Khidd  8.65%   41.35%     1.92%   14.42%          14.42%   3.85%    14.42%     0.96%\n",
      "Dream_Star_      15.17%  31.09%     3.98%   18.66%          13.18%   1.99%    12.69%     3.23%\n",
      "oldpaths_pub     11.11%  19.44%     11.11%  13.89%          2.78%    13.89%   16.67%     11.11%\n",
      "spencerncrane    14.63%  28.46%     4.88%   17.89%          8.94%    0.81%    20.33%     4.07%\n",
      "laurjbrown       12.83%  39.25%     4.5%    9.65%           9.59%    4.39%    14.31%     5.48%\n",
      "sammiethenami    0.0%    0.0%       0.0%    0.0%            0.0%     0.0%     100.0%     0.0%\n",
      "TylerCSmith815   0.0%    0.0%       0.0%    0.0%            0.0%     0.0%     0.0%       0.0%\n",
      "ceceliaa_        0.0%    50.0%      10.0%   30.0%           10.0%    0.0%     0.0%       0.0%\n",
      "rosekelleher4    16.33%  34.69%     6.12%   10.2%           6.12%    4.08%    14.29%     8.16%\n",
      "Oello12          35.29%  13.24%     1.47%   7.49%           4.68%    20.99%   9.89%      6.95%\n",
      "ActualJoykiller  7.22%   31.94%     5.7%    14.83%          11.03%   4.56%    21.67%     3.04%\n",
      "AshesAndSnow713  0.0%    20.0%      0.0%    0.0%            40.0%    0.0%     40.0%      0.0%\n",
      "jgquinton        15.68%  29.62%     3.31%   14.63%          6.1%     7.32%    16.72%     6.62%\n",
      "JonnyZombi       19.78%  20.44%     6.81%   13.85%          7.69%    8.79%    15.6%      7.03%\n",
      "Karen_e_miller   10.0%   16.67%     10.0%   6.67%           23.33%   6.67%    20.0%      6.67%\n",
      "_KatKennedy      14.68%  27.77%     6.01%   12.18%          9.26%    7.59%    15.1%      7.42%\n",
      "jamieboiss       12.74%  30.53%     4.33%   12.5%           12.26%   3.37%    18.99%     5.29%\n",
      "LithChronicles   0.0%    0.0%       0.0%    0.0%            0.0%     0.0%     0.0%       0.0%\n",
      "Popatrace_OrNah  12.93%  33.51%     2.9%    12.66%          9.23%    6.6%     11.87%     10.29%\n",
      "mcdoneugh        21.18%  32.94%     2.35%   11.76%          9.41%    5.88%    14.12%     2.35%\n",
      "PinkBerryShake   0.0%    0.0%       0.0%    0.0%            0.0%     0.0%     0.0%       0.0%\n",
      "dave_ghost       9.27%   28.76%     4.38%   9.07%           11.33%   3.73%    27.86%     5.6%\n",
      "KissMyVibe       9.84%   31.97%     0.82%   16.39%          16.39%   9.02%    13.11%     2.46%\n",
      "kuwabaras_       9.8%    34.14%     3.71%   11.52%          10.83%   3.98%    21.39%     4.63%\n",
      "ghostofclifford  28.57%  25.71%     0.0%    14.29%          4.29%    10.0%    10.0%      7.14%\n",
      "GingeKnievil     12.02%  25.27%     5.02%   14.0%           11.57%   5.02%    18.11%     8.98%\n",
      "fadeaway94       8.16%   29.93%     10.88%  14.97%          7.48%    4.08%    19.73%     4.76%\n",
      "2lookforward2    9.09%   27.27%     18.18%  9.09%           36.36%   0.0%     0.0%       0.0%\n",
      "AndrewHoughton8  30.56%  11.11%     2.78%   22.22%          5.56%    8.33%    16.67%     2.78%\n",
      "Cat_Fowl         12.35%  30.45%     3.29%   15.64%          16.05%   3.29%    16.87%     2.06%\n",
      "Demetria_Wife    23.57%  25.97%     3.73%   12.78%          9.32%    9.32%    10.79%     4.53%\n",
      "SassyPharmD      17.15%  21.64%     3.17%   13.46%          15.3%    4.49%    13.72%     11.08%\n",
      "ashliewaters     11.11%  5.56%      0.0%    22.22%          5.56%    22.22%   16.67%     16.67%\n",
      "jxlsia           29.5%   16.55%     1.95%   20.4%           3.7%     18.6%    3.75%      5.55%\n",
      "celineherbez     16.2%   33.64%     4.36%   15.58%          10.9%    3.74%    12.46%     3.12%\n",
      "ChantyRomard     11.43%  31.43%     5.71%   5.71%           20.0%    0.0%     20.0%      5.71%\n",
      "rorysxlogan      20.0%   22.77%     1.98%   13.27%          8.32%    7.33%    18.42%     7.92%\n",
      "b_bylynn         5.56%   42.86%     5.56%   10.32%          15.87%   2.38%    14.29%     3.17%\n",
      "Ritz_Tweeting    13.75%  26.85%     4.28%   19.46%          10.25%   6.87%    12.45%     6.1%\n",
      "CourtneyDePatz   12.33%  19.86%     6.16%   10.27%          15.07%   5.48%    22.6%      8.22%\n",
      "dogcalledbambi   11.86%  30.97%     4.36%   9.85%           11.13%   5.29%    20.51%     6.03%\n",
      "thesocialite85   40.98%  9.84%      1.64%   16.39%          1.64%    14.75%   13.11%     1.64%\n",
      "Beardy_Mc_Beard  18.85%  15.98%     4.1%    10.66%          6.56%    18.85%   18.03%     6.97%\n",
      "allagrugous      7.69%   36.54%     6.46%   9.75%           12.77%   3.16%    18.82%     4.81%\n",
      "dcgerald         14.29%  28.57%     0.0%    14.29%          14.29%   14.29%   14.29%     0.0%\n",
      "josephcott       10.14%  36.87%     5.07%   8.76%           11.52%   4.15%    17.05%     6.45%\n",
      "nidhighe         14.8%   22.2%      7.97%   12.71%          8.35%    6.26%    21.06%     6.64%\n",
      "Luucekay         13.89%  38.89%     4.17%   11.11%          9.72%    0.0%     18.06%     4.17%\n",
      "DeeJane7         31.25%  25.0%      0.0%    18.75%          6.25%    12.5%    0.0%       6.25%\n",
      "benjohnsick      22.07%  23.45%     2.76%   12.76%          7.59%    9.31%    19.31%     2.76%\n",
      "ObiWanChloe      20.0%   23.64%     3.64%   16.36%          9.09%    7.27%    16.36%     3.64%\n",
      "Empromancy       37.5%   37.5%      0.0%    0.0%            0.0%     25.0%    0.0%       0.0%\n",
      "GeraintWaddon    8.66%   32.28%     3.15%   9.45%           14.17%   7.87%    17.32%     7.09%\n",
      "CamWillReadu     9.5%    29.72%     2.8%    13.89%          17.78%   2.8%     20.83%     2.68%\n",
      "mikayla_radich   10.83%  35.35%     3.82%   14.97%          10.19%   2.87%    17.52%     4.46%\n",
      "easytide         22.5%   20.71%     3.57%   22.5%           10.0%    2.86%    13.21%     4.64%\n",
      "TIGN3Y           11.6%   31.14%     4.18%   17.24%          10.07%   4.86%    15.96%     4.95%\n",
      "bunnyelephant    9.33%   30.38%     4.07%   11.0%           13.4%    3.83%    22.49%     5.5%\n",
      "jimmypiper2      16.59%  25.11%     1.35%   21.97%          13.45%   5.83%    13.9%      1.79%\n",
      "delaney_ashlyn   13.63%  29.69%     3.68%   13.81%          11.93%   7.35%    15.7%      4.22%\n",
      "girlwtheblade    0.0%    0.0%       0.0%    0.0%            0.0%     100.0%   0.0%       0.0%\n",
      "nostaIgicmoons   9.45%   37.8%      3.35%   10.67%          14.02%   6.71%    15.24%     2.74%\n",
      "matthewRvincent  11.72%  27.34%     4.69%   17.97%          7.81%    3.91%    17.19%     9.38%\n",
      "_weewee          10.0%   42.5%      0.0%    15.0%           7.5%     0.0%     25.0%      0.0%\n",
      "creeptrash       19.82%  30.84%     3.71%   8.44%           12.04%   8.32%    12.93%     3.89%\n",
      "yohaw            13.97%  16.91%     7.35%   13.24%          5.88%    15.44%   23.53%     3.68%\n",
      "_rachelsarahxo   25.0%   32.14%     0.0%    3.57%           10.71%   0.0%     17.86%     10.71%\n",
      "edlukethird      0.0%    0.0%       0.0%    0.0%            0.0%     0.0%     0.0%       0.0%\n",
      "sbaestianstan    13.08%  32.7%      4.36%   8.99%           11.72%   3.0%     20.98%     5.18%\n",
      "DemiLovatic5H    0.0%    0.0%       0.0%    50.0%           0.0%     25.0%    0.0%       25.0%\n",
      "BattyBrilliance  5.81%   33.44%     7.34%   14.6%           7.84%    3.13%    20.0%      7.84%\n",
      "MUNTBABY         8.9%    29.67%     4.75%   12.17%          19.58%   1.78%    16.91%     6.23%\n",
      "lexeme           8.39%   37.06%     5.24%   10.49%          11.89%   3.15%    20.98%     2.8%\n",
      "_FunSize_QT      8.64%   25.47%     3.13%   18.02%          13.63%   4.99%    21.89%     4.24%\n",
      "StephGambini     25.43%  17.05%     6.36%   15.81%          4.34%    14.57%   10.85%     5.58%\n",
      "JillianKarger    25.0%   25.0%      0.0%    0.0%            50.0%    0.0%     0.0%       0.0%\n",
      "snowstormokami   10.09%  40.8%      4.42%   10.83%          10.83%   4.94%    13.04%     5.05%\n",
      "cuts4ndsc4rs     12.9%   25.81%     9.68%   12.9%           22.58%   0.0%     16.13%     0.0%\n",
      "TWallaceMusic    20.83%  20.83%     4.17%   29.17%          12.5%    0.0%     12.5%      0.0%\n",
      "whippie3675      42.86%  42.86%     0.0%    0.0%            0.0%     14.29%   0.0%       0.0%\n",
      "CelticKaty88     11.91%  25.52%     3.31%   15.22%          15.76%   4.15%    20.06%     4.07%\n",
      "YangMummy        0.0%    50.0%      0.0%    16.67%          0.0%     0.0%     16.67%     16.67%\n",
      "eds_shirtsleeve  9.52%   34.97%     4.05%   8.05%           18.69%   3.32%    16.95%     4.45%\n",
      "ganjasaurusr3x   13.57%  26.36%     4.98%   13.57%          11.34%   5.8%     18.49%     5.89%\n",
      "horrorvoid       5.68%   37.55%     4.37%   8.3%            13.54%   2.62%    22.27%     5.68%\n",
      "zozo_ed          15.61%  26.41%     3.99%   12.46%          9.97%    8.14%    19.6%      3.82%\n",
      "4lilpretentious  11.94%  31.97%     4.73%   8.21%           8.69%    5.89%    22.48%     6.09%\n",
      "enjoyscarlett_   14.66%  37.93%     4.31%   10.34%          15.52%   7.76%    7.76%      1.72%\n",
      "recoveryspirit   28.08%  20.28%     3.71%   10.49%          7.37%    19.26%   8.02%      2.8%\n",
      "mattstreuli      27.14%  15.95%     3.81%   17.38%          5.95%    14.76%   10.0%      5.0%\n",
      "TinyLittleChen   29.76%  26.19%     2.38%   16.67%          3.57%    11.9%    6.55%      2.98%\n",
      "Lesism           37.35%  16.34%     3.11%   9.14%           3.7%     13.04%   10.89%     6.42%\n",
      "TheInsaneIdol    7.22%   28.87%     4.12%   29.9%           9.28%    4.12%    14.43%     2.06%\n",
      "Megrrrs          15.63%  28.13%     6.25%   21.88%          6.25%    6.25%    12.5%      3.13%\n",
      "_kenziiieee_     15.85%  29.27%     1.22%   17.07%          12.2%    4.88%    15.85%     3.66%\n",
      "hamburgerphone   14.63%  26.87%     5.27%   14.12%          8.67%    9.35%    16.5%      4.59%\n",
      "__bmorris        10.0%   24.57%     5.43%   15.14%          14.29%   6.29%    18.86%     5.43%\n",
      "Moziee22         6.63%   37.4%      6.1%    8.65%           16.23%   4.46%    17.19%     3.34%\n",
      "LonerBelle       13.58%  27.75%     4.62%   12.14%          12.43%   6.65%    19.08%     3.76%\n",
      "BrianCrimson     14.67%  18.67%     4.0%    20.0%           8.0%     8.0%     18.67%     8.0%\n"
     ]
    }
   ],
   "source": [
    "emotions = [\"joy\",\"sadness\",\"fear\", \"anticipation\", \"anger\", \"trust\", \"disgust\" ,\"surprise\"]\n",
    "\n",
    "headers = [\"User\"] + emotions\n",
    "contents = []\n",
    "for uid, user in enumerate(user_emotion_dict):\n",
    "    temp_list = [user]\n",
    "    for emotion in emotions:\n",
    "        emotion_ratio = \"{}%\".format(round(user_emotion_dict[user][emotion]*100, 2))\n",
    "        temp_list.append(emotion_ratio)\n",
    "        \n",
    "    contents.append(temp_list)\n",
    "\n",
    "print(tabulate(contents, headers=headers))"
   ]
  },
  {
   "cell_type": "code",
   "execution_count": null,
   "metadata": {
    "collapsed": true
   },
   "outputs": [],
   "source": []
  }
 ],
 "metadata": {
  "kernelspec": {
   "display_name": "Python 2",
   "language": "python",
   "name": "python2"
  },
  "language_info": {
   "codemirror_mode": {
    "name": "ipython",
    "version": 2
   },
   "file_extension": ".py",
   "mimetype": "text/x-python",
   "name": "python",
   "nbconvert_exporter": "python",
   "pygments_lexer": "ipython2",
   "version": "2.7.12"
  }
 },
 "nbformat": 4,
 "nbformat_minor": 2
}
