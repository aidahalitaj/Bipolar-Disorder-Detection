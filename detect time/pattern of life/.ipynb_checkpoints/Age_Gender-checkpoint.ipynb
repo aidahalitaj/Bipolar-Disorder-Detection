{
 "cells": [
  {
   "cell_type": "code",
   "execution_count": 1,
   "metadata": {
    "collapsed": false
   },
   "outputs": [],
   "source": [
    "import sys\n",
    "import os \n",
    "sys.path.append('../../../Mental_Disorder/3_feature_visualization') # get old tweets library\n",
    "import age_gender_predictor\n"
   ]
  },
  {
   "cell_type": "code",
   "execution_count": null,
   "metadata": {
    "collapsed": true
   },
   "outputs": [],
   "source": [
    "#Age and gender Distribution\n",
    "def getAge(timeSeries):\n",
    "    texts = \"\"\n",
    "    for text in timeSeries[\"text\"].values:\n",
    "        texts += text + \"\\n\"\n",
    "    return age_gender_predictor.get_age(texts)\n",
    "\n",
    "def getGender(timeSeries):\n",
    "    texts = \"\"\n",
    "    for text in timeSeries[\"text\"].values:\n",
    "        texts += text + \"\\n\"\n",
    "    return age_gender_predictor.get_gender(texts)\n",
    "\n",
    "\n",
    "def userValueDistribution(groups, x_name ,  method, legends, colors, bins=50):\n",
    "    _, plot_axis = plt.subplots(2, 2)\n",
    "    plot_sequence = ((0,0),(0,1),(1,0),(1,1))\n",
    "    for g,group in enumerate(groups):\n",
    "        \n",
    "        values = [method(timeSeries) for timeSeries in group]\n",
    "          \n",
    "        \n",
    "        plot_axis[plot_sequence[g]].hist(values ,color=colors[g], bins = bins, edgecolor='none' )\n",
    "        plot_axis[plot_sequence[g]].set_ylabel('User count')\n",
    "        plot_axis[plot_sequence[g]].set_xlabel(x_name)\n",
    "        plot_axis[plot_sequence[g]].set_title(str(len(group)) + \" \" + legends[g] + \" people\")\n",
    "\n",
    "        #print(\"Total People: {} std:\".format(len(group)))\n",
    "        #print(\"{0} mean :{1:2f} STD:{2:2f}\".format(x_name ,np.mean(values),np.std(values)))\n",
    "    plt.tight_layout()\n",
    "    plt.show()\n",
    "    \n",
    "def getAgeGender(group):\n",
    "    features = {\"age\":[],\"gender\":[]}\n",
    "    for timeSeries in group:\n",
    "        \n",
    "        features[\"age\"].append(getAge(timeSeries))\n",
    "        features[\"gender\"].append(getGender(timeSeries))\n",
    "\n",
    "    return features\n",
    "\n",
    "\n",
    "\n",
    "\n",
    "headers = [\"Group\",\"Male users\", \"Female users\", \"Average age\"]\n",
    "contents = []\n",
    "for i, group in enumerate(groups):\n",
    "    group_name = group_names[i]\n",
    "    users_num = len(group)\n",
    "    users_gender = [getGender(timeSeries) for timeSeries in group]\n",
    "    users_age = [getAge(timeSeries) for timeSeries in group]\n",
    "    male_ratio = len([gender for gender in users_gender if gender < 0]) / users_num\n",
    "    female_ratio = 1 - male_ratio\n",
    "    average_age = sum(users_age) / users_num\n",
    "    contents.append([group_name, male_ratio, female_ratio, average_age])\n",
    "print(tabulate(contents, headers=headers))\n",
    "\n",
    "\n",
    "\n",
    "userValueDistribution(groups,\"Age\", getAge, legends, colors)\n",
    "print(\"====== Age and Gender Correlation =====\")\n",
    "summaryTable(groups, group_names, getAgeGender)"
   ]
  }
 ],
 "metadata": {
  "kernelspec": {
   "display_name": "Python 2",
   "language": "python",
   "name": "python2"
  },
  "language_info": {
   "codemirror_mode": {
    "name": "ipython",
    "version": 2
   },
   "file_extension": ".py",
   "mimetype": "text/x-python",
   "name": "python",
   "nbconvert_exporter": "python",
   "pygments_lexer": "ipython2",
   "version": "2.7.12"
  }
 },
 "nbformat": 4,
 "nbformat_minor": 2
}
