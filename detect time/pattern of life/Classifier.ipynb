{
 "cells": [
  {
   "cell_type": "code",
   "execution_count": 370,
   "metadata": {
    "collapsed": true
   },
   "outputs": [],
   "source": [
    "import sys\n",
    "import os \n",
    "sys.path.append('../../../Mental_Disorder/3_feature_visualization') # get old tweets library\n",
    "import age_gender_predictor\n",
    "from collections import defaultdict\n",
    "import re\n",
    "from tabulate import tabulate\n",
    "from datetime import datetime, timedelta\n",
    "import math\n",
    "from pymongo import MongoClient\n",
    "import numpy as np\n",
    "from scipy.stats import spearmanr\n",
    "import pandas as pd\n",
    "import pytz"
   ]
  },
  {
   "cell_type": "markdown",
   "metadata": {},
   "source": [
    "## Load Regular User"
   ]
  },
  {
   "cell_type": "code",
   "execution_count": 390,
   "metadata": {
    "collapsed": true
   },
   "outputs": [],
   "source": [
    "timezone_location_dict = {\n",
    "    'Pacific Time (US & Canada)':'US/Pacific',\n",
    "    'Central Time (US & Canada)':'US/Central',\n",
    "    'Eastern Time (US & Canada)':'US/Eastern',\n",
    "    'London':'Europe/London',\n",
    "    'Sydney':'Australia/Sydney',\n",
    "    'Tokyo':'Asia/Tokyo',\n",
    "    'Africa/Nairobi':'Africa/Nairobi',\n",
    "    'Arizona':'US/Arizona',\n",
    "    'Kyiv':'Europe/Simferopol',\n",
    "    'Europe/London':'Europe/London',\n",
    "    'Atlantic Time (Canada)':'Atlantic/Canary',\n",
    "    'Midway Island':'Pacific/Apia',\n",
    "    'Auckland':'Pacific/Auckland',\n",
    "    'Amsterdam':'Europe/Amsterdam',\n",
    "    'Baghdad':'Asia/Riyadh',\n",
    "    'Riyadh':'Asia/Riyadh',\n",
    "    'Belgrade':'Europe/Belgrade',\n",
    "    'Quito':'Pacific/Galapagos',\n",
    "    'Pretoria':'Africa/Johannesburg',\n",
    "    'Beijing':'Asia/Shanghai',\n",
    "    'Dublin':'Europe/Dublin',\n",
    "    'Mountain Time (US & Canada)':'Mountain/US',\n",
    "    'Hawaii':'Pacific/Honolulu',\n",
    "    'Brisbane':'Australia/Brisbane',\n",
    "    'Vienna':'Europe/Vienna',\n",
    "    'Islamabad':'Asia/Karachi',\n",
    "    'Casablanca':'Africa/Casablanca',\n",
    "    'Yakutsk':'Asia/Yakutsk',\n",
    "    'Tijuana':'America/Tijuana',\n",
    "    'Johannesburg':'Africa/Johannesburg',\n",
    "    'Mountain Time (US & Canada)':'US/Central',\n",
    "    'Bangkok': 'Asia/Bangkok',\n",
    "    'Harare': 'Africa/Harare',\n",
    "    'Chennai': 'Asia/Kolkata',\n",
    "    'Kolkata': 'Asia/Kolkata',\n",
    "    'Brussels': 'Europe/Brussels',\n",
    "    'Melbourne': 'Australia/Melbourne',\n",
    "    'Alaska': 'US/Alaska',\n",
    "    'Perth': 'Australia/Perth',\n",
    "    'Denver':'America/Denver',\n",
    "    'Los Angeles': 'America/Los_Angeles',\n",
    "    'indiana': 'US/East-Indiana',\n",
    "    'Vancouver': 'America/Vancouver',\n",
    "    'Berlin': 'Europe/Berlin',\n",
    "    'Kentucky': 'America/Kentucky/Louisville',\n",
    "    'Copenhagen':'Europe/Copenhagen',\n",
    "    'Athens': 'Europe/Athens',\n",
    "    'Edinburgh': 'Etc/Greenwich',\n",
    "    'Wellington': 'Asia/Anadyr',\n",
    "    'Santiago': 'US/Pacific',\n",
    "    'America/New_York': 'US/Eastern',\n",
    "    'Paris': 'Europe/Paris',\n",
    "    'Jakarta': 'Asia/Jakarta',\n",
    "    'New Delhi': 'Asia/Calcutta',\n",
    "    'Chicago': 'US/Central',\n",
    "    'America/Chicago': 'US/Central',\n",
    "    'Fiji': 'Pacific/Fiji'\n",
    "}\n",
    "\n",
    "def to_local_timezone(local, orig_time):\n",
    "    dt = datetime.strptime(orig_time, \"%Y-%m-%d %H:%M:%S\")\n",
    "    dt = pytz.timezone(local).localize(dt)\n",
    "    est_dt = dt.astimezone(pytz.timezone('EST'))\n",
    "    return est_dt\n",
    "\n",
    "def readTimezone(folder, filename):\n",
    "    time_dict = {}\n",
    "    with open(folder + filename, 'r') as openfile:\n",
    "        for line in openfile.readlines():\n",
    "            split = line.strip().split('\\t')\n",
    "            if split[2] != 'None':\n",
    "                time_dict[split[0]] = split[2]\n",
    "            else:\n",
    "                continue\n",
    "    return time_dict"
   ]
  },
  {
   "cell_type": "code",
   "execution_count": 394,
   "metadata": {
    "collapsed": true
   },
   "outputs": [],
   "source": [
    "regular_timezone_dict = readTimezone('../../twitter crawler/','regularUser_en_fixed_timezone')"
   ]
  },
  {
   "cell_type": "code",
   "execution_count": 400,
   "metadata": {
    "collapsed": false
   },
   "outputs": [
    {
     "data": {
      "text/plain": [
       "datetime.datetime(2016, 12, 30, 22, 10, 3, tzinfo=<StaticTzInfo 'EST'>)"
      ]
     },
     "execution_count": 400,
     "metadata": {},
     "output_type": "execute_result"
    }
   ],
   "source": [
    "to_local_timezone(timezone_location_dict[regular_timezone_dict['437836519']], '2016-12-31 03:10:03')"
   ]
  },
  {
   "cell_type": "code",
   "execution_count": 401,
   "metadata": {
    "collapsed": true
   },
   "outputs": [],
   "source": [
    "def getLangRatio(cursor):\n",
    "    lang_ratios = {}\n",
    "    for tweet in cursor:\n",
    "        lang = 1 if tweet[\"lang\"] == \"en\" else 0\n",
    "        user_id = tweet[\"user\"][\"id\"]\n",
    "        if user_id in lang_ratios:\n",
    "            lang_ratios[user_id].append(lang)\n",
    "        else:\n",
    "            lang_ratios[user_id] = [lang]\n",
    "    for user_id, ratio in lang_ratios.items():\n",
    "        lang_ratios[user_id] = np.sum(ratio) / len(ratio)\n",
    "    return lang_ratios\n",
    "\n",
    "def getUsersTweets(dbName,collectionName, en_threshold=0.9, regular_timezone_dict = readTimezone('../../twitter crawler/','regularUser_en_fixed_timezone')):\n",
    "    cursor = MongoClient(\"localhost\", 27017)[dbName][collectionName].find()\n",
    "    lang_ratios = getLangRatio(cursor)\n",
    "    cursor = MongoClient(\"localhost\", 27017)[dbName][collectionName].find()\n",
    "    usersTweets = {}\n",
    "    for tweet in cursor:\n",
    "        userID = tweet[\"user\"][\"id\"]\n",
    "        \n",
    "        try:\n",
    "            print(str(userID))\n",
    "            print(regular_timezone_dict[str(userID)])\n",
    "            print(user_timezone)\n",
    "            user_timezone = timezone_location_dict[regular_timezone_dict[str(userID)]]\n",
    "        except:\n",
    "            continue\n",
    "            \n",
    "        if lang_ratios[userID] < en_threshold: continue\n",
    "        #Processing emotions from Carlos' API\n",
    "        emotion =  tweet[\"emotion\"][\"groups\"][0][\"name\"]\n",
    "        if len(tweet[\"emotion\"][\"groups\"]) > 1:\n",
    "            emotion_2 = tweet[\"emotion\"][\"groups\"][1][\"name\"]\n",
    "            \n",
    "        ambiguous = True if tweet['emotion']['ambiguous'] == 'yes' else False\n",
    "       \n",
    "        if len(tweet[\"emotion\"][\"groups\"]) > 1:\n",
    "            emotion_2 = tweet[\"emotion\"][\"groups\"][1][\"name\"]    \n",
    "        else:\n",
    "            emotion_2 = None\n",
    "        if tweet[\"polarity\"] == \"positive\":\n",
    "            polarity = 1\n",
    "        elif tweet[\"polarity\"] == \"negative\":\n",
    "            polarity = -1\n",
    "        else:\n",
    "            polarity = 0\n",
    "\n",
    "#         date = tweet[\"created_at\"]\n",
    "        date = to_local_timezone( user_timezone, str(tweet[\"created_at\"]))\n",
    "        text = tweet['text']\n",
    "\n",
    "        if userID not in usersTweets:\n",
    "            usersTweets[userID] = {}\n",
    "        if date not in usersTweets[userID]:\n",
    "            usersTweets[userID][date] = {}\n",
    "            \n",
    "        usersTweets[userID][date]['text'] = text\n",
    "        usersTweets[userID][date]['polarity'] =  polarity\n",
    "        usersTweets[userID][date]['emotion'] =  emotion\n",
    "        usersTweets[userID][date]['emotion_2'] =  emotion_2\n",
    "        usersTweets[userID][date]['ambiguous'] =  ambiguous\n",
    "    return usersTweets\n",
    "\n",
    "def timeSeriesTransform(usersEmotions):\n",
    "    for userID in usersEmotions:\n",
    "        usersEmotions[userID] = pd.DataFrame.from_dict(usersEmotions[userID], orient='index').fillna(0)\n",
    "        usersEmotions[userID]['dt'] = np.zeros(usersEmotions[userID].shape[0],dtype=float)\n",
    "        usersEmotions[userID].loc[:-1,'dt'] = (usersEmotions[userID].index[1:].values - usersEmotions[userID].index[:-1].values).astype('timedelta64[s]') / np.timedelta64(60, 's')\n",
    "    return list(usersEmotions.values())\n",
    "\n",
    "def getHTTPRows(timeSeries):\n",
    "    count = 0\n",
    "    patterns = ['http://','https://']\n",
    "    conditions = timeSeries['text'].str.contains(patterns[0])\n",
    "    for pattern in patterns[1:]:\n",
    "        conditions = conditions | timeSeries['text'].str.contains(pattern)\n",
    "\n",
    "    return conditions.values\n",
    "\n",
    "def userFilter(group, spam_threshold=0.5,tweets_threshold=25, time_filter = False):    #Spam and inactive user filter\n",
    "#     to restrict date in latest 8 weeks\n",
    "    if time_filter == True:\n",
    "        temp_group=[]\n",
    "        for timeSeries in group:\n",
    "            eight_week_period = timeSeries.index[-1]- timedelta(weeks=8)\n",
    "            temp_group.append(timeSeries[timeSeries.index > eight_week_period])\n",
    "        group = temp_group\n",
    "            \n",
    "    new_group = []\n",
    "    for timeSeries in group:\n",
    "        http_rows = getHTTPRows(timeSeries)\n",
    "        average_http_count = np.sum(http_rows) / timeSeries.shape[0]\n",
    "        if (average_http_count < spam_threshold) and (timeSeries.shape[0] > tweets_threshold):\n",
    "            new_group.append(timeSeries)\n",
    "    return new_group"
   ]
  },
  {
   "cell_type": "code",
   "execution_count": null,
   "metadata": {
    "collapsed": false
   },
   "outputs": [],
   "source": [
    "regular_tweets =  getUsersTweets(\"eric\",\"regularUser_en_fixed_emotion\")"
   ]
  },
  {
   "cell_type": "code",
   "execution_count": 387,
   "metadata": {
    "collapsed": true
   },
   "outputs": [],
   "source": [
    "regular_timeSeries = timeSeriesTransform(regular_tweets)\n"
   ]
  },
  {
   "cell_type": "code",
   "execution_count": 388,
   "metadata": {
    "collapsed": false
   },
   "outputs": [],
   "source": [
    "regular_clean = userFilter(regular_timeSeries, time_filter = True)"
   ]
  },
  {
   "cell_type": "code",
   "execution_count": 393,
   "metadata": {
    "collapsed": false
   },
   "outputs": [
    {
     "data": {
      "text/plain": [
       "0"
      ]
     },
     "execution_count": 393,
     "metadata": {},
     "output_type": "execute_result"
    }
   ],
   "source": [
    "len(regular_tweets)"
   ]
  },
  {
   "cell_type": "markdown",
   "metadata": {},
   "source": [
    "## Load BD"
   ]
  },
  {
   "cell_type": "code",
   "execution_count": 5,
   "metadata": {
    "collapsed": true
   },
   "outputs": [],
   "source": [
    "def loadTweets():\n",
    "    # {username:{int(date):{[(datetime,content,sentiment),...]}}}\n",
    "    tweets_dict = defaultdict(lambda: defaultdict(lambda:[]))\n",
    "    with open('../organized/date_sentiment_tweets') as tweets:\n",
    "        for line in tweets.readlines():\n",
    "            username, date, datetime, content, sentiment = line.split('\\t')\n",
    "            tweets_dict[username][int(date)].append((datetime, content, sentiment))\n",
    "            break\n",
    "    return tweets_dict"
   ]
  },
  {
   "cell_type": "code",
   "execution_count": 195,
   "metadata": {
    "collapsed": true
   },
   "outputs": [],
   "source": [
    "def date_not_in_range(user, ill_time_dict,date):\n",
    "    if date >= ill_time_dict[user] - timedelta(days=42) \\\n",
    "    and date <= ill_time_dict[user] + timedelta(days=14):\n",
    "        return False\n",
    "    else:\n",
    "        return True\n",
    "    \n",
    "def TweetsFormating(tweets_dict, ill_time_dict,en_threshold=0.9):\n",
    "    usersTweets = {}\n",
    "    for user in tweets_dict:\n",
    "        if user not in ill_time_dict: continue\n",
    "        userID = user\n",
    "        emotion_dict = defaultdict( lambda : defaultdict(lambda : []))\n",
    "        \n",
    "        emotion_here = 1\n",
    "        try:\n",
    "            with open('../patient emotion/' + user) as emotion_data:\n",
    "                for line in emotion_data.readlines():\n",
    "                    username, date, content, emotion1, emotion2, ambigu = line.split('\\t')\n",
    "                    emotion_dict[username][int(date)].append((content, emotion1, emotion2, ambigu))\n",
    "        except:\n",
    "            emotion_here = 0\n",
    "        \n",
    "        for date_ in tweets_dict[user]:\n",
    "            \n",
    "            if date_not_in_range(user, ill_time_dict ,datetime.strptime(str(date_), \"%Y%m%d\")): continue\n",
    "                \n",
    "            for tweet_info in tweets_dict[user][date_]:\n",
    "                date, content, polarity = tweet_info\n",
    "   \n",
    "                date = datetime.strptime(str(date), \"%Y-%m-%d %H:%M:%S\")\n",
    "                text = content\n",
    "                \n",
    "                if userID not in usersTweets:\n",
    "                    usersTweets[userID] = {}\n",
    "                if date not in usersTweets[userID]:\n",
    "                    usersTweets[userID][date] = {}\n",
    "\n",
    "                usersTweets[userID][date]['text'] = text\n",
    "                usersTweets[userID][date]['polarity'] =  int(polarity.strip())\n",
    "\n",
    "                usersTweets[userID][date]['emotion'] =  None\n",
    "                usersTweets[userID][date]['emotion_2'] =  None\n",
    "                usersTweets[userID][date]['ambiguous'] =  True\n",
    "                \n",
    "                true_yes_dict = {'yes':True, 'no':False}\n",
    "                \n",
    "                if emotion_here != 0:\n",
    "                    for tweet_emotion_info in emotion_dict[user][date_]:\n",
    "                        str1 = text.split(' ')\n",
    "                        str2 = tweet_emotion_info[0].split(' ')\n",
    "                        if float(len(set(str1) & set(str2)))/len(str1) > 0.4:\n",
    "                            usersTweets[userID][date]['emotion'] =  tweet_emotion_info[1]\n",
    "                            usersTweets[userID][date]['emotion_2'] =  tweet_emotion_info[2]\n",
    "                            usersTweets[userID][date]['ambiguous'] =  true_yes_dict[tweet_emotion_info[3].strip()]\n",
    "\n",
    "    return usersTweets\n",
    "    \n",
    "    "
   ]
  },
  {
   "cell_type": "code",
   "execution_count": 27,
   "metadata": {
    "collapsed": false
   },
   "outputs": [],
   "source": [
    "# {username:{int(date):{[(datetime,content,sentiment),...]}}}\n",
    "bd_dict = loadTweets()\n"
   ]
  },
  {
   "cell_type": "markdown",
   "metadata": {},
   "source": [
    "### Get ill Time"
   ]
  },
  {
   "cell_type": "code",
   "execution_count": 106,
   "metadata": {
    "collapsed": false
   },
   "outputs": [
    {
     "name": "stdout",
     "output_type": "stream",
     "text": [
      "Patient Counts from month ill time:277\n"
     ]
    }
   ],
   "source": [
    "def readPatientIllTime(folder, filename):\n",
    "    with open(folder + filename, 'r') as openfile:\n",
    "        return [line.strip().split('\\t') for line in openfile.readlines()]\n",
    "    \n",
    "# ## Get ill time information\n",
    "patient_ill_time_list = readPatientIllTime('../../twitter crawler/', 'bipolar_list')\n",
    "patient_ill_time_dict = {line[0]: line[1] for line in patient_ill_time_list}\n",
    "\n",
    "# dict[user][diagnosed_time(datetime)]\n",
    "patient_month_time_dict = {}\n",
    "\n",
    "for patient in patient_ill_time_dict:\n",
    "    datetime_list = patient_ill_time_dict[patient].split('/')\n",
    "    if len(datetime_list) > 1:\n",
    "        if len(datetime_list) > 2:\n",
    "            patient_month_time_dict[patient] = datetime(int(datetime_list[0]), int(datetime_list[1]), int(datetime_list[2]))\n",
    "        else:\n",
    "            patient_month_time_dict[patient] = datetime(int(datetime_list[0]),int(datetime_list[1]),1)\n",
    "    else:\n",
    "        continue\n",
    "print( 'Patient Counts from month ill time:' + str(len(patient_month_time_dict)))"
   ]
  },
  {
   "cell_type": "code",
   "execution_count": 196,
   "metadata": {
    "collapsed": false
   },
   "outputs": [],
   "source": [
    "bd_tweets = TweetsFormating(bd_dict, patient_month_time_dict)"
   ]
  },
  {
   "cell_type": "code",
   "execution_count": 197,
   "metadata": {
    "collapsed": true
   },
   "outputs": [],
   "source": [
    "bd_timeSeries = timeSeriesTransform(bd_tweets)"
   ]
  },
  {
   "cell_type": "code",
   "execution_count": 227,
   "metadata": {
    "collapsed": true
   },
   "outputs": [],
   "source": [
    "bd_clean = userFilter(bd_timeSeries, spam_threshold=0.8, tweets_threshold=5)"
   ]
  },
  {
   "cell_type": "code",
   "execution_count": 232,
   "metadata": {
    "collapsed": true
   },
   "outputs": [],
   "source": [
    "groups = [ regular_clean, bd_clean]\n",
    "group_names = [\"Regular\", \"Bipolar\"]"
   ]
  },
  {
   "cell_type": "code",
   "execution_count": 233,
   "metadata": {
    "collapsed": false
   },
   "outputs": [
    {
     "name": "stdout",
     "output_type": "stream",
     "text": [
      "Group      Users    Tweets    Average tweets\n",
      "-------  -------  --------  ----------------\n",
      "Regular      440     90848               206\n",
      "Bipolar      131    142596              1088\n"
     ]
    }
   ],
   "source": [
    "#Statistics facts of experimental data\n",
    "\n",
    "headers = [\"Group\",\"Users\", \"Tweets\", \"Average tweets\"]\n",
    "contents = []\n",
    "for i, group in enumerate(groups):\n",
    "    group_name = group_names[i]\n",
    "    tweets_num = sum([timeSeries.shape[0] for timeSeries in group])\n",
    "    users_num = len(group)\n",
    "    average_tweets_num = tweets_num / users_num\n",
    "    contents.append([group_name, users_num, tweets_num, average_tweets_num])\n",
    "    \n",
    "print(tabulate(contents, headers=headers))"
   ]
  },
  {
   "cell_type": "markdown",
   "metadata": {},
   "source": [
    "## Age Gender"
   ]
  },
  {
   "cell_type": "code",
   "execution_count": 60,
   "metadata": {
    "collapsed": true
   },
   "outputs": [],
   "source": [
    "#Age and gender Distribution\n",
    "def getAgeGender(group):\n",
    "    features = {\"age\":[],\"gender\":[]}\n",
    "    for timeSeries in group:\n",
    "        \n",
    "        features[\"age\"].append(getAge(timeSeries))\n",
    "        features[\"gender\"].append(getGender(timeSeries))\n",
    "\n",
    "    return features\n",
    "def getAge(timeSeries):\n",
    "    texts = \"\"\n",
    "    for text in timeSeries[\"text\"].values:\n",
    "        texts += text + \"\\n\"\n",
    "    return age_gender_predictor.get_age(texts)\n",
    "\n",
    "def getGender(timeSeries):\n",
    "    texts = \"\"\n",
    "    for text in timeSeries[\"text\"].values:\n",
    "        texts += text + \"\\n\"\n",
    "    return age_gender_predictor.get_gender(texts)"
   ]
  },
  {
   "cell_type": "code",
   "execution_count": 234,
   "metadata": {
    "collapsed": false
   },
   "outputs": [
    {
     "name": "stdout",
     "output_type": "stream",
     "text": [
      "Group      Male users    Female users    Average age\n",
      "-------  ------------  --------------  -------------\n",
      "Regular      0.488636        0.511364        29.4116\n",
      "Bipolar      0.274809        0.725191        25.4797\n"
     ]
    }
   ],
   "source": [
    "headers = [\"Group\",\"Male users\", \"Female users\", \"Average age\"]\n",
    "contents = []\n",
    "for i, group in enumerate(groups):\n",
    "    group_name = group_names[i]\n",
    "    users_num = float(len(group))\n",
    "    users_gender = [getGender(timeSeries) for timeSeries in group]\n",
    "    users_age = [getAge(timeSeries) for timeSeries in group]\n",
    "    male_ratio = len([gender for gender in users_gender if gender < 0]) / users_num\n",
    "    female_ratio = 1 - male_ratio\n",
    "    average_age = sum(users_age) / users_num\n",
    "    contents.append([group_name, male_ratio, female_ratio, average_age])\n",
    "print(tabulate(contents, headers=headers))"
   ]
  },
  {
   "cell_type": "markdown",
   "metadata": {},
   "source": [
    "## Social"
   ]
  },
  {
   "cell_type": "code",
   "execution_count": 284,
   "metadata": {
    "collapsed": true
   },
   "outputs": [],
   "source": [
    "def getTweetRate(timeSeries):\n",
    "    total_tweets = timeSeries.shape[0]\n",
    "    delta_time = np.max(timeSeries.index.values) - np.min(timeSeries.index.values)\n",
    "    total_duration = (delta_time).astype('timedelta64[h]') / np.timedelta64(24, 'h')\n",
    "#     if totla_duration == 0:\n",
    "#         totla_duration = 1\n",
    "    try:\n",
    "        result = total_tweets / float(total_duration)\n",
    "    except:\n",
    "        result = total_tweets / 1.0\n",
    "    return result\n",
    "\n",
    "def getMentionRate(timeSeries):\n",
    "    total_tweets = timeSeries.shape[0]\n",
    "    total_mentions = np.sum(seriesContains(timeSeries))\n",
    "    return total_mentions / float(total_tweets)\n",
    "\n",
    "def thirdPronuonDetect(words, matcher=re.compile(\"@[a-z]+\")):\n",
    "    for word in words:\n",
    "        if word == \"@\":\n",
    "            continue\n",
    "        elif matcher.search(word):\n",
    "            return True\n",
    "    return False\n",
    "\n",
    "def seriesContains(timeSeries):\n",
    "    match_function = np.vectorize(thirdPronuonDetect)\n",
    "    return match_function(timeSeries[\"text\"].str.lower().str.split().values)\n",
    "\n",
    "\n",
    "def getUniqueMentions(timeSeries):\n",
    "    total_tweets = timeSeries.shape[0]\n",
    "    friends_set = set()\n",
    "    texts = timeSeries[\"text\"].values\n",
    "    for text in texts:\n",
    "        terms = text.strip().split()\n",
    "        for word in terms:\n",
    "            if word[0] == '@' and len(word) > 1:\n",
    "                friends_set.add(word)\n",
    "    return len(friends_set)\n",
    "\n",
    "def getFrequentMentions(timeSeries, lowerbound = 3):\n",
    "    total_tweets = timeSeries.shape[0]\n",
    "    friends_mentions = {}\n",
    "    texts = timeSeries[\"text\"].values\n",
    "    for text in texts:\n",
    "        terms = text.strip().split()\n",
    "        for word in terms:\n",
    "            if word[0] == '@' and len(word) > 1:\n",
    "                friends_mentions[word] = friends_mentions.get(word, 0) +1\n",
    "    frequent_frients = [screen_name for screen_name, mentions in friends_mentions.items() if mentions >= lowerbound]\n",
    "    return len(frequent_frients)\n",
    " \n",
    "\n",
    "def getSocialFeature_group(group):\n",
    "    social_features = {\"tweets_rate\": [],\"mention_rate\": [],\"unique_mentions\": [],\"frequent_mentions\": []}\n",
    "    for timeSeries in group:\n",
    "        social_features[\"tweets_rate\"].append(getTweetRate(timeSeries))\n",
    "        social_features[\"mention_rate\"].append(getMentionRate(timeSeries))\n",
    "        social_features[\"unique_mentions\"].append(getUniqueMentions(timeSeries))\n",
    "        social_features[\"frequent_mentions\"].append(getFrequentMentions(timeSeries))\n",
    "    return social_features\n",
    "\n",
    "def getAllFeature(group, tail_k = \"all\"):\n",
    "    feature_set = {}\n",
    "    methods = [getSocialFeature_group, getGroupEmotions, getPolarity, getAgeGender]\n",
    "    for method in methods:\n",
    "        feature_set.update(method(group.getGroup(tail_k)))\n",
    "    return feature_set\n"
   ]
  },
  {
   "cell_type": "code",
   "execution_count": 285,
   "metadata": {
    "collapsed": false
   },
   "outputs": [
    {
     "name": "stdout",
     "output_type": "stream",
     "text": [
      "\n",
      "======Mean Distribution======\n",
      "\n",
      "           tweets_rate    mention_rate    unique_mentions    frequent_mentions\n",
      "-------  -------------  --------------  -----------------  -------------------\n",
      "Regular        4.38137        0.415265            37.6545                    5\n",
      "Bipolar       20.4919         0.388548           104.046                     7\n"
     ]
    }
   ],
   "source": [
    "header = [\"tweets_rate\", \"mention_rate\", \"unique_mentions\", \"frequent_mentions\"]\n",
    "contents = []\n",
    "for i, group in enumerate(groups):\n",
    "   \n",
    "    group_name = group_names[i]\n",
    "    content = [group_name]\n",
    "    tweets_rate = np.mean([getTweetRate(timeSeries) for timeSeries in group])\n",
    "    mention_rate = np.mean([getMentionRate(timeSeries) for timeSeries in group])\n",
    "    unique_mentions = np.mean([getUniqueMentions(timeSeries) for timeSeries in group])\n",
    "    frequent_mention = np.mean([getFrequentMentions(timeSeries) for timSeries in group])    \n",
    "    content += [tweets_rate, mention_rate, unique_mentions, frequent_mention]\n",
    "    contents.append(content)\n",
    "\n",
    "\n",
    "print(\"\\n======Mean Distribution======\\n\")\n",
    "\n",
    "print(tabulate(contents, headers=header,))"
   ]
  },
  {
   "cell_type": "markdown",
   "metadata": {},
   "source": [
    "## Polarity Feature"
   ]
  },
  {
   "cell_type": "code",
   "execution_count": 136,
   "metadata": {
    "collapsed": true
   },
   "outputs": [],
   "source": [
    "def getFlipsCount(timeSeries, upperbound=60, lowerbound = 0):\n",
    "    flips = getFlips(timeSeries)\n",
    "    durations = getFlipsDuration(timeSeries, flips)\n",
    "    return np.sum((durations > lowerbound) & (durations < upperbound) )\n",
    "\n",
    "\n",
    "\n",
    "def getFlips(timeSeries, attribute= 'polarity'):\n",
    "    flips = np.zeros(timeSeries.shape[0],dtype=bool)\n",
    "    polarity = timeSeries[attribute].values[:-1]\n",
    "    right_elements = timeSeries[attribute].values[1:]\n",
    "    flips[:-1] = (polarity * right_elements) < 0\n",
    "    return flips\n",
    "\n",
    "\n",
    "def getFlipsDuration(timeSeries, flips):\n",
    "    filtered_timeSeries = timeSeries['dt'][flips].index.values\n",
    "    dt = np.zeros(filtered_timeSeries.shape[0],dtype=float)\n",
    "    dt[:-1] = (filtered_timeSeries[1:] - filtered_timeSeries[:-1]).astype('timedelta64[s]') / np.timedelta64(60, 's')\n",
    "    return dt\n",
    "\n",
    "def getCombosCount(timeSeries, matcher = -1, lowerbound = 2):\n",
    "    combos = comboTracker(timeSeries)\n",
    "    combos_count = sum([hit for element, hit in combos if element == matcher and hit > lowerbound])\n",
    "    return combos_count\n",
    "\n",
    "\n",
    "\n",
    "def getNegativeRatio(timeSeries):\n",
    "    total_tweets = timeSeries.shape[0]\n",
    "    return np.sum(timeSeries[\"polarity\"].values == -1) / float(total_tweets)\n",
    "\n",
    "\n",
    "def getPositiveRatio(timeSeries):\n",
    "    total_tweets = timeSeries.shape[0]\n",
    "    return np.sum(timeSeries[\"polarity\"].values == 1) / float(total_tweets)\n",
    "\n",
    "\n",
    "\n",
    "def getPolarity(group):\n",
    "    polarity = {\"flips\":[],\"negative_combos\":[],\"positive_combos\":[], \"positive_ratio\":[], \"negative_ratio\":[]}\n",
    "    for timeSeries in group:\n",
    "        try:\n",
    "            tweets_length = float(timeSeries.shape[0])\n",
    "        except:\n",
    "            print 'error'\n",
    "            print timeSeries\n",
    "            break\n",
    "        flips_ratio = getFlipsCount(timeSeries) / tweets_length\n",
    "        negative_combos_ratio = getCombosCount(timeSeries,matcher=-1) / tweets_length\n",
    "        positive_combos_ratio = getCombosCount(timeSeries,matcher=1) / tweets_length\n",
    "        positive_ratio = getPositiveRatio(timeSeries)\n",
    "        negative_ratio = getNegativeRatio(timeSeries)\n",
    "        \n",
    "        polarity[\"flips\"].append(flips_ratio)\n",
    "        polarity[\"negative_combos\"].append(negative_combos_ratio)\n",
    "        polarity[\"positive_combos\"].append(positive_combos_ratio)\n",
    "        polarity[\"positive_ratio\"].append(positive_ratio)\n",
    "        polarity[\"negative_ratio\"].append(negative_ratio)\n",
    "        \n",
    "    return polarity\n",
    "\n",
    "def comboTracker(timeSeries, attribute= \"polarity\", lowerbound = 120):\n",
    "    array = timeSeries[attribute]\n",
    "#     the polarity of starter\n",
    "    starter = array[0]\n",
    "    combo = 1\n",
    "    result = []\n",
    "    i = 0 \n",
    "#     begin from second one in the array\n",
    "    for cursor in array[1:]:\n",
    "        i += 1\n",
    "        if starter == cursor and timeSeries[\"dt\"][i-1] < lowerbound:\n",
    "            combo += 1\n",
    "        else:\n",
    "            if combo > 1:\n",
    "                result.append((starter, combo))\n",
    "            starter = cursor\n",
    "            combo = 1\n",
    "    if combo > 1:\n",
    "         result.append((starter, combo))\n",
    "    return result"
   ]
  },
  {
   "cell_type": "code",
   "execution_count": 236,
   "metadata": {
    "collapsed": false
   },
   "outputs": [
    {
     "name": "stdout",
     "output_type": "stream",
     "text": [
      "\n",
      "=========\n",
      "\n",
      "Group      Positive Ratio Mean    Positive Ratio STD    Negative Ratio Mean    Negative Ratio STD\n",
      "-------  ---------------------  --------------------  ---------------------  --------------------\n",
      "Regular              0.222551              0.159819                0.107713             0.0804655\n",
      "Bipolar              0.0924273             0.0665547               0.177112             0.0831466\n"
     ]
    }
   ],
   "source": [
    "headers = [\"Group\",\"Positive Ratio Mean\",\"Positive Ratio STD\", \"Negative Ratio Mean\", \"Negative Ratio STD\"]\n",
    "contents = []\n",
    "for i, group in enumerate(groups):\n",
    "    group_name = group_names[i]\n",
    "   \n",
    "    positive_ratios = [getPositiveRatio(timeSeries) for timeSeries in group]\n",
    "    negative_ratios = [getNegativeRatio(timeSeries) for timeSeries in group]\n",
    "    positive_ratio_mean = np.mean(positive_ratios)\n",
    "    negative_ratio_mean = np.mean(negative_ratios)\n",
    "    positive_ratio_std = np.std(positive_ratios)\n",
    "    negative_ratio_std = np.std(negative_ratios)\n",
    "\n",
    "    contents.append([group_name, positive_ratio_mean, positive_ratio_std, negative_ratio_mean, negative_ratio_std])\n",
    "print(\"\\n=========\\n\")\n",
    "print(tabulate(contents, headers=headers))"
   ]
  },
  {
   "cell_type": "markdown",
   "metadata": {},
   "source": [
    "## Emotion"
   ]
  },
  {
   "cell_type": "code",
   "execution_count": 222,
   "metadata": {
    "collapsed": true
   },
   "outputs": [],
   "source": [
    "def date_not_in_range(user, date):\n",
    "    if date >= patient_month_time_dict[user] - timedelta(days=42) \\\n",
    "    and date <= patient_month_time_dict[user] + timedelta(days=14):\n",
    "        return False\n",
    "    else:\n",
    "        return True\n",
    "\n",
    "    \n",
    "\n",
    "\n",
    "def getUsersEmotionsDict(users_timeSeries):\n",
    "#     user -> emotion count\n",
    "    user_emotion_dict = defaultdict(lambda: {\"joy\":0,\n",
    "                                       \"sadness\": 0,\n",
    "                                       \"fear\":0,\n",
    "                                       \"anticipation\": 0,\n",
    "                                       \"anger\":0,\n",
    "                                       \"trust\": 0,\n",
    "                                       \"disgust\": 0,\n",
    "                                       \"surprise\" : 0\n",
    "                                      })\n",
    "    for user in users_timeSeries:\n",
    "        user_tweets_count = 0\n",
    "#         date, [tweet_info, tweets_info ...]\n",
    "        for date, tweets_infos in users_timeSeries[user].iteritems():\n",
    "            if date_not_in_range(user, datetime.strptime(str(date), \"%Y%m%d\")): continue\n",
    "            for tweet_info in tweets_infos:                \n",
    "    #             content, emotion1, emotion2, ambiguous\n",
    "                if(tweet_info[3].strip() != 'yes'):\n",
    "    #         only get the first emotion now\n",
    "                    user_emotion_dict[user][tweet_info[1]] += 1\n",
    "                    user_tweets_count += 1\n",
    "    \n",
    "        for emotion in user_emotion_dict[user]:\n",
    "            if user_tweets_count == 0:\n",
    "                user_emotion_dict[user][emotion] = 0\n",
    "            else:\n",
    "                user_emotion_dict[user][emotion] = float(user_emotion_dict[user][emotion]) / user_tweets_count\n",
    "    return user_emotion_dict\n",
    "\n",
    "def getUsersEmotions(timeSeries):\n",
    "    non_ambiguous = np.invert(timeSeries[\"ambiguous\"].values)\n",
    "    \n",
    "    filtered_emotions = timeSeries[\"emotion\"][non_ambiguous].values\n",
    "    emotions_count = {\"joy\":0,\"sadness\": 0,\"fear\":0,\\\n",
    "                \"anticipation\": 0, \"anger\":0, \"trust\": 0, \"disgust\": 0 ,\"surprise\" : 0}\n",
    "    if float(filtered_emotions.shape[0]) == 0:\n",
    "        divider = 1.0\n",
    "    else:\n",
    "        divider = float(filtered_emotions.shape[0])\n",
    "    for emotion in emotions_count:\n",
    "        emotions_count[emotion] = np.sum(filtered_emotions == emotion) / divider\n",
    "    return emotions_count\n",
    "\n",
    "def getGroupEmotions(group):\n",
    "    emotions_counts = {\"joy\":[],\"sadness\": [],\"fear\":[],\\\n",
    "                \"anticipation\": [], \"anger\":[], \"trust\": [], \"disgust\": [] ,\"surprise\" : []}\n",
    "    for timeSeries in group:\n",
    "        emotions_count = getUsersEmotions(timeSeries)\n",
    "        for emotion, count in emotions_count.items():\n",
    "            emotions_counts[emotion].append(count)\n",
    "    return emotions_counts\n",
    "\n"
   ]
  },
  {
   "cell_type": "code",
   "execution_count": 241,
   "metadata": {
    "collapsed": false
   },
   "outputs": [
    {
     "name": "stdout",
     "output_type": "stream",
     "text": [
      "\n",
      "======Eight Emotional Features======\n",
      "\n",
      "\n",
      "======Distribution======\n",
      "\n",
      "Group    joy     sadness    fear    anticipation    anger    trust    disgust    surprise\n",
      "-------  ------  ---------  ------  --------------  -------  -------  ---------  ----------\n",
      "Regular  16.03%  26.87%     6.53%   14.41%          6.98%    14.56%   11.4%      3.22%\n",
      "Bipolar  13.63%  28.25%     4.15%   14.6%           11.32%   6.55%    16.72%     4.79%\n"
     ]
    }
   ],
   "source": [
    "emotions = [\"joy\",\"sadness\",\"fear\", \"anticipation\", \"anger\", \"trust\", \"disgust\" ,\"surprise\"]\n",
    "\n",
    "headers = [\"Group\"] + emotions\n",
    "contents = []\n",
    "for i, group in enumerate(groups):\n",
    "   \n",
    "    group_name = group_names[i]\n",
    "    content = [group_name]\n",
    "    emotions_counts = getGroupEmotions(group)\n",
    "    for emotion in emotions:\n",
    "        emotion_ratio = \"{}%\".format(round(np.mean(emotions_counts[emotion])*100, 2))\n",
    "        \n",
    "        content.append(emotion_ratio)\n",
    "    contents.append(content)\n",
    "    \n",
    "print(\"\\n======Eight Emotional Features======\\n\")\n",
    "\n",
    "print(\"\\n======Distribution======\\n\")\n",
    "\n",
    "print(tabulate(contents, headers=headers,))\n"
   ]
  },
  {
   "cell_type": "markdown",
   "metadata": {},
   "source": [
    "## Classifier"
   ]
  },
  {
   "cell_type": "code",
   "execution_count": 338,
   "metadata": {
    "collapsed": false
   },
   "outputs": [],
   "source": [
    "from sklearn.ensemble import RandomForestClassifier\n",
    "from sklearn.cross_validation import StratifiedShuffleSplit\n",
    "from sklearn.metrics import precision_recall_curve\n",
    "from sklearn.metrics import average_precision_score\n",
    "from sklearn.metrics import roc_curve, auc\n",
    "from sklearn.preprocessing import Imputer\n",
    "from sklearn.externals import joblib\n",
    "from sklearn.preprocessing import MinMaxScaler\n",
    "from sklearn.linear_model import SGDClassifier \n",
    "from sklearn.svm import SVC\n",
    "from sklearn.naive_bayes import GaussianNB\n",
    "from sklearn.naive_bayes import MultinomialNB\n",
    "from sklearn import preprocessing\n",
    "\n",
    "import matplotlib.pyplot as plt\n",
    "from random import randint\n",
    "from operator import itemgetter \n",
    "import time"
   ]
  },
  {
   "cell_type": "code",
   "execution_count": 287,
   "metadata": {
    "collapsed": true
   },
   "outputs": [],
   "source": [
    "#Wrap group to be object\n",
    "class Group(object):\n",
    "    def __init__(self, group_name, group_data_list):\n",
    "        self.name = group_name\n",
    "        self.timeSerieses_list = group_data_list\n",
    "        \n",
    "    def getName(self):\n",
    "        return self.name\n",
    "    \n",
    "    def getSize(self):\n",
    "        return len(self.timeSerieses_list)\n",
    "    \n",
    "    def getGroup(self, tail_k=\"all\"):\n",
    "        if tail_k ==\"all\":\n",
    "            return self.timeSerieses_list\n",
    "        else:\n",
    "            return [timeSeries.tail(tail_k) for timeSeries in self.group]"
   ]
  },
  {
   "cell_type": "code",
   "execution_count": 328,
   "metadata": {
    "collapsed": false
   },
   "outputs": [],
   "source": [
    "bipolar_group = Group(\"Bipolar\", bd_clean)\n",
    "regular_group = Group(\"Regular\", regular_clean)"
   ]
  },
  {
   "cell_type": "code",
   "execution_count": 329,
   "metadata": {
    "collapsed": true
   },
   "outputs": [],
   "source": [
    "def getCategories(group):\n",
    "    name2category = {}\n",
    "    names = [\"Social\", \"Emotions\", \"Polarity\", \"AgeGender\"]\n",
    "    methods = [getSocialFeature_group, getGroupEmotions, getPolarity, getAgeGender]\n",
    "    for i, method in enumerate(methods):\n",
    "        feature = method(group.getGroup())\n",
    "        for key in feature:\n",
    "            name2category[key] = names[i]\n",
    "    return name2category"
   ]
  },
  {
   "cell_type": "code",
   "execution_count": 353,
   "metadata": {
    "collapsed": true
   },
   "outputs": [],
   "source": [
    "class POLFeaturerGroups(object):\n",
    "    \n",
    "    @staticmethod\n",
    "    def transform(self, ):\n",
    "        features_dict = getAllFeature(group)\n",
    "        \n",
    "    \n",
    "    def __init__(self, base, groups):\n",
    "        feature2categories = getCategories(base)\n",
    "        self.groups = groups\n",
    "        self.base = base\n",
    "        self.categories = set(feature2categories.values())\n",
    "        self.name_to_index = {group.getName(): index for index, group in enumerate(groups)}\n",
    "        self.base_name = base.getName()\n",
    "        self.index2feature = []\n",
    "        base_feature_dict = getAllFeature(base)\n",
    "        self.base_feature = np.zeros((base.getSize(),len(base_feature_dict)), dtype = float)\n",
    "        for name, values in base_feature_dict.items():\n",
    "            cursor = len(self.index2feature)\n",
    "          \n",
    "            self.base_feature[:,cursor] = values\n",
    "            category = feature2categories[name]\n",
    "            self.index2feature.append((name, category))\n",
    "        \n",
    "\n",
    "        self.features = [self.group2feature(group) for group in groups]\n",
    "        \n",
    "    def group2feature(self, group, tail_k=\"all\", selection = \"all\"):\n",
    "\n",
    "        features_dict = getAllFeature(group, tail_k)\n",
    "        feature = np.zeros((group.getSize(),len(self.index2feature)),dtype=float)\n",
    "        for cursor, (name,category) in enumerate(self.index2feature):\n",
    "            value = features_dict[name]\n",
    "            feature[:,cursor] = value\n",
    "            \n",
    "        if selection == \"all\":\n",
    "            return feature\n",
    "        else:\n",
    "            return feature[:,selection]   \n",
    "\n",
    "    def getPrecision(self,name,selection=\"all\",tail_k=\"all\",n_fold=10,classifier = \"forest\"):\n",
    "        complete_X, Y = self.getLabeledData(name, selection)\n",
    "        index = self.name_to_index[name]\n",
    "        group = self.groups[index]\n",
    "        tailed_X = preprocessing.scale(self.group2feature(self.base + group, tail_k=tail_k, selection = selection))\n",
    "        complete_X = preprocessing.scale(complete_X)\n",
    "        \n",
    "        tailed_X[np.isinf(tailed_X)] = 0\n",
    "        tailed_X[np.isnan(tailed_X)] = 0\n",
    "        \n",
    "        precisions = []\n",
    "        if classifier == \"forest\":\n",
    "            classifier = RandomForestClassifier(n_jobs=-1, max_features=\"sqrt\", n_estimators=128)\n",
    "  \n",
    "        sss = StratifiedShuffleSplit(Y, n_fold, test_size = 0.25, random_state=randint(0,65536) )\n",
    "\n",
    "        for train_index, test_index in sss:\n",
    "\n",
    "            X_train, X_test = complete_X[train_index], tailed_X[test_index]\n",
    "            Y_train, Y_test = Y[train_index], Y[test_index]\n",
    "            imputer = Imputer()\n",
    "        \n",
    "            classifier.fit(X_train, Y_train)\n",
    "            score = classifier.score(X_test,Y_test)\n",
    "            precisions.append(score)\n",
    "           \n",
    "            \n",
    "        return np.mean(precisions)\n",
    "            \n",
    "        \n",
    "        \n",
    "    def getLabeledData(self,name, selection = \"all\"):\n",
    "        if selection is \"all\":\n",
    "            selection = range(len(self.index2feature))\n",
    "        \n",
    "        base_feature = self.base_feature[:,selection]\n",
    "        base_length = base_feature.shape[0]\n",
    "        index = self.name_to_index[name]\n",
    "        feature = self.features[index][:,selection]\n",
    "\n",
    "        X = np.zeros((base_length  + feature.shape[0],len(selection)),dtype=float)\n",
    "        X[0:base_length ,:] = base_feature\n",
    "        X[base_length:,:] = feature\n",
    "        Y = np.array([0]*base_length  + [1]*feature.shape[0])\n",
    "        \n",
    "        return X, Y\n",
    "        \n",
    "    \n",
    "      \n",
    "    def getFeatureImportances(self,name, seleciton):\n",
    "        X, Y = self.getLabeledData(name, seleciton)\n",
    "        classifier = RandomForestClassifier(n_jobs=-1, max_features=\"sqrt\", n_estimators=128)\n",
    "        classifier.fit(X,Y)\n",
    "        features_indicies = np.argsort(classifier.feature_importances_)\n",
    "        feature_names = [self.index2feature[i] for i in features_indicies ]\n",
    "        return feature_names[::-1]\n",
    "    \n",
    "    \n",
    "    def getFeatureImportance_all(self,name):\n",
    "        X, Y = self.getLabeledData(name)\n",
    "        classifier = RandomForestClassifier(n_jobs=-1, max_features=\"sqrt\", n_estimators=128)\n",
    "        classifier.fit(X,Y)\n",
    "        features_indicies = np.argsort(classifier.feature_importances_)\n",
    "        feature_names = [self.index2feature[i] for i in features_indicies ]\n",
    "        return feature_names[::-1]\n",
    "    \n",
    "    def getFeature(self, name, selection=\"all\"):\n",
    "        if selection is \"all\":\n",
    "            selection = list(range(len(self.index2feature)))\n",
    "        index = self.name_to_index[name]\n",
    "        feature =  self.features[index]\n",
    "        return feature[:, selection]\n",
    "    \n",
    "    def classify(self,name, target_name, selection=\"all\"):\n",
    "        X, Y = self.getLabeledData(name, selection)\n",
    "        classifier = RandomForestClassifier(n_jobs=-1, max_features=\"sqrt\", n_estimators=128)\n",
    "        classifier.fit(X,Y)\n",
    "        test_x = self.getFeature(target_name,selection)\n",
    "        return classifier.predict(test_x)\n",
    "       \n",
    "    def getLabelsScores(self, name, classifier,n_fold, selection):\n",
    "        SCORES = np.array([])\n",
    "        LABELS = np.array([])\n",
    "        \n",
    "        X, Y = self.getLabeledData(name, selection)\n",
    "        \n",
    "        sss = StratifiedShuffleSplit(Y, n_fold, test_size = 0.25, random_state=randint(0,65536) )\n",
    "\n",
    "        for train_index, test_index in sss:\n",
    "\n",
    "            X_train, X_test = X[train_index], X[test_index]\n",
    "            Y_train, Y_test = Y[train_index], Y[test_index]\n",
    "\n",
    "            classifier.fit(X_train, Y_train)\n",
    "            score = classifier.predict_proba(X_test)[:,1]\n",
    "            SCORES = np.concatenate((SCORES, score))\n",
    "            LABELS = np.concatenate((LABELS, Y_test))\n",
    "\n",
    "        return SCORES, LABELS, (X_train, X_test,Y_train, Y_test)\n",
    "    \n",
    "    def renderPrecisionRecall_all(self, name,colors=['r','g','b',\"y\", \"m\"], n_fold = 100):\n",
    "        classifier  = RandomForestClassifier(n_jobs= -1, max_features=\"sqrt\", n_estimators=128)\n",
    "        fig, ax = plt.subplots()\n",
    "        ax.spines['bottom'].set_color('white')\n",
    "        ax.spines['top'].set_color('white') \n",
    "        ax.spines['right'].set_color('white')\n",
    "        ax.spines['left'].set_color('white')\n",
    "        ax.tick_params(axis='x', colors='white')\n",
    "        ax.tick_params(axis='y', colors='white')\n",
    "        ax.title.set_color('white')\n",
    "        ax.yaxis.label.set_color('white')\n",
    "        ax.xaxis.label.set_color('white')\n",
    "        plt.xlim([0.0, 1.0])\n",
    "        plt.ylim([0.0, 1.05])\n",
    "        plt.xlabel('Recall')\n",
    "        plt.ylabel('Precision')\n",
    "        plt.title('Precision Recall Curve: {}'.format(name))\n",
    "        \n",
    "        categories = list(self.categories) + [\"All\"]\n",
    "        for g,category in enumerate(categories):\n",
    "            if category == \"All\":\n",
    "                selection = range(len(self.index2feature))\n",
    "            else:\n",
    "                selection = [i for i, (feature_name, feature_category) in enumerate(self.index2feature) if category == feature_category]\n",
    "            \n",
    "            SCORES, LABELS, (X_train, X_test,Y_train, Y_test) = self.getLabelsScores(name, classifier,n_fold, selection)\n",
    "\n",
    "            precision, recall, _ = precision_recall_curve(LABELS, SCORES, pos_label=1)\n",
    "            average_precision = average_precision_score(LABELS, SCORES)\n",
    "\n",
    "            positive_train = np.count_nonzero(Y_train)\n",
    "            positive_test = np.count_nonzero(Y_test)\n",
    "            normal_train = Y_train.shape[0] - positive_train\n",
    "            normal_test = Y_test.shape[0] - positive_test\n",
    "           \n",
    "            plt.plot(recall, precision, label=category , color=colors[g],linewidth=2)\n",
    "            \n",
    "        print(\"{} Normal and {} {} in Training Data\".format(normal_train,positive_train,name))\n",
    "        print(\"{} Normal and {} {} in Test Data\\n\".format(normal_test,positive_test,name))\n",
    "        plt.legend(loc=\"lower right\")\n",
    "        plt.show()\n"
   ]
  },
  {
   "cell_type": "code",
   "execution_count": 354,
   "metadata": {
    "collapsed": false
   },
   "outputs": [],
   "source": [
    "pol_groups = POLFeaturerGroups(regular_group, [bipolar_group])"
   ]
  },
  {
   "cell_type": "code",
   "execution_count": 355,
   "metadata": {
    "collapsed": false
   },
   "outputs": [
    {
     "name": "stdout",
     "output_type": "stream",
     "text": [
      "330 Normal and 98 Bipolar in Training Data\n",
      "110 Normal and 33 Bipolar in Test Data\n",
      "\n"
     ]
    },
    {
     "data": {
      "image/png": "[encoded data removed]",
      "text/plain": [
       "<matplotlib.figure.Figure at 0x7f1b52dc2b90>"
      ]
     },
     "metadata": {},
     "output_type": "display_data"
    }
   ],
   "source": [
    "#Compare the performance of each Pattern of Life components and LIWC\n",
    "pol_groups.renderPrecisionRecall_all(\"Bipolar\",n_fold=10)"
   ]
  },
  {
   "cell_type": "code",
   "execution_count": 356,
   "metadata": {
    "collapsed": false
   },
   "outputs": [
    {
     "name": "stdout",
     "output_type": "stream",
     "text": [
      "Pattern of Life under curve area: 0.907450371901\n"
     ]
    },
    {
     "data": {
      "image/png": "[encoded data removed]",
      "text/plain": [
       "<matplotlib.figure.Figure at 0x7f1bebff8750>"
      ]
     },
     "metadata": {},
     "output_type": "display_data"
    },
    {
     "name": "stdout",
     "output_type": "stream",
     "text": [
      "Pattern of Life Average Precision: 0.804169240021\n"
     ]
    },
    {
     "data": {
      "image/png": "[encoded data removed]",
      "text/plain": [
       "<matplotlib.figure.Figure at 0x7f1bfc792650>"
      ]
     },
     "metadata": {},
     "output_type": "display_data"
    }
   ],
   "source": [
    "# Precission Recall Chart on 10-fold cross-validation \n",
    "index2feature = pol_groups.index2feature\n",
    "\n",
    "def getSelection(excluded_categories=[], excluded_index=[]):\n",
    "    selection = []\n",
    "    for i in range(len(index2feature)):\n",
    "        name,category =  index2feature[i]\n",
    "        if any(category == x for x in excluded_categories):\n",
    "            #removed_features.append(name)\n",
    "            pass\n",
    "        elif any(name == x for x in excluded_index):\n",
    "            #removed_features.append(name)\n",
    "            pass\n",
    "\n",
    "        else:                   \n",
    "            selection.append(i)\n",
    "    return selection\n",
    "\n",
    "\n",
    "POL_selection = getSelection(excluded_categories=[\"LIWC\"])\n",
    "\n",
    "#ROC chart of three models:\n",
    "def renderROC(scores, labels,disorder ,names, linestyle=['solid','dashed','dotted']):\n",
    "    fig, ax = plt.subplots()\n",
    "    for i,(score, label) in enumerate(zip(scores, labels)):\n",
    "        fpr, tpr, _ = roc_curve(label,score, pos_label=1)\n",
    "        roc_auc = auc(fpr, tpr)\n",
    "        plt.plot(fpr, tpr, label=names[i], ls=linestyle[i],linewidth=3)\n",
    "        print(\"{} under curve area: {}\".format(names[i],roc_auc))\n",
    "\n",
    "   \n",
    "    plt.plot([0, 1], [0, 1], 'k--')\n",
    "    plt.xlim([0.0, 1.0])\n",
    "    plt.ylim([0.0, 1.05])\n",
    "    plt.xlabel('False Positive Rate')\n",
    "    plt.ylabel('True Positive Rate')\n",
    "    plt.title('{} ROC chart'.format(disorder))\n",
    "    plt.legend(loc=\"lower right\")\n",
    "\n",
    "    plt.show()\n",
    "\n",
    "names = [\"Pattern of Life\"]\n",
    "classifier  = RandomForestClassifier(n_jobs= -1, max_features=\"sqrt\", n_estimators=128)\n",
    "name = \"Bipolar\"\n",
    "n_fold = 100\n",
    "POL_scores, POL_labels, _ = pol_groups.getLabelsScores(name, classifier,n_fold=n_fold, selection=POL_selection)\n",
    "\n",
    "bipolar_SCORES = [POL_scores]\n",
    "bipolar_LABELS = [POL_labels]\n",
    "\n",
    "renderROC(bipolar_SCORES, bipolar_LABELS, name,names)\n",
    "\n",
    "POL_scores, POL_labels, _ = pol_groups.getLabelsScores(name, classifier,n_fold=n_fold, selection=POL_selection)\n",
    "\n",
    "#np.sum(tfidf_labels)\n",
    "\n",
    "def renderPRC(scores, labels,disorder ,names, linestyle=['solid','dashed','dashdot']):\n",
    "    fig, ax = plt.subplots()\n",
    "    for i,(score, label) in enumerate(zip(scores, labels)):\n",
    "        \n",
    "        precision, recall, _ = precision_recall_curve(label, score, pos_label=1)\n",
    "        average_precision = average_precision_score(label, score)\n",
    "\n",
    "        plt.plot(recall, precision, label=names[i], ls=linestyle[i],linewidth=3)\n",
    "        print(\"{} Average Precision: {}\".format(names[i],average_precision))\n",
    "\n",
    "   \n",
    "\n",
    "    plt.xlim([0.0, 1.0])\n",
    "    plt.ylim([0.0, 1.05])\n",
    "    plt.xlabel('False Positive Rate')\n",
    "    plt.ylabel('True Positive Rate')\n",
    "    plt.title('{} Precision Recall Chart'.format(disorder))\n",
    "    plt.legend(loc=\"lower right\")\n",
    "\n",
    "    plt.show()\n",
    "    \n",
    "renderPRC(bipolar_SCORES, bipolar_LABELS, \"Bipolar\",names)"
   ]
  },
  {
   "cell_type": "code",
   "execution_count": null,
   "metadata": {
    "collapsed": true
   },
   "outputs": [],
   "source": []
  }
 ],
 "metadata": {
  "kernelspec": {
   "display_name": "Python 2",
   "language": "python",
   "name": "python2"
  },
  "language_info": {
   "codemirror_mode": {
    "name": "ipython",
    "version": 2
   },
   "file_extension": ".py",
   "mimetype": "text/x-python",
   "name": "python",
   "nbconvert_exporter": "python",
   "pygments_lexer": "ipython2",
   "version": "2.7.12"
  }
 },
 "nbformat": 4,
 "nbformat_minor": 2
}
