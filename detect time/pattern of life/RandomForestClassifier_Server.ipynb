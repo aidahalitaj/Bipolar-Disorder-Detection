{
 "cells": [
  {
   "cell_type": "code",
   "execution_count": 1,
   "metadata": {
    "collapsed": false,
    "deletable": true,
    "editable": true
   },
   "outputs": [],
   "source": [
    "import sys\n",
    "sys.path.append('./library') # age_gender_predictor\n",
    "sys.path.append('../.env/lib/python2.7/site-packages')\n",
    "import os \n",
    "import pickle\n",
    "import age_gender_predictor\n",
    "from collections import defaultdict\n",
    "import re\n",
    "from tabulate import tabulate\n",
    "from datetime import datetime, timedelta\n",
    "import math\n",
    "import numpy as np\n",
    "from scipy.stats import spearmanr\n",
    "import pandas as pd\n",
    "import pytz"
   ]
  },
  {
   "cell_type": "markdown",
   "metadata": {
    "deletable": true,
    "editable": true
   },
   "source": [
    "## Load Regular User"
   ]
  },
  {
   "cell_type": "code",
   "execution_count": 2,
   "metadata": {
    "collapsed": true,
    "deletable": true,
    "editable": true
   },
   "outputs": [],
   "source": [
    "timezone_location_dict = {\n",
    "    'Pacific Time (US & Canada)':'US/Pacific',\n",
    "    'Central Time (US & Canada)':'US/Central',\n",
    "    'Eastern Time (US & Canada)':'US/Eastern',\n",
    "    'London':'Europe/London',\n",
    "    'Sydney':'Australia/Sydney',\n",
    "    'Tokyo':'Asia/Tokyo',\n",
    "    'Africa/Nairobi':'Africa/Nairobi',\n",
    "    'Arizona':'US/Arizona',\n",
    "    'Kyiv':'Europe/Simferopol',\n",
    "    'Europe/London':'Europe/London',\n",
    "    'Atlantic Time (Canada)':'Atlantic/Canary',\n",
    "    'Midway Island':'Pacific/Apia',\n",
    "    'Auckland':'Pacific/Auckland',\n",
    "    'Amsterdam':'Europe/Amsterdam',\n",
    "    'Baghdad':'Asia/Riyadh',\n",
    "    'Riyadh':'Asia/Riyadh',\n",
    "    'Belgrade':'Europe/Belgrade',\n",
    "    'Quito':'Pacific/Galapagos',\n",
    "    'Pretoria':'Africa/Johannesburg',\n",
    "    'Beijing':'Asia/Shanghai',\n",
    "    'Dublin':'Europe/Dublin',\n",
    "    'Mountain Time (US & Canada)':'Mountain/US',\n",
    "    'Hawaii':'Pacific/Honolulu',\n",
    "    'Brisbane':'Australia/Brisbane',\n",
    "    'Vienna':'Europe/Vienna',\n",
    "    'Islamabad':'Asia/Karachi',\n",
    "    'Casablanca':'Africa/Casablanca',\n",
    "    'Yakutsk':'Asia/Yakutsk',\n",
    "    'Tijuana':'America/Tijuana',\n",
    "    'Johannesburg':'Africa/Johannesburg',\n",
    "    'Mountain Time (US & Canada)':'US/Central',\n",
    "    'Bangkok': 'Asia/Bangkok',\n",
    "    'Harare': 'Africa/Harare',\n",
    "    'Chennai': 'Asia/Kolkata',\n",
    "    'Kolkata': 'Asia/Kolkata',\n",
    "    'Brussels': 'Europe/Brussels',\n",
    "    'Melbourne': 'Australia/Melbourne',\n",
    "    'Alaska': 'US/Alaska',\n",
    "    'Perth': 'Australia/Perth',\n",
    "    'Denver':'America/Denver',\n",
    "    'Los Angeles': 'America/Los_Angeles',\n",
    "    'indiana': 'US/East-Indiana',\n",
    "    'Vancouver': 'America/Vancouver',\n",
    "    'Berlin': 'Europe/Berlin',\n",
    "    'Kentucky': 'America/Kentucky/Louisville',\n",
    "    'Copenhagen':'Europe/Copenhagen',\n",
    "    'Athens': 'Europe/Athens',\n",
    "    'Edinburgh': 'Etc/Greenwich',\n",
    "    'Wellington': 'Asia/Anadyr',\n",
    "    'Santiago': 'US/Pacific',\n",
    "    'America/New_York': 'US/Eastern',\n",
    "    'Paris': 'Europe/Paris',\n",
    "    'Jakarta': 'Asia/Jakarta',\n",
    "    'New Delhi': 'Asia/Calcutta',\n",
    "    'Chicago': 'US/Central',\n",
    "    'America/Chicago': 'US/Central',\n",
    "    'Fiji': 'Pacific/Fiji'\n",
    "}\n",
    "\n",
    "def to_local_timezone(local, orig_time):\n",
    "    dt = datetime.strptime(orig_time, \"%Y-%m-%d %H:%M:%S\")\n",
    "    dt = pytz.timezone(local).localize(dt)\n",
    "    est_dt = dt.astimezone(pytz.timezone('EST'))\n",
    "    return est_dt\n",
    "\n",
    "def readTimezone(folder, filename):\n",
    "    time_dict = {}\n",
    "    with open(folder + filename, 'r') as openfile:\n",
    "        for line in openfile.readlines():\n",
    "            split = line.strip().split('\\t')\n",
    "            if split[2] != 'None':\n",
    "                time_dict[split[0]] = split[2]\n",
    "            else:\n",
    "                continue\n",
    "    return time_dict"
   ]
  },
  {
   "cell_type": "code",
   "execution_count": 3,
   "metadata": {
    "collapsed": true,
    "deletable": true,
    "editable": true
   },
   "outputs": [],
   "source": [
    "def checkFolderFile(folder):\n",
    "    return os.listdir(folder)"
   ]
  },
  {
   "cell_type": "code",
   "execution_count": 4,
   "metadata": {
    "collapsed": false,
    "deletable": true,
    "editable": true
   },
   "outputs": [],
   "source": [
    "regular_clean = []\n",
    "regular_folder = './Regular/'\n",
    "for regular_file in checkFolderFile(regular_folder):\n",
    "    regular_clean.append(pd.read_pickle(regular_folder+regular_file))"
   ]
  },
  {
   "cell_type": "code",
   "execution_count": 5,
   "metadata": {
    "collapsed": false,
    "deletable": true,
    "editable": true
   },
   "outputs": [
    {
     "data": {
      "text/plain": [
       "268"
      ]
     },
     "execution_count": 5,
     "metadata": {},
     "output_type": "execute_result"
    }
   ],
   "source": [
    "len(regular_clean)"
   ]
  },
  {
   "cell_type": "code",
   "execution_count": 86,
   "metadata": {
    "collapsed": true,
    "deletable": true,
    "editable": true
   },
   "outputs": [],
   "source": [
    "long_regular_clean = []\n",
    "regular_folder = './Regular_timeline/'\n",
    "for regular_file in checkFolderFile(regular_folder):\n",
    "    long_regular_clean.append(pd.read_pickle(regular_folder+regular_file))"
   ]
  },
  {
   "cell_type": "code",
   "execution_count": 87,
   "metadata": {
    "collapsed": false,
    "deletable": true,
    "editable": true
   },
   "outputs": [
    {
     "data": {
      "text/plain": [
       "409"
      ]
     },
     "execution_count": 87,
     "metadata": {},
     "output_type": "execute_result"
    }
   ],
   "source": [
    "len(long_regular_clean)"
   ]
  },
  {
   "cell_type": "markdown",
   "metadata": {
    "deletable": true,
    "editable": true
   },
   "source": [
    "## Load BD"
   ]
  },
  {
   "cell_type": "code",
   "execution_count": 6,
   "metadata": {
    "collapsed": true,
    "deletable": true,
    "editable": true
   },
   "outputs": [],
   "source": [
    "bd_clean = []\n",
    "bd_folder = './Bipolar/bd_shift2week/'\n",
    "for bd_file in checkFolderFile(bd_folder):\n",
    "    bd_clean.append(pd.read_pickle(bd_folder+bd_file))"
   ]
  },
  {
   "cell_type": "code",
   "execution_count": 7,
   "metadata": {
    "collapsed": false,
    "deletable": true,
    "editable": true
   },
   "outputs": [
    {
     "data": {
      "text/plain": [
       "276"
      ]
     },
     "execution_count": 7,
     "metadata": {},
     "output_type": "execute_result"
    }
   ],
   "source": [
    "len(bd_clean)"
   ]
  },
  {
   "cell_type": "code",
   "execution_count": 88,
   "metadata": {
    "collapsed": true,
    "deletable": true,
    "editable": true
   },
   "outputs": [],
   "source": [
    "long_bd_clean = []\n",
    "bd_folder = './Bipolar_timeline/'\n",
    "for bd_file in checkFolderFile(bd_folder):\n",
    "    long_bd_clean.append(pd.read_pickle(bd_folder+bd_file))"
   ]
  },
  {
   "cell_type": "code",
   "execution_count": 89,
   "metadata": {
    "collapsed": false,
    "deletable": true,
    "editable": true
   },
   "outputs": [
    {
     "data": {
      "text/plain": [
       "165"
      ]
     },
     "execution_count": 89,
     "metadata": {},
     "output_type": "execute_result"
    }
   ],
   "source": [
    "len(long_bd_clean)"
   ]
  },
  {
   "cell_type": "markdown",
   "metadata": {
    "deletable": true,
    "editable": true
   },
   "source": [
    "## Group together"
   ]
  },
  {
   "cell_type": "code",
   "execution_count": 8,
   "metadata": {
    "collapsed": true,
    "deletable": true,
    "editable": true
   },
   "outputs": [],
   "source": [
    "groups = [ regular_clean, bd_clean]\n",
    "group_names = [\"Regular\", \"Bipolar\"]"
   ]
  },
  {
   "cell_type": "code",
   "execution_count": 9,
   "metadata": {
    "collapsed": false,
    "deletable": true,
    "editable": true
   },
   "outputs": [
    {
     "name": "stdout",
     "output_type": "stream",
     "text": [
      "Group      Users    Tweets    Average tweets\n",
      "-------  -------  --------  ----------------\n",
      "Regular      268     58461               218\n",
      "Bipolar      276    287512              1041\n"
     ]
    }
   ],
   "source": [
    "#Statistics facts of experimental data\n",
    "\n",
    "headers = [\"Group\",\"Users\", \"Tweets\", \"Average tweets\"]\n",
    "contents = []\n",
    "for i, group in enumerate(groups):\n",
    "    group_name = group_names[i]\n",
    "    tweets_num = sum([timeSeries.shape[0] for timeSeries in group])\n",
    "    users_num = len(group)\n",
    "    average_tweets_num = tweets_num / users_num\n",
    "    contents.append([group_name, users_num, tweets_num, average_tweets_num])\n",
    "    \n",
    "print(tabulate(contents, headers=headers))"
   ]
  },
  {
   "cell_type": "markdown",
   "metadata": {
    "deletable": true,
    "editable": true
   },
   "source": [
    "## Age Gender"
   ]
  },
  {
   "cell_type": "code",
   "execution_count": 10,
   "metadata": {
    "collapsed": true,
    "deletable": true,
    "editable": true
   },
   "outputs": [],
   "source": [
    "#Age and gender Distribution\n",
    "def getAgeGender(group):\n",
    "    features = {\"age\":[],\"gender\":[]}\n",
    "    for timeSeries in group:\n",
    "        \n",
    "        features[\"age\"].append(getAge(timeSeries))\n",
    "        features[\"gender\"].append(getGender(timeSeries))\n",
    "\n",
    "    return features\n",
    "def getAge(timeSeries):\n",
    "    texts = \"\"\n",
    "    for text in timeSeries[\"text\"].values:\n",
    "        texts += text + \"\\n\"\n",
    "    return age_gender_predictor.get_age(texts)\n",
    "\n",
    "def getGender(timeSeries):\n",
    "    texts = \"\"\n",
    "    for text in timeSeries[\"text\"].values:\n",
    "        texts += text + \"\\n\"\n",
    "    return age_gender_predictor.get_gender(texts)"
   ]
  },
  {
   "cell_type": "code",
   "execution_count": 11,
   "metadata": {
    "collapsed": false,
    "deletable": true,
    "editable": true
   },
   "outputs": [
    {
     "name": "stdout",
     "output_type": "stream",
     "text": [
      "Group      Male users    Female users    Average age\n",
      "-------  ------------  --------------  -------------\n",
      "Regular      0.488806        0.511194        30.1881\n",
      "Bipolar      0.242754        0.757246        24.4716\n"
     ]
    }
   ],
   "source": [
    "headers = [\"Group\",\"Male users\", \"Female users\", \"Average age\"]\n",
    "contents = []\n",
    "for i, group in enumerate(groups):\n",
    "    group_name = group_names[i]\n",
    "    users_num = float(len(group))\n",
    "    users_gender = [getGender(timeSeries) for timeSeries in group]\n",
    "    users_age = [getAge(timeSeries) for timeSeries in group]\n",
    "    male_ratio = len([gender for gender in users_gender if gender < 0]) / users_num\n",
    "    female_ratio = 1 - male_ratio\n",
    "    average_age = sum(users_age) / users_num\n",
    "    contents.append([group_name, male_ratio, female_ratio, average_age])\n",
    "print(tabulate(contents, headers=headers))"
   ]
  },
  {
   "cell_type": "markdown",
   "metadata": {
    "deletable": true,
    "editable": true
   },
   "source": [
    "## Social"
   ]
  },
  {
   "cell_type": "code",
   "execution_count": 195,
   "metadata": {
    "collapsed": false,
    "deletable": true,
    "editable": true
   },
   "outputs": [],
   "source": [
    "def getTweetRate(timeSeries):\n",
    "    total_tweets = timeSeries.shape[0]\n",
    "    if total_tweets == 0: return 0.0\n",
    "    delta_time = np.max(timeSeries.index.values) - np.min(timeSeries.index.values)\n",
    "    total_duration = (delta_time).astype('timedelta64[h]') / np.timedelta64(24, 'h')\n",
    "    try:\n",
    "        result = total_tweets / float(total_duration)\n",
    "    except:\n",
    "        result = total_tweets / 1.0\n",
    "    return result\n",
    "\n",
    "def getLateTweetRate(timeSeries):\n",
    "    total_late = 0\n",
    "    for index in timeSeries.index:\n",
    "        if int(index.hour) <6:\n",
    "            total_late += 1\n",
    "    delta_time = np.max(timeSeries.index.values) - np.min(timeSeries.index.values)\n",
    "    total_duration = (delta_time).astype('timedelta64[h]') / np.timedelta64(24, 'h')\n",
    "    try:\n",
    "        result = total_late / float(total_duration)\n",
    "    except:\n",
    "        result = total_late / 1.0\n",
    "    return result\n",
    "\n",
    "def getMentionRate(timeSeries):\n",
    "    total_tweets = timeSeries.shape[0]\n",
    "    total_mentions = np.sum(seriesContains(timeSeries))\n",
    "    return total_mentions / float(total_tweets)\n",
    "\n",
    "def thirdPronuonDetect(words, matcher=re.compile(\"@[a-z]+\")):\n",
    "    for word in words:\n",
    "        if word == \"@\":\n",
    "            continue\n",
    "        elif matcher.search(word):\n",
    "            return True\n",
    "    return False\n",
    "\n",
    "def seriesContains(timeSeries):\n",
    "    match_function = np.vectorize(thirdPronuonDetect)\n",
    "    return match_function(timeSeries[\"text\"].str.lower().str.split().values)\n",
    "\n",
    "\n",
    "def getUniqueMentions(timeSeries):\n",
    "    total_tweets = timeSeries.shape[0]\n",
    "    friends_set = set()\n",
    "    texts = timeSeries[\"text\"].values\n",
    "    for text in texts:\n",
    "        terms = text.strip().split()\n",
    "        for word in terms:\n",
    "            if word[0] == '@' and len(word) > 1:\n",
    "                friends_set.add(word)\n",
    "    return len(friends_set)\n",
    "\n",
    "def getFrequentMentions(timeSeries, lowerbound = 3):\n",
    "    total_tweets = timeSeries.shape[0]\n",
    "    friends_mentions = {}\n",
    "    texts = timeSeries[\"text\"].values\n",
    "    for text in texts:\n",
    "        terms = text.strip().split()\n",
    "        for word in terms:\n",
    "            if word[0] == '@' and len(word) > 1:\n",
    "                friends_mentions[word] = friends_mentions.get(word, 0) +1\n",
    "    frequent_frients = [screen_name for screen_name, mentions in friends_mentions.items() if mentions >= lowerbound]\n",
    "    return len(frequent_frients)\n",
    " \n",
    "\n",
    "def getSocialFeature_group(group):\n",
    "    social_features = {\"tweets_rate\": [],\"mention_rate\": [],\"unique_mentions\": [],\"frequent_mentions\": [], \"late_tweets_rate\": [], \"long_tweets_rate\": []}\n",
    "    for timeSeries in group:\n",
    "        social_features[\"tweets_rate\"].append(getTweetRate(timeSeries))\n",
    "        social_features[\"mention_rate\"].append(getMentionRate(timeSeries))\n",
    "        social_features[\"unique_mentions\"].append(getUniqueMentions(timeSeries))\n",
    "        social_features[\"frequent_mentions\"].append(getFrequentMentions(timeSeries))\n",
    "        social_features[\"late_tweets_rate\"].append(getLateTweetRate(timeSeries))\n",
    "        try:\n",
    "            social_features[\"long_tweets_rate\"].append(total_dict[str(timeSeries['name'][0])])\n",
    "        except:\n",
    "            print('No found in long_term ' + str(timeSeries['name'][0]))\n",
    "            social_features[\"long_tweets_rate\"].append(0.0)\n",
    "    return social_features"
   ]
  },
  {
   "cell_type": "code",
   "execution_count": 13,
   "metadata": {
    "collapsed": false,
    "deletable": true,
    "editable": true
   },
   "outputs": [
    {
     "name": "stdout",
     "output_type": "stream",
     "text": [
      "\n",
      "======Mean Distribution======\n",
      "\n",
      "           tweets_rate    late_tweets_rate    mention_rate    unique_mentions    frequent_mentions\n",
      "-------  -------------  ------------------  --------------  -----------------  -------------------\n",
      "Regular        4.26146            0.973105        0.426162            46.6679              9.76866\n",
      "Bipolar       19.1205             5.98164         0.395342           116.649              37.0399\n"
     ]
    }
   ],
   "source": [
    "header = [\"tweets_rate\", \"late_tweets_rate\", \"mention_rate\", \"unique_mentions\", \"frequent_mentions\"]\n",
    "contents = []\n",
    "for i, group in enumerate(groups):\n",
    "   \n",
    "    group_name = group_names[i]\n",
    "    content = [group_name]\n",
    "    tweets_rate = np.mean([getTweetRate(timeSeries) for timeSeries in group])\n",
    "    mention_rate = np.mean([getMentionRate(timeSeries) for timeSeries in group])\n",
    "    unique_mentions = np.mean([getUniqueMentions(timeSeries) for timeSeries in group])\n",
    "    frequent_mention = np.mean([getFrequentMentions(timeSeries) for timeSeries in group]) \n",
    "    late_tweets_rate = np.mean([getLateTweetRate(timeSeries) for timeSeries in group])\n",
    "    content += [tweets_rate, late_tweets_rate, mention_rate, unique_mentions, frequent_mention]\n",
    "    contents.append(content)\n",
    "\n",
    "\n",
    "print(\"\\n======Mean Distribution======\\n\")\n",
    "\n",
    "print(tabulate(contents, headers=header,))"
   ]
  },
  {
   "cell_type": "code",
   "execution_count": 85,
   "metadata": {
    "collapsed": true,
    "deletable": true,
    "editable": true
   },
   "outputs": [
    {
     "name": "stdout",
     "output_type": "stream",
     "text": [
      "\n",
      "======Mean Distribution======\n",
      "\n",
      "              tweets_rate    late_tweets_rate    mention_rate    unique_mentions    frequent_mentions\n",
      "----------  -------------  ------------------  --------------  -----------------  -------------------\n",
      " 244730434       1.35542            0.0361446      0.173333                   15                    0\n",
      " 411794643       6.06552            0.168487       0.645062                  151                   20\n",
      "1506030434       1.59165            0.625931       0.516854                   41                   10\n",
      " 330133311       5.96844            0.3426         0.404834                   39                   15\n",
      "1470697826       1.50336            0.680089       0.190476                    8                    3\n",
      " 580212038       6.93652            0.591486       0.232558                   45                   11\n",
      "  54277372       0.490166           0              0.518519                   11                    1\n",
      "2847673069      73.2881             3.36473        0.586801                   55                   42\n",
      " 437836519       0.522915           0.306536       0.586207                   18                    1\n",
      "  19615832       1.80564            0.394984       0.697917                   33                    7\n",
      " 599625140       1.3234             0.697466       0.77027                    27                    6\n",
      " 760173896      10.7937             0              0.981513                  358                   63\n",
      "2580632559       0.739599           0.22188        0.65                       24                    2\n",
      "  42910151      41.7096            13.4922         0.00599829                 11                    1\n",
      " 467277601      41.7632            10.5436         0.977321                 1290                  235\n",
      " 233079143       4.11326            0.071535       0.213043                   12                    4\n",
      " 624199231       0.661562           0.0367534      0                           0                    0\n",
      " 860709974       4.52252            0.27027        0.741036                   78                   14\n",
      "1648646648      53.3035            24.5132         0.323246                  146                   48\n",
      " 620965481       2.14286            0.578571       0.1                         4                    1\n",
      " 124522140       0.79879            0              0.795455                   17                    4\n",
      " 865492441       1.53383            0.108271       0.494118                   22                   11\n",
      "2213660384       2.69844            0.625465       0.768212                   51                   24\n",
      "  83614252       3.04505            1.18919        0.846154                  134                   26\n",
      "  22990024       2.32653            0.734694       0.263158                    8                    1\n",
      "2442361929       4.64227            1.30844        0.30888                    33                    8\n",
      " 421274332       1.86301            1.07763        0.264706                   12                    7\n",
      "  17902473      10.8242             1.88482        0.726368                  287                   32\n",
      " 102673664       0.935532           0.251874       0.0576923                   3                    0\n",
      "  19709299       3.36875            1.56067        0.372881                   43                   10\n",
      " 557813872       1.18588            0.0376471      0.31746                     4                    2\n",
      "2994256424       1.69624            0.126316       0.106383                    6                    2\n",
      " 608675862       2.96806            0.255528       0.721854                   39                   16\n",
      " 527288540       0.500773           0.408037       0                           0                    0\n",
      "  22485366       2.38715            0.367253       0.215385                   20                    2\n",
      "  20541338       1.14376            0.0953137      0.9                        27                   13\n",
      " 633078692       5.05358            2.11925        0.663082                  123                   27\n",
      " 159246384       5.04036            1.6861         0.925267                   71                   15\n",
      " 335439367      19.5648             4.97168        0.139854                   75                    9\n",
      " 108355756       1.8406             0.0180451      0.382353                   13                    6\n",
      "1025304181       1.73602            0.966443       0.536082                   27                   10\n",
      "2558375166       0.590769           0.0553846      0.90625                    16                    5\n",
      "  75882051       0.539326           0.0898876      0.166667                    3                    1\n",
      " 468609222       2.17523            0.833837       0.566667                   24                    9\n",
      " 165807638       1.32027            0.524491       0.890411                   44                   10\n",
      " 499903976       5.04322            0.125186       0.556738                   88                   24\n",
      " 231160219       0.831952           0.325546       0.782609                   33                    6\n",
      " 148143063       0.622871           0.214112       0                           0                    0\n",
      "  88969087       4.92584            0.952809       0.660584                   94                   14\n",
      " 207723801      35.2036             0.107383       0.761057                  282                  115\n",
      " 820697287       0.79879            0.181543       0.0454545                   5                    0\n",
      " 600497248       0.627299           0.0929332      0.111111                    1                    1\n",
      "  14889353       2.45007            0.643815       0.890511                  136                   16\n",
      " 445495657       2.6747             0.740964       0                           0                    0\n",
      "  76519181       6.32614            0.446761       0.0508475                   8                    2\n",
      " 219880029       1.86145            0.253012       0.0970874                   5                    1\n",
      " 300304187      15.1409             5.08277        0.530733                  319                   50\n",
      "  30716777       0.618182           0.163636       0.647059                   11                    3\n",
      "  42445529       0.672218           0.327025       0.918919                    2                    1\n",
      "1437752046       1.91214            0.857781       0.981308                  325                    2\n",
      " 214962262       0.573562           0.161314       0.375                       9                    2\n",
      "  41700548       2.47836            0.492027       0.294118                   15                    6\n",
      " 212322618       3.38695            0.236722       0.225806                   25                    6\n",
      "2684330241      43.3409            31.991          0.998125                   75                    4\n",
      "2995234655       3.19274            0.235828       0.829545                   58                   16\n",
      " 515053282       1.12048            0.0361446      0.0322581                   2                    0\n",
      " 348018168       1.13514            0.0720721      0.15873                     8                    0\n",
      " 702724255       1.0278             0.46882        0.263158                    8                    2\n",
      " 756551155       0.53211            0              0.862069                   23                    1\n",
      " 102490375       2.59654            0.0540947      0.25                       17                    5\n",
      "1546958047       0.466019           0.0537715      0.192308                    5                    1\n",
      "   9128402       1.47631            0              0.22973                    25                    0\n",
      "  18637186       1.38287            0.0545868      0.0394737                   7                    0\n",
      "  63810113       0.878924           0.161435       0.55102                    16                    3\n",
      "  85093166       2.07606            0.751678       0.318966                    9                    5\n",
      " 356860297       4.97168            2.23547        0.140288                   24                    5\n",
      " 333688614       0.859701           0.0716418      0.125                       5                    0\n",
      " 371816915       1.24272            0.213592       0.609375                   49                    3\n",
      "  83700436       2.79755            0.644172       0.289474                   26                    2\n",
      "  54895282       2.07452            0.0178838      0                           0                    0\n",
      " 115637917       6.34273            2.52247        0.850144                  133                   34\n",
      " 255161667       0.912072           0.178838       0.960784                   49                    3\n",
      " 258321931       2.14065            0.493997       0.913462                   46                   14\n",
      " 228350127       0.715884           0.286353       0.575                      33                    1\n",
      " 172636826       2.307              0.14307        0.131783                   17                    1\n",
      "  76868396       1.84199            0.469526       0.215686                   16                    1\n",
      "2548225621       2.01936            1.48325        0.389381                    7                    3\n",
      "  66257390       2.34059            0.594149       0.361538                   35                    5\n",
      "2965697195      18.1333             9.68889        0.857843                  134                   18\n",
      "  94913672       3.18331            0.268256       0.359551                   42                    8\n",
      "1345603926       1.14541            0.304251       0.34375                    19                    3\n",
      " 929639150       7.34426            1.96721        0.640306                  159                   30\n",
      "  80879693       2.87856            1.13343        0.34375                    25                    6\n",
      " 273509015       0.583072           0.0376176      0.16129                     7                    1\n",
      " 564548079       1.01862            0.321668       0.45614                    16                    3\n",
      "  16799705       2.5376             0.786299       0.387324                   53                    2\n",
      " 164771241       1.3991             0.107623       0.0128205                   1                    0\n",
      "  50435783       0.760181           0.0542986      0.714286                   12                    4\n",
      " 419116225      31.1298             5.72543        0.0931174                 105                   12\n",
      " 493541421       1.457              0.36425        0.222222                   14                    4\n",
      " 330599302       4.34252            0.661206       0.106996                   29                    3\n",
      " 258224151       6.18317            0.714818       0.33526                    38                    8\n",
      "  88069350       2.70295            0.453515       0.416107                   36                    6\n",
      " 547007481       1.44751            1.07223        0.604938                   51                    6\n",
      " 189312927       0.57228            0.0357675      0.1875                      3                    1\n",
      "  29250851       0.618182           0.0181818      0.764706                   20                    4\n",
      " 227863300       0.652681           0              0.8                         8                    2\n",
      "  48465112       1.3651             0.166026       0.418919                   25                    2\n",
      "2229046237       0.470943           0.0181132      0.5                         9                    1\n",
      " 228755151       2.63284            0.501493       0.0544218                   7                    0\n",
      "2881279632      11.8324             4.02235        0.209632                   41                   10\n",
      " 136383154       1.19911            0.232662       0                           0                    0\n",
      "  35542190       1.2672             0.672          0.454545                   28                    4\n",
      "1074192828       0.884987           0.294996       0.857143                   40                    1\n",
      " 217984703       2.01835            0.53211        0.0272727                   3                    0\n",
      " 202813872       1.24626            0.283242       0.712121                   39                    2\n",
      " 535649008       0.648649           0              0.0357143                   1                    0\n",
      " 630192510       7.72517            3.22629        0.524362                  152                   24\n",
      "2774118515       1.60873            0.280592       0.22093                    17                    1\n",
      "2343399067       1.80952            0.0571429      0.810526                   19                    4\n",
      "1881154128      12.9245             0              0.0888889                  39                    9\n",
      " 637237435       6.52757            1.84203        0.320548                   38                   16\n",
      " 183667282       2.30211            0.0181269      0.708661                  109                    3\n",
      "1711522867       2.83521            0.451467       0.33758                    20                    4\n",
      "1184585454       2.60197            0.436694       0.300699                   26                    8\n",
      "  45216314       0.643185           0              0.142857                    4                    0\n",
      " 392872651       0.743764           0              0.0731707                   2                    0\n",
      "1268457804       3.6277             0.0893522      0.35468                    53                   10\n",
      " 163873517       1.83627            0.587605       0.65                       55                   10\n",
      " 350818815       0.866817           0.126411       0.25                        4                    2\n",
      "2247049488       1.3234             0.339791       0.662162                    8                    5\n",
      "3042306033       0.723127           0.214984       0.189189                   11                    0\n",
      " 506619596      26.4125             3.98511        0.541949                  170                   47\n",
      "   7881222      10.6933             2.00613        0.225473                   92                   10\n",
      " 209744117       0.56492            0.109339       0.645161                   19                    3\n",
      "  27934304       3.85939            0.55647        0.316279                   38                    8\n",
      " 136832456       3.51088            0.0900225      0.194872                    9                    4\n",
      " 453767970       5.69184            4.24169        0.0955414                  16                    4\n",
      "  29533042       1.96102            0.575712       0.605505                   28                   10\n",
      "1085898517       0.742067           0.292921       0.0789474                   3                    0\n",
      " 548576829       0.500773           0.185471       0.259259                    7                    0\n",
      "  49438467       3.16168            0.0359281      0.482955                   50                   10\n",
      " 948811094       2.73441            0              0.27027                    25                    5\n",
      "  32190377       1.81573            0.197753       0.138614                   13                    1\n",
      " 342479368       1.49649            0.0935308      0.55                       15                    4\n",
      "  31460332       1.09002            0.0194647      0.0178571                   1                    0\n",
      " 177370664       0.840537           0.178838       0.531915                   16                    4\n",
      "  29818878       0.526475           0              0.275862                    8                    0\n",
      "2387966226       2.08696            0.107946       0.663793                   12                    5\n",
      "  30026822       0.952096           0.39521        0.584906                   22                    3\n",
      "  15927815       2.7132             0.200303       0.449664                   52                    5\n",
      "2258116816       0.501608           0.366559       0                           0                    0\n",
      " 118151476       4.49775            1.33133        0.096                      13                    2\n",
      " 157602777       1.53232            0.689545       0.625                      22                    7\n",
      " 456523609       7.02308            1.50112        0.860051                  207                   54\n",
      "2782617838      10.0901             3.42342        0.8375                     61                   39\n",
      " 558654135       3.6298             2.16704        0.562189                   59                   17\n",
      "  48666639       1.47958            0.480384       0.558442                   48                    1\n",
      " 244203762       2.63437            0.181681       0.241379                   15                    4\n",
      " 577106070       0.787472           0.232662       0.886364                   49                    6\n",
      "2212408807       1.95872            0.337711       0.0114943                   0                    0\n",
      " 509416387       1.38462            0.480769       0.458333                   10                    3\n",
      "3156227847       2.70295            0.961451       0.47651                    49                   10\n",
      "  43083651       1.85747            0.809195       0.217822                   17                    1\n",
      " 247941173       0.918836           0.11026        0.7                        32                    3\n",
      " 142510810       5.48622            1.00074        0.716612                  117                   31\n",
      " 575566096       7.28862            2.8214         0.560794                   34                   19\n",
      "2864099350       1.23429            0              0.955556                    2                    1\n",
      "  23262294       0.921659           0.202765       0.12                        2                    1\n",
      " 126164060       1.73602            0.232662       0.783505                   50                    9\n",
      "  47215498       2.06897            0.35982        0.434783                   30                   10\n",
      " 755005608       2.04484            0.699552       0.631579                   69                   12\n",
      "1475367386       3.25056            0.505643       0.127778                   17                    2\n",
      " 753673128       0.553984           0.0178704      0.0645161                   2                    0\n",
      "  86425438       2.06928            0.665127       0.464286                   34                    7\n",
      "  21177788       2.80592            0.505066       0.66                       92                    7\n",
      " 977332260       3.26769            0.867692       0.740113                   61                   23\n",
      " 406335246       3.34039            0.508321       0.347826                   23                    8\n",
      " 348812787       1.42022            0.0539326      0.0253165                   2                    0\n",
      " 129573285       3.44662            0.306767       0.91623                    85                   33\n",
      "2963451509       8.46473            0.0995851      1                           1                    1\n",
      " 170913278       5.65868            0.413174       0.0857143                  18                    2\n",
      " 451858424       0.912072           0.125186       0.196078                   10                    0\n",
      " 154646344       0.717241           0.23908        0.128205                    4                    1\n",
      " 454427951       6.66567            0.82204        0.640751                  237                   31\n",
      " 453605061       7.75577            1.64408        0.228111                   14                    8\n",
      " 236948140       3.24962            1.43419        0.284916                   24                    7\n",
      "1544504863       1.02242            0.0179372      0.298246                    7                    2\n",
      "1096181412       3.11538            1.5            0.839506                   23                   10\n",
      "  91395174       1.58062            0.254353       0.62069                    14                    4\n",
      "1368344516       0.820669           0.164134       0.688889                   33                    2\n",
      "  88208778       0.919609           0.3426         0.254902                   10                    1\n",
      " 321459760       0.679583           0.0357675      0.394737                    5                    3\n",
      " 241931726       4.95013            0.608622       0.0532787                   4                    2\n",
      "  47650009       1.70149            0.197015       0.757895                   80                    8\n",
      " 104572011       3.30394            1.4478         0.724719                   47                   19\n",
      " 365090567       5.47243            0.0357675      0.388889                   80                    9\n",
      "1265385511       2.13414            0.70535        0.0169492                   2                    0\n",
      "  18348376       1.89568            0.268256       0.575472                   56                    6\n",
      " 885352405       0.551489           0.0817021      0.148148                    4                    0\n",
      " 347733637       1.25093            0.214445       0.428571                    9                    4\n",
      " 190498199       1.37455            0.0218182      0.52381                    17                    6\n",
      "  21284711       1.73472            0.375559       0.639175                   21                    5\n",
      "  26087220       1.32735            0.233184       0.459459                   36                    6\n",
      "1031748547       1.23306            0.232316       0.101449                    6                    0\n",
      "1335215958       0.948546           0.12528        0.584906                   18                    3\n",
      "  19368770      39.1005             4.95011        0.495887                  408                  145\n",
      "  15231860       2.5416             0.980333       0.75                       71                   17\n",
      "  35062818       1.77049            0.643815       0.181818                   14                    1\n",
      " 583425395       1.65204            0.0363086      0.681319                   14                    6\n",
      " 263988001       0.692308           0.025641       0.037037                    1                    0\n",
      "  30462056       0.845476           0.0384307      0.818182                   33                    4\n",
      "  20630658      10.6626             2.32904        0.322526                   79                   19\n",
      "2872582948       0.931343           0.626866       0.923077                    9                    4\n",
      " 415265031       0.982874           0.0536113      0.218182                    8                    1\n",
      " 541860364       2.73418            0.679077       0.0653595                   2                    1\n",
      "1976603018       1.10574            0              0.180328                    4                    2\n",
      "2922189332      12.1252             2.98659        0.0132743                   9                    2\n",
      " 301017138       0.613003           0              0.69697                    38                    0\n",
      " 217125890       5.65548            2.16555        0.449367                   43                    8\n",
      "  36507049       5.56757            0.108108       0.906149                   71                   27\n",
      " 294748047       1.42045            0.62721        0.298701                    9                    2\n",
      " 132627520       1.02996            0.0582996      0.754717                   13                    2\n",
      " 270947835       1.46056            0.396694       0.641975                   18                    9\n",
      "  71377222       1.30394            0.0566929      0.304348                   18                    2\n",
      "3171649794       3.59411            0.451718       0.546448                   35                    9\n",
      "  33703795       1.82119            0.288505       0.514851                   37                    7\n",
      " 381800638       0.670927           0.0191693      0.257143                    2                    1\n",
      "1906007168       1.31707            0.0182927      0.388889                   15                    2\n",
      "2975663354       0.983607           0.160954       0.236364                    9                    0\n",
      "  22683865       1.41598            0.125467       0.696203                   56                    7\n",
      "  27469161       2.17358            0.090566       0.166667                   18                    0\n",
      "  54436265       1.20916            0.146565       0.106061                    7                    0\n",
      "  42659505       3.25242            1.12584        0.445055                   69                    7\n",
      " 255694237       2.66267            0.143928       0.108108                    6                    1\n",
      "  72277004      14.6737             3.42086        0.569325                  325                   58\n",
      "  20411251       0.626398           0.178971       0.142857                    6                    0\n",
      " 317288824       3.98802            0.107784       0.171171                   26                    9\n",
      " 343123427       1.78781            0.27088        0.111111                    5                    1\n",
      "1478371008       3.07925            1.30415        0.535294                   34                    6\n",
      " 464478902       1.3374             0.366412       0.739726                   13                    5\n",
      " 271189177       0.507553           0              0.321429                    8                    1\n",
      " 245605734       0.908517           0              0.145833                    9                    2\n",
      "3018663162       3.93708            0.683146       0.716895                   45                   14\n",
      "1198837267       8.44511            1.38947        0.423077                   84                   25\n",
      " 277197934       1.27164            0.376119       0.239437                    9                    3\n",
      " 150438158      10.462              0.679583       0.034188                    9                    2\n",
      " 323395360       1.62809            0.478851       0.164706                    6                    1\n",
      "  99624889       0.915482           0.359013       0.0588235                   3                    0\n",
      "  24170566       8.73864            0.536113       0.329243                  130                   17\n",
      " 287956580      12.8763             0.929955       0.238889                   75                   30\n",
      "2905542613       4.70943            0.633962       0.173077                   13                    2\n",
      " 286651272       0.607595           0.0357409      0.382353                    9                    1\n",
      "  96768120       0.918149           0.0213523      0.372093                   17                    1\n",
      "3020186592       7.72578            1.46647        0.331019                   65                   16\n",
      "1161362820       0.890292           0              0.829787                   28                    7\n",
      "2233022917       1.77578            0.358744       0.828283                   75                    8\n",
      "2538763274      11.8479             0.519016       0.927492                  259                  128\n",
      "2435694611       2.32607            0.685199       0.449612                   22                    2\n",
      "  20050557       0.568627           0.156863       0.551724                   14                    2\n",
      " 321717597       0.874715           0.236902       0.145833                    7                    0\n",
      "  18186373       0.967742           0.348387       0.76                       28                    4\n",
      " 185177025      10.6667             4.86486        0.418919                  131                   38\n",
      "2421314718       1.33122            0.114105       0.485714                   25                    8\n",
      "  65720963       0.753446           0.128637       0.317073                    3                    1\n",
      "2257737920       8.83458            2.9687         0.65587                   254                   36\n",
      " 181615746       0.629213           0.0539326      0.571429                   25                    1\n",
      "  81245318       1.3626             0.0726722      0.213333                   10                    1\n"
     ]
    }
   ],
   "source": [
    "header = [\"tweets_rate\", \"late_tweets_rate\", \"mention_rate\", \"unique_mentions\", \"frequent_mentions\"]\n",
    "contents = []\n",
    "for i, timeSeries in enumerate(regular_clean):\n",
    "#     content = [i]\n",
    "    content = [str(timeSeries['name'][0])]\n",
    "    tweets_rate = getTweetRate(timeSeries)\n",
    "    mention_rate = getMentionRate(timeSeries)\n",
    "    unique_mentions = getUniqueMentions(timeSeries)\n",
    "    frequent_mention = getFrequentMentions(timeSeries)\n",
    "    late_tweets_rate = getLateTweetRate(timeSeries)\n",
    "    content += [tweets_rate, late_tweets_rate, mention_rate, unique_mentions, frequent_mention]\n",
    "    contents.append(content)\n",
    "print(\"\\n======Mean Distribution======\\n\")\n",
    "print(tabulate(contents, headers=header,))"
   ]
  },
  {
   "cell_type": "markdown",
   "metadata": {
    "deletable": true,
    "editable": true
   },
   "source": [
    "## Polarity Feature"
   ]
  },
  {
   "cell_type": "code",
   "execution_count": 15,
   "metadata": {
    "collapsed": true,
    "deletable": true,
    "editable": true
   },
   "outputs": [],
   "source": [
    "def getFlipsCount(timeSeries, upperbound=120, lowerbound = 0):\n",
    "    flips = getFlips(timeSeries)\n",
    "    durations = getFlipsDuration(timeSeries, flips)\n",
    "    return np.sum((durations > lowerbound) & (durations < upperbound) )\n",
    "\n",
    "def getFlips(timeSeries, attribute= 'polarity'):\n",
    "    flips = np.zeros(timeSeries.shape[0],dtype=bool)\n",
    "    polarity = timeSeries[attribute].values[:-1]\n",
    "    right_elements = timeSeries[attribute].values[1:]\n",
    "    flips[:-1] = (polarity * right_elements) < 0\n",
    "    return flips\n",
    "\n",
    "def getFlipsDuration(timeSeries, flips):\n",
    "    filtered_timeSeries = timeSeries['dt'][flips].index.values\n",
    "    dt = np.zeros(filtered_timeSeries.shape[0],dtype=float)\n",
    "    dt[:-1] = (filtered_timeSeries[1:] - filtered_timeSeries[:-1]).astype('timedelta64[s]') / np.timedelta64(60, 's')\n",
    "    return dt\n",
    "\n",
    "def getCombosCount(timeSeries, matcher = -1, lowerbound = 2):\n",
    "    combos = comboTracker(timeSeries)\n",
    "    combos_count = sum([hit for element, hit in combos if element == matcher and hit > lowerbound])\n",
    "    return combos_count\n",
    "\n",
    "def getNegativeRatio(timeSeries):\n",
    "    total_tweets = timeSeries.shape[0]\n",
    "    return np.sum(timeSeries[\"polarity\"].values == -1) / float(total_tweets)\n",
    "\n",
    "def getPositiveRatio(timeSeries):\n",
    "    total_tweets = timeSeries.shape[0]\n",
    "    return np.sum(timeSeries[\"polarity\"].values == 1) / float(total_tweets)\n",
    "\n",
    "def getPolarity(group):\n",
    "    polarity = {\"flips\":[],\"negative_combos\":[],\"positive_combos\":[], \"positive_ratio\":[], \"negative_ratio\":[]}\n",
    "    for timeSeries in group:\n",
    "        try:\n",
    "            tweets_length = float(timeSeries.shape[0])\n",
    "        except:\n",
    "            print 'error'\n",
    "            print timeSeries\n",
    "            break\n",
    "        flips_ratio = getFlipsCount(timeSeries) / tweets_length\n",
    "        negative_combos_ratio = getCombosCount(timeSeries,matcher=-1) / tweets_length\n",
    "        positive_combos_ratio = getCombosCount(timeSeries,matcher=1) / tweets_length\n",
    "        positive_ratio = getPositiveRatio(timeSeries)\n",
    "        negative_ratio = getNegativeRatio(timeSeries)\n",
    "        \n",
    "        polarity[\"flips\"].append(flips_ratio)\n",
    "        polarity[\"negative_combos\"].append(negative_combos_ratio)\n",
    "        polarity[\"positive_combos\"].append(positive_combos_ratio)\n",
    "        polarity[\"positive_ratio\"].append(positive_ratio)\n",
    "        polarity[\"negative_ratio\"].append(negative_ratio)\n",
    "        \n",
    "    return polarity\n",
    "\n",
    "def comboTracker(timeSeries, attribute= \"polarity\", lowerbound = 120):\n",
    "    array = timeSeries[attribute]\n",
    "#     the polarity of starter\n",
    "    starter = array[0]\n",
    "    combo = 1\n",
    "    result = []\n",
    "    i = 0 \n",
    "#     begin from second one in the array\n",
    "    for cursor in array[1:]:\n",
    "        i += 1\n",
    "        if starter == cursor and timeSeries[\"dt\"][i-1] < lowerbound:\n",
    "            combo += 1\n",
    "        else:\n",
    "            if combo > 1:\n",
    "                result.append((starter, combo))\n",
    "            starter = cursor\n",
    "            combo = 1\n",
    "    if combo > 1:\n",
    "         result.append((starter, combo))\n",
    "    return result"
   ]
  },
  {
   "cell_type": "code",
   "execution_count": 16,
   "metadata": {
    "collapsed": false,
    "deletable": true,
    "editable": true
   },
   "outputs": [
    {
     "name": "stdout",
     "output_type": "stream",
     "text": [
      "\n",
      "=========\n",
      "\n",
      "Group      Positive Ratio    Negative Ratio    Flip Ratio    Positive Combos    Negative Combos\n",
      "-------  ----------------  ----------------  ------------  -----------------  -----------------\n",
      "Regular         0.223516           0.107087    0.00397308         0.0307636          0.00364134\n",
      "Bipolar         0.0844575          0.176278    0.00597603         0.00616584         0.0246394\n"
     ]
    }
   ],
   "source": [
    "headers = [\"Group\",\"Positive Ratio\",\"Negative Ratio\", \"Flip Ratio\", \"Positive Combos\", \"Negative Combos\"]\n",
    "contents = []\n",
    "for i, group in enumerate(groups):\n",
    "    group_name = group_names[i]\n",
    "   \n",
    "    positive_ratio_mean = np.mean([getPositiveRatio(timeSeries) for timeSeries in group])\n",
    "    negative_ratio_mean = np.mean([getNegativeRatio(timeSeries) for timeSeries in group])\n",
    "    flips_ratio_mean = np.mean([getFlipsCount(timeSeries) / float(len(timeSeries)) for timeSeries in group])\n",
    "    negative_combos_ratio = np.mean([getCombosCount(timeSeries,matcher=-1) / float(len(timeSeries)) for timeSeries in group])\n",
    "    positive_combos_ratio = np.mean([getCombosCount(timeSeries,matcher=1) / float(len(timeSeries)) for timeSeries in group])\n",
    "    \n",
    "    contents.append([group_name, positive_ratio_mean, negative_ratio_mean, flips_ratio_mean, positive_combos_ratio, negative_combos_ratio])\n",
    "print(\"\\n=========\\n\")\n",
    "print(tabulate(contents, headers=headers))"
   ]
  },
  {
   "cell_type": "code",
   "execution_count": 17,
   "metadata": {
    "collapsed": false,
    "deletable": true,
    "editable": true
   },
   "outputs": [
    {
     "name": "stdout",
     "output_type": "stream",
     "text": [
      "\n",
      "=========\n",
      "\n",
      "Group      Positive Ratio Mean    Positive Ratio STD    Negative Ratio Mean    Negative Ratio STD\n",
      "-------  ---------------------  --------------------  ---------------------  --------------------\n",
      "Regular              0.223516              0.156083                0.107087             0.0834606\n",
      "Bipolar              0.0844575             0.0639484               0.176278             0.100146\n"
     ]
    }
   ],
   "source": [
    "headers = [\"Group\",\"Positive Ratio Mean\",\"Positive Ratio STD\", \"Negative Ratio Mean\", \"Negative Ratio STD\"]\n",
    "contents = []\n",
    "for i, group in enumerate(groups):\n",
    "    group_name = group_names[i]\n",
    "   \n",
    "    positive_ratios = [getPositiveRatio(timeSeries) for timeSeries in group]\n",
    "    negative_ratios = [getNegativeRatio(timeSeries) for timeSeries in group]\n",
    "    positive_ratio_mean = np.mean(positive_ratios)\n",
    "    negative_ratio_mean = np.mean(negative_ratios)\n",
    "    positive_ratio_std = np.std(positive_ratios)\n",
    "    negative_ratio_std = np.std(negative_ratios)\n",
    "\n",
    "    contents.append([group_name, positive_ratio_mean, positive_ratio_std, negative_ratio_mean, negative_ratio_std])\n",
    "print(\"\\n=========\\n\")\n",
    "print(tabulate(contents, headers=headers))"
   ]
  },
  {
   "cell_type": "markdown",
   "metadata": {
    "deletable": true,
    "editable": true
   },
   "source": [
    "## Emotion"
   ]
  },
  {
   "cell_type": "code",
   "execution_count": 18,
   "metadata": {
    "collapsed": true,
    "deletable": true,
    "editable": true
   },
   "outputs": [],
   "source": [
    "def getUsersEmotions(timeSeries):\n",
    "    non_ambiguous = np.invert(timeSeries[\"ambiguous\"].values)\n",
    "    \n",
    "    filtered_emotions = timeSeries[\"emotion\"][non_ambiguous].values\n",
    "    emotions_count = {\"joy\":0,\"sadness\": 0,\"fear\":0,\\\n",
    "                \"anticipation\": 0, \"anger\":0, \"trust\": 0, \"disgust\": 0 ,\"surprise\" : 0}\n",
    "    if float(filtered_emotions.shape[0]) == 0:\n",
    "        divider = 1.0\n",
    "    else:\n",
    "        divider = float(filtered_emotions.shape[0])\n",
    "    for emotion in emotions_count:\n",
    "        emotions_count[emotion] = np.sum(filtered_emotions == emotion) / divider\n",
    "    return emotions_count\n",
    "\n",
    "def getGroupEmotions(group):\n",
    "    emotions_counts = {\"joy\":[],\"sadness\": [],\"fear\":[],\\\n",
    "                \"anticipation\": [], \"anger\":[], \"trust\": [], \"disgust\": [] ,\"surprise\" : []}\n",
    "    for timeSeries in group:\n",
    "        emotions_count = getUsersEmotions(timeSeries)\n",
    "        for emotion, count in emotions_count.items():\n",
    "            emotions_counts[emotion].append(count)\n",
    "    return emotions_counts\n",
    "\n"
   ]
  },
  {
   "cell_type": "code",
   "execution_count": 19,
   "metadata": {
    "collapsed": false,
    "deletable": true,
    "editable": true
   },
   "outputs": [
    {
     "name": "stdout",
     "output_type": "stream",
     "text": [
      "\n",
      "======Eight Emotional Features======\n",
      "\n",
      "\n",
      "======Distribution======\n",
      "\n",
      "Group    joy     sadness    fear    anticipation    anger    trust    disgust    surprise\n",
      "-------  ------  ---------  ------  --------------  -------  -------  ---------  ----------\n",
      "Regular  16.36%  26.24%     6.46%   14.26%          6.82%    15.1%    11.52%     3.24%\n",
      "Bipolar  13.83%  26.53%     6.05%   12.47%          10.44%   6.75%    14.65%     9.28%\n"
     ]
    }
   ],
   "source": [
    "emotions = [\"joy\",\"sadness\",\"fear\", \"anticipation\", \"anger\", \"trust\", \"disgust\" ,\"surprise\"]\n",
    "\n",
    "headers = [\"Group\"] + emotions\n",
    "contents = []\n",
    "for i, group in enumerate(groups):\n",
    "   \n",
    "    group_name = group_names[i]\n",
    "    content = [group_name]\n",
    "    emotions_counts = getGroupEmotions(group)\n",
    "    for emotion in emotions:\n",
    "        emotion_ratio = \"{}%\".format(round(np.mean(emotions_counts[emotion])*100, 2))\n",
    "        \n",
    "        content.append(emotion_ratio)\n",
    "    contents.append(content)\n",
    "    \n",
    "print(\"\\n======Eight Emotional Features======\\n\")\n",
    "\n",
    "print(\"\\n======Distribution======\\n\")\n",
    "\n",
    "print(tabulate(contents, headers=headers,))\n"
   ]
  },
  {
   "cell_type": "markdown",
   "metadata": {
    "deletable": true,
    "editable": true
   },
   "source": [
    "## Long Term Feature"
   ]
  },
  {
   "cell_type": "code",
   "execution_count": 94,
   "metadata": {
    "collapsed": true,
    "deletable": true,
    "editable": true
   },
   "outputs": [],
   "source": [
    "# 8 weeks sliding windows, move 1 week per time\n",
    "def slideWindows(timeline, start):\n",
    "    \n",
    "    limit = start + timedelta(weeks=8)\n",
    "    \n",
    "    status = False\n",
    "    if timeline.index[-1] < limit: status = True\n",
    "    \n",
    "    new_start = start + timedelta(weeks=1)\n",
    "    \n",
    "    return timeline[timeline.index < limit], new_start, timeline[timeline.index > new_start],status\n",
    "    \n",
    "        \n",
    "def getTimeSeries(timeline):\n",
    "    timeSeries_list = []\n",
    "    start = timeline.index[0]\n",
    "    \n",
    "    while True:\n",
    "        timeSeries, start, timeline, status = slideWindows(timeline, start)\n",
    "        timeSeries_list.append(timeSeries)\n",
    "        if status: break\n",
    "            \n",
    "    return timeSeries_list"
   ]
  },
  {
   "cell_type": "code",
   "execution_count": 123,
   "metadata": {
    "collapsed": false,
    "deletable": true,
    "editable": true
   },
   "outputs": [
    {
     "name": "stdout",
     "output_type": "stream",
     "text": [
      "165\n",
      "409\n"
     ]
    }
   ],
   "source": [
    "long_bd_timeSerieses = []\n",
    "for long_bd in long_bd_clean:\n",
    "    long_bd_timeSerieses.append(getTimeSeries(long_bd))\n",
    "print(len(long_bd_timeSerieses)) #165\n",
    "\n",
    "long_regular_timeSerieses = []\n",
    "for long_regular in long_regular_clean:\n",
    "    long_regular_timeSerieses.append(getTimeSeries(long_regular))\n",
    "print(len(long_regular_timeSerieses)) #409"
   ]
  },
  {
   "cell_type": "code",
   "execution_count": 253,
   "metadata": {
    "collapsed": false,
    "deletable": true,
    "editable": true,
    "scrolled": false
   },
   "outputs": [],
   "source": [
    "bd_dict = {}\n",
    "regular_dict = {}\n",
    "for i, long_bd_timeline in enumerate(long_bd_clean):\n",
    "    try:\n",
    "        tweets_rate_array = np.asarray([getTweetRate(timeSeries) for timeSeries in getTimeSeries(long_bd_timeline)])\n",
    "        bd_dict[str(long_bd_timeline['name'][0])] = np.ptp(tweets_rate_array)\n",
    "    except:\n",
    "        print(i)\n",
    "\n",
    "for i, long_regular_timeline in enumerate(long_regular_clean):\n",
    "    try:\n",
    "        tweets_rate_array = np.asarray([getTweetRate(timeSeries) for timeSeries in getTimeSeries(long_regular_timeline)])\n",
    "        regular_dict[str(long_regular_timeline['name'][0])] = np.ptp(tweets_rate_array)\n",
    "    except:\n",
    "        print(i)"
   ]
  },
  {
   "cell_type": "code",
   "execution_count": 254,
   "metadata": {
    "collapsed": false,
    "deletable": true,
    "editable": true
   },
   "outputs": [
    {
     "data": {
      "text/plain": [
       "165"
      ]
     },
     "execution_count": 254,
     "metadata": {},
     "output_type": "execute_result"
    }
   ],
   "source": [
    "len(bd_dict)"
   ]
  },
  {
   "cell_type": "code",
   "execution_count": 255,
   "metadata": {
    "collapsed": false,
    "deletable": true,
    "editable": true
   },
   "outputs": [
    {
     "data": {
      "text/plain": [
       "409"
      ]
     },
     "execution_count": 255,
     "metadata": {},
     "output_type": "execute_result"
    }
   ],
   "source": [
    "len(regular_dict)"
   ]
  },
  {
   "cell_type": "code",
   "execution_count": 145,
   "metadata": {
    "collapsed": true,
    "deletable": true,
    "editable": true
   },
   "outputs": [],
   "source": [
    "total_dict = {}"
   ]
  },
  {
   "cell_type": "code",
   "execution_count": 150,
   "metadata": {
    "collapsed": true,
    "deletable": true,
    "editable": true
   },
   "outputs": [],
   "source": [
    "total_dict.update(bd_dict)\n",
    "total_dict.update(regular_dict)"
   ]
  },
  {
   "cell_type": "code",
   "execution_count": 151,
   "metadata": {
    "collapsed": false,
    "deletable": true,
    "editable": true
   },
   "outputs": [
    {
     "data": {
      "text/plain": [
       "574"
      ]
     },
     "execution_count": 151,
     "metadata": {},
     "output_type": "execute_result"
    }
   ],
   "source": [
    "len(total_dict)"
   ]
  },
  {
   "cell_type": "markdown",
   "metadata": {
    "deletable": true,
    "editable": true
   },
   "source": [
    "## Classifier"
   ]
  },
  {
   "cell_type": "code",
   "execution_count": 20,
   "metadata": {
    "collapsed": false,
    "deletable": true,
    "editable": true
   },
   "outputs": [],
   "source": [
    "from sklearn.ensemble import RandomForestClassifier\n",
    "from sklearn.cross_validation import StratifiedShuffleSplit\n",
    "from sklearn.metrics import precision_recall_curve\n",
    "from sklearn.metrics import average_precision_score\n",
    "from sklearn.metrics import roc_curve, auc\n",
    "from sklearn.preprocessing import Imputer\n",
    "from sklearn.externals import joblib\n",
    "from sklearn.preprocessing import MinMaxScaler\n",
    "from sklearn.linear_model import SGDClassifier \n",
    "from sklearn.svm import SVC\n",
    "from sklearn.naive_bayes import GaussianNB\n",
    "from sklearn.naive_bayes import MultinomialNB\n",
    "from sklearn import preprocessing\n",
    "\n",
    "import matplotlib.pyplot as plt\n",
    "from matplotlib import rcParams\n",
    "from random import randint\n",
    "from operator import itemgetter \n",
    "import time\n",
    "rcParams['figure.figsize'] = 12, 8"
   ]
  },
  {
   "cell_type": "code",
   "execution_count": 192,
   "metadata": {
    "collapsed": true,
    "deletable": true,
    "editable": true
   },
   "outputs": [],
   "source": [
    "#Wrap group to be object\n",
    "class Group(object):\n",
    "    def __init__(self, group_name, group_data_list):\n",
    "        self.name = group_name\n",
    "        self.timeSerieses_list = group_data_list\n",
    "        \n",
    "    def getName(self):\n",
    "        return self.name\n",
    "    \n",
    "    def getSize(self):\n",
    "        return len(self.timeSerieses_list)\n",
    "    \n",
    "    def getGroup(self, tail_k=\"all\"):\n",
    "        if tail_k ==\"all\":\n",
    "#             return [timeSeries for timeSeries in self.timeSerieses_list if str(timeSeries['name'][0]) in total_dict]\n",
    "            \n",
    "            return self.timeSerieses_list\n",
    "        else:\n",
    "            return [timeSeries.tail(tail_k) for timeSeries in self.group]"
   ]
  },
  {
   "cell_type": "code",
   "execution_count": 193,
   "metadata": {
    "collapsed": false,
    "deletable": true,
    "editable": true
   },
   "outputs": [],
   "source": [
    "bipolar_group = Group(\"Bipolar\", bd_clean)\n",
    "regular_group = Group(\"Regular\", regular_clean)"
   ]
  },
  {
   "cell_type": "code",
   "execution_count": 194,
   "metadata": {
    "collapsed": true,
    "deletable": true,
    "editable": true
   },
   "outputs": [],
   "source": [
    "def getCategories(group):\n",
    "    name2category = {}\n",
    "    names = [\"Social\", \"Emotions\", \"Polarity\", \"AgeGender\"]\n",
    "    methods = [getSocialFeature_group, getGroupEmotions, getPolarity, getAgeGender]\n",
    "    for i, method in enumerate(methods):\n",
    "        feature = method(group.getGroup())\n",
    "        for key in feature:\n",
    "            name2category[key] = names[i]\n",
    "    return name2category"
   ]
  },
  {
   "cell_type": "code",
   "execution_count": 196,
   "metadata": {
    "collapsed": false,
    "deletable": true,
    "editable": true
   },
   "outputs": [],
   "source": [
    "class POLFeaturerGroups(object):\n",
    "    \n",
    "    @staticmethod\n",
    "    def transform(self, ):\n",
    "        features_dict = getAllFeature(group)\n",
    "        \n",
    "    \n",
    "    def __init__(self, base, groups):\n",
    "        feature2categories = getCategories(base)\n",
    "        self.groups = groups\n",
    "        self.base = base\n",
    "        self.categories = set(feature2categories.values())\n",
    "        self.name_to_index = {group.getName(): index for index, group in enumerate(groups)}\n",
    "        self.base_name = base.getName()\n",
    "        self.index2feature = []\n",
    "        base_feature_dict = getAllFeature(base)\n",
    "        self.base_feature = np.zeros((base.getSize(),len(base_feature_dict)), dtype = float)\n",
    "        for name, values in base_feature_dict.items():\n",
    "            cursor = len(self.index2feature)\n",
    "          \n",
    "            self.base_feature[:,cursor] = values\n",
    "            category = feature2categories[name]\n",
    "            self.index2feature.append((name, category))\n",
    "        \n",
    "        \n",
    "        self.features = [self.group2feature(group) for group in groups]\n",
    "#         user_name\n",
    "        self.groups_user_name = []\n",
    "        for group in groups:\n",
    "            group_user_name = []\n",
    "            for timeSeries in group.getGroup():\n",
    "                group_user_name.append(timeSeries['name'][0])\n",
    "            self.groups_user_name.append(group_user_name)\n",
    "        \n",
    "        self.base_user_name = []\n",
    "        for timeSeries in base.getGroup():\n",
    "            self.base_user_name.append(timeSeries['name'][0])\n",
    "        \n",
    "    def group2feature(self, group, tail_k=\"all\", selection = \"all\"):\n",
    "        features_dict = getAllFeature(group, tail_k)\n",
    "        feature = np.zeros((group.getSize(),len(self.index2feature)),dtype=float)\n",
    "        for cursor, (name,category) in enumerate(self.index2feature):\n",
    "            value = features_dict[name]\n",
    "            feature[:,cursor] = value\n",
    "        if selection == \"all\":\n",
    "            return feature\n",
    "        else:\n",
    "            return feature[:,selection]   \n",
    "\n",
    "    def getPrecision(self,name,selection=\"all\",tail_k=\"all\",n_fold=10,classifier = \"forest\"):\n",
    "        complete_X, Y = self.getLabeledData(name, selection)\n",
    "        index = self.name_to_index[name]\n",
    "        group = self.groups[index]\n",
    "        tailed_X = preprocessing.scale(self.group2feature(self.base + group, tail_k=tail_k, selection = selection))\n",
    "        complete_X = preprocessing.scale(complete_X)\n",
    "        \n",
    "        tailed_X[np.isinf(tailed_X)] = 0\n",
    "        tailed_X[np.isnan(tailed_X)] = 0\n",
    "        \n",
    "        precisions = []\n",
    "        if classifier == \"forest\":\n",
    "            classifier = RandomForestClassifier(n_jobs=-1, max_features=\"sqrt\", n_estimators=128)\n",
    "  \n",
    "        sss = StratifiedShuffleSplit(Y, n_fold, test_size = 0.4, random_state=randint(0,65536) )\n",
    "\n",
    "        for train_index, test_index in sss:\n",
    "            X_train, X_test = complete_X[train_index], tailed_X[test_index]\n",
    "            Y_train, Y_test = Y[train_index], Y[test_index]\n",
    "            imputer = Imputer()\n",
    "            classifier.fit(X_train, Y_train)\n",
    "            score = classifier.score(X_test,Y_test)\n",
    "            precisions.append(score)\n",
    "            \n",
    "        return np.mean(precisions)\n",
    "            \n",
    "    def getLabeledData(self,name, selection = \"all\"):\n",
    "        if selection is \"all\":\n",
    "            selection = range(len(self.index2feature))\n",
    "        \n",
    "        base_feature = self.base_feature[:,selection]\n",
    "        base_length = base_feature.shape[0]\n",
    "        index = self.name_to_index[name]\n",
    "        feature = self.features[index][:,selection]\n",
    "\n",
    "        X = np.zeros((base_length  + feature.shape[0],len(selection)),dtype=float)\n",
    "        X[0:base_length ,:] = base_feature\n",
    "        X[base_length:,:] = feature\n",
    "#         Y = np.array([(0,-1)]*base_length + [(1,i) for i,_ in enumerate(self.getGroupUserName())])\n",
    "        Y = np.array([(0,i) for i,_ in enumerate(self.getBaseUserName())] + [(1,i) for i,_ in enumerate(self.getGroupUserName())])\n",
    "        \n",
    "        return X, Y\n",
    "    \n",
    "    def getFeatureImportance_all(self,name):\n",
    "        X, Y = self.getLabeledData(name)\n",
    "        classifier = RandomForestClassifier(n_jobs=-1, max_features=\"sqrt\", n_estimators=128)\n",
    "        classifier.fit(X,Y)\n",
    "        features_indicies = np.argsort(classifier.feature_importances_)\n",
    "        feature_names = [self.index2feature[i] for i in features_indicies ]\n",
    "        return feature_names[::-1]\n",
    "    \n",
    "    def getFeature(self, name, selection=\"all\"):\n",
    "        if selection is \"all\":\n",
    "            selection = list(range(len(self.index2feature)))\n",
    "        index = self.name_to_index[name]\n",
    "        feature =  self.features[index]\n",
    "        return feature[:, selection]\n",
    "    \n",
    "    def classify(self,name, target_name, selection=\"all\"):\n",
    "        X, Y = self.getLabeledData(name, selection)\n",
    "        classifier = RandomForestClassifier(n_jobs=-1, max_features=\"sqrt\", n_estimators=128)\n",
    "        classifier.fit(X,Y)\n",
    "        test_x = self.getFeature(target_name,selection)\n",
    "        return classifier.predict(test_x)\n",
    "       \n",
    "    def getLabelsScores(self, name, classifier, n_fold, selection):\n",
    "        SCORES = np.array([])\n",
    "        LABELS = np.zeros(shape=(0,2))\n",
    "        X, Y = self.getLabeledData(name, selection)        \n",
    "        sss = StratifiedShuffleSplit(Y[:,0], n_fold, test_size = 0.4, random_state=randint(0,65536) )\n",
    "\n",
    "        for train_index, test_index in sss:\n",
    "            X_train, X_test           = X[train_index], X[test_index]\n",
    "            Y_train, Y_test           = Y[train_index][:,0], Y[test_index][:,0]\n",
    "            Y_train_name, Y_test_name = Y[train_index][:,1], Y[test_index][:,1]\n",
    "\n",
    "            classifier.fit(X_train, Y_train)\n",
    "            score = classifier.predict_proba(X_test)[:,1]\n",
    "            SCORES = np.concatenate((SCORES, score))\n",
    "            LABELS = np.concatenate((LABELS, Y[test_index]))\n",
    "        return SCORES, LABELS, (X_train, X_test,Y_train, Y_test, Y_train_name, Y_test_name)\n",
    "    \n",
    "    def renderPrecisionRecall_all(self, name,colors=['r','g','b',\"y\", \"m\"], n_fold = 100):\n",
    "        classifier  = RandomForestClassifier(n_jobs= -1, max_features=\"sqrt\", n_estimators=128)\n",
    "        fig, ax = plt.subplots()\n",
    "        ax.spines['bottom'].set_color('white')\n",
    "        ax.spines['top'].set_color('white') \n",
    "        ax.spines['right'].set_color('white')\n",
    "        ax.spines['left'].set_color('white')\n",
    "        ax.tick_params(axis='x')\n",
    "        ax.tick_params(axis='y')\n",
    "        ax.title.set_color('white')\n",
    "        plt.xlim([0.0, 1.0])\n",
    "        plt.ylim([0.0, 1.05])\n",
    "        plt.xlabel('Recall')\n",
    "        plt.ylabel('Precision')\n",
    "        plt.title('Precision Recall Curve: {}'.format(name))\n",
    "        \n",
    "        categories = list(self.categories) + [\"All\"]\n",
    "        for g,category in enumerate(categories):\n",
    "            if category == \"All\":\n",
    "                selection = range(len(self.index2feature))\n",
    "            else:\n",
    "                selection = [i for i, (feature_name, feature_category) in enumerate(self.index2feature) if category == feature_category]\n",
    "            \n",
    "            SCORES, LABELS, (X_train, X_test,Y_train, Y_test, Y_train_name, Y_test_name) = self.getLabelsScores(name, classifier,n_fold, selection)\n",
    "            precision, recall, _ = precision_recall_curve(LABELS[:,0], SCORES, pos_label=1)\n",
    "            average_precision = average_precision_score(LABELS[:,0], SCORES)\n",
    "            positive_train = np.count_nonzero(Y_train)\n",
    "            positive_test = np.count_nonzero(Y_test)\n",
    "            normal_train = Y_train.shape[0] - positive_train\n",
    "            normal_test = Y_test.shape[0] - positive_test\n",
    "           \n",
    "            plt.plot(recall, precision, label=category , color=colors[g],linewidth=2)\n",
    "            \n",
    "        print(\"{} Normal and {} {} in Training Data\".format(normal_train,positive_train,name))\n",
    "        print(\"{} Normal and {} {} in Test Data\\n\".format(normal_test,positive_test,name))\n",
    "        plt.legend(loc=\"lower right\")\n",
    "        plt.show()\n",
    "\n",
    "    def getSeperateScores(self, name, classifier, n_fold, selection):\n",
    "        SCORES = np.array([])\n",
    "        LABELS = np.array([])\n",
    "\n",
    "        X, Y = self.getLabeledData(name, selection)\n",
    "\n",
    "        sss = StratifiedShuffleSplit(Y, n_fold, test_size = 0.4, random_state=randint(0,65536) )\n",
    "\n",
    "        for train_index, test_index in sss:\n",
    "\n",
    "            X_train, X_test = X[train_index], X[test_index]\n",
    "            Y_train, Y_test = Y[train_index], Y[test_index]\n",
    "\n",
    "            classifier.fit(X_train, Y_train)\n",
    "            score = classifier.predict_proba(X_test)[:,1]\n",
    "            SCORES = np.concatenate((SCORES, score))\n",
    "            LABELS = np.concatenate((LABELS, Y_test))\n",
    "\n",
    "        return SCORES, LABELS, (X_train, X_test,Y_train, Y_test)\n",
    "    \n",
    "    def getGroupUserName(self,group_num = 0):\n",
    "        return self.groups_user_name[group_num]\n",
    "    \n",
    "    def getIndex2Feature(self):\n",
    "        return self.index2feature\n",
    "    \n",
    "    def getBaseUserName(self):\n",
    "        return self.base_user_name"
   ]
  },
  {
   "cell_type": "code",
   "execution_count": 197,
   "metadata": {
    "collapsed": false,
    "deletable": true,
    "editable": true
   },
   "outputs": [
    {
     "name": "stdout",
     "output_type": "stream",
     "text": [
      "No found in long_term 756551155\n",
      "No found in long_term 2963451509\n",
      "No found in long_term 2905542613\n",
      "No found in long_term 756551155\n",
      "No found in long_term 2963451509\n",
      "No found in long_term 2905542613\n",
      "No found in long_term cuts4ndsc4rs\n",
      "No found in long_term cuts4ndsc4rs\n"
     ]
    }
   ],
   "source": [
    "pol_groups = POLFeaturerGroups(regular_group, [bipolar_group])"
   ]
  },
  {
   "cell_type": "code",
   "execution_count": 199,
   "metadata": {
    "collapsed": false,
    "deletable": true,
    "editable": true
   },
   "outputs": [
    {
     "name": "stdout",
     "output_type": "stream",
     "text": [
      "161 Normal and 165 Bipolar in Training Data\n",
      "107 Normal and 111 Bipolar in Test Data\n",
      "\n"
     ]
    },
    {
     "data": {
      "image/png": "[encoded data removed]",
      "text/plain": [
       "<matplotlib.figure.Figure at 0x7f5e52cdee50>"
      ]
     },
     "metadata": {},
     "output_type": "display_data"
    }
   ],
   "source": [
    "#Compare the performance of each Pattern of Life components and LIWC\n",
    "pol_groups.renderPrecisionRecall_all(\"Bipolar\",n_fold=10)"
   ]
  },
  {
   "cell_type": "markdown",
   "metadata": {
    "deletable": true,
    "editable": true
   },
   "source": [
    "# Precission Recall Chart on 10-fold cross-validation"
   ]
  },
  {
   "cell_type": "code",
   "execution_count": 219,
   "metadata": {
    "collapsed": false,
    "deletable": true,
    "editable": true
   },
   "outputs": [
    {
     "name": "stdout",
     "output_type": "stream",
     "text": [
      "Pattern of Life under curve area: 0.974711627515\n"
     ]
    },
    {
     "data": {
      "image/png": "[encoded data removed]",
      "text/plain": [
       "<matplotlib.figure.Figure at 0x7f5e9fba52d0>"
      ]
     },
     "metadata": {},
     "output_type": "display_data"
    },
    {
     "name": "stdout",
     "output_type": "stream",
     "text": [
      "Pattern of Life Average Precision: 0.978704100623\n"
     ]
    },
    {
     "data": {
      "image/png": "[encoded data removed]",
      "text/plain": [
       "<matplotlib.figure.Figure at 0x7f5ec80d1710>"
      ]
     },
     "metadata": {},
     "output_type": "display_data"
    }
   ],
   "source": [
    " \n",
    "index2feature = pol_groups.index2feature\n",
    "\n",
    "def getSelection(excluded_categories=[], excluded_index=[]):\n",
    "    selection = []\n",
    "    for i in range(len(index2feature)):\n",
    "        name,category =  index2feature[i]\n",
    "        if any(category == x for x in excluded_categories):\n",
    "            #removed_features.append(name)\n",
    "            pass\n",
    "        elif any(name == x for x in excluded_index):\n",
    "            #removed_features.append(name)\n",
    "            pass\n",
    "\n",
    "        else:                   \n",
    "            selection.append(i)\n",
    "    return selection\n",
    "\n",
    "\n",
    "POL_selection = getSelection(excluded_categories=[\"LIWC\"])\n",
    "\n",
    "#ROC chart of three models:\n",
    "def renderROC(scores, labels,disorder ,names, linestyle=['solid','dashed','dotted']):\n",
    "    fig, ax = plt.subplots()\n",
    "    for i,(score, label) in enumerate(zip(scores, labels)):\n",
    "        fpr, tpr, _ = roc_curve(label,score, pos_label=1)\n",
    "        roc_auc = auc(fpr, tpr)\n",
    "        plt.plot(fpr, tpr, label=names[i], ls=linestyle[i],linewidth=3)\n",
    "        print(\"{} under curve area: {}\".format(names[i],roc_auc))\n",
    "\n",
    "   \n",
    "    plt.plot([0, 1], [0, 1], 'k--')\n",
    "    plt.xlim([0.0, 1.0])\n",
    "    plt.ylim([0.0, 1.05])\n",
    "    plt.xlabel('False Positive Rate')\n",
    "    plt.ylabel('True Positive Rate')\n",
    "    plt.title('{} ROC chart'.format(disorder))\n",
    "    plt.legend(loc=\"lower right\")\n",
    "\n",
    "    plt.show()\n",
    "\n",
    "names = [\"Pattern of Life\"]\n",
    "classifier  = RandomForestClassifier(n_jobs= -1, max_features=\"sqrt\", n_estimators=128)\n",
    "name = \"Bipolar\"\n",
    "n_fold = 10\n",
    "POL_scores, POL_labels, _ = pol_groups.getLabelsScores(name, classifier, n_fold=n_fold, selection=POL_selection)\n",
    "\n",
    "bipolar_SCORES = [POL_scores]\n",
    "bipolar_LABELS = [POL_labels[:,0]]\n",
    "bipolar_NAMES = [POL_labels[:,1]]\n",
    "\n",
    "\n",
    "renderROC(bipolar_SCORES, bipolar_LABELS, name,names)\n",
    "\n",
    "POL_scores, POL_labels, _ = pol_groups.getLabelsScores(name, classifier,n_fold=n_fold, selection=POL_selection)\n",
    "\n",
    "#np.sum(tfidf_labels)\n",
    "\n",
    "def renderPRC(scores, labels, disorder ,names, linestyle=['solid','dashed','dashdot']):\n",
    "    fig, ax = plt.subplots()\n",
    "    for i,(score, label) in enumerate(zip(scores, labels)):\n",
    "        \n",
    "        precision, recall, _ = precision_recall_curve(label, score, pos_label=1)\n",
    "        average_precision = average_precision_score(label, score)\n",
    "\n",
    "        plt.plot(recall, precision, label=names[i], ls=linestyle[i],linewidth=3)\n",
    "        print(\"{} Average Precision: {}\".format(names[i],average_precision))\n",
    "\n",
    "   \n",
    "\n",
    "    plt.xlim([0.0, 1.0])\n",
    "    plt.ylim([0.0, 1.05])\n",
    "    plt.xlabel('False Positive Rate')\n",
    "    plt.ylabel('True Positive Rate')\n",
    "    plt.title('{} Precision Recall Chart'.format(disorder))\n",
    "    plt.legend(loc=\"lower right\")\n",
    "\n",
    "    plt.show()\n",
    "    \n",
    "renderPRC(bipolar_SCORES, bipolar_LABELS, \"Bipolar\",names)"
   ]
  },
  {
   "cell_type": "code",
   "execution_count": 201,
   "metadata": {
    "collapsed": false,
    "deletable": true,
    "editable": true
   },
   "outputs": [
    {
     "data": {
      "image/png": "[encoded data removed]",
      "text/plain": [
       "<matplotlib.figure.Figure at 0x7f5e52ece210>"
      ]
     },
     "metadata": {},
     "output_type": "display_data"
    }
   ],
   "source": [
    "bipolar_index = [i for i, value in enumerate(bipolar_LABELS[0]) if value == 1]\n",
    "\n",
    "bipolar_value = [bipolar_SCORES[0][i] for i in bipolar_index]\n",
    "\n",
    "regular_value = [bipolar_SCORES[0][i] for i in range(len(bipolar_SCORES[0])) if i not in bipolar_index]\n",
    "\n",
    "plt.hist(bipolar_value, label = 'Bipolar', alpha=0.6)\n",
    "plt.hist(regular_value, label = 'Regular', alpha=0.6)\n",
    "\n",
    "plt.grid(True)\n",
    "plt.xlabel(\"Probability\")\n",
    "plt.ylabel(\"Frequency\")\n",
    "\n",
    "plt.ylim([0, 550])\n",
    "plt.legend() \n",
    "plt.show() \n",
    "plt.close()"
   ]
  },
  {
   "cell_type": "code",
   "execution_count": 202,
   "metadata": {
    "collapsed": false,
    "deletable": true,
    "editable": true
   },
   "outputs": [],
   "source": [
    "b_P_list = []\n",
    "b_R_list = []\n",
    "r_p_list = []\n",
    "r_R_list = []\n",
    "thre_list = np.arange(0.4,0.91,0.001)\n",
    "for thre in thre_list:\n",
    "\n",
    "    bipolar_index = [i for i, value in enumerate(bipolar_LABELS[0]) if value == 1]\n",
    "\n",
    "    bipolar_value = [bipolar_SCORES[0][i] for i in bipolar_index]\n",
    "\n",
    "    TP_bipolar_value = filter(lambda x: x >= thre, bipolar_value)\n",
    "\n",
    "    regular_value = [bipolar_SCORES[0][i]for i in range(len(bipolar_SCORES[0])) if i not in bipolar_index]\n",
    "\n",
    "    TN_regular_value = filter(lambda x: x < thre, regular_value)\n",
    "\n",
    "    Total_Bipolar = len(bipolar_value)\n",
    "\n",
    "    Total_Regular = len(regular_value)\n",
    "\n",
    "    FP = Total_Regular - len(TN_regular_value)\n",
    "\n",
    "    FN = Total_Bipolar - len(TP_bipolar_value)\n",
    "\n",
    "    b_P = float(len(TP_bipolar_value))/(len(TP_bipolar_value) + FP)\n",
    "    b_R = float(len(TP_bipolar_value))/len(bipolar_value)\n",
    "    r_p = float(len(TN_regular_value))/(len(TN_regular_value) + FN)\n",
    "    r_R = float(len(TN_regular_value))/len(regular_value)\n",
    "\n",
    "    b_P_list.append(b_P)\n",
    "    b_R_list.append(b_R)\n",
    "    r_p_list.append(r_p)\n",
    "    r_R_list.append(r_R)\n"
   ]
  },
  {
   "cell_type": "code",
   "execution_count": 203,
   "metadata": {
    "collapsed": false,
    "deletable": true,
    "editable": true
   },
   "outputs": [
    {
     "data": {
      "image/png": "[encoded data removed]",
      "text/plain": [
       "<matplotlib.figure.Figure at 0x7f5e52b50650>"
      ]
     },
     "metadata": {},
     "output_type": "display_data"
    }
   ],
   "source": [
    "plt.plot(thre_list, b_P_list, 'r', label='Bipolar Precision')\n",
    "plt.plot(thre_list, b_R_list, 'b', label='Bipolar Recall')\n",
    "plt.legend()\n",
    "plt.show() \n",
    "plt.close()"
   ]
  },
  {
   "cell_type": "code",
   "execution_count": 204,
   "metadata": {
    "collapsed": false,
    "deletable": true,
    "editable": true
   },
   "outputs": [
    {
     "data": {
      "image/png": "[encoded data removed]",
      "text/plain": [
       "<matplotlib.figure.Figure at 0x7f5ebc13c090>"
      ]
     },
     "metadata": {},
     "output_type": "display_data"
    }
   ],
   "source": [
    "plt.plot(thre_list, r_p_list, 'g', label='Regular Precision')\n",
    "plt.plot(thre_list, r_R_list, 'm', label='Regular Recall')\n",
    "plt.legend()\n",
    "plt.show() \n",
    "plt.close()"
   ]
  },
  {
   "cell_type": "code",
   "execution_count": 205,
   "metadata": {
    "collapsed": false,
    "deletable": true,
    "editable": true
   },
   "outputs": [
    {
     "data": {
      "image/png": "[encoded data removed]",
      "text/plain": [
       "<matplotlib.figure.Figure at 0x7f5e9ff23ad0>"
      ]
     },
     "metadata": {},
     "output_type": "display_data"
    }
   ],
   "source": [
    "plt.plot(thre_list, r_p_list, 'g', label='Regular Precision')\n",
    "plt.plot(thre_list, r_R_list, 'm', label='Regular Recall')\n",
    "plt.plot(thre_list, b_P_list, 'r', label='Bipolar Precision')\n",
    "plt.plot(thre_list, b_R_list, 'b', label='Bipolar Recall')\n",
    "plt.legend()\n",
    "plt.show() \n",
    "plt.close()"
   ]
  },
  {
   "cell_type": "code",
   "execution_count": 206,
   "metadata": {
    "collapsed": false,
    "deletable": true,
    "editable": true
   },
   "outputs": [
    {
     "name": "stdout",
     "output_type": "stream",
     "text": [
      "0.5\n",
      "0.454\n"
     ]
    }
   ],
   "source": [
    "for i, value in enumerate(thre_list):\n",
    "    if b_P_list[i] < r_R_list[i]:\n",
    "        cross_i = i\n",
    "        upper_bound = thre_list[i]\n",
    "        print upper_bound\n",
    "        break\n",
    "for i, value in enumerate(thre_list):\n",
    "    if r_p_list[i] < b_P_list[i]:\n",
    "        \n",
    "        lower_bound = thre_list[i]\n",
    "        print lower_bound\n",
    "        break"
   ]
  },
  {
   "cell_type": "code",
   "execution_count": 251,
   "metadata": {
    "collapsed": false,
    "deletable": true,
    "editable": true
   },
   "outputs": [
    {
     "name": "stdout",
     "output_type": "stream",
     "text": [
      "Bipolar Precision: 0.92676056338\n",
      "Bipolar Recall: 0.889189189189\n"
     ]
    },
    {
     "data": {
      "image/png": "[encoded data removed]",
      "text/plain": [
       "<matplotlib.figure.Figure at 0x7f5e9fb5ded0>"
      ]
     },
     "metadata": {},
     "output_type": "display_data"
    },
    {
     "name": "stdout",
     "output_type": "stream",
     "text": [
      "Regular Precision: 0.889686098655\n",
      "Regular Recall: 0.927102803738\n"
     ]
    },
    {
     "data": {
      "image/png": "[encoded data removed]",
      "text/plain": [
       "<matplotlib.figure.Figure at 0x7f5e9f97bc10>"
      ]
     },
     "metadata": {},
     "output_type": "display_data"
    }
   ],
   "source": [
    "print('Bipolar Precision: {}'.format(b_P_list[cross_i]))\n",
    "print('Bipolar Recall: {}'.format(b_R_list[cross_i]))\n",
    "plt.hist(bipolar_value)\n",
    "plt.grid(True)\n",
    "plt.xlabel(\"Value\")\n",
    "plt.ylabel(\"Frequency\")\n",
    "plt.title(\"Bipolar\")\n",
    "plt.ylim([0, 550])\n",
    "# plt.xlim([0.4, 0.9])\n",
    "plt.show()\n",
    "plt.close()\n",
    "\n",
    "print('Regular Precision: {}'.format(r_p_list[cross_i]))\n",
    "print('Regular Recall: {}'.format(r_R_list[cross_i]))\n",
    "plt.hist(regular_value)\n",
    "plt.grid(True)\n",
    "plt.xlabel(\"Value\")\n",
    "plt.ylabel(\"Frequency\")\n",
    "plt.title(\"Regular\")\n",
    "plt.ylim([0, 550])\n",
    "# plt.xlim([0.4, 0.9])\n",
    "plt.show() \n",
    "plt.close()"
   ]
  },
  {
   "cell_type": "code",
   "execution_count": 252,
   "metadata": {
    "collapsed": false,
    "deletable": true,
    "editable": true,
    "scrolled": false
   },
   "outputs": [
    {
     "name": "stdout",
     "output_type": "stream",
     "text": [
      "Bipolar Precision: 0.911602209945\n",
      "Bipolar Recall: 0.927835051546\n",
      "\n",
      "Regular Precision: 0.926174496644\n",
      "Regular Recall: 0.909604519774\n"
     ]
    },
    {
     "data": {
      "image/png": "[encoded data removed]",
      "text/plain": [
       "<matplotlib.figure.Figure at 0x7f5e9d515290>"
      ]
     },
     "metadata": {},
     "output_type": "display_data"
    }
   ],
   "source": [
    "# Cut in different value\n",
    "\n",
    "bipolar_index = [i for i, value in enumerate(bipolar_LABELS[0]) if value == 1]\n",
    "\n",
    "bipolar_value = [bipolar_SCORES[0][i] for i in bipolar_index]\n",
    "\n",
    "TP_bipolar_value = filter(lambda x: x >= upper_bound, bipolar_value)\n",
    "\n",
    "regular_value = [bipolar_SCORES[0][i] for i in range(len(bipolar_SCORES[0])) if i not in bipolar_index]\n",
    "\n",
    "TN_regular_value = filter(lambda x: x < lower_bound, regular_value)\n",
    "\n",
    "FP = len(filter(lambda x: x < lower_bound, bipolar_value))\n",
    "\n",
    "FN = len(filter(lambda x: x >= upper_bound, regular_value))\n",
    "\n",
    "b_P = float(len(TP_bipolar_value))/(len(TP_bipolar_value) + FP)\n",
    "b_R = float(len(TP_bipolar_value))/(len(TP_bipolar_value)+FN )\n",
    "r_p = float(len(TN_regular_value))/(len(TN_regular_value) + FN)\n",
    "r_R = float(len(TN_regular_value))/(len(TN_regular_value)+ FP)\n",
    "\n",
    "print('Bipolar Precision: {}'.format(b_P))\n",
    "print('Bipolar Recall: {}'.format(b_R))\n",
    "print \n",
    "print('Regular Precision: {}'.format(r_p))\n",
    "print('Regular Recall: {}'.format(r_R))\n",
    "\n",
    "plt.hist(filter(lambda x: x >= upper_bound or x < lower_bound, bipolar_value), label = 'Bipolar', alpha=0.6)\n",
    "plt.hist(filter(lambda x: x >= upper_bound or x < lower_bound, regular_value), label = 'Regular', alpha=0.6)\n",
    "\n",
    "plt.grid(True)\n",
    "plt.xlabel(\"Probability\")\n",
    "plt.ylabel(\"Frequency\")\n",
    "\n",
    "plt.ylim([0, 550])\n",
    "plt.legend() \n",
    "plt.show() \n",
    "plt.close()"
   ]
  },
  {
   "cell_type": "markdown",
   "metadata": {
    "deletable": true,
    "editable": true
   },
   "source": [
    "# Check Polarity user"
   ]
  },
  {
   "cell_type": "code",
   "execution_count": 209,
   "metadata": {
    "collapsed": true,
    "deletable": true,
    "editable": true
   },
   "outputs": [],
   "source": [
    "from collections import Counter"
   ]
  },
  {
   "cell_type": "code",
   "execution_count": 210,
   "metadata": {
    "collapsed": false,
    "deletable": true,
    "editable": true
   },
   "outputs": [],
   "source": [
    "under_lower_index = [i for i in bipolar_index if bipolar_SCORES[0][i] < lower_bound]\n",
    "under_lower_user = [(pol_groups.getGroupUserName()[int(bipolar_NAMES[0][i])], bipolar_SCORES[0][i]) for i in under_lower_index]\n",
    "# Counter([name for name, value in under_lower_user]).most_common()\n"
   ]
  },
  {
   "cell_type": "markdown",
   "metadata": {
    "deletable": true,
    "editable": true
   },
   "source": [
    "## BD user Predict < 0.3"
   ]
  },
  {
   "cell_type": "code",
   "execution_count": 211,
   "metadata": {
    "collapsed": false,
    "deletable": true,
    "editable": true
   },
   "outputs": [
    {
     "data": {
      "text/plain": [
       "[('yohaw', 6),\n",
       " ('PunkRockHappy', 5),\n",
       " ('clyder1966', 4),\n",
       " ('TommmMate', 3),\n",
       " ('_kenziiieee_', 3),\n",
       " ('NiallBunny', 2),\n",
       " ('Megrrrs', 2),\n",
       " ('Boricua611', 2),\n",
       " ('enjoyscarlett_', 2),\n",
       " ('Radica_XO_Khidd', 1),\n",
       " ('AwesomeAsh', 1),\n",
       " ('TWallaceMusic', 1),\n",
       " ('ghostofclifford', 1),\n",
       " ('LochnessaMarie', 1)]"
      ]
     },
     "execution_count": 211,
     "metadata": {},
     "output_type": "execute_result"
    }
   ],
   "source": [
    "Counter([name for name, value in filter(lambda x: x[1]<0.3 ,under_lower_user)]).most_common()"
   ]
  },
  {
   "cell_type": "markdown",
   "metadata": {
    "deletable": true,
    "editable": true
   },
   "source": [
    "## Regular user Predict > 0.7"
   ]
  },
  {
   "cell_type": "code",
   "execution_count": 212,
   "metadata": {
    "collapsed": false,
    "deletable": true,
    "editable": true,
    "scrolled": false
   },
   "outputs": [],
   "source": [
    "regular_index = [i for i in xrange(len(bipolar_SCORES[0])) if i not in bipolar_index]\n",
    "on_upper_index = [i for i in regular_index if bipolar_SCORES[0][i] > upper_bound]\n",
    "on_upper_user = [(pol_groups.getBaseUserName()[int(bipolar_NAMES[0][i])], bipolar_SCORES[0][i]) for i in regular_index]\n",
    "# Counter([name for name, value in on_upper_user]).most_common()\n"
   ]
  },
  {
   "cell_type": "code",
   "execution_count": 234,
   "metadata": {
    "collapsed": false,
    "deletable": true,
    "editable": true
   },
   "outputs": [
    {
     "data": {
      "text/plain": [
       "[(2847673069, 3),\n",
       " (118151476, 3),\n",
       " (85093166, 2),\n",
       " (2905542613, 2),\n",
       " (258224151, 2),\n",
       " (453767970, 1),\n",
       " (356860297, 1)]"
      ]
     },
     "execution_count": 234,
     "metadata": {},
     "output_type": "execute_result"
    }
   ],
   "source": [
    "Counter([name for name, value in filter(lambda x: x[1]>0.7 ,on_upper_user)]).most_common()"
   ]
  },
  {
   "cell_type": "code",
   "execution_count": 233,
   "metadata": {
    "collapsed": false,
    "deletable": true,
    "editable": true
   },
   "outputs": [],
   "source": [
    "# for i, user in enumerate(regular_clean):\n",
    "#     if user['name'][0] != 118151476:continue\n",
    "#     print i"
   ]
  },
  {
   "cell_type": "code",
   "execution_count": 232,
   "metadata": {
    "collapsed": false,
    "deletable": true,
    "editable": true
   },
   "outputs": [],
   "source": [
    "# regular_clean[152]"
   ]
  },
  {
   "cell_type": "markdown",
   "metadata": {
    "deletable": true,
    "editable": true
   },
   "source": [
    "## Testing Predict Model"
   ]
  },
  {
   "cell_type": "code",
   "execution_count": 42,
   "metadata": {
    "collapsed": true,
    "deletable": true,
    "editable": true
   },
   "outputs": [],
   "source": [
    "def getPOLFeature(timeSeries):\n",
    "#     features = np.zeros((len(user_timeSeries_list),20),dtype=float)\n",
    "    features = np.zeros((20),dtype=float)\n",
    "        \n",
    "    tweets_length = float(timeSeries.shape[0])\n",
    "    tweets_rate = getTweetRate(timeSeries)\n",
    "    late_tweets_rate = getLateTweetRate(timeSeries)\n",
    "    mention_rate = getMentionRate(timeSeries)\n",
    "    unique_mentions = getUniqueMentions(timeSeries)\n",
    "    frequent_mentions = getFrequentMentions(timeSeries)\n",
    "    negative_ratio = getNegativeRatio(timeSeries)\n",
    "    positive_ratio = getPositiveRatio(timeSeries)\n",
    "    flips_ratio = getFlipsCount(timeSeries) / tweets_length\n",
    "    negative_combos = getCombosCount(timeSeries,matcher=-1) / tweets_length\n",
    "    positive_combos = getCombosCount(timeSeries,matcher=1) / tweets_length\n",
    "    emotion_counts_dict = getUsersEmotions(timeSeries)\n",
    "\n",
    "\n",
    "    age = getAge(timeSeries)\n",
    "    gender = getGender(timeSeries)\n",
    "\n",
    "    features[0] = tweets_rate\n",
    "    features[1] = late_tweets_rate\n",
    "    features[2] = mention_rate\n",
    "    features[3] = unique_mentions\n",
    "    features[4] = frequent_mentions \n",
    "    features[5] = positive_ratio\n",
    "    features[6] = negative_ratio\n",
    "    features[7] = flips_ratio\n",
    "    features[8] = negative_combos\n",
    "    features[9] = positive_combos\n",
    "    features[10] = age\n",
    "    features[11] = gender\n",
    "    for j, emotion in enumerate([\"joy\",\"sadness\",\"fear\", \"anticipation\", \"anger\", \"trust\", \"disgust\" ,\"surprise\"]):\n",
    "        features[12+j] = np.mean(emotion_counts_dict[emotion])\n",
    "        \n",
    "            \n",
    "    return features"
   ]
  },
  {
   "cell_type": "code",
   "execution_count": 222,
   "metadata": {
    "collapsed": false,
    "deletable": true,
    "editable": true,
    "scrolled": true
   },
   "outputs": [
    {
     "name": "stdout",
     "output_type": "stream",
     "text": [
      "[7, 19, 11, 3, 18, 6, 0, 8, 20, 2, 5, 13, 4, 10, 16, 1, 14, 17, 12, 15, 9]\n"
     ]
    }
   ],
   "source": [
    "# #Dump the pre-trained models\n",
    "\n",
    "# # Get feature\n",
    "feature_order = ['tweets_rate', 'late_tweets_rate','mention_rate','unique_mentions','frequent_mentions','positive_ratio',\\\n",
    "                 'negative_ratio','flips','negative_combos','positive_combos', 'age', 'gender', \"joy\",\"sadness\",\"fear\",  \\\n",
    "                 \"anticipation\", \"anger\", \"trust\", \"disgust\" ,\"surprise\", \"long_tweets_rate\"]\n",
    "online_selection = []\n",
    "\n",
    "for feature_name in feature_order:\n",
    "    for i,(name, category) in enumerate(pol_groups.index2feature):\n",
    "        if name == feature_name:\n",
    "            online_selection.append(i)\n",
    "print(online_selection)\n",
    "            \n",
    "classifier  = RandomForestClassifier(n_jobs=-1, max_features=\"sqrt\", n_estimators=128)\n",
    "\n",
    "X, Y = pol_groups.getLabeledData(\"Bipolar\", selection=online_selection)\n",
    "\n",
    "sss = StratifiedShuffleSplit(Y[:,0], n_fold, test_size = 0.4, random_state=randint(0,65536) )\n",
    "\n",
    "for train_index, test_index in sss:\n",
    "    X_train, X_test           = X[train_index], X[test_index]\n",
    "    Y_train, Y_test           = Y[train_index][:,0], Y[test_index][:,0]\n",
    "    Y_train_name, Y_test_name = Y[train_index][:,1], Y[test_index][:,1]\n",
    "\n",
    "    classifier.fit(X_train, Y_train)\n",
    "\n",
    "SCORES = [classifier.predict_proba(X_test)[:,1]]\n",
    "LABELS = [Y[test_index][:,0]]"
   ]
  },
  {
   "cell_type": "code",
   "execution_count": 249,
   "metadata": {
    "collapsed": false
   },
   "outputs": [
    {
     "name": "stdout",
     "output_type": "stream",
     "text": [
      "Pattern of Life Average Precision: 0.974806061141\n"
     ]
    },
    {
     "data": {
      "image/png": "[encoded data removed]",
      "text/plain": [
       "<matplotlib.figure.Figure at 0x7f5e9d64eb90>"
      ]
     },
     "metadata": {},
     "output_type": "display_data"
    }
   ],
   "source": [
    "renderPRC(SCORES, LABELS, \"Bipolar\", [\"Pattern of Life\"])"
   ]
  },
  {
   "cell_type": "code",
   "execution_count": 250,
   "metadata": {
    "collapsed": true
   },
   "outputs": [
    {
     "data": {
      "text/plain": [
       "['models/bipolar_forest/bipolar_forest_long_term',\n",
       " 'models/bipolar_forest/bipolar_forest_long_term_01.npy',\n",
       " 'models/bipolar_forest/bipolar_forest_long_term_02.npy',\n",
       " 'models/bipolar_forest/bipolar_forest_long_term_03.npy',\n",
       " 'models/bipolar_forest/bipolar_forest_long_term_04.npy',\n",
       " 'models/bipolar_forest/bipolar_forest_long_term_05.npy',\n",
       " 'models/bipolar_forest/bipolar_forest_long_term_06.npy',\n",
       " 'models/bipolar_forest/bipolar_forest_long_term_07.npy',\n",
       " 'models/bipolar_forest/bipolar_forest_long_term_08.npy',\n",
       " 'models/bipolar_forest/bipolar_forest_long_term_09.npy',\n",
       " 'models/bipolar_forest/bipolar_forest_long_term_10.npy',\n",
       " 'models/bipolar_forest/bipolar_forest_long_term_11.npy',\n",
       " 'models/bipolar_forest/bipolar_forest_long_term_12.npy',\n",
       " 'models/bipolar_forest/bipolar_forest_long_term_13.npy',\n",
       " 'models/bipolar_forest/bipolar_forest_long_term_14.npy',\n",
       " 'models/bipolar_forest/bipolar_forest_long_term_15.npy',\n",
       " 'models/bipolar_forest/bipolar_forest_long_term_16.npy',\n",
       " 'models/bipolar_forest/bipolar_forest_long_term_17.npy',\n",
       " 'models/bipolar_forest/bipolar_forest_long_term_18.npy',\n",
       " 'models/bipolar_forest/bipolar_forest_long_term_19.npy',\n",
       " 'models/bipolar_forest/bipolar_forest_long_term_20.npy',\n",
       " 'models/bipolar_forest/bipolar_forest_long_term_21.npy',\n",
       " 'models/bipolar_forest/bipolar_forest_long_term_22.npy',\n",
       " 'models/bipolar_forest/bipolar_forest_long_term_23.npy',\n",
       " 'models/bipolar_forest/bipolar_forest_long_term_24.npy',\n",
       " 'models/bipolar_forest/bipolar_forest_long_term_25.npy',\n",
       " 'models/bipolar_forest/bipolar_forest_long_term_26.npy',\n",
       " 'models/bipolar_forest/bipolar_forest_long_term_27.npy',\n",
       " 'models/bipolar_forest/bipolar_forest_long_term_28.npy',\n",
       " 'models/bipolar_forest/bipolar_forest_long_term_29.npy',\n",
       " 'models/bipolar_forest/bipolar_forest_long_term_30.npy',\n",
       " 'models/bipolar_forest/bipolar_forest_long_term_31.npy',\n",
       " 'models/bipolar_forest/bipolar_forest_long_term_32.npy',\n",
       " 'models/bipolar_forest/bipolar_forest_long_term_33.npy',\n",
       " 'models/bipolar_forest/bipolar_forest_long_term_34.npy',\n",
       " 'models/bipolar_forest/bipolar_forest_long_term_35.npy',\n",
       " 'models/bipolar_forest/bipolar_forest_long_term_36.npy',\n",
       " 'models/bipolar_forest/bipolar_forest_long_term_37.npy',\n",
       " 'models/bipolar_forest/bipolar_forest_long_term_38.npy',\n",
       " 'models/bipolar_forest/bipolar_forest_long_term_39.npy',\n",
       " 'models/bipolar_forest/bipolar_forest_long_term_40.npy',\n",
       " 'models/bipolar_forest/bipolar_forest_long_term_41.npy',\n",
       " 'models/bipolar_forest/bipolar_forest_long_term_42.npy',\n",
       " 'models/bipolar_forest/bipolar_forest_long_term_43.npy',\n",
       " 'models/bipolar_forest/bipolar_forest_long_term_44.npy',\n",
       " 'models/bipolar_forest/bipolar_forest_long_term_45.npy',\n",
       " 'models/bipolar_forest/bipolar_forest_long_term_46.npy',\n",
       " 'models/bipolar_forest/bipolar_forest_long_term_47.npy',\n",
       " 'models/bipolar_forest/bipolar_forest_long_term_48.npy',\n",
       " 'models/bipolar_forest/bipolar_forest_long_term_49.npy',\n",
       " 'models/bipolar_forest/bipolar_forest_long_term_50.npy',\n",
       " 'models/bipolar_forest/bipolar_forest_long_term_51.npy',\n",
       " 'models/bipolar_forest/bipolar_forest_long_term_52.npy',\n",
       " 'models/bipolar_forest/bipolar_forest_long_term_53.npy',\n",
       " 'models/bipolar_forest/bipolar_forest_long_term_54.npy',\n",
       " 'models/bipolar_forest/bipolar_forest_long_term_55.npy',\n",
       " 'models/bipolar_forest/bipolar_forest_long_term_56.npy',\n",
       " 'models/bipolar_forest/bipolar_forest_long_term_57.npy',\n",
       " 'models/bipolar_forest/bipolar_forest_long_term_58.npy',\n",
       " 'models/bipolar_forest/bipolar_forest_long_term_59.npy',\n",
       " 'models/bipolar_forest/bipolar_forest_long_term_60.npy',\n",
       " 'models/bipolar_forest/bipolar_forest_long_term_61.npy',\n",
       " 'models/bipolar_forest/bipolar_forest_long_term_62.npy',\n",
       " 'models/bipolar_forest/bipolar_forest_long_term_63.npy',\n",
       " 'models/bipolar_forest/bipolar_forest_long_term_64.npy',\n",
       " 'models/bipolar_forest/bipolar_forest_long_term_65.npy',\n",
       " 'models/bipolar_forest/bipolar_forest_long_term_66.npy',\n",
       " 'models/bipolar_forest/bipolar_forest_long_term_67.npy',\n",
       " 'models/bipolar_forest/bipolar_forest_long_term_68.npy',\n",
       " 'models/bipolar_forest/bipolar_forest_long_term_69.npy',\n",
       " 'models/bipolar_forest/bipolar_forest_long_term_70.npy',\n",
       " 'models/bipolar_forest/bipolar_forest_long_term_71.npy',\n",
       " 'models/bipolar_forest/bipolar_forest_long_term_72.npy',\n",
       " 'models/bipolar_forest/bipolar_forest_long_term_73.npy',\n",
       " 'models/bipolar_forest/bipolar_forest_long_term_74.npy',\n",
       " 'models/bipolar_forest/bipolar_forest_long_term_75.npy',\n",
       " 'models/bipolar_forest/bipolar_forest_long_term_76.npy',\n",
       " 'models/bipolar_forest/bipolar_forest_long_term_77.npy',\n",
       " 'models/bipolar_forest/bipolar_forest_long_term_78.npy',\n",
       " 'models/bipolar_forest/bipolar_forest_long_term_79.npy',\n",
       " 'models/bipolar_forest/bipolar_forest_long_term_80.npy',\n",
       " 'models/bipolar_forest/bipolar_forest_long_term_81.npy',\n",
       " 'models/bipolar_forest/bipolar_forest_long_term_82.npy',\n",
       " 'models/bipolar_forest/bipolar_forest_long_term_83.npy',\n",
       " 'models/bipolar_forest/bipolar_forest_long_term_84.npy',\n",
       " 'models/bipolar_forest/bipolar_forest_long_term_85.npy',\n",
       " 'models/bipolar_forest/bipolar_forest_long_term_86.npy',\n",
       " 'models/bipolar_forest/bipolar_forest_long_term_87.npy',\n",
       " 'models/bipolar_forest/bipolar_forest_long_term_88.npy',\n",
       " 'models/bipolar_forest/bipolar_forest_long_term_89.npy',\n",
       " 'models/bipolar_forest/bipolar_forest_long_term_90.npy',\n",
       " 'models/bipolar_forest/bipolar_forest_long_term_91.npy',\n",
       " 'models/bipolar_forest/bipolar_forest_long_term_92.npy',\n",
       " 'models/bipolar_forest/bipolar_forest_long_term_93.npy',\n",
       " 'models/bipolar_forest/bipolar_forest_long_term_94.npy',\n",
       " 'models/bipolar_forest/bipolar_forest_long_term_95.npy',\n",
       " 'models/bipolar_forest/bipolar_forest_long_term_96.npy',\n",
       " 'models/bipolar_forest/bipolar_forest_long_term_97.npy',\n",
       " 'models/bipolar_forest/bipolar_forest_long_term_98.npy',\n",
       " 'models/bipolar_forest/bipolar_forest_long_term_99.npy',\n",
       " 'models/bipolar_forest/bipolar_forest_long_term_100.npy',\n",
       " 'models/bipolar_forest/bipolar_forest_long_term_101.npy',\n",
       " 'models/bipolar_forest/bipolar_forest_long_term_102.npy',\n",
       " 'models/bipolar_forest/bipolar_forest_long_term_103.npy',\n",
       " 'models/bipolar_forest/bipolar_forest_long_term_104.npy',\n",
       " 'models/bipolar_forest/bipolar_forest_long_term_105.npy',\n",
       " 'models/bipolar_forest/bipolar_forest_long_term_106.npy',\n",
       " 'models/bipolar_forest/bipolar_forest_long_term_107.npy',\n",
       " 'models/bipolar_forest/bipolar_forest_long_term_108.npy',\n",
       " 'models/bipolar_forest/bipolar_forest_long_term_109.npy',\n",
       " 'models/bipolar_forest/bipolar_forest_long_term_110.npy',\n",
       " 'models/bipolar_forest/bipolar_forest_long_term_111.npy',\n",
       " 'models/bipolar_forest/bipolar_forest_long_term_112.npy',\n",
       " 'models/bipolar_forest/bipolar_forest_long_term_113.npy',\n",
       " 'models/bipolar_forest/bipolar_forest_long_term_114.npy',\n",
       " 'models/bipolar_forest/bipolar_forest_long_term_115.npy',\n",
       " 'models/bipolar_forest/bipolar_forest_long_term_116.npy',\n",
       " 'models/bipolar_forest/bipolar_forest_long_term_117.npy',\n",
       " 'models/bipolar_forest/bipolar_forest_long_term_118.npy',\n",
       " 'models/bipolar_forest/bipolar_forest_long_term_119.npy',\n",
       " 'models/bipolar_forest/bipolar_forest_long_term_120.npy',\n",
       " 'models/bipolar_forest/bipolar_forest_long_term_121.npy',\n",
       " 'models/bipolar_forest/bipolar_forest_long_term_122.npy',\n",
       " 'models/bipolar_forest/bipolar_forest_long_term_123.npy',\n",
       " 'models/bipolar_forest/bipolar_forest_long_term_124.npy',\n",
       " 'models/bipolar_forest/bipolar_forest_long_term_125.npy',\n",
       " 'models/bipolar_forest/bipolar_forest_long_term_126.npy',\n",
       " 'models/bipolar_forest/bipolar_forest_long_term_127.npy',\n",
       " 'models/bipolar_forest/bipolar_forest_long_term_128.npy',\n",
       " 'models/bipolar_forest/bipolar_forest_long_term_129.npy',\n",
       " 'models/bipolar_forest/bipolar_forest_long_term_130.npy',\n",
       " 'models/bipolar_forest/bipolar_forest_long_term_131.npy',\n",
       " 'models/bipolar_forest/bipolar_forest_long_term_132.npy',\n",
       " 'models/bipolar_forest/bipolar_forest_long_term_133.npy',\n",
       " 'models/bipolar_forest/bipolar_forest_long_term_134.npy',\n",
       " 'models/bipolar_forest/bipolar_forest_long_term_135.npy',\n",
       " 'models/bipolar_forest/bipolar_forest_long_term_136.npy',\n",
       " 'models/bipolar_forest/bipolar_forest_long_term_137.npy',\n",
       " 'models/bipolar_forest/bipolar_forest_long_term_138.npy',\n",
       " 'models/bipolar_forest/bipolar_forest_long_term_139.npy',\n",
       " 'models/bipolar_forest/bipolar_forest_long_term_140.npy',\n",
       " 'models/bipolar_forest/bipolar_forest_long_term_141.npy',\n",
       " 'models/bipolar_forest/bipolar_forest_long_term_142.npy',\n",
       " 'models/bipolar_forest/bipolar_forest_long_term_143.npy',\n",
       " 'models/bipolar_forest/bipolar_forest_long_term_144.npy',\n",
       " 'models/bipolar_forest/bipolar_forest_long_term_145.npy',\n",
       " 'models/bipolar_forest/bipolar_forest_long_term_146.npy',\n",
       " 'models/bipolar_forest/bipolar_forest_long_term_147.npy',\n",
       " 'models/bipolar_forest/bipolar_forest_long_term_148.npy',\n",
       " 'models/bipolar_forest/bipolar_forest_long_term_149.npy',\n",
       " 'models/bipolar_forest/bipolar_forest_long_term_150.npy',\n",
       " 'models/bipolar_forest/bipolar_forest_long_term_151.npy',\n",
       " 'models/bipolar_forest/bipolar_forest_long_term_152.npy',\n",
       " 'models/bipolar_forest/bipolar_forest_long_term_153.npy',\n",
       " 'models/bipolar_forest/bipolar_forest_long_term_154.npy',\n",
       " 'models/bipolar_forest/bipolar_forest_long_term_155.npy',\n",
       " 'models/bipolar_forest/bipolar_forest_long_term_156.npy',\n",
       " 'models/bipolar_forest/bipolar_forest_long_term_157.npy',\n",
       " 'models/bipolar_forest/bipolar_forest_long_term_158.npy',\n",
       " 'models/bipolar_forest/bipolar_forest_long_term_159.npy',\n",
       " 'models/bipolar_forest/bipolar_forest_long_term_160.npy',\n",
       " 'models/bipolar_forest/bipolar_forest_long_term_161.npy',\n",
       " 'models/bipolar_forest/bipolar_forest_long_term_162.npy',\n",
       " 'models/bipolar_forest/bipolar_forest_long_term_163.npy',\n",
       " 'models/bipolar_forest/bipolar_forest_long_term_164.npy',\n",
       " 'models/bipolar_forest/bipolar_forest_long_term_165.npy',\n",
       " 'models/bipolar_forest/bipolar_forest_long_term_166.npy',\n",
       " 'models/bipolar_forest/bipolar_forest_long_term_167.npy',\n",
       " 'models/bipolar_forest/bipolar_forest_long_term_168.npy',\n",
       " 'models/bipolar_forest/bipolar_forest_long_term_169.npy',\n",
       " 'models/bipolar_forest/bipolar_forest_long_term_170.npy',\n",
       " 'models/bipolar_forest/bipolar_forest_long_term_171.npy',\n",
       " 'models/bipolar_forest/bipolar_forest_long_term_172.npy',\n",
       " 'models/bipolar_forest/bipolar_forest_long_term_173.npy',\n",
       " 'models/bipolar_forest/bipolar_forest_long_term_174.npy',\n",
       " 'models/bipolar_forest/bipolar_forest_long_term_175.npy',\n",
       " 'models/bipolar_forest/bipolar_forest_long_term_176.npy',\n",
       " 'models/bipolar_forest/bipolar_forest_long_term_177.npy',\n",
       " 'models/bipolar_forest/bipolar_forest_long_term_178.npy',\n",
       " 'models/bipolar_forest/bipolar_forest_long_term_179.npy',\n",
       " 'models/bipolar_forest/bipolar_forest_long_term_180.npy',\n",
       " 'models/bipolar_forest/bipolar_forest_long_term_181.npy',\n",
       " 'models/bipolar_forest/bipolar_forest_long_term_182.npy',\n",
       " 'models/bipolar_forest/bipolar_forest_long_term_183.npy',\n",
       " 'models/bipolar_forest/bipolar_forest_long_term_184.npy',\n",
       " 'models/bipolar_forest/bipolar_forest_long_term_185.npy',\n",
       " 'models/bipolar_forest/bipolar_forest_long_term_186.npy',\n",
       " 'models/bipolar_forest/bipolar_forest_long_term_187.npy',\n",
       " 'models/bipolar_forest/bipolar_forest_long_term_188.npy',\n",
       " 'models/bipolar_forest/bipolar_forest_long_term_189.npy',\n",
       " 'models/bipolar_forest/bipolar_forest_long_term_190.npy',\n",
       " 'models/bipolar_forest/bipolar_forest_long_term_191.npy',\n",
       " 'models/bipolar_forest/bipolar_forest_long_term_192.npy',\n",
       " 'models/bipolar_forest/bipolar_forest_long_term_193.npy',\n",
       " 'models/bipolar_forest/bipolar_forest_long_term_194.npy',\n",
       " 'models/bipolar_forest/bipolar_forest_long_term_195.npy',\n",
       " 'models/bipolar_forest/bipolar_forest_long_term_196.npy',\n",
       " 'models/bipolar_forest/bipolar_forest_long_term_197.npy',\n",
       " 'models/bipolar_forest/bipolar_forest_long_term_198.npy',\n",
       " 'models/bipolar_forest/bipolar_forest_long_term_199.npy',\n",
       " 'models/bipolar_forest/bipolar_forest_long_term_200.npy',\n",
       " 'models/bipolar_forest/bipolar_forest_long_term_201.npy',\n",
       " 'models/bipolar_forest/bipolar_forest_long_term_202.npy',\n",
       " 'models/bipolar_forest/bipolar_forest_long_term_203.npy',\n",
       " 'models/bipolar_forest/bipolar_forest_long_term_204.npy',\n",
       " 'models/bipolar_forest/bipolar_forest_long_term_205.npy',\n",
       " 'models/bipolar_forest/bipolar_forest_long_term_206.npy',\n",
       " 'models/bipolar_forest/bipolar_forest_long_term_207.npy',\n",
       " 'models/bipolar_forest/bipolar_forest_long_term_208.npy',\n",
       " 'models/bipolar_forest/bipolar_forest_long_term_209.npy',\n",
       " 'models/bipolar_forest/bipolar_forest_long_term_210.npy',\n",
       " 'models/bipolar_forest/bipolar_forest_long_term_211.npy',\n",
       " 'models/bipolar_forest/bipolar_forest_long_term_212.npy',\n",
       " 'models/bipolar_forest/bipolar_forest_long_term_213.npy',\n",
       " 'models/bipolar_forest/bipolar_forest_long_term_214.npy',\n",
       " 'models/bipolar_forest/bipolar_forest_long_term_215.npy',\n",
       " 'models/bipolar_forest/bipolar_forest_long_term_216.npy',\n",
       " 'models/bipolar_forest/bipolar_forest_long_term_217.npy',\n",
       " 'models/bipolar_forest/bipolar_forest_long_term_218.npy',\n",
       " 'models/bipolar_forest/bipolar_forest_long_term_219.npy',\n",
       " 'models/bipolar_forest/bipolar_forest_long_term_220.npy',\n",
       " 'models/bipolar_forest/bipolar_forest_long_term_221.npy',\n",
       " 'models/bipolar_forest/bipolar_forest_long_term_222.npy',\n",
       " 'models/bipolar_forest/bipolar_forest_long_term_223.npy',\n",
       " 'models/bipolar_forest/bipolar_forest_long_term_224.npy',\n",
       " 'models/bipolar_forest/bipolar_forest_long_term_225.npy',\n",
       " 'models/bipolar_forest/bipolar_forest_long_term_226.npy',\n",
       " 'models/bipolar_forest/bipolar_forest_long_term_227.npy',\n",
       " 'models/bipolar_forest/bipolar_forest_long_term_228.npy',\n",
       " 'models/bipolar_forest/bipolar_forest_long_term_229.npy',\n",
       " 'models/bipolar_forest/bipolar_forest_long_term_230.npy',\n",
       " 'models/bipolar_forest/bipolar_forest_long_term_231.npy',\n",
       " 'models/bipolar_forest/bipolar_forest_long_term_232.npy',\n",
       " 'models/bipolar_forest/bipolar_forest_long_term_233.npy',\n",
       " 'models/bipolar_forest/bipolar_forest_long_term_234.npy',\n",
       " 'models/bipolar_forest/bipolar_forest_long_term_235.npy',\n",
       " 'models/bipolar_forest/bipolar_forest_long_term_236.npy',\n",
       " 'models/bipolar_forest/bipolar_forest_long_term_237.npy',\n",
       " 'models/bipolar_forest/bipolar_forest_long_term_238.npy',\n",
       " 'models/bipolar_forest/bipolar_forest_long_term_239.npy',\n",
       " 'models/bipolar_forest/bipolar_forest_long_term_240.npy',\n",
       " 'models/bipolar_forest/bipolar_forest_long_term_241.npy',\n",
       " 'models/bipolar_forest/bipolar_forest_long_term_242.npy',\n",
       " 'models/bipolar_forest/bipolar_forest_long_term_243.npy',\n",
       " 'models/bipolar_forest/bipolar_forest_long_term_244.npy',\n",
       " 'models/bipolar_forest/bipolar_forest_long_term_245.npy',\n",
       " 'models/bipolar_forest/bipolar_forest_long_term_246.npy',\n",
       " 'models/bipolar_forest/bipolar_forest_long_term_247.npy',\n",
       " 'models/bipolar_forest/bipolar_forest_long_term_248.npy',\n",
       " 'models/bipolar_forest/bipolar_forest_long_term_249.npy',\n",
       " 'models/bipolar_forest/bipolar_forest_long_term_250.npy',\n",
       " 'models/bipolar_forest/bipolar_forest_long_term_251.npy',\n",
       " 'models/bipolar_forest/bipolar_forest_long_term_252.npy',\n",
       " 'models/bipolar_forest/bipolar_forest_long_term_253.npy',\n",
       " 'models/bipolar_forest/bipolar_forest_long_term_254.npy',\n",
       " 'models/bipolar_forest/bipolar_forest_long_term_255.npy',\n",
       " 'models/bipolar_forest/bipolar_forest_long_term_256.npy',\n",
       " 'models/bipolar_forest/bipolar_forest_long_term_257.npy',\n",
       " 'models/bipolar_forest/bipolar_forest_long_term_258.npy',\n",
       " 'models/bipolar_forest/bipolar_forest_long_term_259.npy',\n",
       " 'models/bipolar_forest/bipolar_forest_long_term_260.npy',\n",
       " 'models/bipolar_forest/bipolar_forest_long_term_261.npy',\n",
       " 'models/bipolar_forest/bipolar_forest_long_term_262.npy',\n",
       " 'models/bipolar_forest/bipolar_forest_long_term_263.npy',\n",
       " 'models/bipolar_forest/bipolar_forest_long_term_264.npy',\n",
       " 'models/bipolar_forest/bipolar_forest_long_term_265.npy',\n",
       " 'models/bipolar_forest/bipolar_forest_long_term_266.npy',\n",
       " 'models/bipolar_forest/bipolar_forest_long_term_267.npy',\n",
       " 'models/bipolar_forest/bipolar_forest_long_term_268.npy',\n",
       " 'models/bipolar_forest/bipolar_forest_long_term_269.npy',\n",
       " 'models/bipolar_forest/bipolar_forest_long_term_270.npy',\n",
       " 'models/bipolar_forest/bipolar_forest_long_term_271.npy',\n",
       " 'models/bipolar_forest/bipolar_forest_long_term_272.npy',\n",
       " 'models/bipolar_forest/bipolar_forest_long_term_273.npy',\n",
       " 'models/bipolar_forest/bipolar_forest_long_term_274.npy',\n",
       " 'models/bipolar_forest/bipolar_forest_long_term_275.npy',\n",
       " 'models/bipolar_forest/bipolar_forest_long_term_276.npy',\n",
       " 'models/bipolar_forest/bipolar_forest_long_term_277.npy',\n",
       " 'models/bipolar_forest/bipolar_forest_long_term_278.npy',\n",
       " 'models/bipolar_forest/bipolar_forest_long_term_279.npy',\n",
       " 'models/bipolar_forest/bipolar_forest_long_term_280.npy',\n",
       " 'models/bipolar_forest/bipolar_forest_long_term_281.npy',\n",
       " 'models/bipolar_forest/bipolar_forest_long_term_282.npy',\n",
       " 'models/bipolar_forest/bipolar_forest_long_term_283.npy',\n",
       " 'models/bipolar_forest/bipolar_forest_long_term_284.npy',\n",
       " 'models/bipolar_forest/bipolar_forest_long_term_285.npy',\n",
       " 'models/bipolar_forest/bipolar_forest_long_term_286.npy',\n",
       " 'models/bipolar_forest/bipolar_forest_long_term_287.npy',\n",
       " 'models/bipolar_forest/bipolar_forest_long_term_288.npy',\n",
       " 'models/bipolar_forest/bipolar_forest_long_term_289.npy',\n",
       " 'models/bipolar_forest/bipolar_forest_long_term_290.npy',\n",
       " 'models/bipolar_forest/bipolar_forest_long_term_291.npy',\n",
       " 'models/bipolar_forest/bipolar_forest_long_term_292.npy',\n",
       " 'models/bipolar_forest/bipolar_forest_long_term_293.npy',\n",
       " 'models/bipolar_forest/bipolar_forest_long_term_294.npy',\n",
       " 'models/bipolar_forest/bipolar_forest_long_term_295.npy',\n",
       " 'models/bipolar_forest/bipolar_forest_long_term_296.npy',\n",
       " 'models/bipolar_forest/bipolar_forest_long_term_297.npy',\n",
       " 'models/bipolar_forest/bipolar_forest_long_term_298.npy',\n",
       " 'models/bipolar_forest/bipolar_forest_long_term_299.npy',\n",
       " 'models/bipolar_forest/bipolar_forest_long_term_300.npy',\n",
       " 'models/bipolar_forest/bipolar_forest_long_term_301.npy',\n",
       " 'models/bipolar_forest/bipolar_forest_long_term_302.npy',\n",
       " 'models/bipolar_forest/bipolar_forest_long_term_303.npy',\n",
       " 'models/bipolar_forest/bipolar_forest_long_term_304.npy',\n",
       " 'models/bipolar_forest/bipolar_forest_long_term_305.npy',\n",
       " 'models/bipolar_forest/bipolar_forest_long_term_306.npy',\n",
       " 'models/bipolar_forest/bipolar_forest_long_term_307.npy',\n",
       " 'models/bipolar_forest/bipolar_forest_long_term_308.npy',\n",
       " 'models/bipolar_forest/bipolar_forest_long_term_309.npy',\n",
       " 'models/bipolar_forest/bipolar_forest_long_term_310.npy',\n",
       " 'models/bipolar_forest/bipolar_forest_long_term_311.npy',\n",
       " 'models/bipolar_forest/bipolar_forest_long_term_312.npy',\n",
       " 'models/bipolar_forest/bipolar_forest_long_term_313.npy',\n",
       " 'models/bipolar_forest/bipolar_forest_long_term_314.npy',\n",
       " 'models/bipolar_forest/bipolar_forest_long_term_315.npy',\n",
       " 'models/bipolar_forest/bipolar_forest_long_term_316.npy',\n",
       " 'models/bipolar_forest/bipolar_forest_long_term_317.npy',\n",
       " 'models/bipolar_forest/bipolar_forest_long_term_318.npy',\n",
       " 'models/bipolar_forest/bipolar_forest_long_term_319.npy',\n",
       " 'models/bipolar_forest/bipolar_forest_long_term_320.npy',\n",
       " 'models/bipolar_forest/bipolar_forest_long_term_321.npy',\n",
       " 'models/bipolar_forest/bipolar_forest_long_term_322.npy',\n",
       " 'models/bipolar_forest/bipolar_forest_long_term_323.npy',\n",
       " 'models/bipolar_forest/bipolar_forest_long_term_324.npy',\n",
       " 'models/bipolar_forest/bipolar_forest_long_term_325.npy',\n",
       " 'models/bipolar_forest/bipolar_forest_long_term_326.npy',\n",
       " 'models/bipolar_forest/bipolar_forest_long_term_327.npy',\n",
       " 'models/bipolar_forest/bipolar_forest_long_term_328.npy',\n",
       " 'models/bipolar_forest/bipolar_forest_long_term_329.npy',\n",
       " 'models/bipolar_forest/bipolar_forest_long_term_330.npy',\n",
       " 'models/bipolar_forest/bipolar_forest_long_term_331.npy',\n",
       " 'models/bipolar_forest/bipolar_forest_long_term_332.npy',\n",
       " 'models/bipolar_forest/bipolar_forest_long_term_333.npy',\n",
       " 'models/bipolar_forest/bipolar_forest_long_term_334.npy',\n",
       " 'models/bipolar_forest/bipolar_forest_long_term_335.npy',\n",
       " 'models/bipolar_forest/bipolar_forest_long_term_336.npy',\n",
       " 'models/bipolar_forest/bipolar_forest_long_term_337.npy',\n",
       " 'models/bipolar_forest/bipolar_forest_long_term_338.npy',\n",
       " 'models/bipolar_forest/bipolar_forest_long_term_339.npy',\n",
       " 'models/bipolar_forest/bipolar_forest_long_term_340.npy',\n",
       " 'models/bipolar_forest/bipolar_forest_long_term_341.npy',\n",
       " 'models/bipolar_forest/bipolar_forest_long_term_342.npy',\n",
       " 'models/bipolar_forest/bipolar_forest_long_term_343.npy',\n",
       " 'models/bipolar_forest/bipolar_forest_long_term_344.npy',\n",
       " 'models/bipolar_forest/bipolar_forest_long_term_345.npy',\n",
       " 'models/bipolar_forest/bipolar_forest_long_term_346.npy',\n",
       " 'models/bipolar_forest/bipolar_forest_long_term_347.npy',\n",
       " 'models/bipolar_forest/bipolar_forest_long_term_348.npy',\n",
       " 'models/bipolar_forest/bipolar_forest_long_term_349.npy',\n",
       " 'models/bipolar_forest/bipolar_forest_long_term_350.npy',\n",
       " 'models/bipolar_forest/bipolar_forest_long_term_351.npy',\n",
       " 'models/bipolar_forest/bipolar_forest_long_term_352.npy',\n",
       " 'models/bipolar_forest/bipolar_forest_long_term_353.npy',\n",
       " 'models/bipolar_forest/bipolar_forest_long_term_354.npy',\n",
       " 'models/bipolar_forest/bipolar_forest_long_term_355.npy',\n",
       " 'models/bipolar_forest/bipolar_forest_long_term_356.npy',\n",
       " 'models/bipolar_forest/bipolar_forest_long_term_357.npy',\n",
       " 'models/bipolar_forest/bipolar_forest_long_term_358.npy',\n",
       " 'models/bipolar_forest/bipolar_forest_long_term_359.npy',\n",
       " 'models/bipolar_forest/bipolar_forest_long_term_360.npy',\n",
       " 'models/bipolar_forest/bipolar_forest_long_term_361.npy',\n",
       " 'models/bipolar_forest/bipolar_forest_long_term_362.npy',\n",
       " 'models/bipolar_forest/bipolar_forest_long_term_363.npy',\n",
       " 'models/bipolar_forest/bipolar_forest_long_term_364.npy',\n",
       " 'models/bipolar_forest/bipolar_forest_long_term_365.npy',\n",
       " 'models/bipolar_forest/bipolar_forest_long_term_366.npy',\n",
       " 'models/bipolar_forest/bipolar_forest_long_term_367.npy',\n",
       " 'models/bipolar_forest/bipolar_forest_long_term_368.npy',\n",
       " 'models/bipolar_forest/bipolar_forest_long_term_369.npy',\n",
       " 'models/bipolar_forest/bipolar_forest_long_term_370.npy',\n",
       " 'models/bipolar_forest/bipolar_forest_long_term_371.npy',\n",
       " 'models/bipolar_forest/bipolar_forest_long_term_372.npy',\n",
       " 'models/bipolar_forest/bipolar_forest_long_term_373.npy',\n",
       " 'models/bipolar_forest/bipolar_forest_long_term_374.npy',\n",
       " 'models/bipolar_forest/bipolar_forest_long_term_375.npy',\n",
       " 'models/bipolar_forest/bipolar_forest_long_term_376.npy',\n",
       " 'models/bipolar_forest/bipolar_forest_long_term_377.npy',\n",
       " 'models/bipolar_forest/bipolar_forest_long_term_378.npy',\n",
       " 'models/bipolar_forest/bipolar_forest_long_term_379.npy',\n",
       " 'models/bipolar_forest/bipolar_forest_long_term_380.npy',\n",
       " 'models/bipolar_forest/bipolar_forest_long_term_381.npy',\n",
       " 'models/bipolar_forest/bipolar_forest_long_term_382.npy',\n",
       " 'models/bipolar_forest/bipolar_forest_long_term_383.npy',\n",
       " 'models/bipolar_forest/bipolar_forest_long_term_384.npy',\n",
       " 'models/bipolar_forest/bipolar_forest_long_term_385.npy',\n",
       " 'models/bipolar_forest/bipolar_forest_long_term_386.npy',\n",
       " 'models/bipolar_forest/bipolar_forest_long_term_387.npy',\n",
       " 'models/bipolar_forest/bipolar_forest_long_term_388.npy',\n",
       " 'models/bipolar_forest/bipolar_forest_long_term_389.npy',\n",
       " 'models/bipolar_forest/bipolar_forest_long_term_390.npy',\n",
       " 'models/bipolar_forest/bipolar_forest_long_term_391.npy',\n",
       " 'models/bipolar_forest/bipolar_forest_long_term_392.npy',\n",
       " 'models/bipolar_forest/bipolar_forest_long_term_393.npy',\n",
       " 'models/bipolar_forest/bipolar_forest_long_term_394.npy',\n",
       " 'models/bipolar_forest/bipolar_forest_long_term_395.npy',\n",
       " 'models/bipolar_forest/bipolar_forest_long_term_396.npy',\n",
       " 'models/bipolar_forest/bipolar_forest_long_term_397.npy',\n",
       " 'models/bipolar_forest/bipolar_forest_long_term_398.npy',\n",
       " 'models/bipolar_forest/bipolar_forest_long_term_399.npy',\n",
       " 'models/bipolar_forest/bipolar_forest_long_term_400.npy',\n",
       " 'models/bipolar_forest/bipolar_forest_long_term_401.npy',\n",
       " 'models/bipolar_forest/bipolar_forest_long_term_402.npy',\n",
       " 'models/bipolar_forest/bipolar_forest_long_term_403.npy',\n",
       " 'models/bipolar_forest/bipolar_forest_long_term_404.npy',\n",
       " 'models/bipolar_forest/bipolar_forest_long_term_405.npy',\n",
       " 'models/bipolar_forest/bipolar_forest_long_term_406.npy',\n",
       " 'models/bipolar_forest/bipolar_forest_long_term_407.npy',\n",
       " 'models/bipolar_forest/bipolar_forest_long_term_408.npy',\n",
       " 'models/bipolar_forest/bipolar_forest_long_term_409.npy',\n",
       " 'models/bipolar_forest/bipolar_forest_long_term_410.npy',\n",
       " 'models/bipolar_forest/bipolar_forest_long_term_411.npy',\n",
       " 'models/bipolar_forest/bipolar_forest_long_term_412.npy',\n",
       " 'models/bipolar_forest/bipolar_forest_long_term_413.npy',\n",
       " 'models/bipolar_forest/bipolar_forest_long_term_414.npy',\n",
       " 'models/bipolar_forest/bipolar_forest_long_term_415.npy',\n",
       " 'models/bipolar_forest/bipolar_forest_long_term_416.npy',\n",
       " 'models/bipolar_forest/bipolar_forest_long_term_417.npy',\n",
       " 'models/bipolar_forest/bipolar_forest_long_term_418.npy',\n",
       " 'models/bipolar_forest/bipolar_forest_long_term_419.npy',\n",
       " 'models/bipolar_forest/bipolar_forest_long_term_420.npy',\n",
       " 'models/bipolar_forest/bipolar_forest_long_term_421.npy',\n",
       " 'models/bipolar_forest/bipolar_forest_long_term_422.npy',\n",
       " 'models/bipolar_forest/bipolar_forest_long_term_423.npy',\n",
       " 'models/bipolar_forest/bipolar_forest_long_term_424.npy',\n",
       " 'models/bipolar_forest/bipolar_forest_long_term_425.npy',\n",
       " 'models/bipolar_forest/bipolar_forest_long_term_426.npy',\n",
       " 'models/bipolar_forest/bipolar_forest_long_term_427.npy',\n",
       " 'models/bipolar_forest/bipolar_forest_long_term_428.npy',\n",
       " 'models/bipolar_forest/bipolar_forest_long_term_429.npy',\n",
       " 'models/bipolar_forest/bipolar_forest_long_term_430.npy',\n",
       " 'models/bipolar_forest/bipolar_forest_long_term_431.npy',\n",
       " 'models/bipolar_forest/bipolar_forest_long_term_432.npy',\n",
       " 'models/bipolar_forest/bipolar_forest_long_term_433.npy',\n",
       " 'models/bipolar_forest/bipolar_forest_long_term_434.npy',\n",
       " 'models/bipolar_forest/bipolar_forest_long_term_435.npy',\n",
       " 'models/bipolar_forest/bipolar_forest_long_term_436.npy',\n",
       " 'models/bipolar_forest/bipolar_forest_long_term_437.npy',\n",
       " 'models/bipolar_forest/bipolar_forest_long_term_438.npy',\n",
       " 'models/bipolar_forest/bipolar_forest_long_term_439.npy',\n",
       " 'models/bipolar_forest/bipolar_forest_long_term_440.npy',\n",
       " 'models/bipolar_forest/bipolar_forest_long_term_441.npy',\n",
       " 'models/bipolar_forest/bipolar_forest_long_term_442.npy',\n",
       " 'models/bipolar_forest/bipolar_forest_long_term_443.npy',\n",
       " 'models/bipolar_forest/bipolar_forest_long_term_444.npy',\n",
       " 'models/bipolar_forest/bipolar_forest_long_term_445.npy',\n",
       " 'models/bipolar_forest/bipolar_forest_long_term_446.npy',\n",
       " 'models/bipolar_forest/bipolar_forest_long_term_447.npy',\n",
       " 'models/bipolar_forest/bipolar_forest_long_term_448.npy',\n",
       " 'models/bipolar_forest/bipolar_forest_long_term_449.npy',\n",
       " 'models/bipolar_forest/bipolar_forest_long_term_450.npy',\n",
       " 'models/bipolar_forest/bipolar_forest_long_term_451.npy',\n",
       " 'models/bipolar_forest/bipolar_forest_long_term_452.npy',\n",
       " 'models/bipolar_forest/bipolar_forest_long_term_453.npy',\n",
       " 'models/bipolar_forest/bipolar_forest_long_term_454.npy',\n",
       " 'models/bipolar_forest/bipolar_forest_long_term_455.npy',\n",
       " 'models/bipolar_forest/bipolar_forest_long_term_456.npy',\n",
       " 'models/bipolar_forest/bipolar_forest_long_term_457.npy',\n",
       " 'models/bipolar_forest/bipolar_forest_long_term_458.npy',\n",
       " 'models/bipolar_forest/bipolar_forest_long_term_459.npy',\n",
       " 'models/bipolar_forest/bipolar_forest_long_term_460.npy',\n",
       " 'models/bipolar_forest/bipolar_forest_long_term_461.npy',\n",
       " 'models/bipolar_forest/bipolar_forest_long_term_462.npy',\n",
       " 'models/bipolar_forest/bipolar_forest_long_term_463.npy',\n",
       " 'models/bipolar_forest/bipolar_forest_long_term_464.npy',\n",
       " 'models/bipolar_forest/bipolar_forest_long_term_465.npy',\n",
       " 'models/bipolar_forest/bipolar_forest_long_term_466.npy',\n",
       " 'models/bipolar_forest/bipolar_forest_long_term_467.npy',\n",
       " 'models/bipolar_forest/bipolar_forest_long_term_468.npy',\n",
       " 'models/bipolar_forest/bipolar_forest_long_term_469.npy',\n",
       " 'models/bipolar_forest/bipolar_forest_long_term_470.npy',\n",
       " 'models/bipolar_forest/bipolar_forest_long_term_471.npy',\n",
       " 'models/bipolar_forest/bipolar_forest_long_term_472.npy',\n",
       " 'models/bipolar_forest/bipolar_forest_long_term_473.npy',\n",
       " 'models/bipolar_forest/bipolar_forest_long_term_474.npy',\n",
       " 'models/bipolar_forest/bipolar_forest_long_term_475.npy',\n",
       " 'models/bipolar_forest/bipolar_forest_long_term_476.npy',\n",
       " 'models/bipolar_forest/bipolar_forest_long_term_477.npy',\n",
       " 'models/bipolar_forest/bipolar_forest_long_term_478.npy',\n",
       " 'models/bipolar_forest/bipolar_forest_long_term_479.npy',\n",
       " 'models/bipolar_forest/bipolar_forest_long_term_480.npy',\n",
       " 'models/bipolar_forest/bipolar_forest_long_term_481.npy',\n",
       " 'models/bipolar_forest/bipolar_forest_long_term_482.npy',\n",
       " 'models/bipolar_forest/bipolar_forest_long_term_483.npy',\n",
       " 'models/bipolar_forest/bipolar_forest_long_term_484.npy',\n",
       " 'models/bipolar_forest/bipolar_forest_long_term_485.npy',\n",
       " 'models/bipolar_forest/bipolar_forest_long_term_486.npy',\n",
       " 'models/bipolar_forest/bipolar_forest_long_term_487.npy',\n",
       " 'models/bipolar_forest/bipolar_forest_long_term_488.npy',\n",
       " 'models/bipolar_forest/bipolar_forest_long_term_489.npy',\n",
       " 'models/bipolar_forest/bipolar_forest_long_term_490.npy',\n",
       " 'models/bipolar_forest/bipolar_forest_long_term_491.npy',\n",
       " 'models/bipolar_forest/bipolar_forest_long_term_492.npy',\n",
       " 'models/bipolar_forest/bipolar_forest_long_term_493.npy',\n",
       " 'models/bipolar_forest/bipolar_forest_long_term_494.npy',\n",
       " 'models/bipolar_forest/bipolar_forest_long_term_495.npy',\n",
       " 'models/bipolar_forest/bipolar_forest_long_term_496.npy',\n",
       " 'models/bipolar_forest/bipolar_forest_long_term_497.npy',\n",
       " 'models/bipolar_forest/bipolar_forest_long_term_498.npy',\n",
       " 'models/bipolar_forest/bipolar_forest_long_term_499.npy',\n",
       " 'models/bipolar_forest/bipolar_forest_long_term_500.npy',\n",
       " 'models/bipolar_forest/bipolar_forest_long_term_501.npy',\n",
       " 'models/bipolar_forest/bipolar_forest_long_term_502.npy',\n",
       " 'models/bipolar_forest/bipolar_forest_long_term_503.npy',\n",
       " 'models/bipolar_forest/bipolar_forest_long_term_504.npy',\n",
       " 'models/bipolar_forest/bipolar_forest_long_term_505.npy',\n",
       " 'models/bipolar_forest/bipolar_forest_long_term_506.npy',\n",
       " 'models/bipolar_forest/bipolar_forest_long_term_507.npy',\n",
       " 'models/bipolar_forest/bipolar_forest_long_term_508.npy',\n",
       " 'models/bipolar_forest/bipolar_forest_long_term_509.npy',\n",
       " 'models/bipolar_forest/bipolar_forest_long_term_510.npy',\n",
       " 'models/bipolar_forest/bipolar_forest_long_term_511.npy',\n",
       " 'models/bipolar_forest/bipolar_forest_long_term_512.npy',\n",
       " 'models/bipolar_forest/bipolar_forest_long_term_513.npy']"
      ]
     },
     "execution_count": 250,
     "metadata": {},
     "output_type": "execute_result"
    }
   ],
   "source": [
    "#joblib.dump(classifier,\"models/bipolar_forest/bipolar_forest_long_term\")"
   ]
  },
  {
   "cell_type": "markdown",
   "metadata": {
    "deletable": true,
    "editable": true
   },
   "source": [
    "## Check the Feature Order"
   ]
  },
  {
   "cell_type": "code",
   "execution_count": 44,
   "metadata": {
    "collapsed": false,
    "deletable": true,
    "editable": true
   },
   "outputs": [
    {
     "name": "stdout",
     "output_type": "stream",
     "text": [
      "0\tnegative_ratio\tPolarity\n",
      "1\tanticipation\tEmotions\n",
      "2\tpositive_combos\tPolarity\n",
      "3\tunique_mentions\tSocial\n",
      "4\tjoy\tEmotions\n",
      "5\tage\tAgeGender\n",
      "6\tpositive_ratio\tPolarity\n",
      "7\ttweets_rate\tSocial\n",
      "8\tflips\tPolarity\n",
      "9\tsadness\tEmotions\n",
      "10\tmention_rate\tSocial\n",
      "11\tdisgust\tEmotions\n",
      "12\tgender\tAgeGender\n",
      "13\tanger\tEmotions\n",
      "14\tsurprise\tEmotions\n",
      "15\tfear\tEmotions\n",
      "16\ttrust\tEmotions\n",
      "17\tfrequent_mentions\tSocial\n",
      "18\tlate_tweets_rate\tSocial\n",
      "19\tnegative_combos\tPolarity\n"
     ]
    }
   ],
   "source": [
    "for cursor, (name,category) in enumerate(pol_groups.getIndex2Feature()):\n",
    "    print '{}\\t{}\\t{}'.format(cursor, name, category)"
   ]
  },
  {
   "cell_type": "markdown",
   "metadata": {
    "deletable": true,
    "editable": true
   },
   "source": [
    "## Check Testing Result"
   ]
  },
  {
   "cell_type": "code",
   "execution_count": 63,
   "metadata": {
    "collapsed": false,
    "deletable": true,
    "editable": true,
    "scrolled": false
   },
   "outputs": [
    {
     "data": {
      "image/png": "[encoded data removed]",
      "text/plain": [
       "<matplotlib.figure.Figure at 0x7f5ec1b8e5d0>"
      ]
     },
     "metadata": {},
     "output_type": "display_data"
    }
   ],
   "source": [
    "bd_testing_list = []\n",
    "for i, lab in enumerate(LABELS):\n",
    "    if lab[0] == 1:\n",
    "        bd_testing_list.append(SCORES[i])\n",
    "plt.plot(sorted(bd_testing_list))\n",
    "plt.show()\n",
    "plt.close()    "
   ]
  },
  {
   "cell_type": "markdown",
   "metadata": {
    "deletable": true,
    "editable": true
   },
   "source": [
    "## Check Training Result"
   ]
  },
  {
   "cell_type": "code",
   "execution_count": 65,
   "metadata": {
    "collapsed": false,
    "deletable": true,
    "editable": true
   },
   "outputs": [
    {
     "data": {
      "image/png": "[encoded data removed]",
      "text/plain": [
       "<matplotlib.figure.Figure at 0x7f5ebeef9590>"
      ]
     },
     "metadata": {},
     "output_type": "display_data"
    }
   ],
   "source": [
    "bd_testing_list = []\n",
    "train_score = classifier.predict_proba(X_train)[0][:,1]\n",
    "for i, lab in enumerate(Y[train_index]):\n",
    "    if lab[0] == 1:\n",
    "        bd_testing_list.append(train_score[i])\n",
    "plt.plot(sorted(bd_testing_list))\n",
    "plt.show()\n",
    "plt.close()   "
   ]
  },
  {
   "cell_type": "markdown",
   "metadata": {
    "deletable": true,
    "editable": true
   },
   "source": [
    "## Check Original BD user Dataset"
   ]
  },
  {
   "cell_type": "code",
   "execution_count": 66,
   "metadata": {
    "collapsed": false,
    "deletable": true,
    "editable": true
   },
   "outputs": [],
   "source": [
    "# proba_list = []\n",
    "# for timeSeries in bd_clean:\n",
    "#     bd_features = getPOLFeature(timeSeries)\n",
    "#     bd_proba = classifier.predict_proba(bd_features)[0][1]\n",
    "#     proba_list.append(bd_proba)\n",
    "    \n",
    "# plt.plot(sorted(proba_list))\n",
    "# plt.show()\n",
    "# plt.close()\n"
   ]
  },
  {
   "cell_type": "code",
   "execution_count": null,
   "metadata": {
    "collapsed": true,
    "deletable": true,
    "editable": true
   },
   "outputs": [],
   "source": []
  }
 ],
 "metadata": {
  "kernelspec": {
   "display_name": "Python 2",
   "language": "python",
   "name": "python2"
  },
  "language_info": {
   "codemirror_mode": {
    "name": "ipython",
    "version": 2
   },
   "file_extension": ".py",
   "mimetype": "text/x-python",
   "name": "python",
   "nbconvert_exporter": "python",
   "pygments_lexer": "ipython2",
   "version": "2.7.12"
  }
 },
 "nbformat": 4,
 "nbformat_minor": 2
}
