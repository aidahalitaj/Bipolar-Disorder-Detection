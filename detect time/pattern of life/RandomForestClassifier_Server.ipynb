{
 "cells": [
  {
   "cell_type": "code",
   "execution_count": 1,
   "metadata": {
    "collapsed": false,
    "deletable": true,
    "editable": true
   },
   "outputs": [],
   "source": [
    "import sys\n",
    "sys.path.append('./library') # age_gender_predictor\n",
    "sys.path.append('../.env/lib/python2.7/site-packages')\n",
    "import os \n",
    "import pickle\n",
    "import age_gender_predictor\n",
    "from collections import defaultdict\n",
    "import re\n",
    "from tabulate import tabulate\n",
    "from datetime import datetime, timedelta\n",
    "import math\n",
    "import numpy as np\n",
    "from scipy.stats import spearmanr\n",
    "import pandas as pd\n",
    "import pytz\n",
    "import json"
   ]
  },
  {
   "cell_type": "code",
   "execution_count": 2,
   "metadata": {
    "collapsed": true,
    "deletable": true,
    "editable": true
   },
   "outputs": [],
   "source": [
    "import sklearn"
   ]
  },
  {
   "cell_type": "markdown",
   "metadata": {
    "deletable": true,
    "editable": true
   },
   "source": [
    "## Load Regular User"
   ]
  },
  {
   "cell_type": "code",
   "execution_count": 3,
   "metadata": {
    "collapsed": true,
    "deletable": true,
    "editable": true
   },
   "outputs": [],
   "source": [
    "def checkFolderFile(folder):\n",
    "    return os.listdir(folder)"
   ]
  },
  {
   "cell_type": "code",
   "execution_count": 4,
   "metadata": {
    "collapsed": false,
    "deletable": true,
    "editable": true
   },
   "outputs": [],
   "source": [
    "regular_clean = []\n",
    "regular_folder = './Regular/'\n",
    "for regular_file in checkFolderFile(regular_folder):\n",
    "    regular_clean.append(pd.read_pickle(regular_folder+regular_file))"
   ]
  },
  {
   "cell_type": "code",
   "execution_count": 5,
   "metadata": {
    "collapsed": false,
    "deletable": true,
    "editable": true
   },
   "outputs": [
    {
     "data": {
      "text/plain": [
       "268"
      ]
     },
     "execution_count": 5,
     "metadata": {},
     "output_type": "execute_result"
    }
   ],
   "source": [
    "len(regular_clean)"
   ]
  },
  {
   "cell_type": "code",
   "execution_count": 6,
   "metadata": {
    "collapsed": true,
    "deletable": true,
    "editable": true
   },
   "outputs": [],
   "source": [
    "long_regular_clean = []\n",
    "regular_folder = './Regular_timeline/'\n",
    "for regular_file in checkFolderFile(regular_folder):\n",
    "    long_regular_clean.append(pd.read_pickle(regular_folder+regular_file))"
   ]
  },
  {
   "cell_type": "code",
   "execution_count": 7,
   "metadata": {
    "collapsed": false,
    "deletable": true,
    "editable": true
   },
   "outputs": [
    {
     "data": {
      "text/plain": [
       "409"
      ]
     },
     "execution_count": 7,
     "metadata": {},
     "output_type": "execute_result"
    }
   ],
   "source": [
    "len(long_regular_clean)"
   ]
  },
  {
   "cell_type": "markdown",
   "metadata": {
    "deletable": true,
    "editable": true
   },
   "source": [
    "## Load Different Time Period"
   ]
  },
  {
   "cell_type": "code",
   "execution_count": 8,
   "metadata": {
    "collapsed": true,
    "deletable": true,
    "editable": true
   },
   "outputs": [],
   "source": [
    "regular_month15,regular_month12, regular_month9,regular_month6, regular_month3, regular_month2 = [], [], [], [], [], []\n",
    "regular_varable = [regular_month15,regular_month12, regular_month9,regular_month6, regular_month3, regular_month2]\n",
    "regular_folder = ['./Regular_15month/','./Regular_12month/','./Regular_9month/','./Regular_6month/','./Regular_3month/','./Regular_2month/']\n",
    "for i, folder in enumerate(regular_folder):\n",
    "    for regular_file in checkFolderFile(folder):\n",
    "        regular_varable[i].append(pd.read_pickle(folder+regular_file))"
   ]
  },
  {
   "cell_type": "code",
   "execution_count": 9,
   "metadata": {
    "collapsed": false,
    "deletable": true,
    "editable": true
   },
   "outputs": [
    {
     "data": {
      "text/plain": [
       "257"
      ]
     },
     "execution_count": 9,
     "metadata": {},
     "output_type": "execute_result"
    }
   ],
   "source": [
    "len(regular_month3)"
   ]
  },
  {
   "cell_type": "markdown",
   "metadata": {
    "deletable": true,
    "editable": true
   },
   "source": [
    "## Load BD"
   ]
  },
  {
   "cell_type": "code",
   "execution_count": 10,
   "metadata": {
    "collapsed": true,
    "deletable": true,
    "editable": true
   },
   "outputs": [],
   "source": [
    "bd_clean = []\n",
    "bd_folder = './Bipolar/bd_shift2week/'\n",
    "for bd_file in checkFolderFile(bd_folder):\n",
    "    bd_clean.append(pd.read_pickle(bd_folder+bd_file))"
   ]
  },
  {
   "cell_type": "code",
   "execution_count": 11,
   "metadata": {
    "collapsed": true,
    "deletable": true,
    "editable": true
   },
   "outputs": [],
   "source": [
    "long_bd_clean = []\n",
    "bd_folder = './Bipolar_timeline/'\n",
    "for bd_file in checkFolderFile(bd_folder):\n",
    "    long_bd_clean.append(pd.read_pickle(bd_folder+bd_file))"
   ]
  },
  {
   "cell_type": "markdown",
   "metadata": {
    "deletable": true,
    "editable": true
   },
   "source": [
    "## Load Different Time Period"
   ]
  },
  {
   "cell_type": "code",
   "execution_count": 12,
   "metadata": {
    "collapsed": false,
    "deletable": true,
    "editable": true
   },
   "outputs": [],
   "source": [
    "bd_month15, bd_month12, bd_month9, bd_month6, bd_month3, bd_month2 = [], [], [], [], [], []\n",
    "bd_varable = [bd_month15, bd_month12, bd_month9, bd_month6, bd_month3, bd_month2]\n",
    "bd_folder = ['./Bipolar_15month/','./Bipolar_12month/','./Bipolar_9month/','./Bipolar_6month/','./Bipolar_3month/','./Bipolar_2month/']\n",
    "for i, folder in enumerate(bd_folder):\n",
    "    for bd_file in checkFolderFile(folder):\n",
    "        bd_varable[i].append(pd.read_pickle(folder+bd_file))\n",
    "        "
   ]
  },
  {
   "cell_type": "code",
   "execution_count": 13,
   "metadata": {
    "collapsed": false,
    "deletable": true,
    "editable": true
   },
   "outputs": [
    {
     "data": {
      "text/plain": [
       "133"
      ]
     },
     "execution_count": 13,
     "metadata": {},
     "output_type": "execute_result"
    }
   ],
   "source": [
    "len(bd_month2)"
   ]
  },
  {
   "cell_type": "markdown",
   "metadata": {
    "deletable": true,
    "editable": true
   },
   "source": [
    "## Load Test Data"
   ]
  },
  {
   "cell_type": "code",
   "execution_count": 14,
   "metadata": {
    "collapsed": true,
    "deletable": true,
    "editable": true
   },
   "outputs": [],
   "source": [
    "def load(folder, col = [ 'name', 'text', 'emotion','emotion_2','ambiguous', 'polarity', 'dt']):\n",
    "    return [pd.read_csv(folder + file_name, delimiter = '\\t', names = col, parse_dates=True) for file_name in os.listdir(folder)]"
   ]
  },
  {
   "cell_type": "code",
   "execution_count": 15,
   "metadata": {
    "collapsed": false,
    "deletable": true,
    "editable": true
   },
   "outputs": [
    {
     "name": "stdout",
     "output_type": "stream",
     "text": [
      "25\n"
     ]
    }
   ],
   "source": [
    "recent_clean = load('recent_bipolar_test/')\n",
    "\n",
    "print(len(recent_clean))"
   ]
  },
  {
   "cell_type": "code",
   "execution_count": 16,
   "metadata": {
    "collapsed": true,
    "deletable": true,
    "editable": true
   },
   "outputs": [],
   "source": [
    "def segmentPeriod(groups, day = 120):\n",
    "    return_groups = []\n",
    "    for timeSeries in groups:\n",
    "#         period_range = timeSeries.index[-1] - timeSeries.index[0]\n",
    "        begin = timeSeries.index[-1] - timedelta(days = day)\n",
    "        return_groups.append(timeSeries[timeSeries.index >= begin])\n",
    "    return return_groups"
   ]
  },
  {
   "cell_type": "code",
   "execution_count": 17,
   "metadata": {
    "collapsed": true,
    "deletable": true,
    "editable": true
   },
   "outputs": [],
   "source": [
    "recent_month4 = segmentPeriod(recent_clean)\n",
    "recent_month3 = segmentPeriod(recent_clean, day = 90)\n",
    "recent_month2 = segmentPeriod(recent_clean, day = 60)"
   ]
  },
  {
   "cell_type": "markdown",
   "metadata": {
    "deletable": true,
    "editable": true
   },
   "source": [
    "## Group together"
   ]
  },
  {
   "cell_type": "code",
   "execution_count": 18,
   "metadata": {
    "collapsed": false,
    "deletable": true,
    "editable": true
   },
   "outputs": [],
   "source": [
    "groups = [ regular_month2, bd_month2, regular_month3, bd_month3, regular_month6, bd_month6,\n",
    "          regular_month9, bd_month9, regular_month12, bd_month12, regular_month15, bd_month15,\n",
    "         recent_month2, recent_month3, recent_month4, recent_clean]\n",
    "group_names = [\"Regular_2\", \"Bipolar_2\", \"Regular_3\", \"Bipolar_3\", \"Regular_6\", \"Bipolar_6\",\n",
    "               \"Regular_9\", \"Bipolar_9\", \"Regular_12\", \"Bipolar_12\", \"Regular_15\", \"Bipolar_15\",\n",
    "              \"Recent2\", \"Recent3\", \"Recent4\", \"Recent4.x\"]"
   ]
  },
  {
   "cell_type": "code",
   "execution_count": 19,
   "metadata": {
    "collapsed": false,
    "deletable": true,
    "editable": true
   },
   "outputs": [
    {
     "name": "stdout",
     "output_type": "stream",
     "text": [
      "Group         Users    Tweets    Average tweets\n",
      "----------  -------  --------  ----------------\n",
      "Regular_2       260     67485               259\n",
      "Bipolar_2       133    136837              1028\n",
      "Regular_3       257     89141               346\n",
      "Bipolar_3       135    226460              1677\n",
      "Regular_6       267    136481               511\n",
      "Bipolar_6       124    353559              2851\n",
      "Regular_9       289    170380               589\n",
      "Bipolar_9       117    481392              4114\n",
      "Regular_12      295    207008               701\n",
      "Bipolar_12      111    586656              5285\n",
      "Regular_15      278    213394               767\n",
      "Bipolar_15      111    692941              6242\n",
      "Recent2          25     34265              1370\n",
      "Recent3          25     49248              1969\n",
      "Recent4          25     65532              2621\n",
      "Recent4.x        25     80694              3227\n"
     ]
    }
   ],
   "source": [
    "#Statistics facts of experimental data\n",
    "\n",
    "headers = [\"Group\",\"Users\", \"Tweets\", \"Average tweets\"]\n",
    "contents = []\n",
    "for i, group in enumerate(groups):\n",
    "    group_name = group_names[i]\n",
    "    tweets_num = sum([timeSeries.shape[0] for timeSeries in group])\n",
    "    users_num = len(group)\n",
    "    average_tweets_num = tweets_num / users_num\n",
    "    contents.append([group_name, users_num, tweets_num, average_tweets_num])\n",
    "    \n",
    "print(tabulate(contents, headers=headers))"
   ]
  },
  {
   "cell_type": "markdown",
   "metadata": {
    "deletable": true,
    "editable": true
   },
   "source": [
    "## Age Gender"
   ]
  },
  {
   "cell_type": "code",
   "execution_count": 20,
   "metadata": {
    "collapsed": true,
    "deletable": true,
    "editable": true
   },
   "outputs": [],
   "source": [
    "#Age and gender Distribution\n",
    "def getAgeGender(group):\n",
    "    features = {\"age\":[],\"gender\":[]}\n",
    "    for timeSeries in group:\n",
    "        \n",
    "        features[\"age\"].append(getAge(timeSeries))\n",
    "        features[\"gender\"].append(getGender(timeSeries))\n",
    "\n",
    "    return features\n",
    "def getAge(timeSeries):\n",
    "    texts = \"\"\n",
    "    for text in timeSeries[\"text\"].values:\n",
    "        texts += text + \"\\n\"\n",
    "    return age_gender_predictor.get_age(texts)\n",
    "\n",
    "def getGender(timeSeries):\n",
    "    texts = \"\"\n",
    "    for text in timeSeries[\"text\"].values:\n",
    "        texts += text + \"\\n\"\n",
    "    return age_gender_predictor.get_gender(texts)"
   ]
  },
  {
   "cell_type": "code",
   "execution_count": 21,
   "metadata": {
    "collapsed": false,
    "deletable": true,
    "editable": true
   },
   "outputs": [
    {
     "name": "stdout",
     "output_type": "stream",
     "text": [
      "Group         Male users    Female users    Average age\n",
      "----------  ------------  --------------  -------------\n",
      "Regular_2       0.503846        0.496154        29.8115\n",
      "Bipolar_2       0.24812         0.75188         24.8592\n",
      "Regular_3       0.478599        0.521401        30.1312\n",
      "Bipolar_3       0.207407        0.792593        24.4102\n",
      "Regular_6       0.453184        0.546816        30.6582\n",
      "Bipolar_6       0.233871        0.766129        24.0319\n",
      "Regular_9       0.477509        0.522491        30.4293\n",
      "Bipolar_9       0.205128        0.794872        24.3903\n",
      "Regular_12      0.471186        0.528814        29.7549\n",
      "Bipolar_12      0.207207        0.792793        24.4096\n",
      "Regular_15      0.467626        0.532374        30.2141\n",
      "Bipolar_15      0.189189        0.810811        24.4064\n",
      "Recent2         0.2             0.8             34.4881\n",
      "Recent3         0.2             0.8             31.9946\n",
      "Recent4         0.16            0.84            31.2205\n",
      "Recent4.x       0.12            0.88            30.4739\n"
     ]
    }
   ],
   "source": [
    "headers = [\"Group\",\"Male users\", \"Female users\", \"Average age\"]\n",
    "contents = []\n",
    "for i, group in enumerate(groups):\n",
    "    group_name = group_names[i]\n",
    "    users_num = float(len(group))\n",
    "    try:\n",
    "        users_gender = [getGender(timeSeries) for timeSeries in group]\n",
    "    except:\n",
    "        print(i)\n",
    "        break\n",
    "    users_age = [getAge(timeSeries) for timeSeries in group]\n",
    "    male_ratio = len([gender for gender in users_gender if gender < 0]) / users_num\n",
    "    female_ratio = 1 - male_ratio\n",
    "    average_age = sum(users_age) / users_num\n",
    "    contents.append([group_name, male_ratio, female_ratio, average_age])\n",
    "print(tabulate(contents, headers=headers))"
   ]
  },
  {
   "cell_type": "markdown",
   "metadata": {
    "deletable": true,
    "editable": true
   },
   "source": [
    "## Social"
   ]
  },
  {
   "cell_type": "code",
   "execution_count": 22,
   "metadata": {
    "collapsed": false,
    "deletable": true,
    "editable": true
   },
   "outputs": [],
   "source": [
    "def getTweetRate(timeSeries):\n",
    "    total_tweets = timeSeries.shape[0]\n",
    "    if total_tweets == 0: return 0.0\n",
    "    delta_time = np.max(timeSeries.index.values) - np.min(timeSeries.index.values)\n",
    "    total_duration = (delta_time).astype('timedelta64[h]') / np.timedelta64(24, 'h')\n",
    "    try:\n",
    "        result = total_tweets / float(total_duration)\n",
    "    except:\n",
    "        result = total_tweets / 1.0\n",
    "    return result\n",
    "\n",
    "def getLateTweetRate(timeSeries):\n",
    "    total_late = 0\n",
    "    for index in timeSeries.index:\n",
    "        if int(index.hour) <6:\n",
    "            total_late += 1\n",
    "    delta_time = np.max(timeSeries.index.values) - np.min(timeSeries.index.values)\n",
    "    total_duration = (delta_time).astype('timedelta64[h]') / np.timedelta64(24, 'h')\n",
    "    try:\n",
    "        result = total_late / float(total_duration)\n",
    "    except:\n",
    "        result = total_late / 1.0\n",
    "    return result\n",
    "\n",
    "def getMentionRate(timeSeries):\n",
    "    total_tweets = timeSeries.shape[0]\n",
    "    total_mentions = np.sum(seriesContains(timeSeries))\n",
    "    return total_mentions / float(total_tweets)\n",
    "\n",
    "def thirdPronuonDetect(words, matcher=re.compile(\"@[a-z]+\")):\n",
    "    for word in words:\n",
    "        if word == \"@\":\n",
    "            continue\n",
    "        elif matcher.search(word):\n",
    "            return True\n",
    "    return False\n",
    "\n",
    "def seriesContains(timeSeries):\n",
    "    match_function = np.vectorize(thirdPronuonDetect)\n",
    "    return match_function(timeSeries[\"text\"].str.lower().str.split().values)\n",
    "\n",
    "\n",
    "def getUniqueMentions(timeSeries):\n",
    "    total_tweets = timeSeries.shape[0]\n",
    "    friends_set = set()\n",
    "    texts = timeSeries[\"text\"].values\n",
    "    for text in texts:\n",
    "        terms = text.strip().split()\n",
    "        for word in terms:\n",
    "            if word[0] == '@' and len(word) > 1:\n",
    "                friends_set.add(word)\n",
    "    return len(friends_set)\n",
    "\n",
    "def getFrequentMentions(timeSeries, lowerbound = 3):\n",
    "    total_tweets = timeSeries.shape[0]\n",
    "    friends_mentions = {}\n",
    "    texts = timeSeries[\"text\"].values\n",
    "    for text in texts:\n",
    "        terms = text.strip().split()\n",
    "        for word in terms:\n",
    "            if word[0] == '@' and len(word) > 1:\n",
    "                friends_mentions[word] = friends_mentions.get(word, 0) +1\n",
    "    frequent_frients = [screen_name for screen_name, mentions in friends_mentions.items() if mentions >= lowerbound]\n",
    "    return len(frequent_frients)\n",
    " \n",
    "\n",
    "def getSocialFeature_group(group):\n",
    "    social_features = {\"tweets_rate\": [],\"mention_rate\": [],\"unique_mentions\": [],\"frequent_mentions\": [], \"late_tweets_rate\": [], \"long_tweets_rate\": []}\n",
    "    for timeSeries in group:\n",
    "        social_features[\"tweets_rate\"].append(getTweetRate(timeSeries))\n",
    "        social_features[\"mention_rate\"].append(getMentionRate(timeSeries))\n",
    "        social_features[\"unique_mentions\"].append(getUniqueMentions(timeSeries))\n",
    "        social_features[\"frequent_mentions\"].append(getFrequentMentions(timeSeries))\n",
    "        social_features[\"late_tweets_rate\"].append(getLateTweetRate(timeSeries))\n",
    "        try:\n",
    "            social_features[\"long_tweets_rate\"].append(total_dict[str(timeSeries['name'][0])])\n",
    "        except:\n",
    "            print('No found in long_term ' + str(timeSeries['name'][0]))\n",
    "            social_features[\"long_tweets_rate\"].append(0.0)\n",
    "    return social_features\n",
    "\n",
    "def getGBSocialFeature_group(group):\n",
    "    social_features = {\"tweets_rate\": [],\"mention_rate\": [],\"unique_mentions\": [],\"frequent_mentions\": []}\n",
    "    for timeSeries in group:\n",
    "        social_features[\"tweets_rate\"].append(getTweetRate(timeSeries))\n",
    "        social_features[\"mention_rate\"].append(getMentionRate(timeSeries))\n",
    "        social_features[\"unique_mentions\"].append(getUniqueMentions(timeSeries))\n",
    "        social_features[\"frequent_mentions\"].append(getFrequentMentions(timeSeries))\n",
    "        \n",
    "    return social_features\n",
    "\n",
    "def getNoLongSocialFeature_group(group):\n",
    "    social_features = {\"tweets_rate\": [],\"mention_rate\": [],\"unique_mentions\": [],\"frequent_mentions\": [], \"late_tweets_rate\": []}\n",
    "    for timeSeries in group:\n",
    "        social_features[\"tweets_rate\"].append(getTweetRate(timeSeries))\n",
    "        social_features[\"mention_rate\"].append(getMentionRate(timeSeries))\n",
    "        social_features[\"unique_mentions\"].append(getUniqueMentions(timeSeries))\n",
    "        social_features[\"frequent_mentions\"].append(getFrequentMentions(timeSeries))\n",
    "        social_features[\"late_tweets_rate\"].append(getLateTweetRate(timeSeries))\n",
    "        \n",
    "    return social_features"
   ]
  },
  {
   "cell_type": "code",
   "execution_count": 23,
   "metadata": {
    "collapsed": false,
    "deletable": true,
    "editable": true
   },
   "outputs": [
    {
     "name": "stdout",
     "output_type": "stream",
     "text": [
      "\n",
      "======Mean Distribution======\n",
      "\n",
      "              tweets_rate    late_tweets_rate    mention_rate    unique_mentions    frequent_mentions\n",
      "----------  -------------  ------------------  --------------  -----------------  -------------------\n",
      "Regular_2         4.49298            0.414508        0.431381            53.6769              11.5\n",
      "Bipolar_2        17.956              4.04942         0.396966           117.489               36.3308\n",
      "Regular_3         3.99729            0.338119        0.421551            71.3307              15.7004\n",
      "Bipolar_3        17.4618             3.85854         0.402067           169.622               54.1556\n",
      "Regular_6         2.85013            0.310132        0.427669            92.4981              20.8989\n",
      "Bipolar_6        15.2578             3.56412         0.409098           267.5                 84.9758\n",
      "Regular_9         2.17571            0.256841        0.421164           103.239               23.8062\n",
      "Bipolar_9        14.7925             3.75256         0.404836           345.222              111.752\n",
      "Regular_12        1.9163             0.22451         0.424944           117.793               27.3559\n",
      "Bipolar_12       14.6311             3.85745         0.401082           406.315              131.207\n",
      "Regular_15        1.70193            0.187753        0.428907           128.104               29.9317\n",
      "Bipolar_15       13.8827             3.63097         0.417657           469.865              151.946\n",
      "Recent2          22.9832             3.33081         0.405381           120.32                36\n",
      "Recent3          21.9972             3.44174         0.408044           157.52                47.76\n",
      "Recent4          21.8804             3.65435         0.409628           196.84                59.84\n",
      "Recent4.x        22.4873             3.87463         0.398697           227.88                70.12\n"
     ]
    }
   ],
   "source": [
    "header = [\"tweets_rate\", \"late_tweets_rate\", \"mention_rate\", \"unique_mentions\", \"frequent_mentions\"]\n",
    "contents = []\n",
    "for i, group in enumerate(groups):\n",
    "   \n",
    "    group_name = group_names[i]\n",
    "    content = [group_name]\n",
    "    tweets_rate = np.mean([getTweetRate(timeSeries) for timeSeries in group])\n",
    "    mention_rate = np.mean([getMentionRate(timeSeries) for timeSeries in group])\n",
    "    unique_mentions = np.mean([getUniqueMentions(timeSeries) for timeSeries in group])\n",
    "    frequent_mention = np.mean([getFrequentMentions(timeSeries) for timeSeries in group]) \n",
    "    late_tweets_rate = np.mean([getLateTweetRate(timeSeries) for timeSeries in group])\n",
    "    content += [tweets_rate, late_tweets_rate, mention_rate, unique_mentions, frequent_mention]\n",
    "    contents.append(content)\n",
    "\n",
    "\n",
    "print(\"\\n======Mean Distribution======\\n\")\n",
    "\n",
    "print(tabulate(contents, headers=header,))"
   ]
  },
  {
   "cell_type": "code",
   "execution_count": 24,
   "metadata": {
    "collapsed": false,
    "deletable": true,
    "editable": true
   },
   "outputs": [],
   "source": [
    "# header = [\"tweets_rate\", \"late_tweets_rate\", \"mention_rate\", \"unique_mentions\", \"frequent_mentions\"]\n",
    "# contents = []\n",
    "# for i, timeSeries in enumerate(regular_clean):\n",
    "# #     content = [i]\n",
    "#     content = [str(timeSeries['name'][0])]\n",
    "#     tweets_rate = getTweetRate(timeSeries)\n",
    "#     mention_rate = getMentionRate(timeSeries)\n",
    "#     unique_mentions = getUniqueMentions(timeSeries)\n",
    "#     frequent_mention = getFrequentMentions(timeSeries)\n",
    "#     late_tweets_rate = getLateTweetRate(timeSeries)\n",
    "#     content += [tweets_rate, late_tweets_rate, mention_rate, unique_mentions, frequent_mention]\n",
    "#     contents.append(content)\n",
    "# print(\"\\n======Mean Distribution======\\n\")\n",
    "# print(tabulate(contents, headers=header,))"
   ]
  },
  {
   "cell_type": "markdown",
   "metadata": {
    "deletable": true,
    "editable": true
   },
   "source": [
    "## Polarity Feature"
   ]
  },
  {
   "cell_type": "code",
   "execution_count": 25,
   "metadata": {
    "collapsed": true,
    "deletable": true,
    "editable": true
   },
   "outputs": [],
   "source": [
    "def getFlipsCount(timeSeries, upperbound=120, lowerbound = 0):\n",
    "    flips = getFlips(timeSeries)\n",
    "    durations = getFlipsDuration(timeSeries, flips)\n",
    "    return np.sum((durations > lowerbound) & (durations < upperbound) )\n",
    "\n",
    "def getFlips(timeSeries, attribute= 'polarity'):\n",
    "    flips = np.zeros(timeSeries.shape[0],dtype=bool)\n",
    "    polarity = timeSeries[attribute].values[:-1]\n",
    "    right_elements = timeSeries[attribute].values[1:]\n",
    "    flips[:-1] = (polarity * right_elements) < 0\n",
    "    return flips\n",
    "\n",
    "def getFlipsDuration(timeSeries, flips):\n",
    "    filtered_timeSeries = timeSeries['dt'][flips].index.values\n",
    "    dt = np.zeros(filtered_timeSeries.shape[0],dtype=float)\n",
    "    dt[:-1] = (filtered_timeSeries[1:] - filtered_timeSeries[:-1]).astype('timedelta64[s]') / np.timedelta64(60, 's')\n",
    "    return dt\n",
    "\n",
    "def getCombosCount(timeSeries, matcher = -1, lowerbound = 2):\n",
    "    combos = comboTracker(timeSeries)\n",
    "    combos_count = sum([hit for element, hit in combos if element == matcher and hit > lowerbound])\n",
    "    return combos_count\n",
    "\n",
    "def getNegativeRatio(timeSeries):\n",
    "    total_tweets = timeSeries.shape[0]\n",
    "    return np.sum(timeSeries[\"polarity\"].values == -1) / float(total_tweets)\n",
    "\n",
    "def getPositiveRatio(timeSeries):\n",
    "    total_tweets = timeSeries.shape[0]\n",
    "    return np.sum(timeSeries[\"polarity\"].values == 1) / float(total_tweets)\n",
    "\n",
    "def getPolarity(group):\n",
    "    polarity = {\"flips\":[],\"negative_combos\":[],\"positive_combos\":[], \"positive_ratio\":[], \"negative_ratio\":[]}\n",
    "    for timeSeries in group:\n",
    "        try:\n",
    "            tweets_length = float(timeSeries.shape[0])\n",
    "        except:\n",
    "            print 'error'\n",
    "            print timeSeries\n",
    "            break\n",
    "        flips_ratio = getFlipsCount(timeSeries) / tweets_length\n",
    "        negative_combos_ratio = getCombosCount(timeSeries,matcher=-1) / tweets_length\n",
    "        positive_combos_ratio = getCombosCount(timeSeries,matcher=1) / tweets_length\n",
    "        positive_ratio = getPositiveRatio(timeSeries)\n",
    "        negative_ratio = getNegativeRatio(timeSeries)\n",
    "        \n",
    "        polarity[\"flips\"].append(flips_ratio)\n",
    "        polarity[\"negative_combos\"].append(negative_combos_ratio)\n",
    "        polarity[\"positive_combos\"].append(positive_combos_ratio)\n",
    "        polarity[\"positive_ratio\"].append(positive_ratio)\n",
    "        polarity[\"negative_ratio\"].append(negative_ratio)\n",
    "        \n",
    "    return polarity\n",
    "\n",
    "def comboTracker(timeSeries, attribute= \"polarity\", lowerbound = 120):\n",
    "    array = timeSeries[attribute]\n",
    "#     the polarity of starter\n",
    "    starter = array[0]\n",
    "    combo = 1\n",
    "    result = []\n",
    "    i = 0 \n",
    "#     begin from second one in the array\n",
    "    for cursor in array[1:]:\n",
    "        i += 1\n",
    "        if starter == cursor and timeSeries[\"dt\"][i-1] < lowerbound:\n",
    "            combo += 1\n",
    "        else:\n",
    "            if combo > 1:\n",
    "                result.append((starter, combo))\n",
    "            starter = cursor\n",
    "            combo = 1\n",
    "    if combo > 1:\n",
    "         result.append((starter, combo))\n",
    "    return result"
   ]
  },
  {
   "cell_type": "code",
   "execution_count": 26,
   "metadata": {
    "collapsed": false,
    "deletable": true,
    "editable": true
   },
   "outputs": [
    {
     "name": "stdout",
     "output_type": "stream",
     "text": [
      "\n",
      "=========\n",
      "\n",
      "Group         Positive Ratio    Negative Ratio    Flip Ratio    Positive Combos    Negative Combos\n",
      "----------  ----------------  ----------------  ------------  -----------------  -----------------\n",
      "Regular_2          0.223811           0.108312    0.00432236         0.0332145          0.00439527\n",
      "Bipolar_2          0.0982161          0.172691    0.00578583         0.00643929         0.0186712\n",
      "Regular_3          0.214817           0.109222    0.00470779         0.030426           0.0031437\n",
      "Bipolar_3          0.097095           0.173152    0.00561589         0.00620796         0.0191976\n",
      "Regular_6          0.223818           0.112794    0.00440139         0.0323001          0.00564947\n",
      "Bipolar_6          0.100064           0.167476    0.00546895         0.00615428         0.0177763\n",
      "Regular_9          0.225617           0.115473    0.00429804         0.0266098          0.00338021\n",
      "Bipolar_9          0.100268           0.16423     0.0052977          0.00738731         0.0164242\n",
      "Regular_12         0.223082           0.115884    0.00395315         0.0244204          0.00350477\n",
      "Bipolar_12         0.102201           0.158393    0.00501916         0.00737208         0.0149025\n",
      "Regular_15         0.22782            0.113329    0.00387771         0.0241795          0.00348126\n",
      "Bipolar_15         0.108368           0.158231    0.00518788         0.00749853         0.014425\n",
      "Recent2            0.108018           0.137524    0.00578015         0.00733498         0.0169787\n",
      "Recent3            0.108847           0.142923    0.00588628         0.00708015         0.0178674\n",
      "Recent4            0.110454           0.142195    0.00561188         0.00757999         0.0158046\n",
      "Recent4.x          0.110408           0.144693    0.00527774         0.00812226         0.0138522\n"
     ]
    }
   ],
   "source": [
    "headers = [\"Group\",\"Positive Ratio\",\"Negative Ratio\", \"Flip Ratio\", \"Positive Combos\", \"Negative Combos\"]\n",
    "contents = []\n",
    "for i, group in enumerate(groups):\n",
    "    group_name = group_names[i]\n",
    "   \n",
    "    positive_ratio_mean = np.mean([getPositiveRatio(timeSeries) for timeSeries in group])\n",
    "    negative_ratio_mean = np.mean([getNegativeRatio(timeSeries) for timeSeries in group])\n",
    "    flips_ratio_mean = np.mean([getFlipsCount(timeSeries) / float(len(timeSeries)) for timeSeries in group])\n",
    "    negative_combos_ratio = np.mean([getCombosCount(timeSeries,matcher=-1) / float(len(timeSeries)) for timeSeries in group])\n",
    "    positive_combos_ratio = np.mean([getCombosCount(timeSeries,matcher=1) / float(len(timeSeries)) for timeSeries in group])\n",
    "    \n",
    "    contents.append([group_name, positive_ratio_mean, negative_ratio_mean, flips_ratio_mean, positive_combos_ratio, negative_combos_ratio])\n",
    "print(\"\\n=========\\n\")\n",
    "print(tabulate(contents, headers=headers))"
   ]
  },
  {
   "cell_type": "code",
   "execution_count": 27,
   "metadata": {
    "collapsed": false,
    "deletable": true,
    "editable": true
   },
   "outputs": [
    {
     "name": "stdout",
     "output_type": "stream",
     "text": [
      "\n",
      "=========\n",
      "\n",
      "Group         Positive Ratio Mean    Positive Ratio STD    Negative Ratio Mean    Negative Ratio STD\n",
      "----------  ---------------------  --------------------  ---------------------  --------------------\n",
      "Regular_2               0.223811              0.158477                0.108312             0.0823516\n",
      "Bipolar_2               0.0982161             0.0590432               0.172691             0.0754925\n",
      "Regular_3               0.214817              0.145268                0.109222             0.0795563\n",
      "Bipolar_3               0.097095              0.0570975               0.173152             0.0747214\n",
      "Regular_6               0.223818              0.144994                0.112794             0.0837599\n",
      "Bipolar_6               0.100064              0.0644627               0.167476             0.0670088\n",
      "Regular_9               0.225617              0.142528                0.115473             0.0817134\n",
      "Bipolar_9               0.100268              0.0555564               0.16423              0.0622692\n",
      "Regular_12              0.223082              0.139612                0.115884             0.0785253\n",
      "Bipolar_12              0.102201              0.0574143               0.158393             0.0584956\n",
      "Regular_15              0.22782               0.142956                0.113329             0.0769045\n",
      "Bipolar_15              0.108368              0.0650868               0.158231             0.0608171\n",
      "Recent2                 0.108018              0.08707                 0.137524             0.0986123\n",
      "Recent3                 0.108847              0.0849048               0.142923             0.0919443\n",
      "Recent4                 0.110454              0.0807759               0.142195             0.084198\n",
      "Recent4.x               0.110408              0.0806621               0.144693             0.0841134\n"
     ]
    }
   ],
   "source": [
    "headers = [\"Group\",\"Positive Ratio Mean\",\"Positive Ratio STD\", \"Negative Ratio Mean\", \"Negative Ratio STD\"]\n",
    "contents = []\n",
    "for i, group in enumerate(groups):\n",
    "    group_name = group_names[i]\n",
    "   \n",
    "    positive_ratios = [getPositiveRatio(timeSeries) for timeSeries in group]\n",
    "    negative_ratios = [getNegativeRatio(timeSeries) for timeSeries in group]\n",
    "    positive_ratio_mean = np.mean(positive_ratios)\n",
    "    negative_ratio_mean = np.mean(negative_ratios)\n",
    "    positive_ratio_std = np.std(positive_ratios)\n",
    "    negative_ratio_std = np.std(negative_ratios)\n",
    "\n",
    "    contents.append([group_name, positive_ratio_mean, positive_ratio_std, negative_ratio_mean, negative_ratio_std])\n",
    "print(\"\\n=========\\n\")\n",
    "print(tabulate(contents, headers=headers))"
   ]
  },
  {
   "cell_type": "markdown",
   "metadata": {
    "deletable": true,
    "editable": true
   },
   "source": [
    "## Emotion"
   ]
  },
  {
   "cell_type": "code",
   "execution_count": 28,
   "metadata": {
    "collapsed": true,
    "deletable": true,
    "editable": true
   },
   "outputs": [],
   "source": [
    "def getUsersEmotions(timeSeries):\n",
    "    non_ambiguous = np.invert(timeSeries[\"ambiguous\"].values)\n",
    "    \n",
    "    filtered_emotions = timeSeries[\"emotion\"][non_ambiguous].values\n",
    "    emotions_count = {\"joy\":0,\"sadness\": 0,\"fear\":0,\\\n",
    "                \"anticipation\": 0, \"anger\":0, \"trust\": 0, \"disgust\": 0 ,\"surprise\" : 0}\n",
    "    if float(filtered_emotions.shape[0]) == 0:\n",
    "        divider = 1.0\n",
    "    else:\n",
    "        divider = float(filtered_emotions.shape[0])\n",
    "    for emotion in emotions_count:\n",
    "        emotions_count[emotion] = np.sum(filtered_emotions == emotion) / divider\n",
    "    return emotions_count\n",
    "\n",
    "def getGroupEmotions(group):\n",
    "    emotions_counts = {\"joy\":[],\"sadness\": [],\"fear\":[],\\\n",
    "                \"anticipation\": [], \"anger\":[], \"trust\": [], \"disgust\": [] ,\"surprise\" : []}\n",
    "    for timeSeries in group:\n",
    "        emotions_count = getUsersEmotions(timeSeries)\n",
    "        for emotion, count in emotions_count.items():\n",
    "            emotions_counts[emotion].append(count)\n",
    "    return emotions_counts\n",
    "\n"
   ]
  },
  {
   "cell_type": "code",
   "execution_count": 29,
   "metadata": {
    "collapsed": false,
    "deletable": true,
    "editable": true
   },
   "outputs": [
    {
     "name": "stdout",
     "output_type": "stream",
     "text": [
      "\n",
      "======Eight Emotional Features======\n",
      "\n",
      "\n",
      "======Distribution======\n",
      "\n",
      "Group       joy     sadness    fear    anticipation    anger    trust    disgust    surprise\n",
      "----------  ------  ---------  ------  --------------  -------  -------  ---------  ----------\n",
      "Regular_2   16.17%  26.27%     6.67%   13.84%          6.98%    15.14%   11.69%     3.25%\n",
      "Bipolar_2   13.73%  28.14%     4.09%   14.27%          13.26%   5.62%    16.5%      4.39%\n",
      "Regular_3   15.99%  26.33%     6.78%   14.04%          7.08%    14.58%   11.92%     3.29%\n",
      "Bipolar_3   13.69%  28.46%     4.21%   14.02%          13.15%   5.39%    16.67%     4.42%\n",
      "Regular_6   16.48%  26.13%     6.88%   13.61%          7.03%    14.9%    11.8%      3.18%\n",
      "Bipolar_6   13.81%  28.0%      4.07%   14.31%          13.21%   5.41%    16.7%      4.51%\n",
      "Regular_9   16.87%  25.81%     6.62%   13.84%          7.14%    14.57%   11.96%     3.19%\n",
      "Bipolar_9   14.15%  27.34%     4.19%   14.38%          13.05%   5.65%    16.65%     4.59%\n",
      "Regular_12  17.09%  25.97%     6.33%   13.76%          7.18%    14.31%   12.02%     3.34%\n",
      "Bipolar_12  14.51%  27.3%      4.22%   14.52%          12.81%   5.64%    16.47%     4.54%\n",
      "Regular_15  17.22%  25.71%     6.66%   14.02%          7.02%    14.08%   11.96%     3.32%\n",
      "Bipolar_15  14.8%   27.07%     4.14%   14.84%          12.57%   5.75%    16.27%     4.57%\n",
      "Recent2     11.3%   5.65%      5.1%    15.44%          9.54%    18.22%   5.45%      29.3%\n",
      "Recent3     10.65%  5.61%      5.31%   16.01%          10.06%   17.39%   5.18%      29.78%\n",
      "Recent4     10.15%  5.47%      5.39%   15.96%          10.35%   17.26%   5.1%       30.33%\n",
      "Recent4.x   10.09%  5.63%      5.56%   15.76%          10.26%   16.9%    5.06%      30.74%\n"
     ]
    }
   ],
   "source": [
    "emotions = [\"joy\",\"sadness\",\"fear\", \"anticipation\", \"anger\", \"trust\", \"disgust\" ,\"surprise\"]\n",
    "\n",
    "headers = [\"Group\"] + emotions\n",
    "contents = []\n",
    "for i, group in enumerate(groups):\n",
    "   \n",
    "    group_name = group_names[i]\n",
    "    content = [group_name]\n",
    "    emotions_counts = getGroupEmotions(group)\n",
    "    for emotion in emotions:\n",
    "        emotion_ratio = \"{}%\".format(round(np.mean(emotions_counts[emotion])*100, 2))\n",
    "        \n",
    "        content.append(emotion_ratio)\n",
    "    contents.append(content)\n",
    "    \n",
    "print(\"\\n======Eight Emotional Features======\\n\")\n",
    "\n",
    "print(\"\\n======Distribution======\\n\")\n",
    "\n",
    "print(tabulate(contents, headers=headers,))\n"
   ]
  },
  {
   "cell_type": "markdown",
   "metadata": {
    "deletable": true,
    "editable": true
   },
   "source": [
    "## Long Term Feature"
   ]
  },
  {
   "cell_type": "code",
   "execution_count": 30,
   "metadata": {
    "collapsed": true,
    "deletable": true,
    "editable": true
   },
   "outputs": [],
   "source": [
    "# 8 weeks sliding windows, move 1 week per time\n",
    "def slideWindows(timeline, start):\n",
    "    \n",
    "    limit = start + timedelta(weeks=8)\n",
    "    \n",
    "    status = False\n",
    "    if timeline.index[-1] < limit: status = True\n",
    "    \n",
    "    new_start = start + timedelta(weeks=1)\n",
    "    \n",
    "    return timeline[timeline.index < limit], new_start, timeline[timeline.index > new_start],status\n",
    "    \n",
    "        \n",
    "def getTimeSeries(timeline):\n",
    "    timeSeries_list = []\n",
    "    start = timeline.index[0]\n",
    "    \n",
    "    while True:\n",
    "        timeSeries, start, timeline, status = slideWindows(timeline, start)\n",
    "        timeSeries_list.append(timeSeries)\n",
    "        if status: break\n",
    "            \n",
    "    return timeSeries_list"
   ]
  },
  {
   "cell_type": "code",
   "execution_count": 31,
   "metadata": {
    "collapsed": false,
    "deletable": true,
    "editable": true,
    "scrolled": false
   },
   "outputs": [],
   "source": [
    "bd_dict = {}\n",
    "regular_dict = {}\n",
    "for i, bd_timeline in enumerate(long_bd_clean):\n",
    "    try:\n",
    "        tweets_rate_array = np.asarray([getTweetRate(timeSeries) for timeSeries in getTimeSeries(bd_timeline)])\n",
    "    except:\n",
    "        tweets_rate_array = np.asarray([0.0, 0.0])\n",
    "    bd_dict[str(bd_timeline['name'][0])] = np.ptp(tweets_rate_array)\n",
    "    \n",
    "for i, regular_timeline in enumerate(long_regular_clean):\n",
    "    try:\n",
    "        tweets_rate_array = np.asarray([getTweetRate(timeSeries) for timeSeries in getTimeSeries(regular_timeline)])\n",
    "    except:\n",
    "        tweets_rate_array = np.asarray([0.0, 0.0])\n",
    "    regular_dict[str(regular_timeline['name'][0])] = np.ptp(tweets_rate_array)\n",
    "\n",
    "total_dict = {}\n",
    "total_dict.update(bd_dict)\n",
    "total_dict.update(regular_dict)\n",
    "del bd_dict\n",
    "del regular_dict"
   ]
  },
  {
   "cell_type": "code",
   "execution_count": 32,
   "metadata": {
    "collapsed": false,
    "deletable": true,
    "editable": true
   },
   "outputs": [
    {
     "data": {
      "text/plain": [
       "574"
      ]
     },
     "execution_count": 32,
     "metadata": {},
     "output_type": "execute_result"
    }
   ],
   "source": [
    "len(total_dict)"
   ]
  },
  {
   "cell_type": "code",
   "execution_count": 33,
   "metadata": {
    "collapsed": false,
    "deletable": true,
    "editable": true
   },
   "outputs": [
    {
     "name": "stdout",
     "output_type": "stream",
     "text": [
      "25\n",
      "599\n"
     ]
    }
   ],
   "source": [
    "recent_dict = {}\n",
    "for i, timeline in enumerate(recent_clean):\n",
    "    try:\n",
    "        tweets_rate_array = np.asarray([getTweetRate(timeSeries) for timeSeries in getTimeSeries(regular_timeline)])\n",
    "    except:\n",
    "        tweets_rate_array = np.asarray([0.0, 0.0])\n",
    "    recent_dict[str(timeline['name'][0])] = np.ptp(tweets_rate_array)\n",
    "    \n",
    "print(len(recent_dict))\n",
    "total_dict.update(recent_dict)\n",
    "print((len(total_dict)))\n",
    "del recent_dict"
   ]
  },
  {
   "cell_type": "markdown",
   "metadata": {
    "deletable": true,
    "editable": true
   },
   "source": [
    "### LIWC"
   ]
  },
  {
   "cell_type": "code",
   "execution_count": 34,
   "metadata": {
    "collapsed": false,
    "deletable": true,
    "editable": true
   },
   "outputs": [],
   "source": [
    "#Functions for LIWC and POL features extraction:\n",
    "def loads_LIWC():\n",
    "    f = open(\"LIWC/categories.json\", 'r')\n",
    "    categories = json.load(f)\n",
    "    f = open(\"LIWC/words.json\", 'r')\n",
    "    words = json.load(f)\n",
    "    patterns_categories = {}\n",
    "    for word, category in words.items():\n",
    "        if word[-1] == '*':\n",
    "            current_dict = patterns_categories\n",
    "            for char in word:\n",
    "                if char == '*':\n",
    "                    #current_dict = category\n",
    "                    pre_dict[word[-2]] = category\n",
    "                    break\n",
    "                \n",
    "                elif char not in current_dict:\n",
    "                    current_dict[char] = {}\n",
    "                pre_dict = current_dict\n",
    "                current_dict = current_dict[char]\n",
    "                \n",
    "    return categories, words, patterns_categories\n",
    "\n",
    "LIWC_categories, LIWC_words, LIWC_patterns_categories = loads_LIWC()\n",
    "\n",
    "def getLIWC_user(timeSeries):\n",
    "    LIWC_counts = {}\n",
    "    features = np.zeros(len(LIWC_categories),dtype=int)\n",
    "    \n",
    "    texts= timeSeries[\"text\"].values\n",
    "    for text in texts:\n",
    "        words = text.strip().split()\n",
    "        for word in words:\n",
    "            category_indices = LIWC_words.get(word,[])\n",
    "            if category_indices == []:\n",
    "                current_dict = LIWC_patterns_categories\n",
    "                for char in word[:-1]:\n",
    "                    current_dict = current_dict.get(char,[])\n",
    "                    if isinstance(current_dict,list):\n",
    "                        category_indices = current_dict                            \n",
    "                        break\n",
    "\n",
    "            for category_index in category_indices:\n",
    "                category_name = LIWC_categories[category_index]\n",
    "                LIWC_counts[category_name] = LIWC_counts.get(category_name,0) + 1\n",
    "\n",
    "    for category_name in LIWC_counts:\n",
    "        LIWC_counts[category_name] /= timeSeries.shape[0]\n",
    "    \n",
    "    return LIWC_counts\n",
    "\n",
    "def getLIWC_group(group):\n",
    "    LIWC_counts = {}\n",
    "    users_num = len(group)\n",
    "    for category in LIWC_categories.values():\n",
    "        LIWC_counts[category] = []\n",
    "    for timeSeries in group:\n",
    "        user_LIWC_count = getLIWC_user(timeSeries)\n",
    "      \n",
    "        for category in LIWC_categories.values():\n",
    "            LIWC_counts[category].append(user_LIWC_count.get(category,0))\n",
    "            \n",
    "    return LIWC_counts"
   ]
  },
  {
   "cell_type": "markdown",
   "metadata": {
    "deletable": true,
    "editable": true
   },
   "source": [
    "## Group Class"
   ]
  },
  {
   "cell_type": "code",
   "execution_count": 35,
   "metadata": {
    "collapsed": false,
    "deletable": true,
    "editable": true
   },
   "outputs": [
    {
     "name": "stderr",
     "output_type": "stream",
     "text": [
      "/home/eric/.local/lib/python2.7/site-packages/sklearn/cross_validation.py:44: DeprecationWarning: This module was deprecated in version 0.18 in favor of the model_selection module into which all the refactored classes and functions are moved. Also note that the interface of the new CV iterators are different from that of this module. This module will be removed in 0.20.\n",
      "  \"This module will be removed in 0.20.\", DeprecationWarning)\n"
     ]
    }
   ],
   "source": [
    "from sklearn.ensemble import RandomForestClassifier\n",
    "from sklearn.feature_extraction.text import TfidfVectorizer\n",
    "from sklearn.cross_validation import StratifiedShuffleSplit\n",
    "from sklearn.metrics import precision_recall_curve\n",
    "from sklearn.metrics import average_precision_score\n",
    "from sklearn.metrics import roc_curve, auc\n",
    "from sklearn.preprocessing import Imputer\n",
    "from sklearn.externals import joblib\n",
    "from sklearn.preprocessing import MinMaxScaler\n",
    "from sklearn.linear_model import SGDClassifier \n",
    "from sklearn.svm import SVC\n",
    "from sklearn.naive_bayes import GaussianNB\n",
    "from sklearn.naive_bayes import MultinomialNB\n",
    "from sklearn import preprocessing\n",
    "\n",
    "import matplotlib.pyplot as plt\n",
    "from matplotlib import rcParams\n",
    "from random import randint\n",
    "from operator import itemgetter \n",
    "import time\n",
    "rcParams['figure.figsize'] = 12, 8"
   ]
  },
  {
   "cell_type": "code",
   "execution_count": 36,
   "metadata": {
    "collapsed": true,
    "deletable": true,
    "editable": true
   },
   "outputs": [],
   "source": [
    "# function to delete url\n",
    "def del_url(line):\n",
    "    return re.sub(r'(\\S*(\\.com).*)|(https?:\\/\\/.*)', \"\", line)"
   ]
  },
  {
   "cell_type": "code",
   "execution_count": 37,
   "metadata": {
    "collapsed": false,
    "deletable": true,
    "editable": true
   },
   "outputs": [],
   "source": [
    "#Wrap group to be object\n",
    "class Group(object):\n",
    "    def __init__(self, group_name, group_data_list):\n",
    "        self.name = group_name\n",
    "        self.timeSerieses_list = group_data_list\n",
    "        \n",
    "    def getName(self):\n",
    "        return self.name\n",
    "    \n",
    "    def getSize(self):\n",
    "        return len(self.timeSerieses_list)\n",
    "    \n",
    "    def getTexts(self, tail_k = \"all\"):\n",
    "        if tail_k == \"all\":\n",
    "            return [\"\\n\".join(map(del_url, timeSeries[\"text\"].values)) for timeSeries in self.timeSerieses_list]\n",
    "        else:\n",
    "            return [\"\\n\".join(map(del_url, timeSeries[\"text\"].tail(tail_k).values)) for timeSeries in self.timeSerieses_list]\n",
    "    \n",
    "    def getGroup(self, tail_k=\"all\"):\n",
    "        if tail_k ==\"all\":\n",
    "#             return [timeSeries for timeSeries in self.timeSerieses_list if str(timeSeries['name'][0]) in total_dict]\n",
    "            \n",
    "            return self.timeSerieses_list\n",
    "        else:\n",
    "            return [timeSeries.tail(tail_k) for timeSeries in self.group]"
   ]
  },
  {
   "cell_type": "code",
   "execution_count": 38,
   "metadata": {
    "collapsed": false,
    "deletable": true,
    "editable": true
   },
   "outputs": [],
   "source": [
    "# bipolar_group = Group(\"Bipolar\", bd_clean)\n",
    "# regular_group = Group(\"Regular\", regular_clean)\n",
    "\n",
    "# long_bipolar_group = Group(\"Long_Bipolar\", long_bd_clean)\n",
    "# long_regular_group = Group(\"Long_Regular\", long_regular_clean)"
   ]
  },
  {
   "cell_type": "code",
   "execution_count": 39,
   "metadata": {
    "collapsed": true,
    "deletable": true,
    "editable": true
   },
   "outputs": [],
   "source": [
    "bipolar2_group = Group(\"Bipolar_2\", bd_month2)\n",
    "regular2_group = Group(\"Regular_2\", regular_month2)\n",
    "\n",
    "bipolar3_group = Group(\"Bipolar_3\", bd_month3)\n",
    "regular3_group = Group(\"Regular_3\", regular_month3)\n",
    "\n",
    "bipolar6_group = Group(\"Bipolar_6\", bd_month6)\n",
    "regular6_group = Group(\"Regular_6\", regular_month6)\n",
    "\n",
    "bipolar9_group = Group(\"Bipolar_9\", bd_month9)\n",
    "regular9_group = Group(\"Regular_9\", regular_month9)\n",
    "\n",
    "bipolar12_group = Group(\"Bipolar_12\", bd_month12)\n",
    "regular12_group = Group(\"Regular_12\", regular_month12)\n",
    "\n",
    "bipolar15_group = Group(\"Bipolar_15\", bd_month15)\n",
    "regular15_group = Group(\"Regular_15\", regular_month15)"
   ]
  },
  {
   "cell_type": "code",
   "execution_count": 40,
   "metadata": {
    "collapsed": true,
    "deletable": true,
    "editable": true
   },
   "outputs": [],
   "source": [
    "del bd_month2, regular_month2, bd_month3, regular_month3, bd_month6, regular_month6, bd_month9, regular_month9, bd_month12, regular_month12, bd_month15, regular_month15"
   ]
  },
  {
   "cell_type": "code",
   "execution_count": 41,
   "metadata": {
    "collapsed": true,
    "deletable": true,
    "editable": true
   },
   "outputs": [],
   "source": [
    "recent_group5 = Group(\"Recent_5\", recent_clean)\n",
    "recent_group4 = Group(\"Recent_4\", recent_month4)\n",
    "recent_group3 = Group(\"Recent_3\", recent_month3)\n",
    "recent_group2 = Group(\"Recent_2\", recent_month2)"
   ]
  },
  {
   "cell_type": "code",
   "execution_count": 42,
   "metadata": {
    "collapsed": false,
    "deletable": true,
    "editable": true
   },
   "outputs": [],
   "source": [
    "def getCategories(group):\n",
    "    '''\n",
    "    Input  : the group (Class) of user\n",
    "    Output : Dictionary of feature name and feature's group pairs\n",
    "\n",
    "    e.g.\n",
    "    'tweets_rate': 'GBSocial'\n",
    "    'unique_mentions': 'GBSocial'\n",
    "    '''\n",
    "    name2category = {}\n",
    "    names = [\"Emotions\", \"Polarity\", \"AgeGender\", \"LIWC\",\n",
    "             \"LongSocial\", \"lateSocial\", \"GBSocial\"]\n",
    "    methods = [getGroupEmotions, getPolarity, getAgeGender, getLIWC_group, \n",
    "               getSocialFeature_group,  getNoLongSocialFeature_group, getGBSocialFeature_group]\n",
    "    for i, method in enumerate(methods):\n",
    "        if method == getLIWC_group:\n",
    "            feature = {\"LIWC_\"+key: value for key, value in method(group.getGroup()).items()}\n",
    "        else:\n",
    "            feature = method(group.getGroup())\n",
    "        for key in feature:\n",
    "            name2category[key] = names[i]\n",
    "    return name2category\n",
    "\n",
    "def getAllFeature(group, tail_k = \"all\"):\n",
    "    feature_set = {}\n",
    "    methods = [getGroupEmotions, getPolarity, getAgeGender, getLIWC_group, \n",
    "               getSocialFeature_group,  getNoLongSocialFeature_group, getGBSocialFeature_group]\n",
    "    for method in methods:\n",
    "        if method == getLIWC_group:\n",
    "            LIWC_feature_set = {\"LIWC_\"+key: value for key, value in method(group.getGroup(tail_k)).items()}\n",
    "            feature_set.update(LIWC_feature_set)\n",
    "        else:\n",
    "            feature_set.update(method(group.getGroup()))\n",
    "    return feature_set"
   ]
  },
  {
   "cell_type": "markdown",
   "metadata": {
    "deletable": true,
    "editable": true
   },
   "source": [
    "## Classifier"
   ]
  },
  {
   "cell_type": "markdown",
   "metadata": {
    "deletable": true,
    "editable": true
   },
   "source": [
    "### The TF-IDF models are trained in the following class"
   ]
  },
  {
   "cell_type": "code",
   "execution_count": 43,
   "metadata": {
    "collapsed": false,
    "deletable": true,
    "editable": true,
    "scrolled": false
   },
   "outputs": [
    {
     "name": "stdout",
     "output_type": "stream",
     "text": [
      "[u'diagnosed bipolar', u'diagnosed', u'bipolar', u'listening', u'long time', u'drugs', u'bitch', u'sad', u'pills', u'want', u'true', u'remind', u'suicide', u'forgot', u'eat', u'dick', u'app', u'oh god', u'asleep', u'doesnt', u'song', u'fucking', u'fucking hate', u'crying', u'shit', u'scared', u'calm', u'honestly', u'didn', u'bought', u'hide', u'finished', u'sleeping', u'mentally', u'woah', u'meds', u'lips', u'panic', u'type', u'christmas', u'switch', u'written', u'don mean', u'cat', u'hahaha', u'disorder', u'feels good', u'cutest', u'try', u'poor']\n",
      "\n",
      "\n",
      "\n",
      "[u'sad', u'mental', u'trust', u'illness', u'sex', u'amp', u'hurts', u'kids', u'taking', u'empty_tweets', u'bipolar disorder', u'strong', u'bed', u'happened', u'told', u'mouth', u'person', u'hide', u'yay', u'therapy', u'barely', u'nose', u'bad', u'aren', u'love', u'write', u'wall', u'kick', u'don like', u'wanna', u'just say', u'sweet', u'scary', u'pretty', u'jesus', u'mental illness', u'finished', u'english', u'parents', u'couple', u'diagnosed', u'bipolar', u'really want', u'hold', u'started', u'brother', u'fake', u'button', u'depression', u'little']\n",
      "\n",
      "\n",
      "\n",
      "[u'depression', u'forgot', u'kissing', u'childhood', u'makes happy', u'slept', u'anxiety', u'calm', u'stand', u'diagnosed', u'upset', u'brain', u'asshole', u'apart', u'simple', u'drink', u'swear', u'light', u'suck', u'written', u'like', u'heaven', u'flip', u'paper', u'fall', u'meds', u'soft', u'forget', u'month', u'animal', u'stop', u'long time', u'stress', u'grow', u'ugh', u'throw', u'piss', u'finger', u'bipolar disorder', u'posting', u'horrible', u'goes', u'buy', u'say hi', u'walk', u'repeat', u'just said', u'random people', u'waiting', u'saying']\n",
      "\n",
      "\n",
      "\n",
      "[u'gonna', u'hands', u'gift', u'don understand', u'stayed', u'didn want', u'feel bad', u'cried', u'soooo', u'christmas', u'eggs', u'thinking', u'hello', u'dreams', u'dis', u'feeling', u'strong', u'bipolar disorder', u'freak', u'told', u'size', u'thursday', u'loud', u'terrible', u'lazy', u'singing', u'bright', u'empty_tweets', u'swear', u'ideas', u'holy shit', u'suicide', u'known', u'slowly', u'exist', u'unless', u'cover', u'knew', u'tweets', u'weed', u'god', u'later', u'stronger', u'sounds like', u'job', u'obvious', u'lies', u'sends', u'fixed', u'pop']\n",
      "\n",
      "\n",
      "\n",
      "[u'bipolar', u'asked', u'set', u'beauty', u'proud', u'slow', u'da', u'anymore', u'animal', u'don need', u'die', u'care', u'stuff', u'red', u'sad', u'rest life', u'internet', u'dying', u'ill', u'worse', u'don remember', u'remembered', u'merry christmas', u'spent', u'tattoo', u'like don', u'laughed', u'wedding', u'lies', u'sex', u'aunt', u'smoke', u'legs', u'fact', u'legit', u'light', u'snow', u'confused', u'disgusting', u'changed', u'french', u'proof', u'need talk', u'turned', u'realize', u'breathe', u'bought', u'ask', u'class', u'mess']\n",
      "\n",
      "\n",
      "\n",
      "[u'tears', u'hug', u'nose', u'need sleep', u'form', u'snow', u'don wear', u'messed', u'asked', u'chest', u'notice', u'depressed', u'deserves', u'don remember', u'rush', u'babe', u'taught', u'just love', u'push', u'just say', u'wear', u'make sense', u'club', u'don understand', u'therapy', u'dogs', u'maybe ll', u'texting', u'tweeting', u'fake', u'rough', u'buy', u'empty_tweets', u'meant', u'came', u'male', u'll just', u'leaving', u'searching', u'word', u'mentally', u'easier', u'story', u'feeling', u'cheap', u'boyfriend', u'just know', u'joking', u'don tell', u'walls']\n"
     ]
    }
   ],
   "source": [
    "#A TF-IDF class to implement TF-IDF extraction and model training.\n",
    "\n",
    "def XYGenerator(labeled_data):\n",
    "    X, Y = labeled_data[0]\n",
    "    \n",
    "    for x, y in labeled_data[1:]:\n",
    "        try:        \n",
    "            X = np.concatenate((X, x))\n",
    "        except:\n",
    "            X = vstack([X, x])\n",
    "            \n",
    "        Y = np.concatenate((Y, y))\n",
    "    \n",
    "    return X, Y\n",
    "\n",
    "\n",
    "class TextFeatureGroups(object):\n",
    "    def __init__(self, base, groups, model = \"Tf-iDF\"):\n",
    "        self.base = base\n",
    "        self.groups = groups\n",
    "        self.name_to_index = {group.getName(): index for index, group in enumerate(groups)}\n",
    "       \n",
    "        base_texts = base.getTexts()\n",
    "        self.text_models = []\n",
    "        self.classifiers = []\n",
    "        for group in groups:\n",
    "            group_texts = group.getTexts()\n",
    "            total_texts = base_texts  + group_texts\n",
    "            text_model = TfidfVectorizer(stop_words=\"english\", ngram_range = (1,2))\n",
    "            text_model.fit(total_texts)    \n",
    "            X = text_model.fit_transform(total_texts)  \n",
    "            Y = np.array([0] * base.getSize() + [1]*group.getSize(), dtype=int)\n",
    "            classifier  = RandomForestClassifier(n_jobs=-1, max_features=\"sqrt\", n_estimators=128)\n",
    "            classifier.fit(X,Y)\n",
    "            self.classifiers.append(classifier)\n",
    "            self.text_models.append(text_model)\n",
    "    \n",
    "    def getTopFeatures(self, name, k=50):\n",
    "        index = self.name_to_index[name]\n",
    "        text_model = self.text_models[index]\n",
    "        classifier = self.classifiers[index]\n",
    "        feature_indicies = np.argsort(classifier.feature_importances_)\n",
    "        vector2word = text_model.get_feature_names()\n",
    "        top_words = []\n",
    "        for i in range(k):\n",
    "            vector = feature_indicies[-i-1]\n",
    "            word = vector2word[vector]\n",
    "            top_words.append(word)\n",
    "        return top_words\n",
    "    \n",
    "\n",
    "    def getGroup(self,name):\n",
    "        index = self.name_to_index[name]\n",
    "        return self.groups[index]\n",
    "            \n",
    "    def classify(self,name, group):\n",
    "        index = self.name_to_index[name]\n",
    "        classifier = self.classifiers[index]\n",
    "        text_model = self.text_models[index]\n",
    "        X = text_model.transform(group.getTexts())\n",
    "        return classifier.predict(X) \n",
    "    \n",
    "    def getPrecision(self,name, tail_k=\"all\", classifier = \"default\", n_fold=10):\n",
    "        index = self.name_to_index[name]\n",
    "        group = self.groups[index]\n",
    "        if classifier == \"default\":\n",
    "            classifier = RandomForestClassifier(n_jobs=-1, max_features=\"sqrt\", n_estimators=128)\n",
    "        #classifier = SVC(probability=True)\n",
    "        #X = self.text_models[index].transform(self.base.getTexts(tail_k)+group.getTexts(tail_k))\n",
    "        text_model = self.text_models[index]\n",
    "        raw_X = self.base.group + group.group\n",
    "        Y =  np.array([0] * self.base.getSize() + [1] * group.getSize())\n",
    "        precisions = []\n",
    "        \n",
    "        complete_X = text_model.transform(self.base.getTexts()+group.getTexts())\n",
    "        tailed_X =  text_model.transform(self.base.getTexts(tail_k)+group.getTexts(tail_k))\n",
    "        \n",
    "        sss = StratifiedShuffleSplit(Y, n_fold, random_state=randint(0,65536) )\n",
    "\n",
    "        for train_index, test_index in sss:\n",
    "            \n",
    "            X_train, X_test = complete_X[train_index], tailed_X[test_index]\n",
    "            Y_train, Y_test = Y[train_index], Y[test_index]\n",
    "            classifier.fit(X_train, Y_train)\n",
    "            score = classifier.score(X_test,Y_test)\n",
    "            precisions.append(score)\n",
    "\n",
    "        return np.mean(precisions)\n",
    "        \n",
    "    \n",
    "    def getLabelsScores(self, name, classifier, n_fold, consider_time = \"short\"):\n",
    "        index = self.name_to_index[name]\n",
    "        group = self.groups[index]\n",
    "\n",
    "        SCORES = np.array([])\n",
    "        LABELS = np.array([])\n",
    "\n",
    "        \n",
    "#         Based may change by situation\n",
    "        if consider_time == \"short\":\n",
    "            X = self.text_models[index].transform(self.base.getTexts()+group.getTexts())\n",
    "            Y =  np.array([0] * self.base.getSize() + [1] * group.getSize())  \n",
    "        elif consider_time == \"long\":\n",
    "            X = self.text_models[index].transform(self.groups[0].getTexts()+group.getTexts())\n",
    "            Y =  np.array([0] * self.groups[0].getSize() + [1] * group.getSize())  \n",
    "        else:\n",
    "            X = self.text_models[index].transform(self.groups[self.name_to_index[\"Regular_\" + str(consider_time)]].getTexts()+group.getTexts())\n",
    "            Y =  np.array([0] * self.groups[self.name_to_index[\"Regular_\" + str(consider_time)]].getSize() + [1] * group.getSize())  \n",
    "\n",
    "        sss = StratifiedShuffleSplit(Y, n_fold, random_state=randint(0,65536) )\n",
    "\n",
    "        for train_index, test_index in sss:\n",
    "            X_train, X_test = X[train_index], X[test_index]\n",
    "            Y_train, Y_test = Y[train_index], Y[test_index]\n",
    "\n",
    "            classifier.fit(X_train, Y_train)\n",
    "            score = classifier.predict_proba(X_test)[:,1]\n",
    "            SCORES = np.concatenate((SCORES, score))\n",
    "            LABELS = np.concatenate((LABELS, Y_test))\n",
    "\n",
    "        return SCORES, LABELS, (X_train, X_test,Y_train, Y_test)\n",
    "        \n",
    "    def renderPrecisionRecall(self, colors=['r','g','b',\"y\",\"c\",\"m\",\"#f4b642\",\"#777777\"], n_fold = 10):\n",
    "        classifier = RandomForestClassifier(n_jobs=-1, max_features=\"sqrt\", n_estimators=128)\n",
    "        fig, ax = plt.subplots()\n",
    "        ax.spines['bottom'].set_color('white')\n",
    "        ax.spines['top'].set_color('white') \n",
    "        ax.spines['right'].set_color('white')\n",
    "        ax.spines['left'].set_color('white')\n",
    "        ax.tick_params(axis='x', colors='white')\n",
    "        ax.tick_params(axis='y', colors='white')\n",
    "        ax.title.set_color('white')\n",
    "        ax.yaxis.label.set_color('white')\n",
    "        ax.xaxis.label.set_color('white')\n",
    "        plt.xlim([0.0, 1.0])\n",
    "        plt.ylim([0.0, 1.05])\n",
    "        plt.xlabel('Recall')\n",
    "        plt.ylabel('Precision')\n",
    "        plt.title('Precision Recall Curve')\n",
    "\n",
    "        for g, group in enumerate(self.groups):\n",
    "            SCORES, LABELS,(X_train, X_test,Y_train, Y_test) = self.getLabelsScores(group.getName(), classifier ,n_fold)\n",
    "\n",
    "            precision, recall, _ = precision_recall_curve(LABELS, SCORES, pos_label=1)\n",
    "            average_precision = average_precision_score(LABELS, SCORES)\n",
    "\n",
    "            positive_train = np.count_nonzero(Y_train)\n",
    "            positive_test = np.count_nonzero(Y_test)\n",
    "            normal_train = Y_train.shape[0] - positive_train\n",
    "            normal_test = Y_test.shape[0] - positive_test\n",
    "\n",
    "            print(\"{} Normal and {} {} in Training Data\".format(normal_train,positive_train,group.getName()))\n",
    "            print(\"{} Normal and {} {} in Test Data\\n\".format(normal_test,positive_test,group.getName()))\n",
    "            plt.plot(recall, precision, label=group.getName() , color=colors[g],linewidth=3)\n",
    "\n",
    "        plt.legend(loc=\"lower right\")\n",
    "        plt.show()\n",
    "\n",
    "\n",
    "# Build the TF-IDF class\n",
    "tfidf_groups = TextFeatureGroups(regular2_group, [regular2_group, regular3_group, regular6_group, regular9_group, regular12_group, regular15_group, \n",
    "                                                  bipolar2_group, bipolar3_group, bipolar6_group, bipolar9_group, bipolar12_group, bipolar15_group])\n",
    "\n",
    "# Extract Top 10 keywords by TF-IDF model for Bipolar and BPD\n",
    "print(tfidf_groups.getTopFeatures(\"Bipolar_2\"))\n",
    "print(\"\\n\\n\")\n",
    "print(tfidf_groups.getTopFeatures(\"Bipolar_3\"))\n",
    "print(\"\\n\\n\")\n",
    "print(tfidf_groups.getTopFeatures(\"Bipolar_6\"))\n",
    "print(\"\\n\\n\")\n",
    "print(tfidf_groups.getTopFeatures(\"Bipolar_9\"))\n",
    "print(\"\\n\\n\")\n",
    "print(tfidf_groups.getTopFeatures(\"Bipolar_12\"))\n",
    "print(\"\\n\\n\")\n",
    "print(tfidf_groups.getTopFeatures(\"Bipolar_15\"))"
   ]
  },
  {
   "cell_type": "code",
   "execution_count": 44,
   "metadata": {
    "collapsed": false,
    "deletable": true,
    "editable": true
   },
   "outputs": [],
   "source": [
    "class POLFeaturerGroups(object):\n",
    "    \n",
    "    @staticmethod\n",
    "    def transform(self, ):\n",
    "        features_dict = getAllFeature(group)\n",
    "        \n",
    "    \n",
    "    def __init__(self, base, groups):\n",
    "        feature2categories = getCategories(base)\n",
    "        self.groups = groups\n",
    "        self.base = base\n",
    "        self.categories = set(feature2categories.values())\n",
    "        self.name_to_index = {group.getName(): index for index, group in enumerate(groups)}\n",
    "        self.base_name = base.getName()\n",
    "        self.index2feature = []\n",
    "        base_feature_dict = getAllFeature(base)\n",
    "        self.base_feature = np.zeros((base.getSize(),len(base_feature_dict)), dtype = float)\n",
    "#         \n",
    "        for name, values in base_feature_dict.items():\n",
    "            cursor = len(self.index2feature)\n",
    "            self.base_feature[:,cursor] = values\n",
    "            category = feature2categories[name]\n",
    "            self.index2feature.append((name, category))\n",
    "        \n",
    "        self.features = [self.group2feature(group) for group in groups]\n",
    "#         user_name\n",
    "        self.groups_user_name = []\n",
    "        for group in groups:\n",
    "            group_user_name = []\n",
    "            for timeSeries in group.getGroup():\n",
    "                group_user_name.append(timeSeries['name'][0])\n",
    "            self.groups_user_name.append(group_user_name)\n",
    "        \n",
    "        self.base_user_name = []\n",
    "        for timeSeries in base.getGroup():\n",
    "            self.base_user_name.append(timeSeries['name'][0])\n",
    "            \n",
    "    def addgroup(self, group):\n",
    "        group_user_name = []\n",
    "        for timeSeries in group.getGroup():\n",
    "            group_user_name.append(timeSeries['name'][0])\n",
    "        self.groups_user_name.append(group_user_name)\n",
    "        \n",
    "        self.name_to_index = {group.getName(): len(name_to_index)}\n",
    "        print(group.getName() + ' is added!')\n",
    "        return True\n",
    "        \n",
    "    def group2feature(self, group, tail_k=\"all\", selection = \"all\"):\n",
    "        features_dict = getAllFeature(group, tail_k)\n",
    "        feature = np.zeros((group.getSize(),len(self.index2feature)),dtype=float)\n",
    "        for cursor, (name,category) in enumerate(self.index2feature):\n",
    "            value = features_dict[name]\n",
    "            feature[:,cursor] = value\n",
    "        if selection == \"all\":\n",
    "            return feature\n",
    "        else:\n",
    "            return feature[:,selection]   \n",
    "\n",
    "    def getPrecision(self,name,selection=\"all\",tail_k=\"all\",n_fold=10,classifier = \"forest\"):\n",
    "        complete_X, Y = self.getLabeledData(name, selection)\n",
    "        index = self.name_to_index[name]\n",
    "        group = self.groups[index]\n",
    "        tailed_X = preprocessing.scale(self.group2feature(self.base + group, tail_k=tail_k, selection = selection))\n",
    "        complete_X = preprocessing.scale(complete_X)\n",
    "        \n",
    "        tailed_X[np.isinf(tailed_X)] = 0\n",
    "        tailed_X[np.isnan(tailed_X)] = 0\n",
    "        \n",
    "        precisions = []\n",
    "        if classifier == \"forest\":\n",
    "            classifier = RandomForestClassifier(n_jobs=-1, max_features=\"sqrt\", n_estimators=128)\n",
    "  \n",
    "        sss = StratifiedShuffleSplit(Y, n_fold, test_size = 0.1, random_state=randint(0,65536) )\n",
    "\n",
    "        for train_index, test_index in sss:\n",
    "            X_train, X_test = complete_X[train_index], tailed_X[test_index]\n",
    "            Y_train, Y_test = Y[train_index], Y[test_index]\n",
    "            imputer = Imputer()\n",
    "            classifier.fit(X_train, Y_train)\n",
    "            score = classifier.score(X_test,Y_test)\n",
    "            precisions.append(score)\n",
    "            \n",
    "        return np.mean(precisions)\n",
    "            \n",
    "    def getLabeledData(self,name, selection = \"all\", consider_time = \"short\"):\n",
    "#         print('Get Label Data - Name: {}, Consider Time: {}, Selection: {}'.format(name, consider_time, selection))\n",
    "        if selection is \"all\":\n",
    "            selection = xrange(len(self.index2feature))\n",
    "            \n",
    "        if consider_time == \"short\":        \n",
    "            base_feature = self.base_feature[:,selection]\n",
    "            base_length = base_feature.shape[0]\n",
    "            index = self.name_to_index[name]\n",
    "            feature = self.features[index][:,selection]\n",
    "            X = np.zeros((base_length  + feature.shape[0],len(selection)),dtype=float)\n",
    "            X[0:base_length ,:] = base_feature\n",
    "            X[base_length:,:] = feature\n",
    "    #         Y = np.array([(0,-1)]*base_length + [(1,i) for i,_ in enumerate(self.getGroupUserName())])\n",
    "            Y = np.array([(0,i) for i,_ in enumerate(self.getBaseUserName())] + [(1,i) for i,_ in enumerate(self.getGroupUserName(1))])\n",
    "            return X, Y\n",
    "        elif consider_time == \"long\":\n",
    "            base_index = self.name_to_index[\"Regular_15\"]\n",
    "            base_feature = self.features[base_index][:,selection]\n",
    "            base_length = base_feature.shape[0]\n",
    "            index = self.name_to_index[name]\n",
    "            feature = self.features[index][:,selection]\n",
    "\n",
    "            X = np.zeros((base_length  + feature.shape[0],len(selection)),dtype=float)\n",
    "            X[0:base_length ,:] = base_feature\n",
    "            X[base_length:,:] = feature\n",
    "            Y = np.array([(0,i) for i,_ in enumerate(self.getGroupUserName(base_index))] + [(1,i) for i,_ in enumerate(self.getGroupUserName(index))])\n",
    "            return X, Y\n",
    "        else:\n",
    "            base_index = self.name_to_index[\"Regular_\"+str(consider_time)]\n",
    "            base_feature = self.features[base_index][:,selection]\n",
    "            base_length = base_feature.shape[0]\n",
    "            index = self.name_to_index[name]\n",
    "            feature = self.features[index][:,selection]\n",
    "\n",
    "            X = np.zeros((base_length  + feature.shape[0],len(selection)),dtype=float)\n",
    "            X[0:base_length ,:] = base_feature\n",
    "            X[base_length:,:] = feature\n",
    "            Y = np.array([(0,i) for i,_ in enumerate(self.getGroupUserName(base_index))] + [(1,i) for i,_ in enumerate(self.getGroupUserName(index))])\n",
    "            return X, Y \n",
    "\n",
    "            \n",
    "    def getFeatureImportance_all(self,name):\n",
    "        X, Y = self.getLabeledData(name)\n",
    "        classifier = RandomForestClassifier(n_jobs=-1, max_features=\"sqrt\", n_estimators=128)\n",
    "        classifier.fit(X,Y)\n",
    "        features_indicies = np.argsort(classifier.feature_importances_)\n",
    "        feature_names = [self.index2feature[i] for i in features_indicies ]\n",
    "        return feature_names[::-1]\n",
    "    \n",
    "    def getFeature(self, name, selection=\"all\"):\n",
    "        if selection is \"all\":\n",
    "            selection = list(range(len(self.index2feature)))\n",
    "        index = self.name_to_index[name]\n",
    "        feature =  self.features[index]\n",
    "        return feature[:, selection]\n",
    "    \n",
    "    def classify(self,name, target_name, selection=\"all\"):\n",
    "        X, Y = self.getLabeledData(name, selection)\n",
    "        classifier = RandomForestClassifier(n_jobs=-1, max_features=\"sqrt\", n_estimators=128)\n",
    "        classifier.fit(X,Y)\n",
    "        test_x = self.getFeature(target_name,selection)\n",
    "        return classifier.predict(test_x)\n",
    "       \n",
    "    def getLabelsScores(self, name, classifier, n_fold, selection, consider_time = \"short\"):\n",
    "        SCORES = np.array([])\n",
    "        LABELS = np.zeros(shape=(0,2))\n",
    "        \n",
    "        X, Y = self.getLabeledData(name, selection, consider_time)\n",
    "        sss = StratifiedShuffleSplit(Y[:,0], n_fold, test_size = 0.1, random_state=randint(0,65536) )\n",
    "\n",
    "        for train_index, test_index in sss:\n",
    "            X_train, X_test           = X[train_index], X[test_index]\n",
    "            Y_train, Y_test           = Y[train_index][:,0], Y[test_index][:,0]\n",
    "            Y_train_name, Y_test_name = Y[train_index][:,1], Y[test_index][:,1]\n",
    "\n",
    "            classifier.fit(X_train, Y_train)\n",
    "            score = classifier.predict_proba(X_test)[:,1]\n",
    "            SCORES = np.concatenate((SCORES, score))\n",
    "            LABELS = np.concatenate((LABELS, Y[test_index]))\n",
    "        return SCORES, LABELS, (X_train, X_test,Y_train, Y_test, Y_train_name, Y_test_name)\n",
    "    \n",
    "    def renderPrecisionRecall_all(self, name, colors=['r','g','b',\"y\",\"c\",\"m\",\"#f4b642\",\"#777777\"], n_fold = 100, consider_time = \"short\"):\n",
    "        classifier  = RandomForestClassifier(n_jobs= -1, max_features=\"sqrt\", n_estimators=128)\n",
    "        fig, ax = plt.subplots()\n",
    "        ax.spines['bottom'].set_color('white')\n",
    "        ax.spines['top'].set_color('white') \n",
    "        ax.spines['right'].set_color('white')\n",
    "        ax.spines['left'].set_color('white')\n",
    "        ax.tick_params(axis='x')\n",
    "        ax.tick_params(axis='y')\n",
    "        ax.title.set_color('white')\n",
    "        plt.xlim([0.0, 1.0])\n",
    "        plt.ylim([0.0, 1.05])\n",
    "        plt.xlabel('Recall')\n",
    "        plt.ylabel('Precision')\n",
    "        plt.title('Precision Recall Curve: {}'.format(name))\n",
    "        \n",
    "        categories = list(self.categories) + [\"All\"]\n",
    "        for g,category in enumerate(categories):\n",
    "            if category == \"All\":\n",
    "                selection = range(len(self.index2feature))\n",
    "            else:\n",
    "                selection = [i for i, (feature_name, feature_category) in enumerate(self.index2feature) if category == feature_category]\n",
    "            \n",
    "            SCORES, LABELS, (X_train, X_test,Y_train, Y_test, Y_train_name, Y_test_name) = self.getLabelsScores(name, classifier,n_fold, selection, consider_time)\n",
    "            precision, recall, _ = precision_recall_curve(LABELS[:,0], SCORES, pos_label=1)\n",
    "            average_precision = average_precision_score(LABELS[:,0], SCORES)\n",
    "            positive_train = np.count_nonzero(Y_train)\n",
    "            positive_test = np.count_nonzero(Y_test)\n",
    "            normal_train = Y_train.shape[0] - positive_train\n",
    "            normal_test = Y_test.shape[0] - positive_test\n",
    "           \n",
    "            plt.plot(recall, precision, label=category , color=colors[g],linewidth=2)\n",
    "            \n",
    "        print(\"{} Normal and {} {} in Training Data\".format(normal_train,positive_train,name))\n",
    "        print(\"{} Normal and {} {} in Test Data\\n\".format(normal_test,positive_test,name))\n",
    "        plt.legend(loc=\"lower right\")\n",
    "        plt.show()\n",
    "\n",
    "    def getSeperateScores(self, name, classifier, n_fold, selection):\n",
    "        SCORES = np.array([])\n",
    "        LABELS = np.array([])\n",
    "\n",
    "        X, Y = self.getLabeledData(name, selection)\n",
    "\n",
    "        sss = StratifiedShuffleSplit(Y, n_fold, test_size = 0.1, random_state=randint(0,65536) )\n",
    "\n",
    "        for train_index, test_index in sss:\n",
    "\n",
    "            X_train, X_test = X[train_index], X[test_index]\n",
    "            Y_train, Y_test = Y[train_index], Y[test_index]\n",
    "\n",
    "            classifier.fit(X_train, Y_train)\n",
    "            score = classifier.predict_proba(X_test)[:,1]\n",
    "            SCORES = np.concatenate((SCORES, score))\n",
    "            LABELS = np.concatenate((LABELS, Y_test))\n",
    "\n",
    "        return SCORES, LABELS, (X_train, X_test,Y_train, Y_test)\n",
    "    \n",
    "    def getGroupUserName(self,group_num = 0):\n",
    "        return self.groups_user_name[group_num]\n",
    "    \n",
    "    def getIndex2Feature(self):\n",
    "        return self.index2feature\n",
    "    \n",
    "    def getBaseUserName(self):\n",
    "        return self.base_user_name\n",
    "    \n",
    "    def getName2Index(self):\n",
    "        return self.name_to_index"
   ]
  },
  {
   "cell_type": "code",
   "execution_count": 36,
   "metadata": {
    "collapsed": false,
    "deletable": true,
    "editable": true
   },
   "outputs": [],
   "source": [
    "# pol_groups = POLFeaturerGroups(regular_group, [long_regular_group, bipolar_group, long_bipolar_group])"
   ]
  },
  {
   "cell_type": "code",
   "execution_count": 45,
   "metadata": {
    "collapsed": true,
    "deletable": true,
    "editable": true
   },
   "outputs": [
    {
     "name": "stdout",
     "output_type": "stream",
     "text": [
      "No found in long_term 50771326\n",
      "No found in long_term 423932461\n",
      "No found in long_term 2361039959\n",
      "No found in long_term 226849732\n",
      "No found in long_term 341644925\n",
      "No found in long_term 2316052422\n",
      "No found in long_term 424640736\n",
      "No found in long_term 46838244\n",
      "No found in long_term 477388137\n",
      "No found in long_term 1937246714\n",
      "No found in long_term 2905542613\n",
      "No found in long_term 3046722590\n",
      "No found in long_term 327166736\n",
      "No found in long_term 289918462\n",
      "No found in long_term 351640670\n",
      "No found in long_term 2273179067\n",
      "No found in long_term 454023220\n",
      "No found in long_term 2560010215\n",
      "No found in long_term 1012152937\n",
      "No found in long_term 2963451509\n",
      "No found in long_term 50771326\n",
      "No found in long_term 423932461\n",
      "No found in long_term 2361039959\n",
      "No found in long_term 226849732\n",
      "No found in long_term 341644925\n",
      "No found in long_term 2316052422\n",
      "No found in long_term 424640736\n",
      "No found in long_term 46838244\n",
      "No found in long_term 477388137\n",
      "No found in long_term 1937246714\n",
      "No found in long_term 2905542613\n",
      "No found in long_term 3046722590\n",
      "No found in long_term 327166736\n",
      "No found in long_term 289918462\n",
      "No found in long_term 351640670\n",
      "No found in long_term 2273179067\n",
      "No found in long_term 454023220\n",
      "No found in long_term 2560010215\n",
      "No found in long_term 1012152937\n",
      "No found in long_term 2963451509\n",
      "No found in long_term 50771326\n",
      "No found in long_term 423932461\n",
      "No found in long_term 2361039959\n",
      "No found in long_term 226849732\n",
      "No found in long_term 341644925\n",
      "No found in long_term 2316052422\n",
      "No found in long_term 424640736\n",
      "No found in long_term 46838244\n",
      "No found in long_term 477388137\n",
      "No found in long_term 1937246714\n",
      "No found in long_term 2905542613\n",
      "No found in long_term 3046722590\n",
      "No found in long_term 327166736\n",
      "No found in long_term 289918462\n",
      "No found in long_term 351640670\n",
      "No found in long_term 2273179067\n",
      "No found in long_term 454023220\n",
      "No found in long_term 2560010215\n",
      "No found in long_term 1012152937\n",
      "No found in long_term 2963451509\n",
      "No found in long_term 50771326\n",
      "No found in long_term 341644925\n",
      "No found in long_term 327166736\n",
      "No found in long_term 424640736\n",
      "No found in long_term 2316052422\n",
      "No found in long_term 477388137\n",
      "No found in long_term 1012152937\n",
      "No found in long_term 3046722590\n",
      "No found in long_term 1937246714\n",
      "No found in long_term 423932461\n",
      "No found in long_term 454023220\n",
      "No found in long_term 2361039959\n",
      "No found in long_term 2560010215\n",
      "No found in long_term 226849732\n",
      "No found in long_term 2273179067\n",
      "No found in long_term 46838244\n",
      "No found in long_term 289918462\n",
      "No found in long_term 423932461\n",
      "No found in long_term 2480767680\n",
      "No found in long_term 46838244\n",
      "No found in long_term 2560010215\n",
      "No found in long_term 1937246714\n",
      "No found in long_term 50771326\n",
      "No found in long_term 341644925\n",
      "No found in long_term 2361039959\n",
      "No found in long_term 2273179067\n",
      "No found in long_term 327166736\n",
      "No found in long_term 454023220\n",
      "No found in long_term 289918462\n",
      "No found in long_term 2842625248\n",
      "No found in long_term 424640736\n",
      "No found in long_term 2316052422\n",
      "No found in long_term 477388137\n",
      "No found in long_term 1012152937\n",
      "No found in long_term 1937246714\n",
      "No found in long_term 2560010215\n",
      "No found in long_term 351640670\n",
      "No found in long_term 2273179067\n",
      "No found in long_term 477388137\n",
      "No found in long_term 2480767680\n",
      "No found in long_term 423932461\n",
      "No found in long_term 2361039959\n",
      "No found in long_term 1012152937\n",
      "No found in long_term 341644925\n",
      "No found in long_term 50771326\n",
      "No found in long_term 46838244\n",
      "No found in long_term 327166736\n",
      "No found in long_term 424640736\n",
      "No found in long_term 454023220\n",
      "No found in long_term 2316052422\n",
      "No found in long_term 289918462\n",
      "No found in long_term 2361039959\n",
      "No found in long_term 50771326\n",
      "No found in long_term 327166736\n",
      "No found in long_term 351640670\n",
      "No found in long_term 2480767680\n",
      "No found in long_term 479005026\n",
      "No found in long_term 2316052422\n",
      "No found in long_term 1023918170\n",
      "No found in long_term 1937246714\n",
      "No found in long_term 424640736\n",
      "No found in long_term 341644925\n",
      "No found in long_term 1012152937\n",
      "No found in long_term 477388137\n",
      "No found in long_term 2273179067\n",
      "No found in long_term 46838244\n",
      "No found in long_term 954030384\n",
      "No found in long_term 289918462\n",
      "No found in long_term 423932461\n",
      "No found in long_term 351640670\n",
      "No found in long_term 477388137\n",
      "No found in long_term 289918462\n",
      "No found in long_term 479005026\n",
      "No found in long_term 954030384\n",
      "No found in long_term 1023918170\n",
      "No found in long_term 423932461\n",
      "No found in long_term 1937246714\n",
      "No found in long_term 424640736\n",
      "No found in long_term 2273179067\n",
      "No found in long_term 50771326\n",
      "No found in long_term 341644925\n",
      "No found in long_term 2316052422\n",
      "No found in long_term 1012152937\n",
      "No found in long_term cuts4ndsc4rs\n",
      "No found in long_term cuts4ndsc4rs\n"
     ]
    }
   ],
   "source": [
    "pol_groups = POLFeaturerGroups(regular2_group, [regular2_group, regular3_group, regular6_group, regular9_group, regular12_group, regular15_group, \n",
    "                                                  bipolar2_group, bipolar3_group, bipolar6_group, bipolar9_group, bipolar12_group, bipolar15_group])"
   ]
  },
  {
   "cell_type": "code",
   "execution_count": 46,
   "metadata": {
    "collapsed": false,
    "deletable": true,
    "editable": true,
    "scrolled": false
   },
   "outputs": [
    {
     "name": "stdout",
     "output_type": "stream",
     "text": [
      "234 Normal and 119 Bipolar_2 in Training Data\n",
      "26 Normal and 14 Bipolar_2 in Test Data\n",
      "\n"
     ]
    },
    {
     "data": {
      "image/png": "[encoded data removed]",
      "text/plain": [
       "<matplotlib.figure.Figure at 0x7f3bfa5ed810>"
      ]
     },
     "metadata": {},
     "output_type": "display_data"
    },
    {
     "name": "stdout",
     "output_type": "stream",
     "text": [
      "231 Normal and 121 Bipolar_3 in Training Data\n",
      "26 Normal and 14 Bipolar_3 in Test Data\n",
      "\n"
     ]
    },
    {
     "data": {
      "image/png": "[encoded data removed]",
      "text/plain": [
       "<matplotlib.figure.Figure at 0x7f3bcc982c50>"
      ]
     },
     "metadata": {},
     "output_type": "display_data"
    },
    {
     "name": "stdout",
     "output_type": "stream",
     "text": [
      "240 Normal and 111 Bipolar_6 in Training Data\n",
      "27 Normal and 13 Bipolar_6 in Test Data\n",
      "\n"
     ]
    },
    {
     "data": {
      "image/png": "[encoded data removed]",
      "text/plain": [
       "<matplotlib.figure.Figure at 0x7f3bd92f0510>"
      ]
     },
     "metadata": {},
     "output_type": "display_data"
    },
    {
     "name": "stdout",
     "output_type": "stream",
     "text": [
      "260 Normal and 105 Bipolar_9 in Training Data\n",
      "29 Normal and 12 Bipolar_9 in Test Data\n",
      "\n"
     ]
    },
    {
     "data": {
      "image/png": "[encoded data removed]",
      "text/plain": [
       "<matplotlib.figure.Figure at 0x7f3bef6de110>"
      ]
     },
     "metadata": {},
     "output_type": "display_data"
    },
    {
     "name": "stdout",
     "output_type": "stream",
     "text": [
      "265 Normal and 100 Bipolar_12 in Training Data\n",
      "30 Normal and 11 Bipolar_12 in Test Data\n",
      "\n"
     ]
    },
    {
     "data": {
      "image/png": "[encoded data removed]",
      "text/plain": [
       "<matplotlib.figure.Figure at 0x7f3bfab49ad0>"
      ]
     },
     "metadata": {},
     "output_type": "display_data"
    },
    {
     "name": "stdout",
     "output_type": "stream",
     "text": [
      "250 Normal and 100 Bipolar_15 in Training Data\n",
      "28 Normal and 11 Bipolar_15 in Test Data\n",
      "\n"
     ]
    },
    {
     "data": {
      "image/png": "[encoded data removed]",
      "text/plain": [
       "<matplotlib.figure.Figure at 0x7f3bfab49a10>"
      ]
     },
     "metadata": {},
     "output_type": "display_data"
    }
   ],
   "source": [
    "#Compare the performance of each Pattern of Life components and LIWC\n",
    "pol_groups.renderPrecisionRecall_all(\"Bipolar_2\", n_fold=10, consider_time = 2)\n",
    "pol_groups.renderPrecisionRecall_all(\"Bipolar_3\", n_fold=10, consider_time = 3)\n",
    "pol_groups.renderPrecisionRecall_all(\"Bipolar_6\", n_fold=10, consider_time = 6)\n",
    "pol_groups.renderPrecisionRecall_all(\"Bipolar_9\", n_fold=10, consider_time = 9)\n",
    "pol_groups.renderPrecisionRecall_all(\"Bipolar_12\", n_fold=10, consider_time = 12)\n",
    "pol_groups.renderPrecisionRecall_all(\"Bipolar_15\", n_fold=10, consider_time = 15)"
   ]
  },
  {
   "cell_type": "markdown",
   "metadata": {
    "deletable": true,
    "editable": true
   },
   "source": [
    "# Precission Recall Chart on 10-fold cross-validation"
   ]
  },
  {
   "cell_type": "code",
   "execution_count": 47,
   "metadata": {
    "collapsed": false,
    "deletable": true,
    "editable": true
   },
   "outputs": [],
   "source": [
    "index2feature = pol_groups.index2feature\n",
    "\n",
    "def getSelection(excluded_categories=[], excluded_index=[]):\n",
    "    selection = []\n",
    "    for i in range(len(index2feature)):\n",
    "        name,category =  index2feature[i]\n",
    "        if any(category == x for x in excluded_categories):\n",
    "            #removed_features.append(name)\n",
    "            pass\n",
    "        elif any(name == x for x in excluded_index):\n",
    "            #removed_features.append(name)\n",
    "            pass\n",
    "\n",
    "        else:                   \n",
    "            selection.append(i)\n",
    "    return selection\n",
    "\n",
    "\n",
    "#ROC chart of three models:\n",
    "# def renderROC(scores, labels,disorder ,names, linestyle=['solid','dashed','dotted','solid','dashdot','--','dashed','dotted']):\n",
    "def renderROC(scores, labels,disorder ,names,\n",
    "              linestyle=['solid','solid','solid','solid','dashdot','dashdot','dashdot','dashdot'],\n",
    "              colors = None,\n",
    "              linewidth = 3,\n",
    "              transparent = 1):\n",
    "    \n",
    "    fig, ax = plt.subplots()\n",
    "    print(\"Under curve area\")\n",
    "    for i,(score, label) in enumerate(zip(scores, labels)):\n",
    "        fpr, tpr, _ = roc_curve(label,score, pos_label=1)\n",
    "        roc_auc = auc(fpr, tpr)\n",
    "        \n",
    "        if colors:\n",
    "            plt.plot(fpr, tpr, label=names[i], ls=linestyle[i],linewidth=linewidth, color=colors[i], alpha=transparent)\n",
    "        else:\n",
    "            plt.plot(fpr, tpr, label=names[i], ls=linestyle[i],linewidth=linewidth, alpha=transparent)\n",
    "\n",
    "        print(\"\\t{:15} : {}\".format(names[i],roc_auc))\n",
    "\n",
    "   \n",
    "    plt.plot([0, 1], [0, 1], 'k--')\n",
    "    plt.xlim([0.0, 1.0])\n",
    "    plt.ylim([0.0, 1.05])\n",
    "    plt.xlabel('False Positive Rate')\n",
    "    plt.ylabel('True Positive Rate')\n",
    "    plt.title('{} ROC chart'.format(disorder))\n",
    "    plt.legend(loc=\"lower right\")\n",
    "\n",
    "    plt.show()\n",
    "\n",
    "# , linestyle=['solid','dashed','dotted','solid','dashdot','--','dashed','dotted'], colors = ['r','g','b',\"y\",\"c\",\"m\",\"#f4b642\",\"#777777\"]\n",
    "# def renderPRC(scores, labels, disorder ,names, linestyle=['solid','dashed','dotted','solid','dashdot','--','dashed','dotted'], colors = None):\n",
    "def renderPRC(scores, labels, disorder ,names,\n",
    "              linestyle=['solid','solid','solid','solid','dashdot','dashdot','dashdot','dashdot'],\n",
    "              colors = None,\n",
    "              linewidth = 3,\n",
    "              transparent = 1):\n",
    "    \n",
    "    fig, ax = plt.subplots()\n",
    "    print(\"Average Precision\")\n",
    "    for i,(score, label) in enumerate(zip(scores, labels)):        \n",
    "        precision, recall, _ = precision_recall_curve(label, score, pos_label=1)\n",
    "        average_precision = average_precision_score(label, score)\n",
    "        \n",
    "        if colors:\n",
    "            plt.plot(recall, precision, label=names[i], ls=linestyle[i],linewidth=linewidth, color=colors[i], alpha=transparent)\n",
    "        else:\n",
    "            plt.plot(recall, precision, label=names[i], ls=linestyle[i],linewidth=linewidth, alpha=transparent)\n",
    "            \n",
    "        print(\"\\t{:15} : {}\".format(names[i],average_precision))\n",
    "\n",
    "   \n",
    "\n",
    "    plt.xlim([0.0, 1.0])\n",
    "    plt.ylim([0.0, 1.05])\n",
    "    plt.xlabel('False Positive Rate')\n",
    "    plt.ylabel('True Positive Rate')\n",
    "    plt.title('{} Precision Recall Chart'.format(disorder))\n",
    "    plt.legend(loc=\"lower right\")\n",
    "\n",
    "    plt.show()"
   ]
  },
  {
   "cell_type": "code",
   "execution_count": 48,
   "metadata": {
    "collapsed": true,
    "deletable": true,
    "editable": true
   },
   "outputs": [],
   "source": [
    "GBPOL_selection = getSelection(excluded_categories=[\"LIWC\", \"lateSocial\", \"LongSocial\"])\n",
    "latePOL_selection = getSelection(excluded_categories=[\"LIWC\", \"LongSocial\"])\n",
    "LongPOL_selection = getSelection(excluded_categories=[\"LIWC\"])\n",
    "LIWC_selection = getSelection(excluded_categories=[\"AgeGender\", \"Social\", \"Polarity\", \"Emotions\", \"lateSocial\", \"LongSocial\"])\n",
    "\n",
    "classifier  = RandomForestClassifier(n_jobs= -1, max_features=\"sqrt\", n_estimators=128)\n",
    "name = \"Bipolar\"\n",
    "n_fold = 50\n"
   ]
  },
  {
   "cell_type": "markdown",
   "metadata": {
    "deletable": true,
    "editable": true
   },
   "source": [
    "## Prepare all Needed Value for Chart"
   ]
  },
  {
   "cell_type": "markdown",
   "metadata": {
    "deletable": true,
    "editable": true
   },
   "source": [
    "### POL"
   ]
  },
  {
   "cell_type": "code",
   "execution_count": 49,
   "metadata": {
    "collapsed": true,
    "deletable": true,
    "editable": true
   },
   "outputs": [],
   "source": [
    "POL15_scores, POL15_labels, _ = pol_groups.getLabelsScores(name +\"_15\", classifier,n_fold=n_fold, selection=GBPOL_selection, consider_time = 15)\n",
    "POL12_scores, POL12_labels, _ = pol_groups.getLabelsScores(name+\"_12\", classifier,n_fold=n_fold, selection=GBPOL_selection, consider_time = 12)\n",
    "POL9_scores, POL9_labels, _ = pol_groups.getLabelsScores(name+\"_9\", classifier,n_fold=n_fold, selection=GBPOL_selection, consider_time = 9)\n",
    "POL6_scores, POL6_labels, _ = pol_groups.getLabelsScores(name+\"_6\", classifier,n_fold=n_fold, selection=GBPOL_selection, consider_time = 6)\n",
    "POL3_scores, POL3_labels, _ = pol_groups.getLabelsScores(name+\"_3\", classifier,n_fold=n_fold, selection=GBPOL_selection, consider_time = 3)\n",
    "POL2_scores, POL2_labels, _ = pol_groups.getLabelsScores(name+\"_2\", classifier,n_fold=n_fold, selection=GBPOL_selection, consider_time = 2)\n"
   ]
  },
  {
   "cell_type": "markdown",
   "metadata": {
    "deletable": true,
    "editable": true
   },
   "source": [
    "### latePOL"
   ]
  },
  {
   "cell_type": "code",
   "execution_count": 50,
   "metadata": {
    "collapsed": true,
    "deletable": true,
    "editable": true
   },
   "outputs": [],
   "source": [
    "latePOL15_scores, latePOL15_labels, _ = pol_groups.getLabelsScores(name +\"_15\", classifier,n_fold=n_fold, selection=latePOL_selection, consider_time = 15)\n",
    "latePOL12_scores, latePOL12_labels, _ = pol_groups.getLabelsScores(name+\"_12\", classifier,n_fold=n_fold, selection=latePOL_selection, consider_time = 12)\n",
    "latePOL9_scores, latePOL9_labels, _ = pol_groups.getLabelsScores(name+\"_9\", classifier,n_fold=n_fold, selection=latePOL_selection, consider_time = 9)\n",
    "latePOL6_scores, latePOL6_labels, _ = pol_groups.getLabelsScores(name+\"_6\", classifier,n_fold=n_fold, selection=latePOL_selection, consider_time = 6)\n",
    "latePOL3_scores, latePOL3_labels, _ = pol_groups.getLabelsScores(name+\"_3\", classifier,n_fold=n_fold, selection=latePOL_selection, consider_time = 3)\n",
    "latePOL2_scores, latePOL2_labels, _ = pol_groups.getLabelsScores(name+\"_2\", classifier,n_fold=n_fold, selection=latePOL_selection, consider_time = 2)"
   ]
  },
  {
   "cell_type": "markdown",
   "metadata": {
    "deletable": true,
    "editable": true
   },
   "source": [
    "### longPOL"
   ]
  },
  {
   "cell_type": "code",
   "execution_count": 51,
   "metadata": {
    "collapsed": true,
    "deletable": true,
    "editable": true
   },
   "outputs": [],
   "source": [
    "longPOL15_scores, longPOL15_labels, _ = pol_groups.getLabelsScores(name +\"_15\", classifier,n_fold=n_fold, selection=LongPOL_selection, consider_time = 15)\n",
    "longPOL12_scores, longPOL12_labels, _ = pol_groups.getLabelsScores(name+\"_12\", classifier,n_fold=n_fold, selection=LongPOL_selection, consider_time = 12)\n",
    "longPOL9_scores, longPOL9_labels, _ = pol_groups.getLabelsScores(name+\"_9\", classifier,n_fold=n_fold, selection=LongPOL_selection, consider_time = 9)\n",
    "longPOL6_scores, longPOL6_labels, _ = pol_groups.getLabelsScores(name+\"_6\", classifier,n_fold=n_fold, selection=LongPOL_selection, consider_time = 6)\n",
    "longPOL3_scores, longPOL3_labels, _ = pol_groups.getLabelsScores(name+\"_3\", classifier,n_fold=n_fold, selection=LongPOL_selection, consider_time = 3)\n",
    "longPOL2_scores, longPOL2_labels, _ = pol_groups.getLabelsScores(name+\"_2\", classifier,n_fold=n_fold, selection=LongPOL_selection, consider_time = 2)"
   ]
  },
  {
   "cell_type": "markdown",
   "metadata": {
    "deletable": true,
    "editable": true
   },
   "source": [
    "### LIWC"
   ]
  },
  {
   "cell_type": "code",
   "execution_count": 52,
   "metadata": {
    "collapsed": true,
    "deletable": true,
    "editable": true
   },
   "outputs": [],
   "source": [
    "LIWC15_scores, LIWC15_labels, _ = pol_groups.getLabelsScores(name +\"_15\", classifier,n_fold=n_fold, selection=LIWC_selection, consider_time = 15)\n",
    "LIWC12_scores, LIWC12_labels, _ = pol_groups.getLabelsScores(name +\"_12\", classifier,n_fold=n_fold, selection=LIWC_selection, consider_time = 12)\n",
    "LIWC9_scores, LIWC9_labels, _ = pol_groups.getLabelsScores(name +\"_9\", classifier,n_fold=n_fold, selection=LIWC_selection, consider_time = 9)\n",
    "LIWC6_scores, LIWC6_labels, _ = pol_groups.getLabelsScores(name +\"_6\", classifier,n_fold=n_fold, selection=LIWC_selection, consider_time = 6)\n",
    "LIWC3_scores, LIWC3_labels, _ = pol_groups.getLabelsScores(name +\"_3\", classifier,n_fold=n_fold, selection=LIWC_selection, consider_time = 3)\n",
    "LIWC2_scores, LIWC2_labels, _ = pol_groups.getLabelsScores(name +\"_2\", classifier,n_fold=n_fold, selection=LIWC_selection, consider_time = 2)"
   ]
  },
  {
   "cell_type": "markdown",
   "metadata": {
    "deletable": true,
    "editable": true
   },
   "source": [
    "### TFIDF"
   ]
  },
  {
   "cell_type": "code",
   "execution_count": 53,
   "metadata": {
    "collapsed": true,
    "deletable": true,
    "editable": true
   },
   "outputs": [],
   "source": [
    "tfidf15_scores, tfidf15_labels, _ = tfidf_groups.getLabelsScores(name +\"_15\", classifier,n_fold=n_fold, consider_time = 15)\n",
    "tfidf12_scores, tfidf12_labels, _ = tfidf_groups.getLabelsScores(name +\"_12\", classifier,n_fold=n_fold, consider_time = 12)\n",
    "tfidf9_scores, tfidf9_labels, _ = tfidf_groups.getLabelsScores(name +\"_9\", classifier,n_fold=n_fold, consider_time = 9)\n",
    "tfidf6_scores, tfidf6_labels, _ = tfidf_groups.getLabelsScores(name +\"_6\", classifier,n_fold=n_fold, consider_time = 6)\n",
    "tfidf3_scores, tfidf3_labels, _ = tfidf_groups.getLabelsScores(name +\"_3\", classifier,n_fold=n_fold, consider_time = 3)\n",
    "tfidf2_scores, tfidf2_labels, _ = tfidf_groups.getLabelsScores(name +\"_2\", classifier,n_fold=n_fold, consider_time = 2)"
   ]
  },
  {
   "cell_type": "markdown",
   "metadata": {
    "deletable": true,
    "editable": true
   },
   "source": [
    "### Traditional POL Comparation from Time Difference"
   ]
  },
  {
   "cell_type": "code",
   "execution_count": null,
   "metadata": {
    "collapsed": false,
    "deletable": true,
    "editable": true
   },
   "outputs": [],
   "source": [
    "names = [\"PoL(15month)\",\"PoL(12month)\", \"PoL(9month)\", \"PoL(6month)\",\"PoL(3month)\", \"PoL(2month)\"]\n",
    "\n",
    "bipolar_SCORES = [POL15_scores, POL12_scores, POL9_scores, POL6_scores, POL3_scores, POL2_scores]\n",
    "bipolar_LABELS = [POL15_labels[:,0], POL12_labels[:,0], POL9_labels[:,0], POL6_labels[:,0], POL3_labels[:,0], POL2_labels[:,0]]\n",
    "\n",
    "renderROC(bipolar_SCORES, bipolar_LABELS, name,names , linestyle=['solid','solid','solid','solid','solid','solid'], linewidth = 2)  \n",
    "renderPRC(bipolar_SCORES, bipolar_LABELS, name, names, linestyle=['solid','solid','solid','solid','solid','solid'], linewidth = 2)\n"
   ]
  },
  {
   "cell_type": "markdown",
   "metadata": {
    "deletable": true,
    "editable": true
   },
   "source": [
    "### Late POL Comparation from Time Difference"
   ]
  },
  {
   "cell_type": "code",
   "execution_count": null,
   "metadata": {
    "collapsed": false,
    "deletable": true,
    "editable": true
   },
   "outputs": [],
   "source": [
    "names = [\"latePoL(15month)\",\"latePoL(12month)\", \"latePoL(9month)\", \"latePoL(6month)\",\"latePoL(3month)\", \"latePoL(2month)\"]\n",
    "\n",
    "bipolar_SCORES = [latePOL15_scores, latePOL12_scores, latePOL9_scores, latePOL6_scores, latePOL3_scores, latePOL2_scores]\n",
    "bipolar_LABELS = [latePOL15_labels[:,0], latePOL12_labels[:,0], latePOL9_labels[:,0], latePOL6_labels[:,0], latePOL3_labels[:,0], latePOL2_labels[:,0]]\n",
    "\n",
    "renderROC(bipolar_SCORES, bipolar_LABELS, name,names , linestyle=['solid','solid','solid','solid','solid','solid'], linewidth = 2)  \n",
    "renderPRC(bipolar_SCORES, bipolar_LABELS, name, names, linestyle=['solid','solid','solid','solid','solid','solid'], linewidth = 2)"
   ]
  },
  {
   "cell_type": "markdown",
   "metadata": {
    "deletable": true,
    "editable": true
   },
   "source": [
    "### Long POL Comparation from Time Difference"
   ]
  },
  {
   "cell_type": "code",
   "execution_count": null,
   "metadata": {
    "collapsed": false,
    "deletable": true,
    "editable": true
   },
   "outputs": [],
   "source": [
    "names = [\"longPoL(15month)\",\"longPoL(12month)\", \"longPoL(9month)\", \"longPoL(6month)\",\"longPoL(3month)\", \"longPoL(2month)\"]\n",
    "\n",
    "bipolar_SCORES = [longPOL15_scores, longPOL12_scores, longPOL9_scores, longPOL6_scores, longPOL3_scores, longPOL2_scores]\n",
    "bipolar_LABELS = [longPOL15_labels[:,0], longPOL12_labels[:,0], longPOL9_labels[:,0], longPOL6_labels[:,0], longPOL3_labels[:,0], longPOL2_labels[:,0]]\n",
    "\n",
    "renderROC(bipolar_SCORES, bipolar_LABELS, name,names , linestyle=['solid','solid','solid','solid','solid','solid'], linewidth = 1.5)  \n",
    "renderPRC(bipolar_SCORES, bipolar_LABELS, name, names, linestyle=['solid','solid','solid','solid','solid','solid'], linewidth = 1.5)\n"
   ]
  },
  {
   "cell_type": "markdown",
   "metadata": {
    "deletable": true,
    "editable": true
   },
   "source": [
    "### Compare LIWC"
   ]
  },
  {
   "cell_type": "code",
   "execution_count": null,
   "metadata": {
    "collapsed": false,
    "deletable": true,
    "editable": true
   },
   "outputs": [],
   "source": [
    "names = [\"LIWC(15month)\",\"LIWC(12month)\", \"LIWC(9month)\", \"LIWC(6month)\",\"LIWC(3month)\", \"LIWC(2month)\"]\n",
    "\n",
    "bipolar_SCORES = [LIWC15_scores, LIWC12_scores, LIWC9_scores, LIWC6_scores, LIWC3_scores, LIWC2_scores]\n",
    "bipolar_LABELS = [LIWC15_labels[:,0], LIWC12_labels[:,0], LIWC9_labels[:,0], LIWC6_labels[:,0], LIWC3_labels[:,0], LIWC2_labels[:,0]]\n",
    "\n",
    "renderPRC(bipolar_SCORES, bipolar_LABELS, name, names)"
   ]
  },
  {
   "cell_type": "markdown",
   "metadata": {
    "deletable": true,
    "editable": true
   },
   "source": [
    "### TFIDF"
   ]
  },
  {
   "cell_type": "code",
   "execution_count": null,
   "metadata": {
    "collapsed": false,
    "deletable": true,
    "editable": true
   },
   "outputs": [],
   "source": [
    "names = [\"tfidf(15month)\",\"tfidf(12month)\", \"tfidf(9month)\", \"tfidf(6month)\",\"tfidf(3month)\", \"tfidf(2month)\"]\n",
    "\n",
    "bipolar_SCORES = [tfidf15_scores, tfidf12_scores, tfidf9_scores, tfidf6_scores, tfidf3_scores, tfidf2_scores]\n",
    "bipolar_LABELS = [tfidf15_labels, tfidf12_labels, tfidf9_labels, tfidf6_labels, tfidf3_labels, tfidf2_labels]\n",
    "\n",
    "renderPRC(bipolar_SCORES, bipolar_LABELS, name, names)"
   ]
  },
  {
   "cell_type": "markdown",
   "metadata": {
    "deletable": true,
    "editable": true
   },
   "source": [
    "### Compare POL, LIWC, TFIDF"
   ]
  },
  {
   "cell_type": "code",
   "execution_count": null,
   "metadata": {
    "collapsed": false,
    "deletable": true,
    "editable": true
   },
   "outputs": [],
   "source": [
    "names = [\"PoL(15month)\", \"TFIDF(15month)\", \"LIWC(15month)\"]\n",
    "\n",
    "bipolar_SCORES = [POL15_scores, LIWC15_scores, tfidf15_scores]\n",
    "bipolar_LABELS = [POL15_labels[:,0], LIWC15_labels[:,0], tfidf15_labels]\n",
    "\n",
    "renderROC(bipolar_SCORES, bipolar_LABELS, name,names, linestyle=['solid','dashed','dotted','solid','dashdot','--','dashed','dotted'], colors = ['b','r','g',\"y\",\"c\",\"m\",\"#f4b642\",\"#777777\"])  \n",
    "renderPRC(bipolar_SCORES, bipolar_LABELS, name, names, linestyle=['solid','dashed','dotted','solid','dashdot','--','dashed','dotted'], colors = ['b','r','g',\"y\",\"c\",\"m\",\"#f4b642\",\"#777777\"])"
   ]
  },
  {
   "cell_type": "code",
   "execution_count": null,
   "metadata": {
    "collapsed": false,
    "deletable": true,
    "editable": true
   },
   "outputs": [],
   "source": [
    "names = [\"PoL(15month)\", \"latePoL(15month)\", \"LongPoL(15month)\", \"TFIDF(15month)\", \"LIWC(15month)\"]\n",
    "\n",
    "bipolar_SCORES = [POL15_scores, latePOL15_scores, longPOL15_scores, LIWC15_scores, tfidf15_scores]\n",
    "bipolar_LABELS = [POL15_labels[:,0], latePOL15_labels[:,0], longPOL15_labels[:,0], LIWC15_labels[:,0], tfidf15_labels]\n",
    "\n",
    "renderROC(bipolar_SCORES, bipolar_LABELS, name,names, linestyle=['dashdot',':','--','solid','dashed','','--','dashed','dotted'], colors = ['b','r','g',\"y\",\"c\",\"m\",\"#f4b642\",\"#777777\"])  \n",
    "renderPRC(bipolar_SCORES, bipolar_LABELS, name, names, linestyle=['dashdot',':','--','solid','dashed','solid','--','dashed','dotted'], colors = ['b','r','g',\"y\",\"c\",\"m\",\"#f4b642\",\"#777777\"])"
   ]
  },
  {
   "cell_type": "code",
   "execution_count": null,
   "metadata": {
    "collapsed": false,
    "deletable": true,
    "editable": true,
    "scrolled": false
   },
   "outputs": [],
   "source": [
    "names = [\"PoL(3month)\", \"latePoL(3month)\", \"LongPoL(3month)\", \"TFIDF(3month)\", \"LIWC(3month)\"]\n",
    "\n",
    "bipolar_SCORES = [POL3_scores, latePOL3_scores, longPOL3_scores, LIWC3_scores, tfidf3_scores]\n",
    "bipolar_LABELS = [POL3_labels[:,0], latePOL3_labels[:,0], longPOL3_labels[:,0], LIWC3_labels[:,0], tfidf3_labels]\n",
    "\n",
    "renderROC(bipolar_SCORES, bipolar_LABELS, name,names, linestyle=['dashdot',':','--','solid','dashed','','--','dashed','dotted'], colors = ['b','r','g',\"y\",\"c\",\"m\",\"#f4b642\",\"#777777\"])  \n",
    "renderPRC(bipolar_SCORES, bipolar_LABELS, name, names, linestyle=['dashdot',':','--','solid','dashed','','--','dashed','dotted'], colors = ['b','r','g',\"y\",\"c\",\"m\",\"#f4b642\",\"#777777\"])"
   ]
  },
  {
   "cell_type": "code",
   "execution_count": null,
   "metadata": {
    "collapsed": false,
    "deletable": true,
    "editable": true,
    "scrolled": false
   },
   "outputs": [],
   "source": [
    "names = [\"PoL(15month)\", \"PoL(9month)\", \"PoL(3month)\", \"PoL(2month)\", \"TFIDF(15month)\", \"TFIDF(9month)\", \"TFIDF(3month)\", \"TFIDF(2month)\"]\n",
    "\n",
    "bipolar_SCORES = [POL15_scores, POL9_scores, POL3_scores, POL2_scores,\n",
    "                  tfidf15_scores, tfidf9_scores, tfidf3_scores, tfidf2_scores]\n",
    "bipolar_LABELS = [POL15_labels[:,0], POL9_labels[:,0], POL3_labels[:,0], POL2_labels[:,0], \n",
    "                  tfidf15_labels, tfidf9_labels, tfidf3_labels, tfidf2_labels]\n",
    "\n",
    "renderROC(bipolar_SCORES, bipolar_LABELS, name,names)  \n",
    "renderPRC(bipolar_SCORES, bipolar_LABELS, name, names)\n",
    "\n",
    "# latePOL_scores, latePOL_labels, _ = pol_groups.getLabelsScores(name, classifier,n_fold=n_fold, selection=latePOL_selection, consider_time = \"short\")\n",
    "# LongPOL_scores, LongPOL_labels, _ = pol_groups.getLabelsScores(name, classifier,n_fold=n_fold, selection=LongPOL_selection, consider_time = \"short\")\n",
    "\n"
   ]
  },
  {
   "cell_type": "code",
   "execution_count": null,
   "metadata": {
    "collapsed": false,
    "deletable": true,
    "editable": true
   },
   "outputs": [],
   "source": [
    "names = [\"latePoL(15month)\", \"latePoL(9month)\", \"latePoL(3month)\", \"latePoL(2month)\", \"TFIDF(15month)\", \"TFIDF(9month)\", \"TFIDF(3month)\", \"TFIDF(2month)\"]\n",
    "\n",
    "bipolar_SCORES = [POL15_scores, POL9_scores, POL3_scores, POL2_scores,\n",
    "                  tfidf15_scores, tfidf9_scores, tfidf3_scores, tfidf2_scores]\n",
    "bipolar_LABELS = [POL15_labels[:,0], POL9_labels[:,0], POL3_labels[:,0], POL2_labels[:,0], \n",
    "                  tfidf15_labels, tfidf9_labels, tfidf3_labels, tfidf2_labels]\n",
    "\n",
    "renderROC(bipolar_SCORES, bipolar_LABELS, name,names)  \n",
    "renderPRC(bipolar_SCORES, bipolar_LABELS, name, names)"
   ]
  },
  {
   "cell_type": "code",
   "execution_count": null,
   "metadata": {
    "collapsed": false,
    "deletable": true,
    "editable": true,
    "scrolled": false
   },
   "outputs": [],
   "source": [
    "names = [\"longPoL(15month)\", \"longPoL(9month)\", \"longPoL(3month)\", \"longPoL(2month)\", \"TFIDF(15month)\", \"TFIDF(9month)\", \"TFIDF(3month)\", \"TFIDF(2month)\"]\n",
    "bipolar_SCORES = [POL15_scores, POL9_scores, POL3_scores, POL2_scores,\n",
    "                  tfidf15_scores, tfidf9_scores, tfidf3_scores, tfidf2_scores]\n",
    "bipolar_LABELS = [POL15_labels[:,0], POL9_labels[:,0], POL3_labels[:,0], POL2_labels[:,0], \n",
    "                  tfidf15_labels, tfidf9_labels, tfidf3_labels, tfidf2_labels]\n",
    "\n",
    "renderROC(bipolar_SCORES, bipolar_LABELS, name,names)  \n",
    "renderPRC(bipolar_SCORES, bipolar_LABELS, name, names)"
   ]
  },
  {
   "cell_type": "code",
   "execution_count": null,
   "metadata": {
    "collapsed": false,
    "deletable": true,
    "editable": true,
    "scrolled": false
   },
   "outputs": [],
   "source": [
    "# Old\n",
    "# names = [\"PoL(GB)\", \"LIWC(GB)\", \"TF-IDF(GB)\", \"PoL\", \"time-PoL(late)\", \"time-PoL\", \"LIWC\", \"TF-IDF\"]\n",
    "# GBPOL_scores, GBPOL_labels, _ = pol_groups.getLabelsScores(name, classifier,n_fold=n_fold, selection=GBPOL_selection, consider_time = \"long\")\n",
    "# POL_scores, POL_labels, _ = pol_groups.getLabelsScores(name, classifier,n_fold=n_fold, selection=GBPOL_selection, consider_time = \"short\")\n",
    "# LongLIWC_scores, LongLIWC_labels, _ = pol_groups.getLabelsScores(name, classifier,n_fold=n_fold, selection=LIWC_selection, consider_time = \"long\")\n",
    "# LIWC_scores, LIWC_labels, _ = pol_groups.getLabelsScores(name, classifier,n_fold=n_fold, selection=LIWC_selection, consider_time = \"short\")\n",
    "# latePOL_scores, latePOL_labels, _ = pol_groups.getLabelsScores(name, classifier,n_fold=n_fold, selection=latePOL_selection, consider_time = \"short\")\n",
    "# LongPOL_scores, LongPOL_labels, _ = pol_groups.getLabelsScores(name, classifier,n_fold=n_fold, selection=LongPOL_selection, consider_time = \"short\")\n",
    "# Longtfidf_scores, Longtfidf_labels, _ = tfidf_groups.getLabelsScores(\"Long_Bipolar\", classifier,n_fold=n_fold, consider_time = \"long\")\n",
    "# tfidf_scores, tfidf_labels, _ = tfidf_groups.getLabelsScores(name, classifier,n_fold=n_fold, consider_time = \"short\")\n",
    "\n",
    "# bipolar_SCORES = [GBPOL_scores, LongLIWC_scores, Longtfidf_scores, POL_scores, latePOL_scores, LongPOL_scores , LIWC_scores, tfidf_scores]\n",
    "# bipolar_LABELS = [GBPOL_labels[:,0], LongLIWC_labels[:,0], Longtfidf_labels, POL_labels[:,0], latePOL_labels[:,0], LongPOL_labels[:,0], LIWC_labels[:,0], tfidf_labels]\n",
    "# bipolar_NAMES =  [GBPOL_labels[:,1], LIWC_labels[:,1], latePOL_labels[:,1], POL_labels[:,1], LongPOL_labels[:,1]]\n",
    "\n",
    "# renderROC(bipolar_SCORES, bipolar_LABELS, name,names)  \n",
    "# renderPRC(bipolar_SCORES, bipolar_LABELS, name, names)"
   ]
  },
  {
   "cell_type": "markdown",
   "metadata": {
    "deletable": true,
    "editable": true
   },
   "source": [
    "### Compare Dataset by TFIDF Model"
   ]
  },
  {
   "cell_type": "code",
   "execution_count": 54,
   "metadata": {
    "collapsed": true,
    "deletable": true,
    "editable": true
   },
   "outputs": [],
   "source": [
    "# Load model\n",
    "tfidf_rf_classifier = joblib.load(\"models/tfidf/tfidf_forest_classifier\")\n",
    "# tfidf_text_model = joblib.load(\"models/tfidf/tfidf_text_model_new\")"
   ]
  },
  {
   "cell_type": "code",
   "execution_count": 55,
   "metadata": {
    "collapsed": false,
    "deletable": true,
    "editable": true
   },
   "outputs": [],
   "source": [
    "import scipy.sparse as sp\n",
    "\n",
    "idfs = np.load(\"models/tfidf/idf.npy\")\n",
    "\n",
    "# subclass TfidfVectorizer\n",
    "class MyVectorizer(TfidfVectorizer):\n",
    "    # plug our pre-computed IDFs\n",
    "    TfidfVectorizer.idf_ = idfs\n",
    "    \n",
    "# instantiate vectorizer\n",
    "text_model = MyVectorizer(stop_words=\"english\", \n",
    "                          ngram_range = (1,2))\n",
    "\n",
    "\n",
    "# plug _tfidf._idf_diag\n",
    "text_model._tfidf._idf_diag = sp.spdiags(idfs,\n",
    "                                         diags = 0,\n",
    "                                         m = len(idfs),\n",
    "                                         n = len(idfs))\n",
    "\n",
    "vocabulary = json.load(open('models/tfidf/vocabulary.json', mode = 'rb'))\n",
    "text_model.vocabulary_ = vocabulary"
   ]
  },
  {
   "cell_type": "code",
   "execution_count": 56,
   "metadata": {
    "collapsed": true,
    "deletable": true,
    "editable": true
   },
   "outputs": [],
   "source": [
    "def del_url(line):\n",
    "    return re.sub(r'(\\S*(\\.com)\\S*)|(https?:\\/\\/\\S*)', \"\", line)"
   ]
  },
  {
   "cell_type": "code",
   "execution_count": 154,
   "metadata": {
    "collapsed": false,
    "deletable": true,
    "editable": true,
    "scrolled": true
   },
   "outputs": [
    {
     "name": "stdout",
     "output_type": "stream",
     "text": [
      "Precision of  2 month data : 0.210526315789\n",
      "Precision of  3 month data : 0.222222222222\n",
      "Precision of  6 month data : 0.193548387097\n",
      "Precision of  9 month data : 0.213675213675\n",
      "Precision of 12 month data : 0.234234234234\n",
      "Precision of 15 month data : 0.207207207207\n"
     ]
    }
   ],
   "source": [
    "name_list = [2,3,6,9,12,15]\n",
    "bipolar_group_list = [bipolar2_group, bipolar3_group, bipolar6_group, bipolar9_group, bipolar12_group, bipolar15_group]\n",
    "for i, groups in enumerate(bipolar_group_list):\n",
    "    X = text_model.transform([\"\\n\".join(map(lambda x : del_url(x), group.text)) for group in groups.getGroup()])\n",
    "    print('Precision of {:>2d} month data : {}'.format(name_list[i], tfidf_rf_classifier.predict(X).mean()))"
   ]
  },
  {
   "cell_type": "markdown",
   "metadata": {
    "deletable": true,
    "editable": true
   },
   "source": [
    "## Compare by different Classifier\n",
    "\n",
    "Baseline & Out Approach"
   ]
  },
  {
   "cell_type": "code",
   "execution_count": 57,
   "metadata": {
    "collapsed": false,
    "deletable": true,
    "editable": true
   },
   "outputs": [],
   "source": [
    "time_list = [2,3,6,9,12,15]\n",
    "name_list = [\"Bipolar_2\", \"Bipolar_3\", \"Bipolar_6\", \"Bipolar_9\", \"Bipolar_12\", \"Bipolar_15\"]\n",
    "\n",
    "def getTFIDFClassifier(name = 'Bipolar', tfidf_groups = tfidf_groups, consider_time = 2):\n",
    "    group_id = tfidf_groups.name_to_index[name + '_' + str(consider_time)]\n",
    "    group = tfidf_groups.groups[group_id]\n",
    "    X = tfidf_groups.text_models[group_id].transform(tfidf_groups.base.getTexts()+group.getTexts())\n",
    "    Y =  np.array([0] * tfidf_groups.base.getSize() + [1] * group.getSize())\n",
    "    \n",
    "    classifier  = RandomForestClassifier(n_jobs=-1, max_features=\"sqrt\", n_estimators=128)\n",
    "    classifier.fit(X,Y)\n",
    "    \n",
    "    return classifier\n",
    "\n",
    "def getClassifier( feature_group, name, selection=\"all\", consider_time = 'short', n_fold = 50):\n",
    "    classifier  = RandomForestClassifier(n_jobs=-1, max_features=\"sqrt\", n_estimators=128)\n",
    "    \n",
    "    X, Y = feature_group.getLabeledData( name, selection=selection, consider_time= consider_time)\n",
    "\n",
    "    sss = StratifiedShuffleSplit(Y[:,0], n_fold, test_size = 0.1, random_state=randint(0,65536) )\n",
    "    \n",
    "    classifiers = []\n",
    "    for train_index, test_index in sss:\n",
    "        X_train, X_test           = X[train_index], X[test_index]\n",
    "        Y_train, Y_test           = Y[train_index][:,0], Y[test_index][:,0]\n",
    "\n",
    "        classifier.fit(X_train, Y_train)\n",
    "        classifiers.append(classifier)\n",
    "\n",
    "    return classifiers\n",
    "\n",
    "\n",
    "def renderPrecision( selection, base_feature, pol_groups = pol_groups, name_list = name_list, time_list = time_list):\n",
    "    test_feature = base_feature[:,selection]\n",
    "    \n",
    "    # Generate Classifier\n",
    "    classifiers_list = [getClassifier(pol_groups, name, selection = selection, consider_time = time_list[i]) for i, name in enumerate(name_list)]\n",
    "    result_list = []\n",
    "    for i, classifiers in enumerate(classifiers_list):\n",
    "        SCORES = np.array([])\n",
    "        for classifier in classifiers:\n",
    "            SCORES = np.concatenate((SCORES, classifier.predict(test_feature)))\n",
    "    \n",
    "#         print('Precision of {:>2d} month classifier : {}'.format(time_list[i], SCORES.mean()))\n",
    "        result_list.append(SCORES.mean())\n",
    "    return result_list"
   ]
  },
  {
   "cell_type": "code",
   "execution_count": 64,
   "metadata": {
    "collapsed": true,
    "deletable": true,
    "editable": true
   },
   "outputs": [],
   "source": [
    "# Testing Data organize\n",
    "def getTestFeatures(recent_group):\n",
    "    feature2categories = getCategories(recent_group)\n",
    "    feature_dict = getAllFeature(recent_group)\n",
    "    index2feature = []\n",
    "    base_feature = np.zeros((recent_group.getSize(),len(feature_dict)), dtype = float)\n",
    "    for name, values in feature_dict.items():\n",
    "        cursor = len(index2feature)\n",
    "        base_feature[:,cursor] = values\n",
    "        category = feature2categories[name]\n",
    "        index2feature.append((name, category))\n",
    "\n",
    "    return base_feature"
   ]
  },
  {
   "cell_type": "markdown",
   "metadata": {
    "deletable": true,
    "editable": true
   },
   "source": [
    "### Time Period Feature Classifier"
   ]
  },
  {
   "cell_type": "code",
   "execution_count": 306,
   "metadata": {
    "collapsed": false,
    "deletable": true,
    "editable": true
   },
   "outputs": [],
   "source": [
    "# test_feature4x = getTestFeatures(recent_group5)\n",
    "\n",
    "# print('\\nPol Feature\\n')\n",
    "# renderPrecision(GBPOL_selection, test_feature4x)\n",
    "# print('\\nLate Pol Feature\\n')\n",
    "# renderPrecision(latePOL_selection, test_feature4x)\n",
    "# print('\\nLong Pol Feature\\n')\n",
    "# renderPrecision(LongPOL_selection, test_feature4x)\n",
    "# print('\\nLIWC Feature\\n')\n",
    "# renderPrecision(LIWC_selection, test_feature4x)"
   ]
  },
  {
   "cell_type": "markdown",
   "metadata": {
    "deletable": true,
    "editable": true
   },
   "source": [
    "### TFIDF"
   ]
  },
  {
   "cell_type": "code",
   "execution_count": null,
   "metadata": {
    "collapsed": true,
    "deletable": true,
    "editable": true
   },
   "outputs": [],
   "source": [
    "\n",
    "name_list = [2,3,6,9,12,15]\n",
    "bipolar_group_list = [bipolar2_group, bipolar3_group, bipolar6_group, bipolar9_group, bipolar12_group, bipolar15_group]\n",
    "for i, groups in enumerate(bipolar_group_list):\n",
    "    X = text_model.transform([\"\\n\".join(map(lambda x : del_url(x), group.text)) for group in groups.getGroup()])\n",
    "    print('Precision of {:>2d} month data : {}'.format(name_list[i], tfidf_rf_classifier.predict(X).mean()))"
   ]
  },
  {
   "cell_type": "markdown",
   "metadata": {
    "deletable": true,
    "editable": true
   },
   "source": [
    "### Baseline Classifier"
   ]
  },
  {
   "cell_type": "code",
   "execution_count": 62,
   "metadata": {
    "collapsed": false,
    "deletable": true,
    "editable": true
   },
   "outputs": [],
   "source": [
    "gb_thesis_classifier = joblib.load('models/bipolar_forest/bipolar_forest_gb_thesis')\n",
    "GB_Thesis_selection = [4, 10, 11, 12, 13, 15, 18, 22, 25, 35, 39, 46, 52, 60, 17, 65, 66, 69, 78]"
   ]
  },
  {
   "cell_type": "markdown",
   "metadata": {
    "deletable": true,
    "editable": true
   },
   "source": [
    "### Table"
   ]
  },
  {
   "cell_type": "code",
   "execution_count": 61,
   "metadata": {
    "collapsed": true,
    "deletable": true,
    "editable": true
   },
   "outputs": [],
   "source": [
    "tfidf_classifiers = [getTFIDFClassifier(consider_time = 2), \n",
    "                    getTFIDFClassifier(consider_time = 3), \n",
    "                    getTFIDFClassifier(consider_time = 6), \n",
    "                    getTFIDFClassifier(consider_time = 9), \n",
    "                    getTFIDFClassifier(consider_time = 12), \n",
    "                    getTFIDFClassifier(consider_time = 15)]"
   ]
  },
  {
   "cell_type": "code",
   "execution_count": 65,
   "metadata": {
    "collapsed": false,
    "deletable": true,
    "editable": true
   },
   "outputs": [
    {
     "name": "stdout",
     "output_type": "stream",
     "text": [
      "\n",
      "===== Recent 4.x month =====\n",
      "\n",
      "Feature     2 month    3 month    6 month    9 month    12 month      15 month\n",
      "----------  ---------  ---------  ---------  ---------  ----------  ----------\n",
      "Base_Pol    N/A        N/A        N/A        N/A        N/A               0.16\n",
      "Pol         0.48       0.48       0.52       0.6        0.56              0.56\n",
      "Late Pol    0.48       0.6        0.52       0.6        0.6               0.52\n",
      "Long Pol    0.56       0.52       0.48       0.56       0.56              0.56\n",
      "LIWC        0.4        0.48       0.4        0.44       0.36               0.4\n",
      "Base_TFIDF  N/A        N/A        N/A        N/A        N/A               0.36\n",
      "TFIDF       0.68       0.6        0.52       0.48       0.44              0.48\n",
      "\n",
      "===== Recent 4 month =====\n",
      "\n",
      "Feature     2 month    3 month    6 month    9 month    12 month      15 month\n",
      "----------  ---------  ---------  ---------  ---------  ----------  ----------\n",
      "Base_Pol    N/A        N/A        N/A        N/A        N/A               0.12\n",
      "Pol         0.6        0.52       0.68       0.6        0.56              0.52\n",
      "Late Pol    0.48       0.56       0.56       0.6        0.56              0.56\n",
      "Long Pol    0.6        0.56       0.6        0.56       0.56              0.56\n",
      "LIWC        0.36       0.44       0.44       0.44       0.36              0.44\n",
      "Base_TFIDF  N/A        N/A        N/A        N/A        N/A               0.36\n",
      "TFIDF       0.6        0.6        0.48       0.4        0.44               0.4\n",
      "\n",
      "===== Recent 3 month =====\n",
      "\n",
      "Feature     2 month    3 month    6 month    9 month    12 month      15 month\n",
      "----------  ---------  ---------  ---------  ---------  ----------  ----------\n",
      "Base_Pol    N/A        N/A        N/A        N/A        N/A               0.12\n",
      "Pol         0.52       0.52       0.52       0.64       0.52              0.64\n",
      "Late Pol    0.56       0.56       0.6        0.64       0.6               0.64\n",
      "Long Pol    0.64       0.56       0.56       0.6        0.6               0.56\n",
      "LIWC        0.4        0.36       0.4        0.44       0.36              0.44\n",
      "Base_TFIDF  N/A        N/A        N/A        N/A        N/A               0.32\n",
      "TFIDF       0.52       0.52       0.4        0.32       0.36              0.36\n",
      "\n",
      "===== Recent 2 month =====\n",
      "\n",
      "Feature     2 month    3 month    6 month    9 month    12 month      15 month\n",
      "----------  ---------  ---------  ---------  ---------  ----------  ----------\n",
      "Base_Pol    N/A        N/A        N/A        N/A        N/A               0.12\n",
      "Pol         0.56       0.4        0.44       0.52       0.52              0.68\n",
      "Late Pol    0.56       0.52       0.6        0.52       0.6                0.6\n",
      "Long Pol    0.52       0.52       0.6        0.6        0.52               0.6\n",
      "LIWC        0.44       0.28       0.36       0.4        0.4               0.36\n",
      "Base_TFIDF  N/A        N/A        N/A        N/A        N/A               0.28\n",
      "TFIDF       0.44       0.4        0.32       0.32       0.28              0.28\n"
     ]
    }
   ],
   "source": [
    "headers = [\"Feature\",\"2 month\", \"3 month\",\"6 month\",\"9 month\", \"12 month\", \"15 month\"]\n",
    "feature_names = ['Base_Pol', 'Base_TFIDF','Pol', 'Late Pol', 'Long Pol', 'LIWC', 'TFIDF']\n",
    "selections = [GB_Thesis_selection, 'btfidf', GBPOL_selection, latePOL_selection, LongPOL_selection, LIWC_selection, 'tfidf']\n",
    "test_datasets = [recent_group5, recent_group4, recent_group3, recent_group2]\n",
    "dataset_names = ['Recent 4.x month', 'Recent 4 month', 'Recent 3 month', 'Recent 2 month']\n",
    "\n",
    "\"\"\"\n",
    "Different period datasets\n",
    "\"\"\"\n",
    "for j,dataset in enumerate(test_datasets):\n",
    "    print(\"\\n===== \" + dataset_names[j] + \" =====\\n\")\n",
    "    contents = []\n",
    "    \"\"\"\n",
    "    Different feature\n",
    "    \"\"\"\n",
    "    test_feature = getTestFeatures(dataset)\n",
    "    for i, selection in enumerate(selections):\n",
    "        feature_name = feature_names[i]\n",
    "        if i ==0:\n",
    "            predict_result = gb_thesis_classifier.predict(test_feature[:,selection])\n",
    "            precision_list = ['N/A', 'N/A', 'N/A', 'N/A', 'N/A', predict_result.mean()]\n",
    "        elif i ==1:\n",
    "            text_array = text_model.transform([\"\\n\".join(map(lambda x : del_url(x), group.text)) for group in dataset.getGroup()])\n",
    "            predict_result = tfidf_rf_classifier.predict(text_array)\n",
    "            precision_list = ['N/A', 'N/A', 'N/A', 'N/A', 'N/A', predict_result.mean()]\n",
    "        elif i ==6:\n",
    "            precision_list = []\n",
    "            for k, classifier in enumerate(tfidf_classifiers):\n",
    "                text_array = tfidf_groups.text_models[6+k].transform([\"\\n\".join(map(lambda x : del_url(x), group.text)) for group in dataset.getGroup()])\n",
    "                predict_result = tfidf_classifiers[k].predict(text_array)\n",
    "                precision_list.append(predict_result.mean())\n",
    "        else:\n",
    "            precision_list = renderPrecision(selection, test_feature)\n",
    "        contents.append([feature_name] + precision_list)\n",
    "    print(tabulate(contents, headers=headers, numalign=\"right\"))"
   ]
  },
  {
   "cell_type": "markdown",
   "metadata": {
    "deletable": true,
    "editable": true
   },
   "source": [
    "## Evaluation"
   ]
  },
  {
   "cell_type": "code",
   "execution_count": null,
   "metadata": {
    "collapsed": false,
    "deletable": true,
    "editable": true
   },
   "outputs": [],
   "source": [
    "bipolar_index = [i for i, value in enumerate(bipolar_LABELS[0]) if value == 1]\n",
    "\n",
    "bipolar_value = [bipolar_SCORES[0][i] for i in bipolar_index]\n",
    "\n",
    "regular_value = [bipolar_SCORES[0][i] for i in range(len(bipolar_SCORES[0])) if i not in bipolar_index]\n",
    "\n",
    "plt.hist(bipolar_value, label = 'Bipolar', alpha=0.6)\n",
    "plt.hist(regular_value, label = 'Regular', alpha=0.6)\n",
    "\n",
    "plt.grid(True)\n",
    "plt.xlabel(\"Probability\")\n",
    "plt.ylabel(\"Frequency\")\n",
    "\n",
    "plt.ylim([0, 550])\n",
    "plt.legend() \n",
    "plt.show() \n",
    "plt.close()"
   ]
  },
  {
   "cell_type": "code",
   "execution_count": null,
   "metadata": {
    "collapsed": false,
    "deletable": true,
    "editable": true
   },
   "outputs": [],
   "source": [
    "b_P_list = []\n",
    "b_R_list = []\n",
    "r_p_list = []\n",
    "r_R_list = []\n",
    "thre_list = np.arange(0.4,0.91,0.001)\n",
    "for thre in thre_list:\n",
    "\n",
    "    bipolar_index = [i for i, value in enumerate(bipolar_LABELS[0]) if value == 1]\n",
    "\n",
    "    bipolar_value = [bipolar_SCORES[0][i] for i in bipolar_index]\n",
    "\n",
    "    TP_bipolar_value = filter(lambda x: x >= thre, bipolar_value)\n",
    "\n",
    "    regular_value = [bipolar_SCORES[0][i]for i in range(len(bipolar_SCORES[0])) if i not in bipolar_index]\n",
    "\n",
    "    TN_regular_value = filter(lambda x: x < thre, regular_value)\n",
    "\n",
    "    Total_Bipolar = len(bipolar_value)\n",
    "\n",
    "    Total_Regular = len(regular_value)\n",
    "\n",
    "    FP = Total_Regular - len(TN_regular_value)\n",
    "\n",
    "    FN = Total_Bipolar - len(TP_bipolar_value)\n",
    "\n",
    "    b_P = float(len(TP_bipolar_value))/(len(TP_bipolar_value) + FP)\n",
    "    b_R = float(len(TP_bipolar_value))/len(bipolar_value)\n",
    "    r_p = float(len(TN_regular_value))/(len(TN_regular_value) + FN)\n",
    "    r_R = float(len(TN_regular_value))/len(regular_value)\n",
    "\n",
    "    b_P_list.append(b_P)\n",
    "    b_R_list.append(b_R)\n",
    "    r_p_list.append(r_p)\n",
    "    r_R_list.append(r_R)\n"
   ]
  },
  {
   "cell_type": "code",
   "execution_count": null,
   "metadata": {
    "collapsed": false,
    "deletable": true,
    "editable": true
   },
   "outputs": [],
   "source": [
    "plt.plot(thre_list, b_P_list, 'r', label='Bipolar Precision')\n",
    "plt.plot(thre_list, b_R_list, 'b', label='Bipolar Recall')\n",
    "plt.legend()\n",
    "plt.show() \n",
    "plt.close()"
   ]
  },
  {
   "cell_type": "code",
   "execution_count": null,
   "metadata": {
    "collapsed": false,
    "deletable": true,
    "editable": true
   },
   "outputs": [],
   "source": [
    "plt.plot(thre_list, r_p_list, 'g', label='Regular Precision')\n",
    "plt.plot(thre_list, r_R_list, 'm', label='Regular Recall')\n",
    "plt.legend()\n",
    "plt.show() \n",
    "plt.close()"
   ]
  },
  {
   "cell_type": "code",
   "execution_count": null,
   "metadata": {
    "collapsed": false,
    "deletable": true,
    "editable": true
   },
   "outputs": [],
   "source": [
    "plt.plot(thre_list, r_p_list, 'g', label='Regular Precision')\n",
    "plt.plot(thre_list, r_R_list, 'm', label='Regular Recall')\n",
    "plt.plot(thre_list, b_P_list, 'r', label='Bipolar Precision')\n",
    "plt.plot(thre_list, b_R_list, 'b', label='Bipolar Recall')\n",
    "plt.legend()\n",
    "plt.show() \n",
    "plt.close()"
   ]
  },
  {
   "cell_type": "code",
   "execution_count": null,
   "metadata": {
    "collapsed": false,
    "deletable": true,
    "editable": true
   },
   "outputs": [],
   "source": [
    "for i, value in enumerate(thre_list):\n",
    "    if b_P_list[i] < r_R_list[i]:\n",
    "        cross_i = i\n",
    "        upper_bound = thre_list[i]\n",
    "        print upper_bound\n",
    "        break\n",
    "for i, value in enumerate(thre_list):\n",
    "    if r_p_list[i] < b_P_list[i]:\n",
    "        \n",
    "        lower_bound = thre_list[i]\n",
    "        print lower_bound\n",
    "        break"
   ]
  },
  {
   "cell_type": "code",
   "execution_count": null,
   "metadata": {
    "collapsed": false,
    "deletable": true,
    "editable": true
   },
   "outputs": [],
   "source": [
    "print('Bipolar Precision: {}'.format(b_P_list[cross_i]))\n",
    "print('Bipolar Recall: {}'.format(b_R_list[cross_i]))\n",
    "plt.hist(bipolar_value)\n",
    "plt.grid(True)\n",
    "plt.xlabel(\"Value\")\n",
    "plt.ylabel(\"Frequency\")\n",
    "plt.title(\"Bipolar\")\n",
    "plt.ylim([0, 550])\n",
    "# plt.xlim([0.4, 0.9])\n",
    "plt.show()\n",
    "plt.close()\n",
    "\n",
    "print('Regular Precision: {}'.format(r_p_list[cross_i]))\n",
    "print('Regular Recall: {}'.format(r_R_list[cross_i]))\n",
    "plt.hist(regular_value)\n",
    "plt.grid(True)\n",
    "plt.xlabel(\"Value\")\n",
    "plt.ylabel(\"Frequency\")\n",
    "plt.title(\"Regular\")\n",
    "plt.ylim([0, 550])\n",
    "# plt.xlim([0.4, 0.9])\n",
    "plt.show() \n",
    "plt.close()"
   ]
  },
  {
   "cell_type": "code",
   "execution_count": null,
   "metadata": {
    "collapsed": false,
    "deletable": true,
    "editable": true,
    "scrolled": false
   },
   "outputs": [],
   "source": [
    "# Cut in different value\n",
    "\n",
    "bipolar_index = [i for i, value in enumerate(bipolar_LABELS[0]) if value == 1]\n",
    "\n",
    "bipolar_value = [bipolar_SCORES[0][i] for i in bipolar_index]\n",
    "\n",
    "TP_bipolar_value = filter(lambda x: x >= upper_bound, bipolar_value)\n",
    "\n",
    "regular_value = [bipolar_SCORES[0][i] for i in range(len(bipolar_SCORES[0])) if i not in bipolar_index]\n",
    "\n",
    "TN_regular_value = filter(lambda x: x < lower_bound, regular_value)\n",
    "\n",
    "FP = len(filter(lambda x: x < lower_bound, bipolar_value))\n",
    "\n",
    "FN = len(filter(lambda x: x >= upper_bound, regular_value))\n",
    "\n",
    "b_P = float(len(TP_bipolar_value))/(len(TP_bipolar_value) + FP)\n",
    "b_R = float(len(TP_bipolar_value))/(len(TP_bipolar_value)+FN )\n",
    "r_p = float(len(TN_regular_value))/(len(TN_regular_value) + FN)\n",
    "r_R = float(len(TN_regular_value))/(len(TN_regular_value)+ FP)\n",
    "\n",
    "print('Bipolar Precision: {}'.format(b_P))\n",
    "print('Bipolar Recall: {}'.format(b_R))\n",
    "print \n",
    "print('Regular Precision: {}'.format(r_p))\n",
    "print('Regular Recall: {}'.format(r_R))\n",
    "\n",
    "plt.hist(filter(lambda x: x >= upper_bound or x < lower_bound, bipolar_value), label = 'Bipolar', alpha=0.6)\n",
    "plt.hist(filter(lambda x: x >= upper_bound or x < lower_bound, regular_value), label = 'Regular', alpha=0.6)\n",
    "\n",
    "plt.grid(True)\n",
    "plt.xlabel(\"Probability\")\n",
    "plt.ylabel(\"Frequency\")\n",
    "\n",
    "plt.ylim([0, 550])\n",
    "plt.legend() \n",
    "plt.show() \n",
    "plt.close()"
   ]
  },
  {
   "cell_type": "markdown",
   "metadata": {
    "deletable": true,
    "editable": true
   },
   "source": [
    "# Check Polarity user"
   ]
  },
  {
   "cell_type": "code",
   "execution_count": null,
   "metadata": {
    "collapsed": true,
    "deletable": true,
    "editable": true
   },
   "outputs": [],
   "source": [
    "from collections import Counter"
   ]
  },
  {
   "cell_type": "code",
   "execution_count": null,
   "metadata": {
    "collapsed": false,
    "deletable": true,
    "editable": true
   },
   "outputs": [],
   "source": [
    "under_lower_index = [i for i in bipolar_index if bipolar_SCORES[0][i] < lower_bound]\n",
    "under_lower_user = [(pol_groups.getGroupUserName()[int(bipolar_NAMES[0][i])], bipolar_SCORES[0][i]) for i in under_lower_index]\n",
    "# Counter([name for name, value in under_lower_user]).most_common()\n"
   ]
  },
  {
   "cell_type": "markdown",
   "metadata": {
    "deletable": true,
    "editable": true
   },
   "source": [
    "## BD user Predict < 0.3"
   ]
  },
  {
   "cell_type": "code",
   "execution_count": null,
   "metadata": {
    "collapsed": false,
    "deletable": true,
    "editable": true
   },
   "outputs": [],
   "source": [
    "Counter([name for name, value in filter(lambda x: x[1]<0.3 ,under_lower_user)]).most_common()"
   ]
  },
  {
   "cell_type": "markdown",
   "metadata": {
    "deletable": true,
    "editable": true
   },
   "source": [
    "## Regular user Predict > 0.7"
   ]
  },
  {
   "cell_type": "code",
   "execution_count": null,
   "metadata": {
    "collapsed": false,
    "deletable": true,
    "editable": true,
    "scrolled": false
   },
   "outputs": [],
   "source": [
    "regular_index = [i for i in xrange(len(bipolar_SCORES[0])) if i not in bipolar_index]\n",
    "on_upper_index = [i for i in regular_index if bipolar_SCORES[0][i] > upper_bound]\n",
    "on_upper_user = [(pol_groups.getBaseUserName()[int(bipolar_NAMES[0][i])], bipolar_SCORES[0][i]) for i in regular_index]\n",
    "# Counter([name for name, value in on_upper_user]).most_common()\n"
   ]
  },
  {
   "cell_type": "code",
   "execution_count": null,
   "metadata": {
    "collapsed": false,
    "deletable": true,
    "editable": true
   },
   "outputs": [],
   "source": [
    "Counter([name for name, value in filter(lambda x: x[1]>0.7 ,on_upper_user)]).most_common()"
   ]
  },
  {
   "cell_type": "code",
   "execution_count": null,
   "metadata": {
    "collapsed": false,
    "deletable": true,
    "editable": true
   },
   "outputs": [],
   "source": [
    "# for i, user in enumerate(regular_clean):\n",
    "#     if user['name'][0] != 118151476:continue\n",
    "#     print i"
   ]
  },
  {
   "cell_type": "code",
   "execution_count": null,
   "metadata": {
    "collapsed": false,
    "deletable": true,
    "editable": true
   },
   "outputs": [],
   "source": [
    "# regular_clean[152]"
   ]
  },
  {
   "cell_type": "markdown",
   "metadata": {
    "deletable": true,
    "editable": true
   },
   "source": [
    "## Testing Predict Model"
   ]
  },
  {
   "cell_type": "code",
   "execution_count": null,
   "metadata": {
    "collapsed": true,
    "deletable": true,
    "editable": true
   },
   "outputs": [],
   "source": [
    "def getPOLFeature(timeSeries):\n",
    "#     features = np.zeros((len(user_timeSeries_list),20),dtype=float)\n",
    "    features = np.zeros((20),dtype=float)\n",
    "        \n",
    "    tweets_length = float(timeSeries.shape[0])\n",
    "    tweets_rate = getTweetRate(timeSeries)\n",
    "    late_tweets_rate = getLateTweetRate(timeSeries)\n",
    "    mention_rate = getMentionRate(timeSeries)\n",
    "    unique_mentions = getUniqueMentions(timeSeries)\n",
    "    frequent_mentions = getFrequentMentions(timeSeries)\n",
    "    negative_ratio = getNegativeRatio(timeSeries)\n",
    "    positive_ratio = getPositiveRatio(timeSeries)\n",
    "    flips_ratio = getFlipsCount(timeSeries) / tweets_length\n",
    "    negative_combos = getCombosCount(timeSeries,matcher=-1) / tweets_length\n",
    "    positive_combos = getCombosCount(timeSeries,matcher=1) / tweets_length\n",
    "    emotion_counts_dict = getUsersEmotions(timeSeries)\n",
    "\n",
    "\n",
    "    age = getAge(timeSeries)\n",
    "    gender = getGender(timeSeries)\n",
    "\n",
    "    features[0] = tweets_rate\n",
    "    features[1] = late_tweets_rate\n",
    "    features[2] = mention_rate\n",
    "    features[3] = unique_mentions\n",
    "    features[4] = frequent_mentions \n",
    "    features[5] = positive_ratio\n",
    "    features[6] = negative_ratio\n",
    "    features[7] = flips_ratio\n",
    "    features[8] = negative_combos\n",
    "    features[9] = positive_combos\n",
    "    features[10] = age\n",
    "    features[11] = gender\n",
    "    for j, emotion in enumerate([\"joy\",\"sadness\",\"fear\", \"anticipation\", \"anger\", \"trust\", \"disgust\" ,\"surprise\"]):\n",
    "        features[12+j] = np.mean(emotion_counts_dict[emotion])\n",
    "        \n",
    "            \n",
    "    return features"
   ]
  },
  {
   "cell_type": "code",
   "execution_count": null,
   "metadata": {
    "collapsed": false,
    "deletable": true,
    "editable": true,
    "scrolled": true
   },
   "outputs": [],
   "source": [
    "# #Dump the pre-trained models\n",
    "\n",
    "# # Get feature\n",
    "feature_order = ['tweets_rate', 'late_tweets_rate','mention_rate','unique_mentions','frequent_mentions','positive_ratio',\\\n",
    "                 'negative_ratio','flips','negative_combos','positive_combos', 'age', 'gender', \"joy\",\"sadness\",\"fear\",  \\\n",
    "                 \"anticipation\", \"anger\", \"trust\", \"disgust\" ,\"surprise\", \"long_tweets_rate\"]\n",
    "online_selection = []\n",
    "\n",
    "for feature_name in feature_order:\n",
    "    for i,(name, category) in enumerate(pol_groups.index2feature):\n",
    "        if name == feature_name:\n",
    "            online_selection.append(i)\n",
    "print(online_selection)\n",
    "            \n",
    "classifier  = RandomForestClassifier(n_jobs=-1, max_features=\"sqrt\", n_estimators=128)\n",
    "\n",
    "X, Y = pol_groups.getLabeledData(\"Bipolar\", selection=online_selection)\n",
    "\n",
    "sss = StratifiedShuffleSplit(Y[:,0], n_fold, test_size = 0.4, random_state=randint(0,65536) )\n",
    "\n",
    "for train_index, test_index in sss:\n",
    "    X_train, X_test           = X[train_index], X[test_index]\n",
    "    Y_train, Y_test           = Y[train_index][:,0], Y[test_index][:,0]\n",
    "    Y_train_name, Y_test_name = Y[train_index][:,1], Y[test_index][:,1]\n",
    "\n",
    "    classifier.fit(X_train, Y_train)\n",
    "\n",
    "SCORES = [classifier.predict_proba(X_test)[:,1]]\n",
    "LABELS = [Y[test_index][:,0]]"
   ]
  },
  {
   "cell_type": "code",
   "execution_count": null,
   "metadata": {
    "collapsed": false,
    "deletable": true,
    "editable": true
   },
   "outputs": [],
   "source": [
    "renderPRC(SCORES, LABELS, \"Bipolar\", [\"Pattern of Life\"])"
   ]
  },
  {
   "cell_type": "code",
   "execution_count": null,
   "metadata": {
    "collapsed": true,
    "deletable": true,
    "editable": true
   },
   "outputs": [],
   "source": [
    "#joblib.dump(classifier,\"models/bipolar_forest/bipolar_forest_long_term\")"
   ]
  },
  {
   "cell_type": "markdown",
   "metadata": {
    "deletable": true,
    "editable": true
   },
   "source": [
    "## Check the Feature Order"
   ]
  },
  {
   "cell_type": "code",
   "execution_count": null,
   "metadata": {
    "collapsed": false,
    "deletable": true,
    "editable": true
   },
   "outputs": [],
   "source": [
    "for cursor, (name,category) in enumerate(pol_groups.getIndex2Feature()):\n",
    "    print '{}\\t{}\\t{}'.format(cursor, name, category)"
   ]
  },
  {
   "cell_type": "markdown",
   "metadata": {
    "deletable": true,
    "editable": true
   },
   "source": [
    "## Check Testing Result"
   ]
  },
  {
   "cell_type": "code",
   "execution_count": null,
   "metadata": {
    "collapsed": false,
    "deletable": true,
    "editable": true,
    "scrolled": false
   },
   "outputs": [],
   "source": [
    "bd_testing_list = []\n",
    "for i, lab in enumerate(LABELS):\n",
    "    if lab[0] == 1:\n",
    "        bd_testing_list.append(SCORES[i])\n",
    "plt.plot(sorted(bd_testing_list))\n",
    "plt.show()\n",
    "plt.close()    "
   ]
  },
  {
   "cell_type": "markdown",
   "metadata": {
    "deletable": true,
    "editable": true
   },
   "source": [
    "## Check Training Result"
   ]
  },
  {
   "cell_type": "code",
   "execution_count": null,
   "metadata": {
    "collapsed": false,
    "deletable": true,
    "editable": true
   },
   "outputs": [],
   "source": [
    "bd_testing_list = []\n",
    "train_score = classifier.predict_proba(X_train)[0][:,1]\n",
    "for i, lab in enumerate(Y[train_index]):\n",
    "    if lab[0] == 1:\n",
    "        bd_testing_list.append(train_score[i])\n",
    "plt.plot(sorted(bd_testing_list))\n",
    "plt.show()\n",
    "plt.close()   "
   ]
  },
  {
   "cell_type": "markdown",
   "metadata": {
    "deletable": true,
    "editable": true
   },
   "source": [
    "## Check Original BD user Dataset"
   ]
  },
  {
   "cell_type": "code",
   "execution_count": null,
   "metadata": {
    "collapsed": false,
    "deletable": true,
    "editable": true
   },
   "outputs": [],
   "source": [
    "# proba_list = []\n",
    "# for timeSeries in bd_clean:\n",
    "#     bd_features = getPOLFeature(timeSeries)\n",
    "#     bd_proba = classifier.predict_proba(bd_features)[0][1]\n",
    "#     proba_list.append(bd_proba)\n",
    "    \n",
    "# plt.plot(sorted(proba_list))\n",
    "# plt.show()\n",
    "# plt.close()\n"
   ]
  },
  {
   "cell_type": "code",
   "execution_count": null,
   "metadata": {
    "collapsed": true,
    "deletable": true,
    "editable": true
   },
   "outputs": [],
   "source": []
  }
 ],
 "metadata": {
  "kernelspec": {
   "display_name": "Python 2",
   "language": "python",
   "name": "python2"
  },
  "language_info": {
   "codemirror_mode": {
    "name": "ipython",
    "version": 2
   },
   "file_extension": ".py",
   "mimetype": "text/x-python",
   "name": "python",
   "nbconvert_exporter": "python",
   "pygments_lexer": "ipython2",
   "version": "2.7.12"
  }
 },
 "nbformat": 4,
 "nbformat_minor": 2
}
