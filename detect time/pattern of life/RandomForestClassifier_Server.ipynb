{
 "cells": [
  {
   "cell_type": "code",
   "execution_count": 1,
   "metadata": {
    "collapsed": false,
    "deletable": true,
    "editable": true
   },
   "outputs": [],
   "source": [
    "import sys\n",
    "sys.path.append('./library') # age_gender_predictor\n",
    "sys.path.append('../.env/lib/python2.7/site-packages')\n",
    "import os \n",
    "import pickle\n",
    "import age_gender_predictor\n",
    "from collections import defaultdict\n",
    "import re\n",
    "from tabulate import tabulate\n",
    "from datetime import datetime, timedelta\n",
    "import math\n",
    "import numpy as np\n",
    "from scipy.stats import spearmanr\n",
    "import pandas as pd\n",
    "import pytz"
   ]
  },
  {
   "cell_type": "markdown",
   "metadata": {
    "deletable": true,
    "editable": true
   },
   "source": [
    "## Load Regular User"
   ]
  },
  {
   "cell_type": "code",
   "execution_count": 2,
   "metadata": {
    "collapsed": true,
    "deletable": true,
    "editable": true
   },
   "outputs": [],
   "source": [
    "timezone_location_dict = {\n",
    "    'Pacific Time (US & Canada)':'US/Pacific',\n",
    "    'Central Time (US & Canada)':'US/Central',\n",
    "    'Eastern Time (US & Canada)':'US/Eastern',\n",
    "    'London':'Europe/London',\n",
    "    'Sydney':'Australia/Sydney',\n",
    "    'Tokyo':'Asia/Tokyo',\n",
    "    'Africa/Nairobi':'Africa/Nairobi',\n",
    "    'Arizona':'US/Arizona',\n",
    "    'Kyiv':'Europe/Simferopol',\n",
    "    'Europe/London':'Europe/London',\n",
    "    'Atlantic Time (Canada)':'Atlantic/Canary',\n",
    "    'Midway Island':'Pacific/Apia',\n",
    "    'Auckland':'Pacific/Auckland',\n",
    "    'Amsterdam':'Europe/Amsterdam',\n",
    "    'Baghdad':'Asia/Riyadh',\n",
    "    'Riyadh':'Asia/Riyadh',\n",
    "    'Belgrade':'Europe/Belgrade',\n",
    "    'Quito':'Pacific/Galapagos',\n",
    "    'Pretoria':'Africa/Johannesburg',\n",
    "    'Beijing':'Asia/Shanghai',\n",
    "    'Dublin':'Europe/Dublin',\n",
    "    'Mountain Time (US & Canada)':'Mountain/US',\n",
    "    'Hawaii':'Pacific/Honolulu',\n",
    "    'Brisbane':'Australia/Brisbane',\n",
    "    'Vienna':'Europe/Vienna',\n",
    "    'Islamabad':'Asia/Karachi',\n",
    "    'Casablanca':'Africa/Casablanca',\n",
    "    'Yakutsk':'Asia/Yakutsk',\n",
    "    'Tijuana':'America/Tijuana',\n",
    "    'Johannesburg':'Africa/Johannesburg',\n",
    "    'Mountain Time (US & Canada)':'US/Central',\n",
    "    'Bangkok': 'Asia/Bangkok',\n",
    "    'Harare': 'Africa/Harare',\n",
    "    'Chennai': 'Asia/Kolkata',\n",
    "    'Kolkata': 'Asia/Kolkata',\n",
    "    'Brussels': 'Europe/Brussels',\n",
    "    'Melbourne': 'Australia/Melbourne',\n",
    "    'Alaska': 'US/Alaska',\n",
    "    'Perth': 'Australia/Perth',\n",
    "    'Denver':'America/Denver',\n",
    "    'Los Angeles': 'America/Los_Angeles',\n",
    "    'indiana': 'US/East-Indiana',\n",
    "    'Vancouver': 'America/Vancouver',\n",
    "    'Berlin': 'Europe/Berlin',\n",
    "    'Kentucky': 'America/Kentucky/Louisville',\n",
    "    'Copenhagen':'Europe/Copenhagen',\n",
    "    'Athens': 'Europe/Athens',\n",
    "    'Edinburgh': 'Etc/Greenwich',\n",
    "    'Wellington': 'Asia/Anadyr',\n",
    "    'Santiago': 'US/Pacific',\n",
    "    'America/New_York': 'US/Eastern',\n",
    "    'Paris': 'Europe/Paris',\n",
    "    'Jakarta': 'Asia/Jakarta',\n",
    "    'New Delhi': 'Asia/Calcutta',\n",
    "    'Chicago': 'US/Central',\n",
    "    'America/Chicago': 'US/Central',\n",
    "    'Fiji': 'Pacific/Fiji'\n",
    "}\n",
    "\n",
    "def to_local_timezone(local, orig_time):\n",
    "    dt = datetime.strptime(orig_time, \"%Y-%m-%d %H:%M:%S\")\n",
    "    dt = pytz.timezone(local).localize(dt)\n",
    "    est_dt = dt.astimezone(pytz.timezone('EST'))\n",
    "    return est_dt\n",
    "\n",
    "def readTimezone(folder, filename):\n",
    "    time_dict = {}\n",
    "    with open(folder + filename, 'r') as openfile:\n",
    "        for line in openfile.readlines():\n",
    "            split = line.strip().split('\\t')\n",
    "            if split[2] != 'None':\n",
    "                time_dict[split[0]] = split[2]\n",
    "            else:\n",
    "                continue\n",
    "    return time_dict"
   ]
  },
  {
   "cell_type": "code",
   "execution_count": 3,
   "metadata": {
    "collapsed": true,
    "deletable": true,
    "editable": true
   },
   "outputs": [],
   "source": [
    "def checkFolderFile(folder):\n",
    "    return os.listdir(folder)"
   ]
  },
  {
   "cell_type": "code",
   "execution_count": 4,
   "metadata": {
    "collapsed": false,
    "deletable": true,
    "editable": true
   },
   "outputs": [],
   "source": [
    "regular_clean = []\n",
    "regular_folder = './Regular/'\n",
    "for regular_file in checkFolderFile(regular_folder):\n",
    "    regular_clean.append(pd.read_pickle(regular_folder+regular_file))"
   ]
  },
  {
   "cell_type": "code",
   "execution_count": 5,
   "metadata": {
    "collapsed": false,
    "deletable": true,
    "editable": true
   },
   "outputs": [
    {
     "data": {
      "text/plain": [
       "268"
      ]
     },
     "execution_count": 5,
     "metadata": {},
     "output_type": "execute_result"
    }
   ],
   "source": [
    "len(regular_clean)"
   ]
  },
  {
   "cell_type": "markdown",
   "metadata": {
    "deletable": true,
    "editable": true
   },
   "source": [
    "## Load BD"
   ]
  },
  {
   "cell_type": "code",
   "execution_count": 6,
   "metadata": {
    "collapsed": true,
    "deletable": true,
    "editable": true
   },
   "outputs": [],
   "source": [
    "bd_clean = []\n",
    "bd_folder = './Bipolar/bd_shift2week/'\n",
    "for bd_file in checkFolderFile(bd_folder):\n",
    "    bd_clean.append(pd.read_pickle(bd_folder+bd_file))"
   ]
  },
  {
   "cell_type": "code",
   "execution_count": 7,
   "metadata": {
    "collapsed": false,
    "deletable": true,
    "editable": true
   },
   "outputs": [
    {
     "data": {
      "text/plain": [
       "276"
      ]
     },
     "execution_count": 7,
     "metadata": {},
     "output_type": "execute_result"
    }
   ],
   "source": [
    "len(bd_clean)"
   ]
  },
  {
   "cell_type": "code",
   "execution_count": 8,
   "metadata": {
    "collapsed": true,
    "deletable": true,
    "editable": true
   },
   "outputs": [],
   "source": [
    "groups = [ regular_clean, bd_clean]\n",
    "group_names = [\"Regular\", \"Bipolar\"]"
   ]
  },
  {
   "cell_type": "code",
   "execution_count": 9,
   "metadata": {
    "collapsed": false,
    "deletable": true,
    "editable": true
   },
   "outputs": [
    {
     "name": "stdout",
     "output_type": "stream",
     "text": [
      "Group      Users    Tweets    Average tweets\n",
      "-------  -------  --------  ----------------\n",
      "Regular      268     58461               218\n",
      "Bipolar      276    287512              1041\n"
     ]
    }
   ],
   "source": [
    "#Statistics facts of experimental data\n",
    "\n",
    "headers = [\"Group\",\"Users\", \"Tweets\", \"Average tweets\"]\n",
    "contents = []\n",
    "for i, group in enumerate(groups):\n",
    "    group_name = group_names[i]\n",
    "    tweets_num = sum([timeSeries.shape[0] for timeSeries in group])\n",
    "    users_num = len(group)\n",
    "    average_tweets_num = tweets_num / users_num\n",
    "    contents.append([group_name, users_num, tweets_num, average_tweets_num])\n",
    "    \n",
    "print(tabulate(contents, headers=headers))"
   ]
  },
  {
   "cell_type": "markdown",
   "metadata": {
    "deletable": true,
    "editable": true
   },
   "source": [
    "## Age Gender"
   ]
  },
  {
   "cell_type": "code",
   "execution_count": 10,
   "metadata": {
    "collapsed": true,
    "deletable": true,
    "editable": true
   },
   "outputs": [],
   "source": [
    "#Age and gender Distribution\n",
    "def getAgeGender(group):\n",
    "    features = {\"age\":[],\"gender\":[]}\n",
    "    for timeSeries in group:\n",
    "        \n",
    "        features[\"age\"].append(getAge(timeSeries))\n",
    "        features[\"gender\"].append(getGender(timeSeries))\n",
    "\n",
    "    return features\n",
    "def getAge(timeSeries):\n",
    "    texts = \"\"\n",
    "    for text in timeSeries[\"text\"].values:\n",
    "        texts += text + \"\\n\"\n",
    "    return age_gender_predictor.get_age(texts)\n",
    "\n",
    "def getGender(timeSeries):\n",
    "    texts = \"\"\n",
    "    for text in timeSeries[\"text\"].values:\n",
    "        texts += text + \"\\n\"\n",
    "    return age_gender_predictor.get_gender(texts)"
   ]
  },
  {
   "cell_type": "code",
   "execution_count": 11,
   "metadata": {
    "collapsed": false,
    "deletable": true,
    "editable": true
   },
   "outputs": [
    {
     "name": "stdout",
     "output_type": "stream",
     "text": [
      "Group      Male users    Female users    Average age\n",
      "-------  ------------  --------------  -------------\n",
      "Regular      0.488806        0.511194        30.1881\n",
      "Bipolar      0.242754        0.757246        24.4716\n"
     ]
    }
   ],
   "source": [
    "headers = [\"Group\",\"Male users\", \"Female users\", \"Average age\"]\n",
    "contents = []\n",
    "for i, group in enumerate(groups):\n",
    "    group_name = group_names[i]\n",
    "    users_num = float(len(group))\n",
    "    users_gender = [getGender(timeSeries) for timeSeries in group]\n",
    "    users_age = [getAge(timeSeries) for timeSeries in group]\n",
    "    male_ratio = len([gender for gender in users_gender if gender < 0]) / users_num\n",
    "    female_ratio = 1 - male_ratio\n",
    "    average_age = sum(users_age) / users_num\n",
    "    contents.append([group_name, male_ratio, female_ratio, average_age])\n",
    "print(tabulate(contents, headers=headers))"
   ]
  },
  {
   "cell_type": "markdown",
   "metadata": {
    "deletable": true,
    "editable": true
   },
   "source": [
    "## Social"
   ]
  },
  {
   "cell_type": "code",
   "execution_count": 12,
   "metadata": {
    "collapsed": true,
    "deletable": true,
    "editable": true
   },
   "outputs": [],
   "source": [
    "def getTweetRate(timeSeries):\n",
    "    total_tweets = timeSeries.shape[0]\n",
    "    delta_time = np.max(timeSeries.index.values) - np.min(timeSeries.index.values)\n",
    "    total_duration = (delta_time).astype('timedelta64[h]') / np.timedelta64(24, 'h')\n",
    "    try:\n",
    "        result = total_tweets / float(total_duration)\n",
    "    except:\n",
    "        result = total_tweets / 1.0\n",
    "    return result\n",
    "\n",
    "def getLateTweetRate(timeSeries):\n",
    "    total_late = 0\n",
    "    for index in timeSeries.index:\n",
    "        if int(index.hour) <6:\n",
    "            total_late += 1\n",
    "    delta_time = np.max(timeSeries.index.values) - np.min(timeSeries.index.values)\n",
    "    total_duration = (delta_time).astype('timedelta64[h]') / np.timedelta64(24, 'h')\n",
    "    try:\n",
    "        result = total_late / float(total_duration)\n",
    "    except:\n",
    "        result = total_late / 1.0\n",
    "    return result\n",
    "\n",
    "def getMentionRate(timeSeries):\n",
    "    total_tweets = timeSeries.shape[0]\n",
    "    total_mentions = np.sum(seriesContains(timeSeries))\n",
    "    return total_mentions / float(total_tweets)\n",
    "\n",
    "def thirdPronuonDetect(words, matcher=re.compile(\"@[a-z]+\")):\n",
    "    for word in words:\n",
    "        if word == \"@\":\n",
    "            continue\n",
    "        elif matcher.search(word):\n",
    "            return True\n",
    "    return False\n",
    "\n",
    "def seriesContains(timeSeries):\n",
    "    match_function = np.vectorize(thirdPronuonDetect)\n",
    "    return match_function(timeSeries[\"text\"].str.lower().str.split().values)\n",
    "\n",
    "\n",
    "def getUniqueMentions(timeSeries):\n",
    "    total_tweets = timeSeries.shape[0]\n",
    "    friends_set = set()\n",
    "    texts = timeSeries[\"text\"].values\n",
    "    for text in texts:\n",
    "        terms = text.strip().split()\n",
    "        for word in terms:\n",
    "            if word[0] == '@' and len(word) > 1:\n",
    "                friends_set.add(word)\n",
    "    return len(friends_set)\n",
    "\n",
    "def getFrequentMentions(timeSeries, lowerbound = 3):\n",
    "    total_tweets = timeSeries.shape[0]\n",
    "    friends_mentions = {}\n",
    "    texts = timeSeries[\"text\"].values\n",
    "    for text in texts:\n",
    "        terms = text.strip().split()\n",
    "        for word in terms:\n",
    "            if word[0] == '@' and len(word) > 1:\n",
    "                friends_mentions[word] = friends_mentions.get(word, 0) +1\n",
    "    frequent_frients = [screen_name for screen_name, mentions in friends_mentions.items() if mentions >= lowerbound]\n",
    "    return len(frequent_frients)\n",
    " \n",
    "\n",
    "def getSocialFeature_group(group):\n",
    "    social_features = {\"tweets_rate\": [],\"mention_rate\": [],\"unique_mentions\": [],\"frequent_mentions\": [], \"late_tweets_rate\": []}\n",
    "    for timeSeries in group:\n",
    "        social_features[\"tweets_rate\"].append(getTweetRate(timeSeries))\n",
    "        social_features[\"mention_rate\"].append(getMentionRate(timeSeries))\n",
    "        social_features[\"unique_mentions\"].append(getUniqueMentions(timeSeries))\n",
    "        social_features[\"frequent_mentions\"].append(getFrequentMentions(timeSeries))\n",
    "        social_features[\"late_tweets_rate\"].append(getLateTweetRate(timeSeries))\n",
    "    return social_features\n",
    "\n",
    "def getAllFeature(group, tail_k = \"all\"):\n",
    "    feature_set = {}\n",
    "    methods = [getSocialFeature_group, getGroupEmotions, getPolarity, getAgeGender]\n",
    "    for method in methods:\n",
    "        feature_set.update(method(group.getGroup(tail_k)))\n",
    "    return feature_set\n"
   ]
  },
  {
   "cell_type": "code",
   "execution_count": 13,
   "metadata": {
    "collapsed": false,
    "deletable": true,
    "editable": true
   },
   "outputs": [
    {
     "name": "stdout",
     "output_type": "stream",
     "text": [
      "\n",
      "======Mean Distribution======\n",
      "\n",
      "           tweets_rate    late_tweets_rate    mention_rate    unique_mentions    frequent_mentions\n",
      "-------  -------------  ------------------  --------------  -----------------  -------------------\n",
      "Regular        4.26146            0.973105        0.426162            46.6679              9.76866\n",
      "Bipolar       19.1205             5.98164         0.395342           116.649              37.0399\n"
     ]
    }
   ],
   "source": [
    "header = [\"tweets_rate\", \"late_tweets_rate\", \"mention_rate\", \"unique_mentions\", \"frequent_mentions\"]\n",
    "contents = []\n",
    "for i, group in enumerate(groups):\n",
    "   \n",
    "    group_name = group_names[i]\n",
    "    content = [group_name]\n",
    "    tweets_rate = np.mean([getTweetRate(timeSeries) for timeSeries in group])\n",
    "    mention_rate = np.mean([getMentionRate(timeSeries) for timeSeries in group])\n",
    "    unique_mentions = np.mean([getUniqueMentions(timeSeries) for timeSeries in group])\n",
    "    frequent_mention = np.mean([getFrequentMentions(timeSeries) for timeSeries in group]) \n",
    "    late_tweets_rate = np.mean([getLateTweetRate(timeSeries) for timeSeries in group])\n",
    "    content += [tweets_rate, late_tweets_rate, mention_rate, unique_mentions, frequent_mention]\n",
    "    contents.append(content)\n",
    "\n",
    "\n",
    "print(\"\\n======Mean Distribution======\\n\")\n",
    "\n",
    "print(tabulate(contents, headers=header,))"
   ]
  },
  {
   "cell_type": "code",
   "execution_count": 14,
   "metadata": {
    "collapsed": false,
    "deletable": true,
    "editable": true
   },
   "outputs": [
    {
     "name": "stdout",
     "output_type": "stream",
     "text": [
      "\n",
      "======Mean Distribution======\n",
      "\n",
      "       tweets_rate    late_tweets_rate    mention_rate    unique_mentions    frequent_mentions\n",
      "---  -------------  ------------------  --------------  -----------------  -------------------\n",
      "  0     148.39              55.9819         0.658435                  536                  315\n",
      "  1       0.8917             0.265613       0.93617                    25                    8\n",
      "  2       6.83891            0.0911854      0.656                     121                   15\n",
      "  3     151.628             53.2354         0.562411                 1550                  437\n",
      "  4       6.69145            0.160595       0.666667                  113                   17\n",
      "  5       2.82876            1.29874        0.150943                   19                    4\n",
      "  6       7.40528            5.1223         0.30829                    32                   13\n",
      "  7      52.287              6.14934        0.191532                  321                   44\n",
      "  8       3.23417            1.32548        0.382514                   23                    7\n",
      "  9       2.0556             0.46882        0.184211                    6                    2\n",
      " 10      15.011              7.51426        0.589474                  155                   54\n",
      " 11       8.68712            0.386503       0.309322                   20                    7\n",
      " 12       2.30695            0.116317       0.319328                   15                    4\n",
      " 13      11.2804             3.15073        0.0793103                  32                    3\n",
      " 14       2.09158            0.762186       0.0338983                   3                    0\n",
      " 15      13.3413             8.10203        0.580297                  143                   46\n",
      " 16      16.6677             5.20417        0.765021                  163                   66\n",
      " 17       4.51537            0.720351       0.256809                   35                    6\n",
      " 18       3.00912            0.31003        0.151515                   10                    2\n",
      " 19       6.97653            2.79788        0.395833                   75                   22\n",
      " 20      50.8331             5.79248        0.182819                  299                   40\n",
      " 21      12.9231             2.93951        0.249653                  106                   27\n",
      " 22      15.7838             4.64865        0.401826                  149                   29\n",
      " 23      33.9849            14.7958         0.292201                  182                   49\n",
      " 24      12.6953             5.88713        0.0697013                  13                    4\n",
      " 25      10.4192             4.58084        0.268966                   38                   14\n",
      " 26       2.45269            1.2536         0.533333                   32                   11\n",
      " 27      10.3592             3.68958        0.803082                  102                   49\n",
      " 28       2.84564            1.19911        0.371069                   21                    5\n",
      " 29      41.0901            18.0923         0.489944                  177                   81\n",
      " 30       6.31193            2.0367         0.476744                   25                   11\n",
      " 31       4.1148             0.851964       0.246696                   28                    5\n",
      " 32      20.5457             7.89805        0.611208                  152                   61\n",
      " 33       0.936496           0.422341       1                          20                    5\n",
      " 34       0.828856           0.460476       0.711111                   25                    4\n",
      " 35      11.7573             4.65618        0.762997                   79                   40\n",
      " 36       1.4632             0.142751       0.365854                   19                    4\n",
      " 37       8.66111            3.62092        0.621849                  114                   33\n",
      " 38      69.3213            14.3461         0.478994                  172                   94\n",
      " 39      18.6848             2.01361        0.159223                   91                   15\n",
      " 40      15.0521             1.48528        0.176895                   47                   12\n",
      " 41      15.8722             4.0639         0.727053                  307                   73\n",
      " 42       7.88706            0.432941       0.310263                   19                    8\n",
      " 43       8.03524            4.42291        0.328947                   27                   13\n",
      " 44       5.45855            2.13059        0.219355                   28                    7\n",
      " 45       4.05736            0.561509       0.370536                   26                   10\n",
      " 46       3.4336             0.475422       0.364103                   22                   10\n",
      " 47     150.057             60.1141         0.660232                  542                  321\n",
      " 48      15.5062             9.6375         0.569528                  159                   52\n",
      " 49       1.4016             0.6528         0.287671                   16                    2\n",
      " 50      10.1593             0.123894       0.109756                   22                   11\n",
      " 51      20.2329             5.53574        0.769231                  341                  104\n",
      " 52      10.873              2.23591        0.547264                   85                   37\n",
      " 53      16.8088             4.8            0.345188                  108                   47\n",
      " 54      29.2975            10.6488         0.322541                  135                   59\n",
      " 55      21.0523             7.07809        0.504754                   29                   16\n",
      " 56      64.0197            27.5184         0.307952                  415                  122\n",
      " 57      11.2522             2.67062        0.343354                   82                   28\n",
      " 58      70.8681            26.0693         0.59421                   253                  127\n",
      " 59      38.6087            13.3493         0.527493                  126                   39\n",
      " 60       9.10468            0.4098         0.340509                   22                    7\n",
      " 61       2.18022            0.105495       0.282258                   22                    7\n",
      " 62       5.21423            1.38077        0.118467                   14                    6\n",
      " 63       8.18262            0.530191       0.311015                   20                   10\n",
      " 64      25.0643             5.44568        0.518047                  245                   93\n",
      " 65      10.1689             5.72444        0.34965                    52                   21\n",
      " 66       3.09091            1.83838        0.248366                   26                    3\n",
      " 67       8.98               1.88           0.155902                   24                    8\n",
      " 68       0.900459           0.0735069      0.367347                   12                    2\n",
      " 69      10.5457             6.15481        0.380783                   56                   21\n",
      " 70       6.30285            2.89685        0.320334                   20                    5\n",
      " 71       3.76945            1.21037        0.93578                    55                   23\n",
      " 72       2.36805            0.469851       0.166667                    7                    1\n",
      " 73       8.49315            3.14155        0.339785                   70                   21\n",
      " 74      23.2264            13.2044         0.184709                  130                   24\n",
      " 75       2.83537            1.59146        0.16129                    17                    1\n",
      " 76       9.64585            2.25716        0.521024                   80                   34\n",
      " 77       3.3476             2.0369         0.259259                   41                    3\n",
      " 78       2.84835            1.33626        0.561728                   39                   19\n",
      " 79      92.378             47.8945         0.208793                  433                   80\n",
      " 80       6.47507            1.65396        0.339674                   27                   14\n",
      " 81      13.2808             3.34292        0.346101                  106                   25\n",
      " 82       0.803265           0.195918       0.390244                    8                    3\n",
      " 83       3.22388            1.62985        0.188889                   25                    5\n",
      " 84       7.29917            2.06281        0.163043                   17                    9\n",
      " 85      15.8306             6.60817        0.317661                  124                   25\n",
      " 86      67.7864            24.8427         0.642839                  217                  105\n",
      " 87      95.2968            49.2802         0.20473                   435                   82\n",
      " 88       5.63636            2.63636        0.354839                    8                    2\n",
      " 89       1.22716            0.261526       0.278689                   16                    4\n",
      " 90      34.2756            10.8946         0.323013                  143                   64\n",
      " 91      31.4265            16.5384         0.194972                  106                   38\n",
      " 92       2.83373            1.13735        0.367347                   20                    4\n",
      " 93      10.2449             6              0.183267                   33                    4\n",
      " 94      20.4809             7.95308        0.613402                  157                   64\n",
      " 95      11.9209             5.55604        0.0663717                  14                    2\n",
      " 96      16.3458             7.7079         0.59081                   167                   55\n",
      " 97       5.79623            2.39094        0.35625                    30                   13\n",
      " 98       7.6051             3.07643        0.123116                   27                    9\n",
      " 99      25.8914             0.624535       0.366644                  207                   52\n",
      "100      14.5583             1.47239        0.174463                   43                   11\n",
      "101       1.708              0.669112       0.319588                   17                    6\n",
      "102      12.0271             4.71332        0.129129                   57                   11\n",
      "103      10.9107             4.59304        0.768719                   75                   36\n",
      "104       0.807692           0.269231       0.928571                   24                    8\n",
      "105       1.63594            0.297444       0.0227273                   2                    0\n",
      "106      31.6547            13.7469         0.313921                  175                   53\n",
      "107       6.10384            3.6298         0.162722                   20                    7\n",
      "108       0.889655           0.351724       0.813953                   13                    5\n",
      "109      48.4505            22.5946         0.515061                  275                  120\n",
      "110      17.1982             7.38326        0.778689                  143                   82\n",
      "111       2.10909            0.690909       0.0172414                   2                    0\n",
      "112       3.31169            1.46104        0.258824                   21                    7\n",
      "113       7.74074            1.33333        0.526316                   44                   18\n",
      "114       5.15315            0.648649       0.29021                    26                    8\n",
      "115       4.92308            1.03736        0.239286                   42                    6\n",
      "116       8.30625            3.24375        0.167043                   62                    3\n",
      "117      25.9896             2.11399        0.220096                   23                    7\n",
      "118      14.3789             4.61741        0.71917                   147                   55\n",
      "119      62.7314            13.4932         0.706241                  557                  143\n",
      "120      27.6992            14.4214         0.183226                   99                   33\n",
      "121       8.86154            3.85055        0.275794                   34                   13\n",
      "122       5.65224            2.21864        0.352025                   32                   13\n",
      "123      40.9177             7.77057        0.908809                  129                   62\n",
      "124       5.47112            1.42249        0.316667                   22                   13\n",
      "125      56.4934            11.0661         0.716469                  531                  137\n",
      "126       9.68955            1.50448        0.528651                   94                   20\n",
      "127      40.2305            19.3965         0.49706                   181                   86\n",
      "128       0.985337           0.175953       0.321429                   13                    2\n",
      "129      11.6649             0.126792       0.107143                   21                   11\n",
      "130      43.0139            13.0797         0.271837                  231                   44\n",
      "131      17.4266             5.56208        0.466321                  263                   54\n",
      "132       7.12387            3.11782        0.124682                   27                    9\n",
      "133       0.940828           0.142012       0.886792                   44                    5\n",
      "134       7.87444            1.65022        0.175399                   24                    8\n",
      "135      16.5706             5.27647        0.471778                  280                   60\n",
      "136      91.2874            49.9676         0.554816                  261                  101\n",
      "137       6.29017            2.883          0.333333                   20                    6\n",
      "138       2.50957            0.282769       0.190141                   12                    2\n",
      "139       9.03571            1.5            0.537549                   91                   20\n",
      "140       0.939948           0.438642       0.488889                   17                    2\n",
      "141      29.7801            10.1062         0.686558                  283                  110\n",
      "142      42.2182            14.4727         0.277778                  221                   46\n",
      "143      56.8837             4.84565        0.895679                   51                   46\n",
      "144       6.79851            3.7829         0.181102                   19                    8\n",
      "145       1.66282            0.498845       0.288889                   16                    4\n",
      "146      14.5015             6.36254        0.335                     119                   24\n",
      "147       1.05228            0.263069       0.0192308                   1                    0\n",
      "148      15.6255             4.21361        0.369663                  140                   29\n",
      "149       3.68372            0.837209       0.141414                   17                    4\n",
      "150      16.2952             4.3572         0.778261                  321                   89\n",
      "151       2.05865            0.967742       0.273504                   24                    2\n",
      "152       3.478              2.42185        0.78534                   124                   24\n",
      "153       7.84751            3.0088         0.419283                   82                   26\n",
      "154      34.692              8.35699        0.361336                  232                   66\n",
      "155       4.77876            1.80531        0.296296                   30                    8\n",
      "156       5.83425            2.42463        0.230519                   30                    7\n",
      "157      66.2038            25.6664         0.625445                  209                  100\n",
      "158       4.0556             1.84345        0.246753                   38                    6\n",
      "159      10.0309             3.17881        0.609155                  142                   40\n",
      "160       0.763879           0.319763       0.837209                   11                    5\n",
      "161      26.0662            13.0155         0.550813                  236                   87\n",
      "162       7.72331            1.26316        0.598131                   75                   13\n",
      "163      25.6119             0.770149       0.406294                  255                   34\n",
      "164       9.83389            2.95017        0.594595                  158                   25\n",
      "165      25.3392             0.634361       0.381085                  254                   29\n",
      "166       4.48987            1.96721        0.443299                    9                    1\n",
      "167      13.5644             3.12878        0.708861                  242                   62\n",
      "168      37.6558             8.1365         0.21513                   211                   61\n",
      "169       9.35772            0.596928       0.34334                    93                   17\n",
      "170       0.777042           0.19426        0.431818                   10                    3\n",
      "171      11.8982             4.92213        0.211509                   30                   14\n",
      "172       9.93865            4.8773         0.816667                   92                   44\n",
      "173      90.9888            34.8993         0.303501                  311                  123\n",
      "174      12.0275             3.78947        0.528158                  163                   36\n",
      "175       4.54854            0.758089       0.186992                   24                    4\n",
      "176       6.86467            4.84565        0.304348                   30                   13\n",
      "177      11.1309             2.47549        0.61041                   182                   50\n",
      "178      61.4765            11.9016         0.483552                  552                  157\n",
      "179       1.24171            0.194018       0.34375                    14                    2\n",
      "180      20.2342             5.35135        0.750668                  356                   98\n",
      "181       6.18968            2.27621        0.422581                   24                   10\n",
      "182      41.1101             9.99119        0.665238                  348                  161\n",
      "183      23.0638             5.05926        0.501171                  226                   83\n",
      "184     150.356             53.9693         0.561653                 1528                  457\n",
      "185      36.4477             6.79444        0.897399                  111                   55\n",
      "186       3.80617            0.387665       0.277778                   21                    6\n",
      "187       5.43225            2.23467        0.311037                   30                   10\n",
      "188       0.982563           0.254738       0.0555556                   2                    0\n",
      "189      22.4441             2.48276        0.165192                   58                   14\n",
      "190      53.6406            12.5899         0.580069                  411                   91\n",
      "191       1.62364            0.167963       0.114943                    7                    1\n",
      "192      19.1129             4.98185        0.5778                    205                   72\n",
      "193       1.53982            0.318584       0.0114943                   1                    0\n",
      "194       3.82098            1.33822        0.525346                   34                   20\n",
      "195      26.7907            13.4134         0.561828                  228                   86\n",
      "196      10.5335             2.80775        0.358234                   44                   12\n",
      "197       2.81392            1.16188        0.329032                   20                    5\n",
      "198      17.7178             4.88012        0.339157                  110                   46\n",
      "199       5.35303            3.1551         0.801325                  180                   35\n",
      "200       2.33387            1.01135        0.00833333                  1                    0\n",
      "201       4.1106             0.423963       0.295964                   22                    6\n",
      "202      21.8539             0.464978       0.37725                   192                   45\n",
      "203      64.6182             5.36534        0.906938                   51                   43\n",
      "204      43.5947            13.8855         0.504446                  133                   46\n",
      "205      18.9416             5.76801        0.492795                   30                   16\n",
      "206       7.55556            1.28           0.545882                   48                   17\n",
      "207       2.05034            0.292906       0.866071                   65                   15\n",
      "208       0.890995           0.303318       0.829787                   26                    8\n",
      "209       6.20205            1.73939        0.192635                   44                    6\n",
      "210       4.16529            1.67693        0.0692641                   4                    3\n",
      "211      10.0073             3.37089        0.240351                  105                    5\n",
      "212      10.4644             4.22989        0.13181                    51                    8\n",
      "213      17.4338             0.0877835      0.527694                  144                   61\n",
      "214       4.79487            2.07692        0.42246                    31                    7\n",
      "215       2.41452            0.108926       0.24812                    21                    7\n",
      "216       4.04494            1.00674        0.155556                   20                    4\n",
      "217       7.45803            2.31517        0.165877                   15                    5\n",
      "218      11.7792             4.83885        0.217391                   33                   14\n",
      "219      91.0278            33.7862         0.301293                  305                  118\n",
      "220      13.1619             6.28139        0.769655                  118                   63\n",
      "221       3.47797            0.894915       0.385965                   21                    8\n",
      "222       2.18991            0.106825       0.325203                   17                    4\n",
      "223      34.8422             9.11892        0.296239                   85                   40\n",
      "224       2.375              0.196429       0.458647                    8                    1\n",
      "225      14.7774             4.49669        0.375895                  139                   23\n",
      "226      10.0951             2.6335         0.283478                   89                   24\n",
      "227       7.07621            2.58661        0.362924                   66                   19\n",
      "228       6.55856            1.81982        0.197802                   47                    6\n",
      "229       2.13622            0.352941       0.0782609                   3                    1\n",
      "230       5.04246            0.667643       0.240418                   30                    6\n",
      "231       7.41686            2.15034        0.17199                    15                    5\n",
      "232      63.9702            24.304          0.585127                  232                  120\n",
      "233       1.77778            0.740741       0.395833                   20                    5\n",
      "234      54.6578            13.4393         0.595477                  452                  104\n",
      "235       2.86222            1.65333        0.149068                   16                    2\n",
      "236       1.77169            0.347032       0.0927835                   3                    1\n",
      "237       8.22907            2.73128        0.40257                    49                   12\n",
      "238      12.2721             4.10827        0.37196                    57                   13\n",
      "239       4.17234            2.01361        0.230435                   36                    5\n",
      "240       1.71174            0.784547       0.375                      17                    5\n",
      "241       2.86804            0.826979       0.343558                   17                    4\n",
      "242      35.2972             9.22401        0.279243                   86                   42\n",
      "243      33.2239             0.716418       0.220485                  114                   36\n",
      "244      43.7977            11.194          0.644334                  341                  164\n",
      "245       0.766952           0.224474       0.0731707                   3                    0\n",
      "246      68.4512            11.6341         0.581507                  190                   60\n",
      "247      54.093             26.1786         0.51408                   289                  137\n",
      "248       4.14747            1.51152        0.524444                   35                   18\n",
      "249      11.4268             0.628659       0.34466                   111                   20\n",
      "250      14.3438             3.9327         0.19951                    59                   18\n",
      "251      14.3351             4.27348        0.548428                  198                   47\n",
      "252      31.3387             9.0417         0.692437                  285                  115\n",
      "253      21.4088             0.0714818      0.53005                   165                   64\n",
      "254      31.8565             7.12108        0.367117                  233                   65\n",
      "255       8.16364            2.72727        0.387528                   51                   13\n",
      "256      52.4945            14.7301         0.185284                  104                   30\n",
      "257      13.6679             3.58828        0.200528                   48                   15\n",
      "258       7.82927            3.87805        0.352804                   28                   14\n",
      "259       0.940048           0.153477       0.530612                   15                    4\n",
      "260      20.9091             4.36364        0.295652                   26                    2\n",
      "261      12.2244             3.21316        0.324523                   86                   29\n",
      "262       3.67667            1.47806        0.0653266                   4                    2\n",
      "263      23.7665            13.7425         0.167045                  124                   21\n",
      "264      71.6489            14.3789         0.484195                  183                  102\n",
      "265      35.9549             9.46657        0.370612                  202                   69\n",
      "266      16.2804             4.56075        0.780712                  311                   85\n",
      "267      35.3767             0.807608       0.226799                  120                   41\n",
      "268       1.6904             0.148607       0.340659                   20                    4\n",
      "269      33.8214             8.48609        0.33974                   172                   65\n",
      "270       2.47423            0.323553       0.823077                   63                   17\n",
      "271       2.92683            1.32683        0.02                        3                    0\n",
      "272      70.3146            28.9861         0.29588                   459                  138\n",
      "273      45.5673            11.0015         0.261355                  105                   33\n",
      "274       1.54               0.76           0.155844                    9                    1\n",
      "275      64.8369            11.4119         0.48443                   584                  160\n"
     ]
    }
   ],
   "source": [
    "header = [\"tweets_rate\", \"late_tweets_rate\", \"mention_rate\", \"unique_mentions\", \"frequent_mentions\"]\n",
    "contents = []\n",
    "for i, timeSeries in enumerate(bd_clean):\n",
    "    content = [i]\n",
    "#     content = [timeSeries['name'][0]]\n",
    "    tweets_rate = getTweetRate(timeSeries)\n",
    "    mention_rate = getMentionRate(timeSeries)\n",
    "    unique_mentions = getUniqueMentions(timeSeries)\n",
    "    frequent_mention = getFrequentMentions(timeSeries)\n",
    "    late_tweets_rate = getLateTweetRate(timeSeries)\n",
    "    content += [tweets_rate, late_tweets_rate, mention_rate, unique_mentions, frequent_mention]\n",
    "    contents.append(content)\n",
    "print(\"\\n======Mean Distribution======\\n\")\n",
    "print(tabulate(contents, headers=header,))"
   ]
  },
  {
   "cell_type": "markdown",
   "metadata": {
    "deletable": true,
    "editable": true
   },
   "source": [
    "## Polarity Feature"
   ]
  },
  {
   "cell_type": "code",
   "execution_count": 15,
   "metadata": {
    "collapsed": true,
    "deletable": true,
    "editable": true
   },
   "outputs": [],
   "source": [
    "def getFlipsCount(timeSeries, upperbound=120, lowerbound = 0):\n",
    "    flips = getFlips(timeSeries)\n",
    "    durations = getFlipsDuration(timeSeries, flips)\n",
    "    return np.sum((durations > lowerbound) & (durations < upperbound) )\n",
    "\n",
    "def getFlips(timeSeries, attribute= 'polarity'):\n",
    "    flips = np.zeros(timeSeries.shape[0],dtype=bool)\n",
    "    polarity = timeSeries[attribute].values[:-1]\n",
    "    right_elements = timeSeries[attribute].values[1:]\n",
    "    flips[:-1] = (polarity * right_elements) < 0\n",
    "    return flips\n",
    "\n",
    "def getFlipsDuration(timeSeries, flips):\n",
    "    filtered_timeSeries = timeSeries['dt'][flips].index.values\n",
    "    dt = np.zeros(filtered_timeSeries.shape[0],dtype=float)\n",
    "    dt[:-1] = (filtered_timeSeries[1:] - filtered_timeSeries[:-1]).astype('timedelta64[s]') / np.timedelta64(60, 's')\n",
    "    return dt\n",
    "\n",
    "def getCombosCount(timeSeries, matcher = -1, lowerbound = 2):\n",
    "    combos = comboTracker(timeSeries)\n",
    "    combos_count = sum([hit for element, hit in combos if element == matcher and hit > lowerbound])\n",
    "    return combos_count\n",
    "\n",
    "def getNegativeRatio(timeSeries):\n",
    "    total_tweets = timeSeries.shape[0]\n",
    "    return np.sum(timeSeries[\"polarity\"].values == -1) / float(total_tweets)\n",
    "\n",
    "def getPositiveRatio(timeSeries):\n",
    "    total_tweets = timeSeries.shape[0]\n",
    "    return np.sum(timeSeries[\"polarity\"].values == 1) / float(total_tweets)\n",
    "\n",
    "def getPolarity(group):\n",
    "    polarity = {\"flips\":[],\"negative_combos\":[],\"positive_combos\":[], \"positive_ratio\":[], \"negative_ratio\":[]}\n",
    "    for timeSeries in group:\n",
    "        try:\n",
    "            tweets_length = float(timeSeries.shape[0])\n",
    "        except:\n",
    "            print 'error'\n",
    "            print timeSeries\n",
    "            break\n",
    "        flips_ratio = getFlipsCount(timeSeries) / tweets_length\n",
    "        negative_combos_ratio = getCombosCount(timeSeries,matcher=-1) / tweets_length\n",
    "        positive_combos_ratio = getCombosCount(timeSeries,matcher=1) / tweets_length\n",
    "        positive_ratio = getPositiveRatio(timeSeries)\n",
    "        negative_ratio = getNegativeRatio(timeSeries)\n",
    "        \n",
    "        polarity[\"flips\"].append(flips_ratio)\n",
    "        polarity[\"negative_combos\"].append(negative_combos_ratio)\n",
    "        polarity[\"positive_combos\"].append(positive_combos_ratio)\n",
    "        polarity[\"positive_ratio\"].append(positive_ratio)\n",
    "        polarity[\"negative_ratio\"].append(negative_ratio)\n",
    "        \n",
    "    return polarity\n",
    "\n",
    "def comboTracker(timeSeries, attribute= \"polarity\", lowerbound = 120):\n",
    "    array = timeSeries[attribute]\n",
    "#     the polarity of starter\n",
    "    starter = array[0]\n",
    "    combo = 1\n",
    "    result = []\n",
    "    i = 0 \n",
    "#     begin from second one in the array\n",
    "    for cursor in array[1:]:\n",
    "        i += 1\n",
    "        if starter == cursor and timeSeries[\"dt\"][i-1] < lowerbound:\n",
    "            combo += 1\n",
    "        else:\n",
    "            if combo > 1:\n",
    "                result.append((starter, combo))\n",
    "            starter = cursor\n",
    "            combo = 1\n",
    "    if combo > 1:\n",
    "         result.append((starter, combo))\n",
    "    return result"
   ]
  },
  {
   "cell_type": "code",
   "execution_count": 16,
   "metadata": {
    "collapsed": false,
    "deletable": true,
    "editable": true
   },
   "outputs": [
    {
     "name": "stdout",
     "output_type": "stream",
     "text": [
      "\n",
      "=========\n",
      "\n",
      "Group      Positive Ratio    Negative Ratio    Flip Ratio    Positive Combos    Negative Combos\n",
      "-------  ----------------  ----------------  ------------  -----------------  -----------------\n",
      "Regular         0.223516           0.107087    0.00397308         0.0307636          0.00364134\n",
      "Bipolar         0.0844575          0.176278    0.00597603         0.00616584         0.0246394\n"
     ]
    }
   ],
   "source": [
    "headers = [\"Group\",\"Positive Ratio\",\"Negative Ratio\", \"Flip Ratio\", \"Positive Combos\", \"Negative Combos\"]\n",
    "contents = []\n",
    "for i, group in enumerate(groups):\n",
    "    group_name = group_names[i]\n",
    "   \n",
    "    positive_ratio_mean = np.mean([getPositiveRatio(timeSeries) for timeSeries in group])\n",
    "    negative_ratio_mean = np.mean([getNegativeRatio(timeSeries) for timeSeries in group])\n",
    "    flips_ratio_mean = np.mean([getFlipsCount(timeSeries) / float(len(timeSeries)) for timeSeries in group])\n",
    "    negative_combos_ratio = np.mean([getCombosCount(timeSeries,matcher=-1) / float(len(timeSeries)) for timeSeries in group])\n",
    "    positive_combos_ratio = np.mean([getCombosCount(timeSeries,matcher=1) / float(len(timeSeries)) for timeSeries in group])\n",
    "    \n",
    "    contents.append([group_name, positive_ratio_mean, negative_ratio_mean, flips_ratio_mean, positive_combos_ratio, negative_combos_ratio])\n",
    "print(\"\\n=========\\n\")\n",
    "print(tabulate(contents, headers=headers))"
   ]
  },
  {
   "cell_type": "code",
   "execution_count": 17,
   "metadata": {
    "collapsed": false,
    "deletable": true,
    "editable": true
   },
   "outputs": [
    {
     "name": "stdout",
     "output_type": "stream",
     "text": [
      "\n",
      "=========\n",
      "\n",
      "Group      Positive Ratio Mean    Positive Ratio STD    Negative Ratio Mean    Negative Ratio STD\n",
      "-------  ---------------------  --------------------  ---------------------  --------------------\n",
      "Regular              0.223516              0.156083                0.107087             0.0834606\n",
      "Bipolar              0.0844575             0.0639484               0.176278             0.100146\n"
     ]
    }
   ],
   "source": [
    "headers = [\"Group\",\"Positive Ratio Mean\",\"Positive Ratio STD\", \"Negative Ratio Mean\", \"Negative Ratio STD\"]\n",
    "contents = []\n",
    "for i, group in enumerate(groups):\n",
    "    group_name = group_names[i]\n",
    "   \n",
    "    positive_ratios = [getPositiveRatio(timeSeries) for timeSeries in group]\n",
    "    negative_ratios = [getNegativeRatio(timeSeries) for timeSeries in group]\n",
    "    positive_ratio_mean = np.mean(positive_ratios)\n",
    "    negative_ratio_mean = np.mean(negative_ratios)\n",
    "    positive_ratio_std = np.std(positive_ratios)\n",
    "    negative_ratio_std = np.std(negative_ratios)\n",
    "\n",
    "    contents.append([group_name, positive_ratio_mean, positive_ratio_std, negative_ratio_mean, negative_ratio_std])\n",
    "print(\"\\n=========\\n\")\n",
    "print(tabulate(contents, headers=headers))"
   ]
  },
  {
   "cell_type": "markdown",
   "metadata": {
    "deletable": true,
    "editable": true
   },
   "source": [
    "## Emotion"
   ]
  },
  {
   "cell_type": "code",
   "execution_count": 18,
   "metadata": {
    "collapsed": true,
    "deletable": true,
    "editable": true
   },
   "outputs": [],
   "source": [
    "def getUsersEmotions(timeSeries):\n",
    "    non_ambiguous = np.invert(timeSeries[\"ambiguous\"].values)\n",
    "    \n",
    "    filtered_emotions = timeSeries[\"emotion\"][non_ambiguous].values\n",
    "    emotions_count = {\"joy\":0,\"sadness\": 0,\"fear\":0,\\\n",
    "                \"anticipation\": 0, \"anger\":0, \"trust\": 0, \"disgust\": 0 ,\"surprise\" : 0}\n",
    "    if float(filtered_emotions.shape[0]) == 0:\n",
    "        divider = 1.0\n",
    "    else:\n",
    "        divider = float(filtered_emotions.shape[0])\n",
    "    for emotion in emotions_count:\n",
    "        emotions_count[emotion] = np.sum(filtered_emotions == emotion) / divider\n",
    "    return emotions_count\n",
    "\n",
    "def getGroupEmotions(group):\n",
    "    emotions_counts = {\"joy\":[],\"sadness\": [],\"fear\":[],\\\n",
    "                \"anticipation\": [], \"anger\":[], \"trust\": [], \"disgust\": [] ,\"surprise\" : []}\n",
    "    for timeSeries in group:\n",
    "        emotions_count = getUsersEmotions(timeSeries)\n",
    "        for emotion, count in emotions_count.items():\n",
    "            emotions_counts[emotion].append(count)\n",
    "    return emotions_counts\n",
    "\n"
   ]
  },
  {
   "cell_type": "code",
   "execution_count": 19,
   "metadata": {
    "collapsed": false,
    "deletable": true,
    "editable": true
   },
   "outputs": [
    {
     "name": "stdout",
     "output_type": "stream",
     "text": [
      "\n",
      "======Eight Emotional Features======\n",
      "\n",
      "\n",
      "======Distribution======\n",
      "\n",
      "Group    joy     sadness    fear    anticipation    anger    trust    disgust    surprise\n",
      "-------  ------  ---------  ------  --------------  -------  -------  ---------  ----------\n",
      "Regular  16.36%  26.24%     6.46%   14.26%          6.82%    15.1%    11.52%     3.24%\n",
      "Bipolar  13.83%  26.53%     6.05%   12.47%          10.44%   6.75%    14.65%     9.28%\n"
     ]
    }
   ],
   "source": [
    "emotions = [\"joy\",\"sadness\",\"fear\", \"anticipation\", \"anger\", \"trust\", \"disgust\" ,\"surprise\"]\n",
    "\n",
    "headers = [\"Group\"] + emotions\n",
    "contents = []\n",
    "for i, group in enumerate(groups):\n",
    "   \n",
    "    group_name = group_names[i]\n",
    "    content = [group_name]\n",
    "    emotions_counts = getGroupEmotions(group)\n",
    "    for emotion in emotions:\n",
    "        emotion_ratio = \"{}%\".format(round(np.mean(emotions_counts[emotion])*100, 2))\n",
    "        \n",
    "        content.append(emotion_ratio)\n",
    "    contents.append(content)\n",
    "    \n",
    "print(\"\\n======Eight Emotional Features======\\n\")\n",
    "\n",
    "print(\"\\n======Distribution======\\n\")\n",
    "\n",
    "print(tabulate(contents, headers=headers,))\n"
   ]
  },
  {
   "cell_type": "markdown",
   "metadata": {
    "deletable": true,
    "editable": true
   },
   "source": [
    "## Classifier"
   ]
  },
  {
   "cell_type": "code",
   "execution_count": 20,
   "metadata": {
    "collapsed": false,
    "deletable": true,
    "editable": true
   },
   "outputs": [],
   "source": [
    "from sklearn.ensemble import RandomForestClassifier\n",
    "from sklearn.cross_validation import StratifiedShuffleSplit\n",
    "from sklearn.metrics import precision_recall_curve\n",
    "from sklearn.metrics import average_precision_score\n",
    "from sklearn.metrics import roc_curve, auc\n",
    "from sklearn.preprocessing import Imputer\n",
    "from sklearn.externals import joblib\n",
    "from sklearn.preprocessing import MinMaxScaler\n",
    "from sklearn.linear_model import SGDClassifier \n",
    "from sklearn.svm import SVC\n",
    "from sklearn.naive_bayes import GaussianNB\n",
    "from sklearn.naive_bayes import MultinomialNB\n",
    "from sklearn import preprocessing\n",
    "\n",
    "import matplotlib.pyplot as plt\n",
    "from matplotlib import rcParams\n",
    "from random import randint\n",
    "from operator import itemgetter \n",
    "import time\n",
    "rcParams['figure.figsize'] = 12, 8"
   ]
  },
  {
   "cell_type": "code",
   "execution_count": 21,
   "metadata": {
    "collapsed": true,
    "deletable": true,
    "editable": true
   },
   "outputs": [],
   "source": [
    "#Wrap group to be object\n",
    "class Group(object):\n",
    "    def __init__(self, group_name, group_data_list):\n",
    "        self.name = group_name\n",
    "        self.timeSerieses_list = group_data_list\n",
    "        \n",
    "    def getName(self):\n",
    "        return self.name\n",
    "    \n",
    "    def getSize(self):\n",
    "        return len(self.timeSerieses_list)\n",
    "    \n",
    "    def getGroup(self, tail_k=\"all\"):\n",
    "        if tail_k ==\"all\":\n",
    "            return self.timeSerieses_list\n",
    "        else:\n",
    "            return [timeSeries.tail(tail_k) for timeSeries in self.group]"
   ]
  },
  {
   "cell_type": "code",
   "execution_count": 22,
   "metadata": {
    "collapsed": false,
    "deletable": true,
    "editable": true
   },
   "outputs": [],
   "source": [
    "bipolar_group = Group(\"Bipolar\", bd_clean)\n",
    "regular_group = Group(\"Regular\", regular_clean)"
   ]
  },
  {
   "cell_type": "code",
   "execution_count": 23,
   "metadata": {
    "collapsed": true,
    "deletable": true,
    "editable": true
   },
   "outputs": [],
   "source": [
    "def getCategories(group):\n",
    "    name2category = {}\n",
    "    names = [\"Social\", \"Emotions\", \"Polarity\", \"AgeGender\"]\n",
    "    methods = [getSocialFeature_group, getGroupEmotions, getPolarity, getAgeGender]\n",
    "    for i, method in enumerate(methods):\n",
    "        feature = method(group.getGroup())\n",
    "        for key in feature:\n",
    "            name2category[key] = names[i]\n",
    "    return name2category"
   ]
  },
  {
   "cell_type": "code",
   "execution_count": 24,
   "metadata": {
    "collapsed": false,
    "deletable": true,
    "editable": true
   },
   "outputs": [],
   "source": [
    "class POLFeaturerGroups(object):\n",
    "    \n",
    "    @staticmethod\n",
    "    def transform(self, ):\n",
    "        features_dict = getAllFeature(group)\n",
    "        \n",
    "    \n",
    "    def __init__(self, base, groups):\n",
    "        feature2categories = getCategories(base)\n",
    "        self.groups = groups\n",
    "        self.base = base\n",
    "        self.categories = set(feature2categories.values())\n",
    "        self.name_to_index = {group.getName(): index for index, group in enumerate(groups)}\n",
    "        self.base_name = base.getName()\n",
    "        self.index2feature = []\n",
    "        base_feature_dict = getAllFeature(base)\n",
    "        self.base_feature = np.zeros((base.getSize(),len(base_feature_dict)), dtype = float)\n",
    "        for name, values in base_feature_dict.items():\n",
    "            cursor = len(self.index2feature)\n",
    "          \n",
    "            self.base_feature[:,cursor] = values\n",
    "            category = feature2categories[name]\n",
    "            self.index2feature.append((name, category))\n",
    "        \n",
    "        \n",
    "        self.features = [self.group2feature(group) for group in groups]\n",
    "#         user_name\n",
    "        self.groups_user_name = []\n",
    "        for group in groups:\n",
    "            group_user_name = []\n",
    "            for timeSeries in group.getGroup():\n",
    "                group_user_name.append(timeSeries['name'][0])\n",
    "            self.groups_user_name.append(group_user_name)\n",
    "        \n",
    "        self.base_user_name = []\n",
    "        for timeSeries in base.getGroup():\n",
    "            self.base_user_name.append(timeSeries['name'][0])\n",
    "        \n",
    "    def group2feature(self, group, tail_k=\"all\", selection = \"all\"):\n",
    "        features_dict = getAllFeature(group, tail_k)\n",
    "        feature = np.zeros((group.getSize(),len(self.index2feature)),dtype=float)\n",
    "        for cursor, (name,category) in enumerate(self.index2feature):\n",
    "            value = features_dict[name]\n",
    "            feature[:,cursor] = value\n",
    "        if selection == \"all\":\n",
    "            return feature\n",
    "        else:\n",
    "            return feature[:,selection]   \n",
    "\n",
    "    def getPrecision(self,name,selection=\"all\",tail_k=\"all\",n_fold=10,classifier = \"forest\"):\n",
    "        complete_X, Y = self.getLabeledData(name, selection)\n",
    "        index = self.name_to_index[name]\n",
    "        group = self.groups[index]\n",
    "        tailed_X = preprocessing.scale(self.group2feature(self.base + group, tail_k=tail_k, selection = selection))\n",
    "        complete_X = preprocessing.scale(complete_X)\n",
    "        \n",
    "        tailed_X[np.isinf(tailed_X)] = 0\n",
    "        tailed_X[np.isnan(tailed_X)] = 0\n",
    "        \n",
    "        precisions = []\n",
    "        if classifier == \"forest\":\n",
    "            classifier = RandomForestClassifier(n_jobs=-1, max_features=\"sqrt\", n_estimators=128)\n",
    "  \n",
    "        sss = StratifiedShuffleSplit(Y, n_fold, test_size = 0.4, random_state=randint(0,65536) )\n",
    "\n",
    "        for train_index, test_index in sss:\n",
    "            X_train, X_test = complete_X[train_index], tailed_X[test_index]\n",
    "            Y_train, Y_test = Y[train_index], Y[test_index]\n",
    "            imputer = Imputer()\n",
    "            classifier.fit(X_train, Y_train)\n",
    "            score = classifier.score(X_test,Y_test)\n",
    "            precisions.append(score)\n",
    "            \n",
    "        return np.mean(precisions)\n",
    "            \n",
    "    def getLabeledData(self,name, selection = \"all\"):\n",
    "        if selection is \"all\":\n",
    "            selection = range(len(self.index2feature))\n",
    "        \n",
    "        base_feature = self.base_feature[:,selection]\n",
    "        base_length = base_feature.shape[0]\n",
    "        index = self.name_to_index[name]\n",
    "        feature = self.features[index][:,selection]\n",
    "\n",
    "        X = np.zeros((base_length  + feature.shape[0],len(selection)),dtype=float)\n",
    "        X[0:base_length ,:] = base_feature\n",
    "        X[base_length:,:] = feature\n",
    "#         Y = np.array([(0,-1)]*base_length + [(1,i) for i,_ in enumerate(self.getGroupUserName())])\n",
    "        Y = np.array([(0,i) for i,_ in enumerate(self.getBaseUserName())] + [(1,i) for i,_ in enumerate(self.getGroupUserName())])\n",
    "        \n",
    "        return X, Y\n",
    "    \n",
    "    def getFeatureImportance_all(self,name):\n",
    "        X, Y = self.getLabeledData(name)\n",
    "        classifier = RandomForestClassifier(n_jobs=-1, max_features=\"sqrt\", n_estimators=128)\n",
    "        classifier.fit(X,Y)\n",
    "        features_indicies = np.argsort(classifier.feature_importances_)\n",
    "        feature_names = [self.index2feature[i] for i in features_indicies ]\n",
    "        return feature_names[::-1]\n",
    "    \n",
    "    def getFeature(self, name, selection=\"all\"):\n",
    "        if selection is \"all\":\n",
    "            selection = list(range(len(self.index2feature)))\n",
    "        index = self.name_to_index[name]\n",
    "        feature =  self.features[index]\n",
    "        return feature[:, selection]\n",
    "    \n",
    "    def classify(self,name, target_name, selection=\"all\"):\n",
    "        X, Y = self.getLabeledData(name, selection)\n",
    "        classifier = RandomForestClassifier(n_jobs=-1, max_features=\"sqrt\", n_estimators=128)\n",
    "        classifier.fit(X,Y)\n",
    "        test_x = self.getFeature(target_name,selection)\n",
    "        return classifier.predict(test_x)\n",
    "       \n",
    "    def getLabelsScores(self, name, classifier, n_fold, selection):\n",
    "        SCORES = np.array([])\n",
    "        LABELS = np.zeros(shape=(0,2))\n",
    "        X, Y = self.getLabeledData(name, selection)        \n",
    "        sss = StratifiedShuffleSplit(Y[:,0], n_fold, test_size = 0.4, random_state=randint(0,65536) )\n",
    "\n",
    "        for train_index, test_index in sss:\n",
    "            X_train, X_test           = X[train_index], X[test_index]\n",
    "            Y_train, Y_test           = Y[train_index][:,0], Y[test_index][:,0]\n",
    "            Y_train_name, Y_test_name = Y[train_index][:,1], Y[test_index][:,1]\n",
    "\n",
    "            classifier.fit(X_train, Y_train)\n",
    "            score = classifier.predict_proba(X_test)[:,1]\n",
    "            SCORES = np.concatenate((SCORES, score))\n",
    "            LABELS = np.concatenate((LABELS, Y[test_index]))\n",
    "        return SCORES, LABELS, (X_train, X_test,Y_train, Y_test, Y_train_name, Y_test_name)\n",
    "    \n",
    "    def renderPrecisionRecall_all(self, name,colors=['r','g','b',\"y\", \"m\"], n_fold = 100):\n",
    "        classifier  = RandomForestClassifier(n_jobs= -1, max_features=\"sqrt\", n_estimators=128)\n",
    "        fig, ax = plt.subplots()\n",
    "        ax.spines['bottom'].set_color('white')\n",
    "        ax.spines['top'].set_color('white') \n",
    "        ax.spines['right'].set_color('white')\n",
    "        ax.spines['left'].set_color('white')\n",
    "        ax.tick_params(axis='x')\n",
    "        ax.tick_params(axis='y')\n",
    "        ax.title.set_color('white')\n",
    "        plt.xlim([0.0, 1.0])\n",
    "        plt.ylim([0.0, 1.05])\n",
    "        plt.xlabel('Recall')\n",
    "        plt.ylabel('Precision')\n",
    "        plt.title('Precision Recall Curve: {}'.format(name))\n",
    "        \n",
    "        categories = list(self.categories) + [\"All\"]\n",
    "        for g,category in enumerate(categories):\n",
    "            if category == \"All\":\n",
    "                selection = range(len(self.index2feature))\n",
    "            else:\n",
    "                selection = [i for i, (feature_name, feature_category) in enumerate(self.index2feature) if category == feature_category]\n",
    "            \n",
    "            SCORES, LABELS, (X_train, X_test,Y_train, Y_test, Y_train_name, Y_test_name) = self.getLabelsScores(name, classifier,n_fold, selection)\n",
    "            precision, recall, _ = precision_recall_curve(LABELS[:,0], SCORES, pos_label=1)\n",
    "            average_precision = average_precision_score(LABELS[:,0], SCORES)\n",
    "            positive_train = np.count_nonzero(Y_train)\n",
    "            positive_test = np.count_nonzero(Y_test)\n",
    "            normal_train = Y_train.shape[0] - positive_train\n",
    "            normal_test = Y_test.shape[0] - positive_test\n",
    "           \n",
    "            plt.plot(recall, precision, label=category , color=colors[g],linewidth=2)\n",
    "            \n",
    "        print(\"{} Normal and {} {} in Training Data\".format(normal_train,positive_train,name))\n",
    "        print(\"{} Normal and {} {} in Test Data\\n\".format(normal_test,positive_test,name))\n",
    "        plt.legend(loc=\"lower right\")\n",
    "        plt.show()\n",
    "\n",
    "    def getSeperateScores(self, name, classifier, n_fold, selection):\n",
    "        SCORES = np.array([])\n",
    "        LABELS = np.array([])\n",
    "\n",
    "        X, Y = self.getLabeledData(name, selection)\n",
    "\n",
    "        sss = StratifiedShuffleSplit(Y, n_fold, test_size = 0.4, random_state=randint(0,65536) )\n",
    "\n",
    "        for train_index, test_index in sss:\n",
    "\n",
    "            X_train, X_test = X[train_index], X[test_index]\n",
    "            Y_train, Y_test = Y[train_index], Y[test_index]\n",
    "\n",
    "            classifier.fit(X_train, Y_train)\n",
    "            score = classifier.predict_proba(X_test)[:,1]\n",
    "            SCORES = np.concatenate((SCORES, score))\n",
    "            LABELS = np.concatenate((LABELS, Y_test))\n",
    "\n",
    "        return SCORES, LABELS, (X_train, X_test,Y_train, Y_test)\n",
    "    \n",
    "    def getGroupUserName(self,group_num = 0):\n",
    "        return self.groups_user_name[group_num]\n",
    "    \n",
    "    def getIndex2Feature(self):\n",
    "        return self.index2feature\n",
    "    \n",
    "    def getBaseUserName(self):\n",
    "        return self.base_user_name"
   ]
  },
  {
   "cell_type": "code",
   "execution_count": 25,
   "metadata": {
    "collapsed": false,
    "deletable": true,
    "editable": true
   },
   "outputs": [],
   "source": [
    "pol_groups = POLFeaturerGroups(regular_group, [bipolar_group])"
   ]
  },
  {
   "cell_type": "code",
   "execution_count": 26,
   "metadata": {
    "collapsed": false,
    "deletable": true,
    "editable": true
   },
   "outputs": [
    {
     "name": "stdout",
     "output_type": "stream",
     "text": [
      "161 Normal and 165 Bipolar in Training Data\n",
      "107 Normal and 111 Bipolar in Test Data\n",
      "\n"
     ]
    },
    {
     "data": {
      "image/png": "[encoded data removed]",
      "text/plain": [
       "<matplotlib.figure.Figure at 0x7f5ec8231750>"
      ]
     },
     "metadata": {},
     "output_type": "display_data"
    }
   ],
   "source": [
    "#Compare the performance of each Pattern of Life components and LIWC\n",
    "pol_groups.renderPrecisionRecall_all(\"Bipolar\",n_fold=10)"
   ]
  },
  {
   "cell_type": "markdown",
   "metadata": {
    "deletable": true,
    "editable": true
   },
   "source": [
    "# Precission Recall Chart on 10-fold cross-validation"
   ]
  },
  {
   "cell_type": "code",
   "execution_count": 27,
   "metadata": {
    "collapsed": false,
    "deletable": true,
    "editable": true
   },
   "outputs": [
    {
     "name": "stdout",
     "output_type": "stream",
     "text": [
      "Pattern of Life under curve area: 0.976347141534\n"
     ]
    },
    {
     "data": {
      "image/png": "[encoded data removed]",
      "text/plain": [
       "<matplotlib.figure.Figure at 0x7f5ec83a8b10>"
      ]
     },
     "metadata": {},
     "output_type": "display_data"
    },
    {
     "name": "stdout",
     "output_type": "stream",
     "text": [
      "Pattern of Life Average Precision: 0.978811543626\n"
     ]
    },
    {
     "data": {
      "image/png": "[encoded data removed]",
      "text/plain": [
       "<matplotlib.figure.Figure at 0x7f5ec80d17d0>"
      ]
     },
     "metadata": {},
     "output_type": "display_data"
    }
   ],
   "source": [
    " \n",
    "index2feature = pol_groups.index2feature\n",
    "\n",
    "def getSelection(excluded_categories=[], excluded_index=[]):\n",
    "    selection = []\n",
    "    for i in range(len(index2feature)):\n",
    "        name,category =  index2feature[i]\n",
    "        if any(category == x for x in excluded_categories):\n",
    "            #removed_features.append(name)\n",
    "            pass\n",
    "        elif any(name == x for x in excluded_index):\n",
    "            #removed_features.append(name)\n",
    "            pass\n",
    "\n",
    "        else:                   \n",
    "            selection.append(i)\n",
    "    return selection\n",
    "\n",
    "\n",
    "POL_selection = getSelection(excluded_categories=[\"LIWC\"])\n",
    "\n",
    "#ROC chart of three models:\n",
    "def renderROC(scores, labels,disorder ,names, linestyle=['solid','dashed','dotted']):\n",
    "    fig, ax = plt.subplots()\n",
    "    for i,(score, label) in enumerate(zip(scores, labels)):\n",
    "        fpr, tpr, _ = roc_curve(label,score, pos_label=1)\n",
    "        roc_auc = auc(fpr, tpr)\n",
    "        plt.plot(fpr, tpr, label=names[i], ls=linestyle[i],linewidth=3)\n",
    "        print(\"{} under curve area: {}\".format(names[i],roc_auc))\n",
    "\n",
    "   \n",
    "    plt.plot([0, 1], [0, 1], 'k--')\n",
    "    plt.xlim([0.0, 1.0])\n",
    "    plt.ylim([0.0, 1.05])\n",
    "    plt.xlabel('False Positive Rate')\n",
    "    plt.ylabel('True Positive Rate')\n",
    "    plt.title('{} ROC chart'.format(disorder))\n",
    "    plt.legend(loc=\"lower right\")\n",
    "\n",
    "    plt.show()\n",
    "\n",
    "names = [\"Pattern of Life\"]\n",
    "classifier  = RandomForestClassifier(n_jobs= -1, max_features=\"sqrt\", n_estimators=128)\n",
    "name = \"Bipolar\"\n",
    "n_fold = 10\n",
    "POL_scores, POL_labels, _ = pol_groups.getLabelsScores(name, classifier, n_fold=n_fold, selection=POL_selection)\n",
    "\n",
    "bipolar_SCORES = [POL_scores]\n",
    "bipolar_LABELS = [POL_labels[:,0]]\n",
    "bipolar_NAMES = [POL_labels[:,1]]\n",
    "\n",
    "\n",
    "renderROC(bipolar_SCORES, bipolar_LABELS, name,names)\n",
    "\n",
    "POL_scores, POL_labels, _ = pol_groups.getLabelsScores(name, classifier,n_fold=n_fold, selection=POL_selection)\n",
    "\n",
    "#np.sum(tfidf_labels)\n",
    "\n",
    "def renderPRC(scores, labels,disorder ,names, linestyle=['solid','dashed','dashdot']):\n",
    "    fig, ax = plt.subplots()\n",
    "    for i,(score, label) in enumerate(zip(scores, labels)):\n",
    "        \n",
    "        precision, recall, _ = precision_recall_curve(label, score, pos_label=1)\n",
    "        average_precision = average_precision_score(label, score)\n",
    "\n",
    "        plt.plot(recall, precision, label=names[i], ls=linestyle[i],linewidth=3)\n",
    "        print(\"{} Average Precision: {}\".format(names[i],average_precision))\n",
    "\n",
    "   \n",
    "\n",
    "    plt.xlim([0.0, 1.0])\n",
    "    plt.ylim([0.0, 1.05])\n",
    "    plt.xlabel('False Positive Rate')\n",
    "    plt.ylabel('True Positive Rate')\n",
    "    plt.title('{} Precision Recall Chart'.format(disorder))\n",
    "    plt.legend(loc=\"lower right\")\n",
    "\n",
    "    plt.show()\n",
    "    \n",
    "renderPRC(bipolar_SCORES, bipolar_LABELS, \"Bipolar\",names)"
   ]
  },
  {
   "cell_type": "code",
   "execution_count": 28,
   "metadata": {
    "collapsed": false,
    "deletable": true,
    "editable": true
   },
   "outputs": [
    {
     "data": {
      "image/png": "[encoded data removed]",
      "text/plain": [
       "<matplotlib.figure.Figure at 0x7f5ec1b7b6d0>"
      ]
     },
     "metadata": {},
     "output_type": "display_data"
    }
   ],
   "source": [
    "bipolar_index = [i for i, value in enumerate(bipolar_LABELS[0]) if value == 1]\n",
    "\n",
    "bipolar_value = [bipolar_SCORES[0][i] for i in bipolar_index]\n",
    "\n",
    "regular_value = [bipolar_SCORES[0][i] for i in range(len(bipolar_SCORES[0])) if i not in bipolar_index]\n",
    "\n",
    "plt.hist(bipolar_value, label = 'Bipolar', alpha=0.6)\n",
    "plt.hist(regular_value, label = 'Regular', alpha=0.6)\n",
    "\n",
    "plt.grid(True)\n",
    "plt.xlabel(\"Probability\")\n",
    "plt.ylabel(\"Frequency\")\n",
    "\n",
    "plt.ylim([0, 550])\n",
    "plt.legend() \n",
    "plt.show() \n",
    "plt.close()"
   ]
  },
  {
   "cell_type": "code",
   "execution_count": 29,
   "metadata": {
    "collapsed": false,
    "deletable": true,
    "editable": true
   },
   "outputs": [],
   "source": [
    "b_P_list = []\n",
    "b_R_list = []\n",
    "r_p_list = []\n",
    "r_R_list = []\n",
    "thre_list = np.arange(0.4,0.91,0.001)\n",
    "for thre in thre_list:\n",
    "\n",
    "    bipolar_index = [i for i, value in enumerate(bipolar_LABELS[0]) if value == 1]\n",
    "\n",
    "    bipolar_value = [bipolar_SCORES[0][i] for i in bipolar_index]\n",
    "\n",
    "    TP_bipolar_value = filter(lambda x: x >= thre, bipolar_value)\n",
    "\n",
    "    regular_value = [bipolar_SCORES[0][i]for i in range(len(bipolar_SCORES[0])) if i not in bipolar_index]\n",
    "\n",
    "    TN_regular_value = filter(lambda x: x < thre, regular_value)\n",
    "\n",
    "    Total_Bipolar = len(bipolar_value)\n",
    "\n",
    "    Total_Regular = len(regular_value)\n",
    "\n",
    "    FP = Total_Regular - len(TN_regular_value)\n",
    "\n",
    "    FN = Total_Bipolar - len(TP_bipolar_value)\n",
    "\n",
    "    b_P = float(len(TP_bipolar_value))/(len(TP_bipolar_value) + FP)\n",
    "    b_R = float(len(TP_bipolar_value))/len(bipolar_value)\n",
    "    r_p = float(len(TN_regular_value))/(len(TN_regular_value) + FN)\n",
    "    r_R = float(len(TN_regular_value))/len(regular_value)\n",
    "\n",
    "    b_P_list.append(b_P)\n",
    "    b_R_list.append(b_R)\n",
    "    r_p_list.append(r_p)\n",
    "    r_R_list.append(r_R)\n"
   ]
  },
  {
   "cell_type": "code",
   "execution_count": 30,
   "metadata": {
    "collapsed": false,
    "deletable": true,
    "editable": true
   },
   "outputs": [
    {
     "data": {
      "image/png": "[encoded data removed]",
      "text/plain": [
       "<matplotlib.figure.Figure at 0x7f5ec1b90c50>"
      ]
     },
     "metadata": {},
     "output_type": "display_data"
    }
   ],
   "source": [
    "plt.plot(thre_list, b_P_list, 'r', label='Bipolar Precision')\n",
    "plt.plot(thre_list, b_R_list, 'b', label='Bipolar Recall')\n",
    "plt.legend()\n",
    "plt.show() \n",
    "plt.close()"
   ]
  },
  {
   "cell_type": "code",
   "execution_count": 31,
   "metadata": {
    "collapsed": false,
    "deletable": true,
    "editable": true
   },
   "outputs": [
    {
     "data": {
      "image/png": "[encoded data removed]",
      "text/plain": [
       "<matplotlib.figure.Figure at 0x7f5ebf0703d0>"
      ]
     },
     "metadata": {},
     "output_type": "display_data"
    }
   ],
   "source": [
    "plt.plot(thre_list, r_p_list, 'g', label='Regular Precision')\n",
    "plt.plot(thre_list, r_R_list, 'm', label='Regular Recall')\n",
    "plt.legend()\n",
    "plt.show() \n",
    "plt.close()"
   ]
  },
  {
   "cell_type": "code",
   "execution_count": 32,
   "metadata": {
    "collapsed": false,
    "deletable": true,
    "editable": true
   },
   "outputs": [
    {
     "data": {
      "image/png": "[encoded data removed]",
      "text/plain": [
       "<matplotlib.figure.Figure at 0x7f5ebef85290>"
      ]
     },
     "metadata": {},
     "output_type": "display_data"
    }
   ],
   "source": [
    "plt.plot(thre_list, r_p_list, 'g', label='Regular Precision')\n",
    "plt.plot(thre_list, r_R_list, 'm', label='Regular Recall')\n",
    "plt.plot(thre_list, b_P_list, 'r', label='Bipolar Precision')\n",
    "plt.plot(thre_list, b_R_list, 'b', label='Bipolar Recall')\n",
    "plt.legend()\n",
    "plt.show() \n",
    "plt.close()"
   ]
  },
  {
   "cell_type": "code",
   "execution_count": 34,
   "metadata": {
    "collapsed": false,
    "deletable": true,
    "editable": true
   },
   "outputs": [
    {
     "name": "stdout",
     "output_type": "stream",
     "text": [
      "0.5\n",
      "0.461\n"
     ]
    }
   ],
   "source": [
    "for i, value in enumerate(thre_list):\n",
    "    if b_P_list[i] < r_R_list[i]:\n",
    "        cross_i = i\n",
    "        upper_bound = thre_list[i]\n",
    "        print upper_bound\n",
    "        break\n",
    "for i, value in enumerate(thre_list):\n",
    "    if r_p_list[i] < b_P_list[i]:\n",
    "        \n",
    "        lower_bound = thre_list[i]\n",
    "        print lower_bound\n",
    "        break"
   ]
  },
  {
   "cell_type": "code",
   "execution_count": 35,
   "metadata": {
    "collapsed": false,
    "deletable": true,
    "editable": true
   },
   "outputs": [
    {
     "name": "stdout",
     "output_type": "stream",
     "text": [
      "Bipolar Precision: 0.939195509822\n",
      "Bipolar Recall: 0.904504504505\n"
     ]
    },
    {
     "data": {
      "image/png": "[encoded data removed]",
      "text/plain": [
       "<matplotlib.figure.Figure at 0x7f5ebedd7b90>"
      ]
     },
     "metadata": {},
     "output_type": "display_data"
    },
    {
     "name": "stdout",
     "output_type": "stream",
     "text": [
      "Regular Precision: 0.904590459046\n",
      "Regular Recall: 0.939252336449\n"
     ]
    },
    {
     "data": {
      "image/png": "[encoded data removed]",
      "text/plain": [
       "<matplotlib.figure.Figure at 0x7f5ebedd7fd0>"
      ]
     },
     "metadata": {},
     "output_type": "display_data"
    }
   ],
   "source": [
    "print('Bipolar Precision: {}'.format(b_P_list[cross_i]))\n",
    "print('Bipolar Recall: {}'.format(b_R_list[cross_i]))\n",
    "plt.hist(bipolar_value)\n",
    "plt.grid(True)\n",
    "plt.xlabel(\"Value\")\n",
    "plt.ylabel(\"Frequency\")\n",
    "plt.title(\"Bipolar\")\n",
    "plt.ylim([0, 510])\n",
    "# plt.xlim([0.4, 0.9])\n",
    "plt.show()\n",
    "plt.close()\n",
    "\n",
    "print('Regular Precision: {}'.format(r_p_list[cross_i]))\n",
    "print('Regular Recall: {}'.format(r_R_list[cross_i]))\n",
    "plt.hist(regular_value)\n",
    "plt.grid(True)\n",
    "plt.xlabel(\"Value\")\n",
    "plt.ylabel(\"Frequency\")\n",
    "plt.title(\"Regular\")\n",
    "plt.ylim([0, 510])\n",
    "# plt.xlim([0.4, 0.9])\n",
    "plt.show() \n",
    "plt.close()"
   ]
  },
  {
   "cell_type": "code",
   "execution_count": 36,
   "metadata": {
    "collapsed": false,
    "deletable": true,
    "editable": true,
    "scrolled": false
   },
   "outputs": [
    {
     "name": "stdout",
     "output_type": "stream",
     "text": [
      "Bipolar Precision: 0.915223336372\n",
      "Bipolar Recall: 0.939195509822\n",
      "\n",
      "Regular Precision: 0.937679769895\n",
      "Regular Recall: 0.913165266106\n"
     ]
    },
    {
     "data": {
      "image/png": "[encoded data removed]",
      "text/plain": [
       "<matplotlib.figure.Figure at 0x7f5ebee0ba10>"
      ]
     },
     "metadata": {},
     "output_type": "display_data"
    }
   ],
   "source": [
    "# Cut in different value\n",
    "\n",
    "bipolar_index = [i for i, value in enumerate(bipolar_LABELS[0]) if value == 1]\n",
    "\n",
    "bipolar_value = [bipolar_SCORES[0][i] for i in bipolar_index]\n",
    "\n",
    "TP_bipolar_value = filter(lambda x: x >= upper_bound, bipolar_value)\n",
    "\n",
    "regular_value = [bipolar_SCORES[0][i] for i in range(len(bipolar_SCORES[0])) if i not in bipolar_index]\n",
    "\n",
    "TN_regular_value = filter(lambda x: x < lower_bound, regular_value)\n",
    "\n",
    "FP = len(filter(lambda x: x < lower_bound, bipolar_value))\n",
    "\n",
    "FN = len(filter(lambda x: x >= upper_bound, regular_value))\n",
    "\n",
    "b_P = float(len(TP_bipolar_value))/(len(TP_bipolar_value) + FP)\n",
    "b_R = float(len(TP_bipolar_value))/(len(TP_bipolar_value)+FN )\n",
    "r_p = float(len(TN_regular_value))/(len(TN_regular_value) + FN)\n",
    "r_R = float(len(TN_regular_value))/(len(TN_regular_value)+ FP)\n",
    "\n",
    "print('Bipolar Precision: {}'.format(b_P))\n",
    "print('Bipolar Recall: {}'.format(b_R))\n",
    "print \n",
    "print('Regular Precision: {}'.format(r_p))\n",
    "print('Regular Recall: {}'.format(r_R))\n",
    "\n",
    "plt.hist(filter(lambda x: x >= upper_bound or x < lower_bound, bipolar_value), label = 'Bipolar', alpha=0.6)\n",
    "plt.hist(filter(lambda x: x >= upper_bound or x < lower_bound, regular_value), label = 'Regular', alpha=0.6)\n",
    "\n",
    "plt.grid(True)\n",
    "plt.xlabel(\"Probability\")\n",
    "plt.ylabel(\"Frequency\")\n",
    "\n",
    "plt.ylim([0, 510])\n",
    "plt.legend() \n",
    "plt.show() \n",
    "plt.close()"
   ]
  },
  {
   "cell_type": "markdown",
   "metadata": {},
   "source": [
    "# Check Polarity user"
   ]
  },
  {
   "cell_type": "code",
   "execution_count": 37,
   "metadata": {
    "collapsed": true
   },
   "outputs": [],
   "source": [
    "from collections import Counter"
   ]
  },
  {
   "cell_type": "code",
   "execution_count": 52,
   "metadata": {
    "collapsed": false,
    "deletable": true,
    "editable": true
   },
   "outputs": [],
   "source": [
    "under_lower_index = [i for i in bipolar_index if bipolar_SCORES[0][i] < lower_bound]\n",
    "under_lower_user = [(pol_groups.getGroupUserName()[int(bipolar_NAMES[0][i])], bipolar_SCORES[0][i]) for i in under_lower_index]\n",
    "# Counter([name for name, value in under_lower_user]).most_common()\n"
   ]
  },
  {
   "cell_type": "markdown",
   "metadata": {
    "deletable": true,
    "editable": true
   },
   "source": [
    "## BD user Predict < 0.3"
   ]
  },
  {
   "cell_type": "code",
   "execution_count": 53,
   "metadata": {
    "collapsed": false,
    "deletable": true,
    "editable": true
   },
   "outputs": [
    {
     "data": {
      "text/plain": [
       "[('enjoyscarlett_', 6),\n",
       " ('Megrrrs', 5),\n",
       " ('TommmMate', 4),\n",
       " ('AndrewHoughton8', 3),\n",
       " ('Boricua611', 2),\n",
       " ('yohaw', 2),\n",
       " ('clyder1966', 2),\n",
       " ('_kenziiieee_', 1),\n",
       " ('Radica_XO_Khidd', 1)]"
      ]
     },
     "execution_count": 53,
     "metadata": {},
     "output_type": "execute_result"
    }
   ],
   "source": [
    "Counter([name for name, value in filter(lambda x: x[1]<0.3 ,under_lower_user)]).most_common()"
   ]
  },
  {
   "cell_type": "markdown",
   "metadata": {},
   "source": [
    "## Regular user Predict > 0.7"
   ]
  },
  {
   "cell_type": "code",
   "execution_count": 49,
   "metadata": {
    "collapsed": false,
    "scrolled": false
   },
   "outputs": [],
   "source": [
    "regular_index = [i for i in xrange(len(bipolar_SCORES[0])) if i not in bipolar_index]\n",
    "on_upper_index = [i for i in regular_index if bipolar_SCORES[0][i] > upper_bound]\n",
    "on_upper_user = [(pol_groups.getBaseUserName()[int(bipolar_NAMES[0][i])], bipolar_SCORES[0][i]) for i in regular_index]\n",
    "# Counter([name for name, value in on_upper_user]).most_common()\n"
   ]
  },
  {
   "cell_type": "code",
   "execution_count": 50,
   "metadata": {
    "collapsed": false
   },
   "outputs": [
    {
     "data": {
      "text/plain": [
       "[(1648646648, 5),\n",
       " (453767970, 3),\n",
       " (356860297, 3),\n",
       " (2847673069, 2),\n",
       " (118151476, 2),\n",
       " (258224151, 1),\n",
       " (2922189332, 1)]"
      ]
     },
     "execution_count": 50,
     "metadata": {},
     "output_type": "execute_result"
    }
   ],
   "source": [
    "Counter([name for name, value in filter(lambda x: x[1]>0.7 ,on_upper_user)]).most_common()"
   ]
  },
  {
   "cell_type": "markdown",
   "metadata": {
    "deletable": true,
    "editable": true
   },
   "source": [
    "## Testing Predict Model"
   ]
  },
  {
   "cell_type": "code",
   "execution_count": 42,
   "metadata": {
    "collapsed": true,
    "deletable": true,
    "editable": true
   },
   "outputs": [],
   "source": [
    "def getPOLFeature(timeSeries):\n",
    "#     features = np.zeros((len(user_timeSeries_list),20),dtype=float)\n",
    "    features = np.zeros((20),dtype=float)\n",
    "        \n",
    "    tweets_length = float(timeSeries.shape[0])\n",
    "    tweets_rate = getTweetRate(timeSeries)\n",
    "    late_tweets_rate = getLateTweetRate(timeSeries)\n",
    "    mention_rate = getMentionRate(timeSeries)\n",
    "    unique_mentions = getUniqueMentions(timeSeries)\n",
    "    frequent_mentions = getFrequentMentions(timeSeries)\n",
    "    negative_ratio = getNegativeRatio(timeSeries)\n",
    "    positive_ratio = getPositiveRatio(timeSeries)\n",
    "    flips_ratio = getFlipsCount(timeSeries) / tweets_length\n",
    "    negative_combos = getCombosCount(timeSeries,matcher=-1) / tweets_length\n",
    "    positive_combos = getCombosCount(timeSeries,matcher=1) / tweets_length\n",
    "    emotion_counts_dict = getUsersEmotions(timeSeries)\n",
    "\n",
    "\n",
    "    age = getAge(timeSeries)\n",
    "    gender = getGender(timeSeries)\n",
    "\n",
    "    features[0] = tweets_rate\n",
    "    features[1] = late_tweets_rate\n",
    "    features[2] = mention_rate\n",
    "    features[3] = unique_mentions\n",
    "    features[4] = frequent_mentions \n",
    "    features[5] = positive_ratio\n",
    "    features[6] = negative_ratio\n",
    "    features[7] = flips_ratio\n",
    "    features[8] = negative_combos\n",
    "    features[9] = positive_combos\n",
    "    features[10] = age\n",
    "    features[11] = gender\n",
    "    for j, emotion in enumerate([\"joy\",\"sadness\",\"fear\", \"anticipation\", \"anger\", \"trust\", \"disgust\" ,\"surprise\"]):\n",
    "        features[12+j] = np.mean(emotion_counts_dict[emotion])\n",
    "        \n",
    "            \n",
    "    return features"
   ]
  },
  {
   "cell_type": "code",
   "execution_count": 55,
   "metadata": {
    "collapsed": false,
    "deletable": true,
    "editable": true,
    "scrolled": true
   },
   "outputs": [
    {
     "name": "stdout",
     "output_type": "stream",
     "text": [
      "[7, 18, 10, 3, 17, 6, 0, 8, 19, 2, 5, 12, 4, 9, 15, 1, 13, 16, 11, 14]\n"
     ]
    }
   ],
   "source": [
    "# #Dump the pre-trained models\n",
    "\n",
    "# # Get feature\n",
    "feature_order = ['tweets_rate', 'late_tweets_rate','mention_rate','unique_mentions','frequent_mentions','positive_ratio',\\\n",
    "                 'negative_ratio','flips','negative_combos','positive_combos', 'age', 'gender', \"joy\",\"sadness\",\"fear\",  \\\n",
    "                 \"anticipation\", \"anger\", \"trust\", \"disgust\" ,\"surprise\" ]\n",
    "online_selection = []\n",
    "\n",
    "for feature_name in feature_order:\n",
    "    for i,(name, category) in enumerate(pol_groups.index2feature):\n",
    "        if name == feature_name:\n",
    "            online_selection.append(i)\n",
    "print(online_selection)\n",
    "            \n",
    "classifier  = RandomForestClassifier(n_jobs=-1, max_features=\"sqrt\", n_estimators=128)\n",
    "\n",
    "X, Y = pol_groups.getLabeledData(\"Bipolar\", selection=online_selection)\n",
    "classifier = classifier.fit(X,Y)\n",
    "\n",
    "# joblib.dump(classifier,\"models/bipolar_forest/bipolar_forest_2week_modified\")\n"
   ]
  },
  {
   "cell_type": "markdown",
   "metadata": {
    "deletable": true,
    "editable": true
   },
   "source": [
    "## Check the Feature Order"
   ]
  },
  {
   "cell_type": "code",
   "execution_count": 44,
   "metadata": {
    "collapsed": false,
    "deletable": true,
    "editable": true
   },
   "outputs": [
    {
     "name": "stdout",
     "output_type": "stream",
     "text": [
      "0\tnegative_ratio\tPolarity\n",
      "1\tanticipation\tEmotions\n",
      "2\tpositive_combos\tPolarity\n",
      "3\tunique_mentions\tSocial\n",
      "4\tjoy\tEmotions\n",
      "5\tage\tAgeGender\n",
      "6\tpositive_ratio\tPolarity\n",
      "7\ttweets_rate\tSocial\n",
      "8\tflips\tPolarity\n",
      "9\tsadness\tEmotions\n",
      "10\tmention_rate\tSocial\n",
      "11\tdisgust\tEmotions\n",
      "12\tgender\tAgeGender\n",
      "13\tanger\tEmotions\n",
      "14\tsurprise\tEmotions\n",
      "15\tfear\tEmotions\n",
      "16\ttrust\tEmotions\n",
      "17\tfrequent_mentions\tSocial\n",
      "18\tlate_tweets_rate\tSocial\n",
      "19\tnegative_combos\tPolarity\n"
     ]
    }
   ],
   "source": [
    "for cursor, (name,category) in enumerate(pol_groups.getIndex2Feature()):\n",
    "    print '{}\\t{}\\t{}'.format(cursor, name, category)"
   ]
  },
  {
   "cell_type": "code",
   "execution_count": 62,
   "metadata": {
    "collapsed": false,
    "deletable": true,
    "editable": true
   },
   "outputs": [],
   "source": [
    "SCORES = np.array([])\n",
    "#         LABELS = np.array([[]])\n",
    "LABELS = np.zeros(shape=(0,2))\n",
    "\n",
    "X, Y = pol_groups.getLabeledData(\"Bipolar\", online_selection)\n",
    "\n",
    "sss = StratifiedShuffleSplit(Y[:,0], 1, test_size = 0.4, random_state=randint(0,65536) )\n",
    "\n",
    "for train_index, test_index in sss:\n",
    "\n",
    "    X_train, X_test           = X[train_index], X[test_index]\n",
    "    Y_train, Y_test           = Y[train_index][:,0], Y[test_index][:,0]\n",
    "    Y_train_name, Y_test_name = Y[train_index][:,1], Y[test_index][:,1]\n",
    "\n",
    "#     classifier.fit(X_train, Y_train)\n",
    "#     score = classifier.predict_proba(X_test)[:,1]\n",
    "    score = classifier.predict_proba(X_test)[0][:,1]\n",
    "    SCORES = np.concatenate((SCORES, score))\n",
    "    LABELS = np.concatenate((LABELS, Y[test_index]))\n"
   ]
  },
  {
   "cell_type": "markdown",
   "metadata": {
    "deletable": true,
    "editable": true
   },
   "source": [
    "## Check Testing Result"
   ]
  },
  {
   "cell_type": "code",
   "execution_count": 63,
   "metadata": {
    "collapsed": false,
    "deletable": true,
    "editable": true,
    "scrolled": false
   },
   "outputs": [
    {
     "data": {
      "image/png": "[encoded data removed]",
      "text/plain": [
       "<matplotlib.figure.Figure at 0x7f5ec1b8e5d0>"
      ]
     },
     "metadata": {},
     "output_type": "display_data"
    }
   ],
   "source": [
    "bd_testing_list = []\n",
    "for i, lab in enumerate(LABELS):\n",
    "    if lab[0] == 1:\n",
    "        bd_testing_list.append(SCORES[i])\n",
    "plt.plot(sorted(bd_testing_list))\n",
    "plt.show()\n",
    "plt.close()    "
   ]
  },
  {
   "cell_type": "markdown",
   "metadata": {
    "deletable": true,
    "editable": true
   },
   "source": [
    "## Check Training Result"
   ]
  },
  {
   "cell_type": "code",
   "execution_count": 65,
   "metadata": {
    "collapsed": false,
    "deletable": true,
    "editable": true
   },
   "outputs": [
    {
     "data": {
      "image/png": "[encoded data removed]",
      "text/plain": [
       "<matplotlib.figure.Figure at 0x7f5ebeef9590>"
      ]
     },
     "metadata": {},
     "output_type": "display_data"
    }
   ],
   "source": [
    "bd_testing_list = []\n",
    "train_score = classifier.predict_proba(X_train)[0][:,1]\n",
    "for i, lab in enumerate(Y[train_index]):\n",
    "    if lab[0] == 1:\n",
    "        bd_testing_list.append(train_score[i])\n",
    "plt.plot(sorted(bd_testing_list))\n",
    "plt.show()\n",
    "plt.close()   "
   ]
  },
  {
   "cell_type": "markdown",
   "metadata": {
    "deletable": true,
    "editable": true
   },
   "source": [
    "## Check Original BD user Dataset"
   ]
  },
  {
   "cell_type": "code",
   "execution_count": 66,
   "metadata": {
    "collapsed": false,
    "deletable": true,
    "editable": true
   },
   "outputs": [],
   "source": [
    "# proba_list = []\n",
    "# for timeSeries in bd_clean:\n",
    "#     bd_features = getPOLFeature(timeSeries)\n",
    "#     bd_proba = classifier.predict_proba(bd_features)[0][1]\n",
    "#     proba_list.append(bd_proba)\n",
    "    \n",
    "# plt.plot(sorted(proba_list))\n",
    "# plt.show()\n",
    "# plt.close()\n"
   ]
  },
  {
   "cell_type": "code",
   "execution_count": null,
   "metadata": {
    "collapsed": true
   },
   "outputs": [],
   "source": []
  }
 ],
 "metadata": {
  "kernelspec": {
   "display_name": "Python 2",
   "language": "python",
   "name": "python2"
  },
  "language_info": {
   "codemirror_mode": {
    "name": "ipython",
    "version": 2
   },
   "file_extension": ".py",
   "mimetype": "text/x-python",
   "name": "python",
   "nbconvert_exporter": "python",
   "pygments_lexer": "ipython2",
   "version": "2.7.12"
  }
 },
 "nbformat": 4,
 "nbformat_minor": 2
}
