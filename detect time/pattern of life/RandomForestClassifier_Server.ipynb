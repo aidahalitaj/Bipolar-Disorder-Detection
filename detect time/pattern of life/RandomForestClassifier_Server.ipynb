{
 "cells": [
  {
   "cell_type": "code",
   "execution_count": 1,
   "metadata": {
    "collapsed": false,
    "deletable": true,
    "editable": true
   },
   "outputs": [],
   "source": [
    "import sys\n",
    "sys.path.append('./library') # age_gender_predictor\n",
    "sys.path.append('../.env/lib/python2.7/site-packages')\n",
    "import os \n",
    "import pickle\n",
    "import age_gender_predictor\n",
    "from collections import defaultdict\n",
    "import re\n",
    "from tabulate import tabulate\n",
    "from datetime import datetime, timedelta\n",
    "import math\n",
    "import numpy as np\n",
    "from scipy.stats import spearmanr\n",
    "import pandas as pd\n",
    "import pytz\n",
    "import json"
   ]
  },
  {
   "cell_type": "markdown",
   "metadata": {
    "deletable": true,
    "editable": true
   },
   "source": [
    "## Load Regular User"
   ]
  },
  {
   "cell_type": "code",
   "execution_count": 3,
   "metadata": {
    "collapsed": true,
    "deletable": true,
    "editable": true
   },
   "outputs": [],
   "source": [
    "def checkFolderFile(folder):\n",
    "    return os.listdir(folder)"
   ]
  },
  {
   "cell_type": "code",
   "execution_count": 4,
   "metadata": {
    "collapsed": false,
    "deletable": true,
    "editable": true
   },
   "outputs": [],
   "source": [
    "regular_clean = []\n",
    "regular_folder = './Regular/'\n",
    "for regular_file in checkFolderFile(regular_folder):\n",
    "    regular_clean.append(pd.read_pickle(regular_folder+regular_file))"
   ]
  },
  {
   "cell_type": "code",
   "execution_count": 5,
   "metadata": {
    "collapsed": false,
    "deletable": true,
    "editable": true
   },
   "outputs": [
    {
     "data": {
      "text/plain": [
       "268"
      ]
     },
     "execution_count": 5,
     "metadata": {},
     "output_type": "execute_result"
    }
   ],
   "source": [
    "len(regular_clean)"
   ]
  },
  {
   "cell_type": "code",
   "execution_count": 6,
   "metadata": {
    "collapsed": true,
    "deletable": true,
    "editable": true
   },
   "outputs": [],
   "source": [
    "long_regular_clean = []\n",
    "regular_folder = './Regular_timeline/'\n",
    "for regular_file in checkFolderFile(regular_folder):\n",
    "    long_regular_clean.append(pd.read_pickle(regular_folder+regular_file))"
   ]
  },
  {
   "cell_type": "code",
   "execution_count": 7,
   "metadata": {
    "collapsed": false,
    "deletable": true,
    "editable": true
   },
   "outputs": [
    {
     "data": {
      "text/plain": [
       "409"
      ]
     },
     "execution_count": 7,
     "metadata": {},
     "output_type": "execute_result"
    }
   ],
   "source": [
    "len(long_regular_clean)"
   ]
  },
  {
   "cell_type": "markdown",
   "metadata": {
    "deletable": true,
    "editable": true
   },
   "source": [
    "## Load BD"
   ]
  },
  {
   "cell_type": "code",
   "execution_count": 43,
   "metadata": {
    "collapsed": true,
    "deletable": true,
    "editable": true
   },
   "outputs": [],
   "source": [
    "bd_clean = []\n",
    "bd_folder = './Bipolar/bd_shift2week/'\n",
    "for bd_file in checkFolderFile(bd_folder):\n",
    "    bd_clean.append(pd.read_pickle(bd_folder+bd_file))"
   ]
  },
  {
   "cell_type": "code",
   "execution_count": 44,
   "metadata": {
    "collapsed": false,
    "deletable": true,
    "editable": true
   },
   "outputs": [
    {
     "data": {
      "text/plain": [
       "276"
      ]
     },
     "execution_count": 44,
     "metadata": {},
     "output_type": "execute_result"
    }
   ],
   "source": [
    "len(bd_clean)"
   ]
  },
  {
   "cell_type": "code",
   "execution_count": 10,
   "metadata": {
    "collapsed": true,
    "deletable": true,
    "editable": true
   },
   "outputs": [],
   "source": [
    "long_bd_clean = []\n",
    "bd_folder = './Bipolar_timeline/'\n",
    "for bd_file in checkFolderFile(bd_folder):\n",
    "    long_bd_clean.append(pd.read_pickle(bd_folder+bd_file))"
   ]
  },
  {
   "cell_type": "code",
   "execution_count": 11,
   "metadata": {
    "collapsed": false,
    "deletable": true,
    "editable": true
   },
   "outputs": [
    {
     "data": {
      "text/plain": [
       "165"
      ]
     },
     "execution_count": 11,
     "metadata": {},
     "output_type": "execute_result"
    }
   ],
   "source": [
    "len(long_bd_clean)"
   ]
  },
  {
   "cell_type": "markdown",
   "metadata": {
    "deletable": true,
    "editable": true
   },
   "source": [
    "## Group together"
   ]
  },
  {
   "cell_type": "code",
   "execution_count": 23,
   "metadata": {
    "collapsed": true,
    "deletable": true,
    "editable": true
   },
   "outputs": [],
   "source": [
    "groups = [ regular_clean, bd_clean, long_regular_clean, long_bd_clean]\n",
    "group_names = [\"Regular\", \"Bipolar\", \"Long_Regualr\", \"Long_Bipolar\"]"
   ]
  },
  {
   "cell_type": "code",
   "execution_count": 24,
   "metadata": {
    "collapsed": false,
    "deletable": true,
    "editable": true
   },
   "outputs": [
    {
     "name": "stdout",
     "output_type": "stream",
     "text": [
      "Group           Users    Tweets    Average tweets\n",
      "------------  -------  --------  ----------------\n",
      "Regular           268     58461               218\n",
      "Bipolar           276    287512              1041\n",
      "Long_Regualr      409    612762              1498\n",
      "Long_Bipolar      165    885645              5367\n"
     ]
    }
   ],
   "source": [
    "#Statistics facts of experimental data\n",
    "\n",
    "headers = [\"Group\",\"Users\", \"Tweets\", \"Average tweets\"]\n",
    "contents = []\n",
    "for i, group in enumerate(groups):\n",
    "    group_name = group_names[i]\n",
    "    tweets_num = sum([timeSeries.shape[0] for timeSeries in group])\n",
    "    users_num = len(group)\n",
    "    average_tweets_num = tweets_num / users_num\n",
    "    contents.append([group_name, users_num, tweets_num, average_tweets_num])\n",
    "    \n",
    "print(tabulate(contents, headers=headers))"
   ]
  },
  {
   "cell_type": "markdown",
   "metadata": {
    "deletable": true,
    "editable": true
   },
   "source": [
    "## Age Gender"
   ]
  },
  {
   "cell_type": "code",
   "execution_count": 25,
   "metadata": {
    "collapsed": true,
    "deletable": true,
    "editable": true
   },
   "outputs": [],
   "source": [
    "#Age and gender Distribution\n",
    "def getAgeGender(group):\n",
    "    features = {\"age\":[],\"gender\":[]}\n",
    "    for timeSeries in group:\n",
    "        \n",
    "        features[\"age\"].append(getAge(timeSeries))\n",
    "        features[\"gender\"].append(getGender(timeSeries))\n",
    "\n",
    "    return features\n",
    "def getAge(timeSeries):\n",
    "    texts = \"\"\n",
    "    for text in timeSeries[\"text\"].values:\n",
    "        texts += text + \"\\n\"\n",
    "    return age_gender_predictor.get_age(texts)\n",
    "\n",
    "def getGender(timeSeries):\n",
    "    texts = \"\"\n",
    "    for text in timeSeries[\"text\"].values:\n",
    "        texts += text + \"\\n\"\n",
    "    return age_gender_predictor.get_gender(texts)"
   ]
  },
  {
   "cell_type": "code",
   "execution_count": 26,
   "metadata": {
    "collapsed": false,
    "deletable": true,
    "editable": true
   },
   "outputs": [
    {
     "name": "stdout",
     "output_type": "stream",
     "text": [
      "Group           Male users    Female users    Average age\n",
      "------------  ------------  --------------  -------------\n",
      "Regular           0.488806        0.511194        30.1881\n",
      "Bipolar           0.242754        0.757246        24.4716\n",
      "Long_Regualr      0.462103        0.537897        29.3084\n",
      "Long_Bipolar      0.218182        0.781818        24.6077\n"
     ]
    }
   ],
   "source": [
    "headers = [\"Group\",\"Male users\", \"Female users\", \"Average age\"]\n",
    "contents = []\n",
    "for i, group in enumerate(groups):\n",
    "    group_name = group_names[i]\n",
    "    users_num = float(len(group))\n",
    "    users_gender = [getGender(timeSeries) for timeSeries in group]\n",
    "    users_age = [getAge(timeSeries) for timeSeries in group]\n",
    "    male_ratio = len([gender for gender in users_gender if gender < 0]) / users_num\n",
    "    female_ratio = 1 - male_ratio\n",
    "    average_age = sum(users_age) / users_num\n",
    "    contents.append([group_name, male_ratio, female_ratio, average_age])\n",
    "print(tabulate(contents, headers=headers))"
   ]
  },
  {
   "cell_type": "markdown",
   "metadata": {
    "deletable": true,
    "editable": true
   },
   "source": [
    "## Social"
   ]
  },
  {
   "cell_type": "code",
   "execution_count": 27,
   "metadata": {
    "collapsed": false,
    "deletable": true,
    "editable": true
   },
   "outputs": [],
   "source": [
    "def getTweetRate(timeSeries):\n",
    "    total_tweets = timeSeries.shape[0]\n",
    "    if total_tweets == 0: return 0.0\n",
    "    delta_time = np.max(timeSeries.index.values) - np.min(timeSeries.index.values)\n",
    "    total_duration = (delta_time).astype('timedelta64[h]') / np.timedelta64(24, 'h')\n",
    "    try:\n",
    "        result = total_tweets / float(total_duration)\n",
    "    except:\n",
    "        result = total_tweets / 1.0\n",
    "    return result\n",
    "\n",
    "def getLateTweetRate(timeSeries):\n",
    "    total_late = 0\n",
    "    for index in timeSeries.index:\n",
    "        if int(index.hour) <6:\n",
    "            total_late += 1\n",
    "    delta_time = np.max(timeSeries.index.values) - np.min(timeSeries.index.values)\n",
    "    total_duration = (delta_time).astype('timedelta64[h]') / np.timedelta64(24, 'h')\n",
    "    try:\n",
    "        result = total_late / float(total_duration)\n",
    "    except:\n",
    "        result = total_late / 1.0\n",
    "    return result\n",
    "\n",
    "def getMentionRate(timeSeries):\n",
    "    total_tweets = timeSeries.shape[0]\n",
    "    total_mentions = np.sum(seriesContains(timeSeries))\n",
    "    return total_mentions / float(total_tweets)\n",
    "\n",
    "def thirdPronuonDetect(words, matcher=re.compile(\"@[a-z]+\")):\n",
    "    for word in words:\n",
    "        if word == \"@\":\n",
    "            continue\n",
    "        elif matcher.search(word):\n",
    "            return True\n",
    "    return False\n",
    "\n",
    "def seriesContains(timeSeries):\n",
    "    match_function = np.vectorize(thirdPronuonDetect)\n",
    "    return match_function(timeSeries[\"text\"].str.lower().str.split().values)\n",
    "\n",
    "\n",
    "def getUniqueMentions(timeSeries):\n",
    "    total_tweets = timeSeries.shape[0]\n",
    "    friends_set = set()\n",
    "    texts = timeSeries[\"text\"].values\n",
    "    for text in texts:\n",
    "        terms = text.strip().split()\n",
    "        for word in terms:\n",
    "            if word[0] == '@' and len(word) > 1:\n",
    "                friends_set.add(word)\n",
    "    return len(friends_set)\n",
    "\n",
    "def getFrequentMentions(timeSeries, lowerbound = 3):\n",
    "    total_tweets = timeSeries.shape[0]\n",
    "    friends_mentions = {}\n",
    "    texts = timeSeries[\"text\"].values\n",
    "    for text in texts:\n",
    "        terms = text.strip().split()\n",
    "        for word in terms:\n",
    "            if word[0] == '@' and len(word) > 1:\n",
    "                friends_mentions[word] = friends_mentions.get(word, 0) +1\n",
    "    frequent_frients = [screen_name for screen_name, mentions in friends_mentions.items() if mentions >= lowerbound]\n",
    "    return len(frequent_frients)\n",
    " \n",
    "\n",
    "def getSocialFeature_group(group):\n",
    "    social_features = {\"tweets_rate\": [],\"mention_rate\": [],\"unique_mentions\": [],\"frequent_mentions\": [], \"late_tweets_rate\": [], \"long_tweets_rate\": []}\n",
    "    for timeSeries in group:\n",
    "        social_features[\"tweets_rate\"].append(getTweetRate(timeSeries))\n",
    "        social_features[\"mention_rate\"].append(getMentionRate(timeSeries))\n",
    "        social_features[\"unique_mentions\"].append(getUniqueMentions(timeSeries))\n",
    "        social_features[\"frequent_mentions\"].append(getFrequentMentions(timeSeries))\n",
    "        social_features[\"late_tweets_rate\"].append(getLateTweetRate(timeSeries))\n",
    "        try:\n",
    "            social_features[\"long_tweets_rate\"].append(total_dict[str(timeSeries['name'][0])])\n",
    "        except:\n",
    "            print('No found in long_term ' + str(timeSeries['name'][0]))\n",
    "            social_features[\"long_tweets_rate\"].append(0.0)\n",
    "    return social_features\n",
    "\n",
    "def getGBSocialFeature_group(group):\n",
    "    social_features = {\"tweets_rate\": [],\"mention_rate\": [],\"unique_mentions\": [],\"frequent_mentions\": []}\n",
    "    for timeSeries in group:\n",
    "        social_features[\"tweets_rate\"].append(getTweetRate(timeSeries))\n",
    "        social_features[\"mention_rate\"].append(getMentionRate(timeSeries))\n",
    "        social_features[\"unique_mentions\"].append(getUniqueMentions(timeSeries))\n",
    "        social_features[\"frequent_mentions\"].append(getFrequentMentions(timeSeries))\n",
    "        \n",
    "    return social_features\n",
    "\n",
    "def getNoLongSocialFeature_group(group):\n",
    "    social_features = {\"tweets_rate\": [],\"mention_rate\": [],\"unique_mentions\": [],\"frequent_mentions\": [], \"late_tweets_rate\": []}\n",
    "    for timeSeries in group:\n",
    "        social_features[\"tweets_rate\"].append(getTweetRate(timeSeries))\n",
    "        social_features[\"mention_rate\"].append(getMentionRate(timeSeries))\n",
    "        social_features[\"unique_mentions\"].append(getUniqueMentions(timeSeries))\n",
    "        social_features[\"frequent_mentions\"].append(getFrequentMentions(timeSeries))\n",
    "        social_features[\"late_tweets_rate\"].append(getLateTweetRate(timeSeries))\n",
    "        \n",
    "    return social_features"
   ]
  },
  {
   "cell_type": "code",
   "execution_count": 28,
   "metadata": {
    "collapsed": false,
    "deletable": true,
    "editable": true
   },
   "outputs": [
    {
     "name": "stdout",
     "output_type": "stream",
     "text": [
      "\n",
      "======Mean Distribution======\n",
      "\n",
      "                tweets_rate    late_tweets_rate    mention_rate    unique_mentions    frequent_mentions\n",
      "------------  -------------  ------------------  --------------  -----------------  -------------------\n",
      "Regular             4.26146            0.973105        0.426162            46.6679              9.76866\n",
      "Bipolar            19.1205             5.98164         0.395342           116.649              37.0399\n",
      "Long_Regualr        3.34464            1.00785         0.445037           209.254              52.9658\n",
      "Long_Bipolar       14.6125             1.87939         0.419495           382.636             125.303\n"
     ]
    }
   ],
   "source": [
    "header = [\"tweets_rate\", \"late_tweets_rate\", \"mention_rate\", \"unique_mentions\", \"frequent_mentions\"]\n",
    "contents = []\n",
    "for i, group in enumerate(groups):\n",
    "   \n",
    "    group_name = group_names[i]\n",
    "    content = [group_name]\n",
    "    tweets_rate = np.mean([getTweetRate(timeSeries) for timeSeries in group])\n",
    "    mention_rate = np.mean([getMentionRate(timeSeries) for timeSeries in group])\n",
    "    unique_mentions = np.mean([getUniqueMentions(timeSeries) for timeSeries in group])\n",
    "    frequent_mention = np.mean([getFrequentMentions(timeSeries) for timeSeries in group]) \n",
    "    late_tweets_rate = np.mean([getLateTweetRate(timeSeries) for timeSeries in group])\n",
    "    content += [tweets_rate, late_tweets_rate, mention_rate, unique_mentions, frequent_mention]\n",
    "    contents.append(content)\n",
    "\n",
    "\n",
    "print(\"\\n======Mean Distribution======\\n\")\n",
    "\n",
    "print(tabulate(contents, headers=header,))"
   ]
  },
  {
   "cell_type": "code",
   "execution_count": 19,
   "metadata": {
    "collapsed": false,
    "deletable": true,
    "editable": true
   },
   "outputs": [],
   "source": [
    "# header = [\"tweets_rate\", \"late_tweets_rate\", \"mention_rate\", \"unique_mentions\", \"frequent_mentions\"]\n",
    "# contents = []\n",
    "# for i, timeSeries in enumerate(regular_clean):\n",
    "# #     content = [i]\n",
    "#     content = [str(timeSeries['name'][0])]\n",
    "#     tweets_rate = getTweetRate(timeSeries)\n",
    "#     mention_rate = getMentionRate(timeSeries)\n",
    "#     unique_mentions = getUniqueMentions(timeSeries)\n",
    "#     frequent_mention = getFrequentMentions(timeSeries)\n",
    "#     late_tweets_rate = getLateTweetRate(timeSeries)\n",
    "#     content += [tweets_rate, late_tweets_rate, mention_rate, unique_mentions, frequent_mention]\n",
    "#     contents.append(content)\n",
    "# print(\"\\n======Mean Distribution======\\n\")\n",
    "# print(tabulate(contents, headers=header,))"
   ]
  },
  {
   "cell_type": "markdown",
   "metadata": {
    "deletable": true,
    "editable": true
   },
   "source": [
    "## Polarity Feature"
   ]
  },
  {
   "cell_type": "code",
   "execution_count": 29,
   "metadata": {
    "collapsed": true,
    "deletable": true,
    "editable": true
   },
   "outputs": [],
   "source": [
    "def getFlipsCount(timeSeries, upperbound=120, lowerbound = 0):\n",
    "    flips = getFlips(timeSeries)\n",
    "    durations = getFlipsDuration(timeSeries, flips)\n",
    "    return np.sum((durations > lowerbound) & (durations < upperbound) )\n",
    "\n",
    "def getFlips(timeSeries, attribute= 'polarity'):\n",
    "    flips = np.zeros(timeSeries.shape[0],dtype=bool)\n",
    "    polarity = timeSeries[attribute].values[:-1]\n",
    "    right_elements = timeSeries[attribute].values[1:]\n",
    "    flips[:-1] = (polarity * right_elements) < 0\n",
    "    return flips\n",
    "\n",
    "def getFlipsDuration(timeSeries, flips):\n",
    "    filtered_timeSeries = timeSeries['dt'][flips].index.values\n",
    "    dt = np.zeros(filtered_timeSeries.shape[0],dtype=float)\n",
    "    dt[:-1] = (filtered_timeSeries[1:] - filtered_timeSeries[:-1]).astype('timedelta64[s]') / np.timedelta64(60, 's')\n",
    "    return dt\n",
    "\n",
    "def getCombosCount(timeSeries, matcher = -1, lowerbound = 2):\n",
    "    combos = comboTracker(timeSeries)\n",
    "    combos_count = sum([hit for element, hit in combos if element == matcher and hit > lowerbound])\n",
    "    return combos_count\n",
    "\n",
    "def getNegativeRatio(timeSeries):\n",
    "    total_tweets = timeSeries.shape[0]\n",
    "    return np.sum(timeSeries[\"polarity\"].values == -1) / float(total_tweets)\n",
    "\n",
    "def getPositiveRatio(timeSeries):\n",
    "    total_tweets = timeSeries.shape[0]\n",
    "    return np.sum(timeSeries[\"polarity\"].values == 1) / float(total_tweets)\n",
    "\n",
    "def getPolarity(group):\n",
    "    polarity = {\"flips\":[],\"negative_combos\":[],\"positive_combos\":[], \"positive_ratio\":[], \"negative_ratio\":[]}\n",
    "    for timeSeries in group:\n",
    "        try:\n",
    "            tweets_length = float(timeSeries.shape[0])\n",
    "        except:\n",
    "            print 'error'\n",
    "            print timeSeries\n",
    "            break\n",
    "        flips_ratio = getFlipsCount(timeSeries) / tweets_length\n",
    "        negative_combos_ratio = getCombosCount(timeSeries,matcher=-1) / tweets_length\n",
    "        positive_combos_ratio = getCombosCount(timeSeries,matcher=1) / tweets_length\n",
    "        positive_ratio = getPositiveRatio(timeSeries)\n",
    "        negative_ratio = getNegativeRatio(timeSeries)\n",
    "        \n",
    "        polarity[\"flips\"].append(flips_ratio)\n",
    "        polarity[\"negative_combos\"].append(negative_combos_ratio)\n",
    "        polarity[\"positive_combos\"].append(positive_combos_ratio)\n",
    "        polarity[\"positive_ratio\"].append(positive_ratio)\n",
    "        polarity[\"negative_ratio\"].append(negative_ratio)\n",
    "        \n",
    "    return polarity\n",
    "\n",
    "def comboTracker(timeSeries, attribute= \"polarity\", lowerbound = 120):\n",
    "    array = timeSeries[attribute]\n",
    "#     the polarity of starter\n",
    "    starter = array[0]\n",
    "    combo = 1\n",
    "    result = []\n",
    "    i = 0 \n",
    "#     begin from second one in the array\n",
    "    for cursor in array[1:]:\n",
    "        i += 1\n",
    "        if starter == cursor and timeSeries[\"dt\"][i-1] < lowerbound:\n",
    "            combo += 1\n",
    "        else:\n",
    "            if combo > 1:\n",
    "                result.append((starter, combo))\n",
    "            starter = cursor\n",
    "            combo = 1\n",
    "    if combo > 1:\n",
    "         result.append((starter, combo))\n",
    "    return result"
   ]
  },
  {
   "cell_type": "code",
   "execution_count": 30,
   "metadata": {
    "collapsed": false,
    "deletable": true,
    "editable": true
   },
   "outputs": [
    {
     "name": "stdout",
     "output_type": "stream",
     "text": [
      "\n",
      "=========\n",
      "\n",
      "Group           Positive Ratio    Negative Ratio    Flip Ratio    Positive Combos    Negative Combos\n",
      "------------  ----------------  ----------------  ------------  -----------------  -----------------\n",
      "Regular              0.223516           0.107087    0.00397308         0.0307636          0.00364134\n",
      "Bipolar              0.0844575          0.176278    0.00597603         0.00616584         0.0246394\n",
      "Long_Regualr         0.237705           0.109993    0.00533561         0.0357911          0.0051552\n",
      "Long_Bipolar         0.087955           0.165327    0.00591144         0.00523893         0.022868\n"
     ]
    }
   ],
   "source": [
    "headers = [\"Group\",\"Positive Ratio\",\"Negative Ratio\", \"Flip Ratio\", \"Positive Combos\", \"Negative Combos\"]\n",
    "contents = []\n",
    "for i, group in enumerate(groups):\n",
    "    group_name = group_names[i]\n",
    "   \n",
    "    positive_ratio_mean = np.mean([getPositiveRatio(timeSeries) for timeSeries in group])\n",
    "    negative_ratio_mean = np.mean([getNegativeRatio(timeSeries) for timeSeries in group])\n",
    "    flips_ratio_mean = np.mean([getFlipsCount(timeSeries) / float(len(timeSeries)) for timeSeries in group])\n",
    "    negative_combos_ratio = np.mean([getCombosCount(timeSeries,matcher=-1) / float(len(timeSeries)) for timeSeries in group])\n",
    "    positive_combos_ratio = np.mean([getCombosCount(timeSeries,matcher=1) / float(len(timeSeries)) for timeSeries in group])\n",
    "    \n",
    "    contents.append([group_name, positive_ratio_mean, negative_ratio_mean, flips_ratio_mean, positive_combos_ratio, negative_combos_ratio])\n",
    "print(\"\\n=========\\n\")\n",
    "print(tabulate(contents, headers=headers))"
   ]
  },
  {
   "cell_type": "code",
   "execution_count": 31,
   "metadata": {
    "collapsed": false,
    "deletable": true,
    "editable": true
   },
   "outputs": [
    {
     "name": "stdout",
     "output_type": "stream",
     "text": [
      "\n",
      "=========\n",
      "\n",
      "Group           Positive Ratio Mean    Positive Ratio STD    Negative Ratio Mean    Negative Ratio STD\n",
      "------------  ---------------------  --------------------  ---------------------  --------------------\n",
      "Regular                   0.223516              0.156083                0.107087             0.0834606\n",
      "Bipolar                   0.0844575             0.0639484               0.176278             0.100146\n",
      "Long_Regualr              0.237705              0.140019                0.109993             0.0722973\n",
      "Long_Bipolar              0.087955              0.068716                0.165327             0.0943002\n"
     ]
    }
   ],
   "source": [
    "headers = [\"Group\",\"Positive Ratio Mean\",\"Positive Ratio STD\", \"Negative Ratio Mean\", \"Negative Ratio STD\"]\n",
    "contents = []\n",
    "for i, group in enumerate(groups):\n",
    "    group_name = group_names[i]\n",
    "   \n",
    "    positive_ratios = [getPositiveRatio(timeSeries) for timeSeries in group]\n",
    "    negative_ratios = [getNegativeRatio(timeSeries) for timeSeries in group]\n",
    "    positive_ratio_mean = np.mean(positive_ratios)\n",
    "    negative_ratio_mean = np.mean(negative_ratios)\n",
    "    positive_ratio_std = np.std(positive_ratios)\n",
    "    negative_ratio_std = np.std(negative_ratios)\n",
    "\n",
    "    contents.append([group_name, positive_ratio_mean, positive_ratio_std, negative_ratio_mean, negative_ratio_std])\n",
    "print(\"\\n=========\\n\")\n",
    "print(tabulate(contents, headers=headers))"
   ]
  },
  {
   "cell_type": "markdown",
   "metadata": {
    "deletable": true,
    "editable": true
   },
   "source": [
    "## Emotion"
   ]
  },
  {
   "cell_type": "code",
   "execution_count": 32,
   "metadata": {
    "collapsed": true,
    "deletable": true,
    "editable": true
   },
   "outputs": [],
   "source": [
    "def getUsersEmotions(timeSeries):\n",
    "    non_ambiguous = np.invert(timeSeries[\"ambiguous\"].values)\n",
    "    \n",
    "    filtered_emotions = timeSeries[\"emotion\"][non_ambiguous].values\n",
    "    emotions_count = {\"joy\":0,\"sadness\": 0,\"fear\":0,\\\n",
    "                \"anticipation\": 0, \"anger\":0, \"trust\": 0, \"disgust\": 0 ,\"surprise\" : 0}\n",
    "    if float(filtered_emotions.shape[0]) == 0:\n",
    "        divider = 1.0\n",
    "    else:\n",
    "        divider = float(filtered_emotions.shape[0])\n",
    "    for emotion in emotions_count:\n",
    "        emotions_count[emotion] = np.sum(filtered_emotions == emotion) / divider\n",
    "    return emotions_count\n",
    "\n",
    "def getGroupEmotions(group):\n",
    "    emotions_counts = {\"joy\":[],\"sadness\": [],\"fear\":[],\\\n",
    "                \"anticipation\": [], \"anger\":[], \"trust\": [], \"disgust\": [] ,\"surprise\" : []}\n",
    "    for timeSeries in group:\n",
    "        emotions_count = getUsersEmotions(timeSeries)\n",
    "        for emotion, count in emotions_count.items():\n",
    "            emotions_counts[emotion].append(count)\n",
    "    return emotions_counts\n",
    "\n"
   ]
  },
  {
   "cell_type": "code",
   "execution_count": 33,
   "metadata": {
    "collapsed": false,
    "deletable": true,
    "editable": true
   },
   "outputs": [
    {
     "name": "stdout",
     "output_type": "stream",
     "text": [
      "\n",
      "======Eight Emotional Features======\n",
      "\n",
      "\n",
      "======Distribution======\n",
      "\n",
      "Group         joy     sadness    fear    anticipation    anger    trust    disgust    surprise\n",
      "------------  ------  ---------  ------  --------------  -------  -------  ---------  ----------\n",
      "Regular       16.36%  26.24%     6.46%   14.26%          6.82%    15.1%    11.52%     3.24%\n",
      "Bipolar       13.83%  26.53%     6.05%   12.47%          10.44%   6.75%    14.65%     9.28%\n",
      "Long_Regualr  17.84%  25.74%     6.22%   14.41%          7.15%    13.26%   11.85%     3.53%\n",
      "Long_Bipolar  14.21%  26.2%      5.97%   12.6%           9.95%    6.92%    14.51%     9.62%\n"
     ]
    }
   ],
   "source": [
    "emotions = [\"joy\",\"sadness\",\"fear\", \"anticipation\", \"anger\", \"trust\", \"disgust\" ,\"surprise\"]\n",
    "\n",
    "headers = [\"Group\"] + emotions\n",
    "contents = []\n",
    "for i, group in enumerate(groups):\n",
    "   \n",
    "    group_name = group_names[i]\n",
    "    content = [group_name]\n",
    "    emotions_counts = getGroupEmotions(group)\n",
    "    for emotion in emotions:\n",
    "        emotion_ratio = \"{}%\".format(round(np.mean(emotions_counts[emotion])*100, 2))\n",
    "        \n",
    "        content.append(emotion_ratio)\n",
    "    contents.append(content)\n",
    "    \n",
    "print(\"\\n======Eight Emotional Features======\\n\")\n",
    "\n",
    "print(\"\\n======Distribution======\\n\")\n",
    "\n",
    "print(tabulate(contents, headers=headers,))\n"
   ]
  },
  {
   "cell_type": "markdown",
   "metadata": {
    "deletable": true,
    "editable": true
   },
   "source": [
    "## Long Term Feature"
   ]
  },
  {
   "cell_type": "code",
   "execution_count": 45,
   "metadata": {
    "collapsed": true,
    "deletable": true,
    "editable": true
   },
   "outputs": [],
   "source": [
    "# 8 weeks sliding windows, move 1 week per time\n",
    "def slideWindows(timeline, start):\n",
    "    \n",
    "    limit = start + timedelta(weeks=8)\n",
    "    \n",
    "    status = False\n",
    "    if timeline.index[-1] < limit: status = True\n",
    "    \n",
    "    new_start = start + timedelta(weeks=1)\n",
    "    \n",
    "    return timeline[timeline.index < limit], new_start, timeline[timeline.index > new_start],status\n",
    "    \n",
    "        \n",
    "def getTimeSeries(timeline):\n",
    "    timeSeries_list = []\n",
    "    start = timeline.index[0]\n",
    "    \n",
    "    while True:\n",
    "        timeSeries, start, timeline, status = slideWindows(timeline, start)\n",
    "        timeSeries_list.append(timeSeries)\n",
    "        if status: break\n",
    "            \n",
    "    return timeSeries_list"
   ]
  },
  {
   "cell_type": "code",
   "execution_count": 46,
   "metadata": {
    "collapsed": false,
    "deletable": true,
    "editable": true,
    "scrolled": false
   },
   "outputs": [],
   "source": [
    "bd_dict = {}\n",
    "regular_dict = {}\n",
    "for i, bd_timeline in enumerate(long_bd_clean):\n",
    "    try:\n",
    "        tweets_rate_array = np.asarray([getTweetRate(timeSeries) for timeSeries in getTimeSeries(bd_timeline)])\n",
    "    except:\n",
    "        tweets_rate_array = np.asarray([0.0, 0.0])\n",
    "    bd_dict[str(bd_timeline['name'][0])] = np.ptp(tweets_rate_array)\n",
    "    \n",
    "for i, regular_timeline in enumerate(long_regular_clean):\n",
    "    try:\n",
    "        tweets_rate_array = np.asarray([getTweetRate(timeSeries) for timeSeries in getTimeSeries(regular_timeline)])\n",
    "    except:\n",
    "        tweets_rate_array = np.asarray([0.0, 0.0])\n",
    "    regular_dict[str(regular_timeline['name'][0])] = np.ptp(tweets_rate_array)\n",
    "\n",
    "total_dict = {}\n",
    "total_dict.update(bd_dict)\n",
    "total_dict.update(regular_dict)\n",
    "# del bd_dict\n",
    "# del regular_dict"
   ]
  },
  {
   "cell_type": "code",
   "execution_count": 47,
   "metadata": {
    "collapsed": false,
    "deletable": true,
    "editable": true
   },
   "outputs": [
    {
     "data": {
      "text/plain": [
       "574"
      ]
     },
     "execution_count": 47,
     "metadata": {},
     "output_type": "execute_result"
    }
   ],
   "source": [
    "len(total_dict)"
   ]
  },
  {
   "cell_type": "code",
   "execution_count": 48,
   "metadata": {
    "collapsed": false,
    "deletable": true,
    "editable": true
   },
   "outputs": [
    {
     "data": {
      "text/plain": [
       "165"
      ]
     },
     "execution_count": 48,
     "metadata": {},
     "output_type": "execute_result"
    }
   ],
   "source": [
    "len(bd_dict)"
   ]
  },
  {
   "cell_type": "code",
   "execution_count": 49,
   "metadata": {
    "collapsed": false,
    "deletable": true,
    "editable": true
   },
   "outputs": [
    {
     "data": {
      "text/plain": [
       "409"
      ]
     },
     "execution_count": 49,
     "metadata": {},
     "output_type": "execute_result"
    }
   ],
   "source": [
    "len(regular_dict)"
   ]
  },
  {
   "cell_type": "markdown",
   "metadata": {
    "deletable": true,
    "editable": true
   },
   "source": [
    "### LIWC"
   ]
  },
  {
   "cell_type": "code",
   "execution_count": 55,
   "metadata": {
    "collapsed": false,
    "deletable": true,
    "editable": true
   },
   "outputs": [],
   "source": [
    "#Functions for LIWC and POL features extraction:\n",
    "def loads_LIWC():\n",
    "    f = open(\"LIWC/categories.json\", 'r')\n",
    "    categories = json.load(f)\n",
    "    f = open(\"LIWC/words.json\", 'r')\n",
    "    words = json.load(f)\n",
    "    patterns_categories = {}\n",
    "    for word, category in words.items():\n",
    "        if word[-1] == '*':\n",
    "            current_dict = patterns_categories\n",
    "            for char in word:\n",
    "                if char == '*':\n",
    "                   \n",
    "                    #current_dict = category\n",
    "                    pre_dict[word[-2]] = category\n",
    "                    break\n",
    "                \n",
    "                elif char not in current_dict:\n",
    "                    current_dict[char] = {}\n",
    "                pre_dict = current_dict\n",
    "                current_dict = current_dict[char]\n",
    "                \n",
    "    return categories, words, patterns_categories\n",
    "\n",
    "LIWC_categories, LIWC_words, LIWC_patterns_categories = loads_LIWC()\n",
    "\n",
    "def getLIWC_user(timeSeries):\n",
    " \n",
    "    LIWC_counts = {}\n",
    "    \n",
    " \n",
    "    features = np.zeros(len(LIWC_categories),dtype=int)\n",
    "    \n",
    "    texts= timeSeries[\"text\"].values\n",
    "    for text in texts:\n",
    "        words = text.strip().split()\n",
    "        for word in words:\n",
    "            category_indices = LIWC_words.get(word,[])\n",
    "            if category_indices == []:\n",
    "                current_dict = LIWC_patterns_categories\n",
    "                for char in word[:-1]:\n",
    "                    current_dict = current_dict.get(char,[])\n",
    "                    if isinstance(current_dict,list):\n",
    "                        category_indices = current_dict                            \n",
    "                        break\n",
    "\n",
    "\n",
    "            for category_index in category_indices:\n",
    "\n",
    "                category_name = LIWC_categories[category_index]\n",
    "\n",
    "                LIWC_counts[category_name] = LIWC_counts.get(category_name,0) + 1\n",
    "\n",
    "    for category_name in LIWC_counts:\n",
    "        LIWC_counts[category_name] /= timeSeries.shape[0]\n",
    "    \n",
    "    return LIWC_counts\n",
    "\n",
    "def getLIWC_group(group):\n",
    "    LIWC_counts = {}\n",
    "    users_num = len(group)\n",
    "    for category in LIWC_categories.values():\n",
    "        LIWC_counts[category] = []\n",
    "    for timeSeries in group:\n",
    "        user_LIWC_count = getLIWC_user(timeSeries)\n",
    "      \n",
    "        for category in LIWC_categories.values():\n",
    "          \n",
    "            LIWC_counts[category].append(user_LIWC_count.get(category,0))\n",
    "            \n",
    "    \n",
    "    \n",
    "    return LIWC_counts"
   ]
  },
  {
   "cell_type": "markdown",
   "metadata": {
    "deletable": true,
    "editable": true
   },
   "source": [
    "## Group Class"
   ]
  },
  {
   "cell_type": "code",
   "execution_count": 74,
   "metadata": {
    "collapsed": false,
    "deletable": true,
    "editable": true
   },
   "outputs": [],
   "source": [
    "from sklearn.ensemble import RandomForestClassifier\n",
    "from sklearn.feature_extraction.text import TfidfVectorizer\n",
    "from sklearn.cross_validation import StratifiedShuffleSplit\n",
    "from sklearn.metrics import precision_recall_curve\n",
    "from sklearn.metrics import average_precision_score\n",
    "from sklearn.metrics import roc_curve, auc\n",
    "from sklearn.preprocessing import Imputer\n",
    "from sklearn.externals import joblib\n",
    "from sklearn.preprocessing import MinMaxScaler\n",
    "from sklearn.linear_model import SGDClassifier \n",
    "from sklearn.svm import SVC\n",
    "from sklearn.naive_bayes import GaussianNB\n",
    "from sklearn.naive_bayes import MultinomialNB\n",
    "from sklearn import preprocessing\n",
    "\n",
    "import matplotlib.pyplot as plt\n",
    "from matplotlib import rcParams\n",
    "from random import randint\n",
    "from operator import itemgetter \n",
    "import time\n",
    "rcParams['figure.figsize'] = 12, 8"
   ]
  },
  {
   "cell_type": "code",
   "execution_count": 99,
   "metadata": {
    "collapsed": true,
    "deletable": true,
    "editable": true
   },
   "outputs": [],
   "source": [
    "# function to delete url\n",
    "def del_url(line):\n",
    "    return re.sub(r'(\\S*(\\.com).*)|(https?:\\/\\/.*)', \"\", line)"
   ]
  },
  {
   "cell_type": "code",
   "execution_count": 111,
   "metadata": {
    "collapsed": false,
    "deletable": true,
    "editable": true
   },
   "outputs": [],
   "source": [
    "#Wrap group to be object\n",
    "class Group(object):\n",
    "    def __init__(self, group_name, group_data_list):\n",
    "        self.name = group_name\n",
    "        self.timeSerieses_list = group_data_list\n",
    "        \n",
    "    def getName(self):\n",
    "        return self.name\n",
    "    \n",
    "    def getSize(self):\n",
    "        return len(self.timeSerieses_list)\n",
    "    \n",
    "    def getTexts(self, tail_k = \"all\"):\n",
    "        if tail_k == \"all\":\n",
    "            return [\"\\n\".join(map(del_url, timeSeries[\"text\"].values)) for timeSeries in self.timeSerieses_list]\n",
    "        else:\n",
    "            return [\"\\n\".join(map(del_url, timeSeries[\"text\"].tail(tail_k).values)) for timeSeries in self.timeSerieses_list]\n",
    "    \n",
    "    def getGroup(self, tail_k=\"all\"):\n",
    "        if tail_k ==\"all\":\n",
    "#             return [timeSeries for timeSeries in self.timeSerieses_list if str(timeSeries['name'][0]) in total_dict]\n",
    "            \n",
    "            return self.timeSerieses_list\n",
    "        else:\n",
    "            return [timeSeries.tail(tail_k) for timeSeries in self.group]"
   ]
  },
  {
   "cell_type": "code",
   "execution_count": 112,
   "metadata": {
    "collapsed": false,
    "deletable": true,
    "editable": true
   },
   "outputs": [],
   "source": [
    "bipolar_group = Group(\"Bipolar\", bd_clean)\n",
    "regular_group = Group(\"Regular\", regular_clean)\n",
    "\n",
    "long_bipolar_group = Group(\"Long_Bipolar\", long_bd_clean)\n",
    "long_regular_group = Group(\"Long_Regular\", long_regular_clean)"
   ]
  },
  {
   "cell_type": "code",
   "execution_count": 119,
   "metadata": {
    "collapsed": true,
    "deletable": true,
    "editable": true
   },
   "outputs": [],
   "source": [
    "def getCategories(group):\n",
    "'''\n",
    "Input  : the group (Class) of user\n",
    "Output : Dictionary of feature name and feature's group pairs\n",
    "\n",
    "e.g.\n",
    "'tweets_rate': 'GBSocial'\n",
    "'unique_mentions': 'GBSocial'\n",
    "'''\n",
    "    name2category = {}\n",
    "    names = [\"Emotions\", \"Polarity\", \"AgeGender\", \"LIWC\",\n",
    "             \"LongSocial\", \"lateSocial\", \"GBSocial\"]\n",
    "    methods = [getGroupEmotions, getPolarity, getAgeGender, getLIWC_group, \n",
    "               getSocialFeature_group,  getNoLongSocialFeature_group, getGBSocialFeature_group]\n",
    "    for i, method in enumerate(methods):\n",
    "        if method == getLIWC_group:\n",
    "            feature = {\"LIWC_\"+key: value for key, value in method(group.getGroup()).items()}\n",
    "        else:\n",
    "            feature = method(group.getGroup())\n",
    "        for key in feature:\n",
    "            name2category[key] = names[i]\n",
    "    return name2category\n",
    "\n",
    "def getAllFeature(group, tail_k = \"all\"):\n",
    "    feature_set = {}\n",
    "    methods = [getGroupEmotions, getPolarity, getAgeGender, getLIWC_group, \n",
    "               getSocialFeature_group,  getNoLongSocialFeature_group, getGBSocialFeature_group]\n",
    "    for method in methods:\n",
    "        if method == getLIWC_group:\n",
    "            LIWC_feature_set = {\"LIWC_\"+key: value for key, value in method(group.getGroup(tail_k)).items()}\n",
    "            feature_set.update(LIWC_feature_set)\n",
    "        else:\n",
    "            feature_set.update(method(group.getGroup()))\n",
    "    return feature_set"
   ]
  },
  {
   "cell_type": "markdown",
   "metadata": {
    "deletable": true,
    "editable": true
   },
   "source": [
    "## Classifier"
   ]
  },
  {
   "cell_type": "markdown",
   "metadata": {
    "deletable": true,
    "editable": true
   },
   "source": [
    "### The TF-IDF models are trained in the following class"
   ]
  },
  {
   "cell_type": "code",
   "execution_count": 225,
   "metadata": {
    "collapsed": false,
    "deletable": true,
    "editable": true,
    "scrolled": true
   },
   "outputs": [
    {
     "name": "stdout",
     "output_type": "stream",
     "text": [
      "[u'growing', u'ended', u'diagnosed', u'exist', u'feels', u'present', u'apparently', u'played', u'merry', u'make feel', u'silence', u'friendship', u'huge', u'randomly', u'like just', u'mental', u'putting', u'send', u'finished', u'tattoo', u'spell', u'diagnosed bipolar', u'probably', u'freak', u'wanting', u'expensive', u'playing', u'stay', u'lost', u'nasty', u'ran', u'happening', u'natural', u'pissed', u'coffee', u'like did', u'heart', u'light', u'order', u'dreams', u'really know', u'sell', u'songs', u'bunch', u'sad', u'don tell', u'away', u'kept', u'interesting', u'gift']\n",
      "\n",
      "\n",
      "\n",
      "[u'diagnosed bipolar', u'diagnosed', u'christmas', u'hurt', u'telling', u'sad', u'bipolar', u'like', u'depressed', u'just', u'today', u'dear', u'eyes', u'death', u'bipolar disorder', u'haven', u'crazy', u'lot', u'drink', u'school', u'twitter', u'hurts', u'wrong', u'don care', u'people', u'eat', u'people just', u'realize', u'time', u'deserves', u'slept', u'feel like', u'mental illness', u'isn', u'age', u'life', u'ring', u'probably', u'sitting', u'don like', u'moment', u'know', u'tree', u'really want', u'falling', u'calm', u'fuck', u'aside', u'ok', u'truth']\n"
     ]
    }
   ],
   "source": [
    "#A TF-IDF class to implement TF-IDF extraction and model training.\n",
    "\n",
    "def XYGenerator(labeled_data):\n",
    "    X, Y = labeled_data[0]\n",
    "    \n",
    "    for x, y in labeled_data[1:]:\n",
    "        try:        \n",
    "            X = np.concatenate((X, x))\n",
    "        except:\n",
    "            X = vstack([X, x])\n",
    "            \n",
    "        Y = np.concatenate((Y, y))\n",
    "    \n",
    "    return X, Y\n",
    "\n",
    "\n",
    "class TextFeatureGroups(object):\n",
    "    def __init__(self, base, groups, model = \"Tf-iDF\"):\n",
    "        self.base = base\n",
    "        self.groups = groups\n",
    "        self.name_to_index = {group.getName(): index for index, group in enumerate(groups)}\n",
    "       \n",
    "        base_texts = base.getTexts()\n",
    "        self.text_models = []\n",
    "        self.classifiers = []\n",
    "        for group in groups:\n",
    "            group_texts = group.getTexts()\n",
    "            total_texts = base_texts  + group_texts\n",
    "            if model == \"Tf-iDF\":\n",
    "                text_model = TfidfVectorizer(stop_words=\"english\", ngram_range = (1,2))\n",
    "            text_model.fit(total_texts)    \n",
    "            X = text_model.fit_transform(total_texts)  \n",
    "            Y = np.array([0] * base.getSize() + [1]*group.getSize(), dtype=int)\n",
    "            classifier  = RandomForestClassifier(n_jobs=-1, max_features=\"sqrt\", n_estimators=128)\n",
    "            classifier.fit(X,Y)\n",
    "            self.classifiers.append(classifier)\n",
    "            self.text_models.append(text_model)\n",
    "    \n",
    "    def getTopFeatures(self, name, k=50):\n",
    "        index = self.name_to_index[name]\n",
    "        text_model = self.text_models[index]\n",
    "        classifier = self.classifiers[index]\n",
    "        feature_indicies = np.argsort(classifier.feature_importances_)\n",
    "        vector2word = text_model.get_feature_names()\n",
    "        top_words = []\n",
    "        for i in range(k):\n",
    "            vector = feature_indicies[-i-1]\n",
    "            word = vector2word[vector]\n",
    "            top_words.append(word)\n",
    "        return top_words\n",
    "    \n",
    "\n",
    "    def getGroup(self,name):\n",
    "        index = self.name_to_index[name]\n",
    "        return self.group[index]\n",
    "            \n",
    "    def classify(self,name, group):\n",
    "        index = self.name_to_index[name]\n",
    "        classifier = self.classifiers[index]\n",
    "        text_model = self.text_models[index]\n",
    "        X = text_model.transform(group.getTexts())\n",
    "        return classifier.predict(X) \n",
    "    \n",
    "    def getPrecision(self,name, tail_k=\"all\", classifier = \"default\", n_fold=10):\n",
    "        index = self.name_to_index[name]\n",
    "        group = self.groups[index]\n",
    "        if classifier == \"default\":\n",
    "            classifier = RandomForestClassifier(n_jobs=-1, max_features=\"sqrt\", n_estimators=128)\n",
    "        #classifier = SVC(probability=True)\n",
    "        #X = self.text_models[index].transform(self.base.getTexts(tail_k)+group.getTexts(tail_k))\n",
    "        text_model = self.text_models[index]\n",
    "        raw_X = self.base.group + group.group\n",
    "        Y =  np.array([0] * self.base.getSize() + [1] * group.getSize())\n",
    "        precisions = []\n",
    "        \n",
    "        complete_X = text_model.transform(self.base.getTexts()+group.getTexts())\n",
    "        tailed_X =  text_model.transform(self.base.getTexts(tail_k)+group.getTexts(tail_k))\n",
    "        \n",
    "        sss = StratifiedShuffleSplit(Y, n_fold, random_state=randint(0,65536) )\n",
    "\n",
    "        for train_index, test_index in sss:\n",
    "            \n",
    "            X_train, X_test = complete_X[train_index], tailed_X[test_index]\n",
    "            Y_train, Y_test = Y[train_index], Y[test_index]\n",
    "            classifier.fit(X_train, Y_train)\n",
    "            score = classifier.score(X_test,Y_test)\n",
    "            precisions.append(score)\n",
    "\n",
    "        return np.mean(precisions)\n",
    "        \n",
    "    \n",
    "    def getLabelsScores(self, name, classifier, n_fold, consider_time = \"short\"):\n",
    "        index = self.name_to_index[name]\n",
    "        group = self.groups[index]\n",
    "\n",
    "        SCORES = np.array([])\n",
    "        LABELS = np.array([])\n",
    "\n",
    "        \n",
    "#         Based may change by situation\n",
    "        if consider_time == \"short\":\n",
    "            X = self.text_models[index].transform(self.base.getTexts()+group.getTexts())\n",
    "            Y =  np.array([0] * self.base.getSize() + [1] * group.getSize())  \n",
    "        else:\n",
    "            X = self.text_models[index].transform(self.groups[0].getTexts()+group.getTexts())\n",
    "            Y =  np.array([0] * self.groups[0].getSize() + [1] * group.getSize())  \n",
    "\n",
    "        sss = StratifiedShuffleSplit(Y, n_fold, random_state=randint(0,65536) )\n",
    "\n",
    "        for train_index, test_index in sss:\n",
    "            X_train, X_test = X[train_index], X[test_index]\n",
    "            Y_train, Y_test = Y[train_index], Y[test_index]\n",
    "\n",
    "            classifier.fit(X_train, Y_train)\n",
    "            score = classifier.predict_proba(X_test)[:,1]\n",
    "            SCORES = np.concatenate((SCORES, score))\n",
    "            LABELS = np.concatenate((LABELS, Y_test))\n",
    "\n",
    "        return SCORES, LABELS, (X_train, X_test,Y_train, Y_test)\n",
    "        \n",
    "    def renderPrecisionRecall(self, colors=['r','g','b',\"y\",\"c\",\"m\",\"#f4b642\",\"#777777\"], n_fold = 10):\n",
    "        classifier = RandomForestClassifier(n_jobs=-1, max_features=\"sqrt\", n_estimators=128)\n",
    "        fig, ax = plt.subplots()\n",
    "        ax.spines['bottom'].set_color('white')\n",
    "        ax.spines['top'].set_color('white') \n",
    "        ax.spines['right'].set_color('white')\n",
    "        ax.spines['left'].set_color('white')\n",
    "        ax.tick_params(axis='x', colors='white')\n",
    "        ax.tick_params(axis='y', colors='white')\n",
    "        ax.title.set_color('white')\n",
    "        ax.yaxis.label.set_color('white')\n",
    "        ax.xaxis.label.set_color('white')\n",
    "        plt.xlim([0.0, 1.0])\n",
    "        plt.ylim([0.0, 1.05])\n",
    "        plt.xlabel('Recall')\n",
    "        plt.ylabel('Precision')\n",
    "        plt.title('Precision Recall Curve')\n",
    "\n",
    "        for g, group in enumerate(self.groups):\n",
    "            SCORES, LABELS,(X_train, X_test,Y_train, Y_test) = self.getLabelsScores(group.getName(), classifier ,n_fold)\n",
    "\n",
    "            precision, recall, _ = precision_recall_curve(LABELS, SCORES, pos_label=1)\n",
    "            average_precision = average_precision_score(LABELS, SCORES)\n",
    "\n",
    "            positive_train = np.count_nonzero(Y_train)\n",
    "            positive_test = np.count_nonzero(Y_test)\n",
    "            normal_train = Y_train.shape[0] - positive_train\n",
    "            normal_test = Y_test.shape[0] - positive_test\n",
    "\n",
    "            print(\"{} Normal and {} {} in Training Data\".format(normal_train,positive_train,group.getName()))\n",
    "            print(\"{} Normal and {} {} in Test Data\\n\".format(normal_test,positive_test,group.getName()))\n",
    "            plt.plot(recall, precision, label=group.getName() , color=colors[g],linewidth=3)\n",
    "\n",
    "        plt.legend(loc=\"lower right\")\n",
    "        plt.show()\n",
    "\n",
    "\n",
    "# Build the TF-IDF class\n",
    "tfidf_groups = TextFeatureGroups(regular_group, [long_regular_group, bipolar_group, long_bipolar_group])\n",
    "\n",
    "# Extract Top 10 keywords by TF-IDF model for Bipolar and BPD\n",
    "long_bipolar_words = tfidf_groups.getTopFeatures(\"Long_Bipolar\")\n",
    "print(long_bipolar_words)\n",
    "print(\"\\n\\n\")\n",
    "bipolar_words = tfidf_groups.getTopFeatures(\"Bipolar\")\n",
    "print(bipolar_words)"
   ]
  },
  {
   "cell_type": "code",
   "execution_count": 182,
   "metadata": {
    "collapsed": false,
    "deletable": true,
    "editable": true
   },
   "outputs": [],
   "source": [
    "class POLFeaturerGroups(object):\n",
    "    \n",
    "    @staticmethod\n",
    "    def transform(self, ):\n",
    "        features_dict = getAllFeature(group)\n",
    "        \n",
    "    \n",
    "    def __init__(self, base, groups):\n",
    "        feature2categories = getCategories(base)\n",
    "        self.groups = groups\n",
    "        self.base = base\n",
    "        self.categories = set(feature2categories.values())\n",
    "        self.name_to_index = {group.getName(): index for index, group in enumerate(groups)}\n",
    "        self.base_name = base.getName()\n",
    "        self.index2feature = []\n",
    "        base_feature_dict = getAllFeature(base)\n",
    "        self.base_feature = np.zeros((base.getSize(),len(base_feature_dict)), dtype = float)\n",
    "#         \n",
    "        for name, values in base_feature_dict.items():\n",
    "            cursor = len(self.index2feature)\n",
    "            self.base_feature[:,cursor] = values\n",
    "            category = feature2categories[name]\n",
    "            self.index2feature.append((name, category))\n",
    "        \n",
    "        self.features = [self.group2feature(group) for group in groups]\n",
    "#         user_name\n",
    "        self.groups_user_name = []\n",
    "        for group in groups:\n",
    "            group_user_name = []\n",
    "            for timeSeries in group.getGroup():\n",
    "                group_user_name.append(timeSeries['name'][0])\n",
    "            self.groups_user_name.append(group_user_name)\n",
    "        \n",
    "        self.base_user_name = []\n",
    "        for timeSeries in base.getGroup():\n",
    "            self.base_user_name.append(timeSeries['name'][0])\n",
    "            \n",
    "    def addgroup(self, group):\n",
    "        group_user_name = []\n",
    "        for timeSeries in group.getGroup():\n",
    "            group_user_name.append(timeSeries['name'][0])\n",
    "        self.groups_user_name.append(group_user_name)\n",
    "        \n",
    "        self.name_to_index = {group.getName(): len(name_to_index)}\n",
    "        print(group.getName() + ' is added!')\n",
    "        return True\n",
    "        \n",
    "    def group2feature(self, group, tail_k=\"all\", selection = \"all\"):\n",
    "        features_dict = getAllFeature(group, tail_k)\n",
    "        feature = np.zeros((group.getSize(),len(self.index2feature)),dtype=float)\n",
    "        for cursor, (name,category) in enumerate(self.index2feature):\n",
    "            value = features_dict[name]\n",
    "            feature[:,cursor] = value\n",
    "        if selection == \"all\":\n",
    "            return feature\n",
    "        else:\n",
    "            return feature[:,selection]   \n",
    "\n",
    "    def getPrecision(self,name,selection=\"all\",tail_k=\"all\",n_fold=10,classifier = \"forest\"):\n",
    "        complete_X, Y = self.getLabeledData(name, selection)\n",
    "        index = self.name_to_index[name]\n",
    "        group = self.groups[index]\n",
    "        tailed_X = preprocessing.scale(self.group2feature(self.base + group, tail_k=tail_k, selection = selection))\n",
    "        complete_X = preprocessing.scale(complete_X)\n",
    "        \n",
    "        tailed_X[np.isinf(tailed_X)] = 0\n",
    "        tailed_X[np.isnan(tailed_X)] = 0\n",
    "        \n",
    "        precisions = []\n",
    "        if classifier == \"forest\":\n",
    "            classifier = RandomForestClassifier(n_jobs=-1, max_features=\"sqrt\", n_estimators=128)\n",
    "  \n",
    "        sss = StratifiedShuffleSplit(Y, n_fold, test_size = 0.4, random_state=randint(0,65536) )\n",
    "\n",
    "        for train_index, test_index in sss:\n",
    "            X_train, X_test = complete_X[train_index], tailed_X[test_index]\n",
    "            Y_train, Y_test = Y[train_index], Y[test_index]\n",
    "            imputer = Imputer()\n",
    "            classifier.fit(X_train, Y_train)\n",
    "            score = classifier.score(X_test,Y_test)\n",
    "            precisions.append(score)\n",
    "            \n",
    "        return np.mean(precisions)\n",
    "            \n",
    "    def getLabeledData(self,name, selection = \"all\", consider_time = \"short\"):\n",
    "        if selection is \"all\":\n",
    "            selection = range(len(self.index2feature))\n",
    "            \n",
    "        if consider_time == \"short\":        \n",
    "            base_feature = self.base_feature[:,selection]\n",
    "            base_length = base_feature.shape[0]\n",
    "            index = self.name_to_index[name]\n",
    "            feature = self.features[index][:,selection]\n",
    "\n",
    "            X = np.zeros((base_length  + feature.shape[0],len(selection)),dtype=float)\n",
    "            X[0:base_length ,:] = base_feature\n",
    "            X[base_length:,:] = feature\n",
    "    #         Y = np.array([(0,-1)]*base_length + [(1,i) for i,_ in enumerate(self.getGroupUserName())])\n",
    "            Y = np.array([(0,i) for i,_ in enumerate(self.getBaseUserName())] + [(1,i) for i,_ in enumerate(self.getGroupUserName(1))])\n",
    "\n",
    "            return X, Y\n",
    "        else:\n",
    "            base_index = self.name_to_index[\"Long_Regular\"]\n",
    "            base_feature = self.features[base_index][:,selection]\n",
    "            base_length = base_feature.shape[0]\n",
    "            index = self.name_to_index[\"Long_\" + name]\n",
    "            feature = self.features[index][:,selection]\n",
    "\n",
    "            X = np.zeros((base_length  + feature.shape[0],len(selection)),dtype=float)\n",
    "            X[0:base_length ,:] = base_feature\n",
    "            X[base_length:,:] = feature\n",
    "    #         Y = np.array([(0,-1)]*base_length + [(1,i) for i,_ in enumerate(self.getGroupUserName())])\n",
    "            Y = np.array([(0,i) for i,_ in enumerate(self.getGroupUserName(0))] + [(1,i) for i,_ in enumerate(self.getGroupUserName(2))])\n",
    "\n",
    "            return X, Y\n",
    "\n",
    "    def getFeatureImportance_all(self,name):\n",
    "        X, Y = self.getLabeledData(name)\n",
    "        classifier = RandomForestClassifier(n_jobs=-1, max_features=\"sqrt\", n_estimators=128)\n",
    "        classifier.fit(X,Y)\n",
    "        features_indicies = np.argsort(classifier.feature_importances_)\n",
    "        feature_names = [self.index2feature[i] for i in features_indicies ]\n",
    "        return feature_names[::-1]\n",
    "    \n",
    "    def getFeature(self, name, selection=\"all\"):\n",
    "        if selection is \"all\":\n",
    "            selection = list(range(len(self.index2feature)))\n",
    "        index = self.name_to_index[name]\n",
    "        feature =  self.features[index]\n",
    "        return feature[:, selection]\n",
    "    \n",
    "    def classify(self,name, target_name, selection=\"all\"):\n",
    "        X, Y = self.getLabeledData(name, selection)\n",
    "        classifier = RandomForestClassifier(n_jobs=-1, max_features=\"sqrt\", n_estimators=128)\n",
    "        classifier.fit(X,Y)\n",
    "        test_x = self.getFeature(target_name,selection)\n",
    "        return classifier.predict(test_x)\n",
    "       \n",
    "    def getLabelsScores(self, name, classifier, n_fold, selection, consider_time = \"short\"):\n",
    "        SCORES = np.array([])\n",
    "        LABELS = np.zeros(shape=(0,2))\n",
    "        \n",
    "        X, Y = self.getLabeledData(name, selection, consider_time)\n",
    "        sss = StratifiedShuffleSplit(Y[:,0], n_fold, test_size = 0.4, random_state=randint(0,65536) )\n",
    "\n",
    "        for train_index, test_index in sss:\n",
    "            X_train, X_test           = X[train_index], X[test_index]\n",
    "            Y_train, Y_test           = Y[train_index][:,0], Y[test_index][:,0]\n",
    "            Y_train_name, Y_test_name = Y[train_index][:,1], Y[test_index][:,1]\n",
    "\n",
    "            classifier.fit(X_train, Y_train)\n",
    "            score = classifier.predict_proba(X_test)[:,1]\n",
    "            SCORES = np.concatenate((SCORES, score))\n",
    "            LABELS = np.concatenate((LABELS, Y[test_index]))\n",
    "        return SCORES, LABELS, (X_train, X_test,Y_train, Y_test, Y_train_name, Y_test_name)\n",
    "    \n",
    "    def renderPrecisionRecall_all(self, name, colors=['r','g','b',\"y\",\"c\",\"m\",\"#f4b642\",\"#777777\"], n_fold = 100):\n",
    "        classifier  = RandomForestClassifier(n_jobs= -1, max_features=\"sqrt\", n_estimators=128)\n",
    "        fig, ax = plt.subplots()\n",
    "        ax.spines['bottom'].set_color('white')\n",
    "        ax.spines['top'].set_color('white') \n",
    "        ax.spines['right'].set_color('white')\n",
    "        ax.spines['left'].set_color('white')\n",
    "        ax.tick_params(axis='x')\n",
    "        ax.tick_params(axis='y')\n",
    "        ax.title.set_color('white')\n",
    "        plt.xlim([0.0, 1.0])\n",
    "        plt.ylim([0.0, 1.05])\n",
    "        plt.xlabel('Recall')\n",
    "        plt.ylabel('Precision')\n",
    "        plt.title('Precision Recall Curve: {}'.format(name))\n",
    "        \n",
    "        categories = list(self.categories) + [\"All\"]\n",
    "        for g,category in enumerate(categories):\n",
    "            if category == \"All\":\n",
    "                selection = range(len(self.index2feature))\n",
    "            else:\n",
    "                selection = [i for i, (feature_name, feature_category) in enumerate(self.index2feature) if category == feature_category]\n",
    "            \n",
    "            SCORES, LABELS, (X_train, X_test,Y_train, Y_test, Y_train_name, Y_test_name) = self.getLabelsScores(name, classifier,n_fold, selection)\n",
    "            precision, recall, _ = precision_recall_curve(LABELS[:,0], SCORES, pos_label=1)\n",
    "            average_precision = average_precision_score(LABELS[:,0], SCORES)\n",
    "            positive_train = np.count_nonzero(Y_train)\n",
    "            positive_test = np.count_nonzero(Y_test)\n",
    "            normal_train = Y_train.shape[0] - positive_train\n",
    "            normal_test = Y_test.shape[0] - positive_test\n",
    "           \n",
    "            plt.plot(recall, precision, label=category , color=colors[g],linewidth=2)\n",
    "            \n",
    "        print(\"{} Normal and {} {} in Training Data\".format(normal_train,positive_train,name))\n",
    "        print(\"{} Normal and {} {} in Test Data\\n\".format(normal_test,positive_test,name))\n",
    "        plt.legend(loc=\"lower right\")\n",
    "        plt.show()\n",
    "\n",
    "    def getSeperateScores(self, name, classifier, n_fold, selection):\n",
    "        SCORES = np.array([])\n",
    "        LABELS = np.array([])\n",
    "\n",
    "        X, Y = self.getLabeledData(name, selection)\n",
    "\n",
    "        sss = StratifiedShuffleSplit(Y, n_fold, test_size = 0.4, random_state=randint(0,65536) )\n",
    "\n",
    "        for train_index, test_index in sss:\n",
    "\n",
    "            X_train, X_test = X[train_index], X[test_index]\n",
    "            Y_train, Y_test = Y[train_index], Y[test_index]\n",
    "\n",
    "            classifier.fit(X_train, Y_train)\n",
    "            score = classifier.predict_proba(X_test)[:,1]\n",
    "            SCORES = np.concatenate((SCORES, score))\n",
    "            LABELS = np.concatenate((LABELS, Y_test))\n",
    "\n",
    "        return SCORES, LABELS, (X_train, X_test,Y_train, Y_test)\n",
    "    \n",
    "    def getGroupUserName(self,group_num = 0):\n",
    "        return self.groups_user_name[group_num]\n",
    "    \n",
    "    def getIndex2Feature(self):\n",
    "        return self.index2feature\n",
    "    \n",
    "    def getBaseUserName(self):\n",
    "        return self.base_user_name\n",
    "    def getName2Index(self):\n",
    "        return self.name_to_index"
   ]
  },
  {
   "cell_type": "code",
   "execution_count": 183,
   "metadata": {
    "collapsed": false,
    "deletable": true,
    "editable": true
   },
   "outputs": [
    {
     "name": "stdout",
     "output_type": "stream",
     "text": [
      "No found in long_term 756551155\n",
      "No found in long_term 2963451509\n",
      "No found in long_term 2905542613\n",
      "No found in long_term 756551155\n",
      "No found in long_term 2963451509\n",
      "No found in long_term 2905542613\n",
      "No found in long_term cuts4ndsc4rs\n",
      "No found in long_term cuts4ndsc4rs\n"
     ]
    }
   ],
   "source": [
    "pol_groups = POLFeaturerGroups(regular_group, [long_regular_group, bipolar_group, long_bipolar_group])"
   ]
  },
  {
   "cell_type": "code",
   "execution_count": 184,
   "metadata": {
    "collapsed": false,
    "deletable": true,
    "editable": true
   },
   "outputs": [
    {
     "data": {
      "text/plain": [
       "{'Bipolar': 1, 'Long_Bipolar': 2, 'Long_Regular': 0}"
      ]
     },
     "execution_count": 184,
     "metadata": {},
     "output_type": "execute_result"
    }
   ],
   "source": [
    "pol_groups.getName2Index()"
   ]
  },
  {
   "cell_type": "code",
   "execution_count": 185,
   "metadata": {
    "collapsed": false,
    "deletable": true,
    "editable": true,
    "scrolled": false
   },
   "outputs": [
    {
     "name": "stdout",
     "output_type": "stream",
     "text": [
      "161 Normal and 165 Bipolar in Training Data\n",
      "107 Normal and 111 Bipolar in Test Data\n",
      "\n"
     ]
    },
    {
     "data": {
      "image/png": "[encoded data removed]",
      "text/plain": [
       "<matplotlib.figure.Figure at 0x7fb6e0814290>"
      ]
     },
     "metadata": {},
     "output_type": "display_data"
    }
   ],
   "source": [
    "#Compare the performance of each Pattern of Life components and LIWC\n",
    "pol_groups.renderPrecisionRecall_all(\"Bipolar\",n_fold=10)"
   ]
  },
  {
   "cell_type": "markdown",
   "metadata": {
    "deletable": true,
    "editable": true
   },
   "source": [
    "# Precission Recall Chart on 10-fold cross-validation"
   ]
  },
  {
   "cell_type": "code",
   "execution_count": 151,
   "metadata": {
    "collapsed": false,
    "deletable": true,
    "editable": true
   },
   "outputs": [
    {
     "data": {
      "text/plain": [
       "{'Bipolar': 1, 'Long_Bipolar': 2, 'Long_Regular': 0}"
      ]
     },
     "execution_count": 151,
     "metadata": {},
     "output_type": "execute_result"
    }
   ],
   "source": [
    "pol_groups.getName2Index()"
   ]
  },
  {
   "cell_type": "code",
   "execution_count": 236,
   "metadata": {
    "collapsed": false,
    "deletable": true,
    "editable": true
   },
   "outputs": [],
   "source": [
    "index2feature = pol_groups.index2feature\n",
    "\n",
    "def getSelection(excluded_categories=[], excluded_index=[]):\n",
    "    selection = []\n",
    "    for i in range(len(index2feature)):\n",
    "        name,category =  index2feature[i]\n",
    "        if any(category == x for x in excluded_categories):\n",
    "            #removed_features.append(name)\n",
    "            pass\n",
    "        elif any(name == x for x in excluded_index):\n",
    "            #removed_features.append(name)\n",
    "            pass\n",
    "\n",
    "        else:                   \n",
    "            selection.append(i)\n",
    "    return selection\n",
    "\n",
    "\n",
    "#ROC chart of three models:\n",
    "def renderROC(scores, labels,disorder ,names, linestyle=['solid','dashed','dotted','dashdot','-','--',':',' ']):\n",
    "    fig, ax = plt.subplots()\n",
    "    for i,(score, label) in enumerate(zip(scores, labels)):\n",
    "        fpr, tpr, _ = roc_curve(label,score, pos_label=1)\n",
    "        roc_auc = auc(fpr, tpr)\n",
    "        plt.plot(fpr, tpr, label=names[i], ls=linestyle[i],linewidth=3)\n",
    "        print(\"{} under curve area: {}\".format(names[i],roc_auc))\n",
    "\n",
    "   \n",
    "    plt.plot([0, 1], [0, 1], 'k--')\n",
    "    plt.xlim([0.0, 1.0])\n",
    "    plt.ylim([0.0, 1.05])\n",
    "    plt.xlabel('False Positive Rate')\n",
    "    plt.ylabel('True Positive Rate')\n",
    "    plt.title('{} ROC chart'.format(disorder))\n",
    "    plt.legend(loc=\"lower right\")\n",
    "\n",
    "    plt.show()\n",
    "\n",
    "\n",
    "def renderPRC(scores, labels, disorder ,names, linestyle=['solid','dashed','dotted','dashdot','-','--',':',' ']):\n",
    "    fig, ax = plt.subplots()\n",
    "    for i,(score, label) in enumerate(zip(scores, labels)):\n",
    "        \n",
    "        precision, recall, _ = precision_recall_curve(label, score, pos_label=1)\n",
    "        average_precision = average_precision_score(label, score)\n",
    "\n",
    "        plt.plot(recall, precision, label=names[i], ls=linestyle[i],linewidth=3)\n",
    "        print(\"{} Average Precision: {}\".format(names[i],average_precision))\n",
    "\n",
    "   \n",
    "\n",
    "    plt.xlim([0.0, 1.0])\n",
    "    plt.ylim([0.0, 1.05])\n",
    "    plt.xlabel('False Positive Rate')\n",
    "    plt.ylabel('True Positive Rate')\n",
    "    plt.title('{} Precision Recall Chart'.format(disorder))\n",
    "    plt.legend(loc=\"lower right\")\n",
    "\n",
    "    plt.show()"
   ]
  },
  {
   "cell_type": "code",
   "execution_count": 232,
   "metadata": {
    "collapsed": true,
    "deletable": true,
    "editable": true
   },
   "outputs": [],
   "source": [
    "\n",
    "GBPOL_selection = getSelection(excluded_categories=[\"LIWC\", \"lateSocial\", \"LongSocial\"])\n",
    "latePOL_selection = getSelection(excluded_categories=[\"LIWC\", \"LongSocial\"])\n",
    "LongPOL_selection = getSelection(excluded_categories=[\"LIWC\"])\n",
    "LIWC_selection = getSelection(excluded_categories=[\"AgeGender\", \"Social\", \"Polarity\", \"Emotions\", \"lateSocial\", \"LongSocial\"])\n",
    "\n",
    "\n",
    "names = [\"Pattern of Life\", \"LIWC\", \"time-Pattern of Life (late)\", \"time-Pattern of Life\",  \"TF-IDF\"]\n",
    "classifier  = RandomForestClassifier(n_jobs= -1, max_features=\"sqrt\", n_estimators=128)\n",
    "name = \"Bipolar\"\n",
    "n_fold = 10\n",
    "\n",
    "GBPOL_bipolar_scores = []\n",
    "latePOL_bipolar_scores = []\n",
    "LongPOL_bipolar_scores = []\n",
    "LIWC_bipolar_scores = []\n",
    "TFIDF_bipolar_scores = []\n"
   ]
  },
  {
   "cell_type": "code",
   "execution_count": 203,
   "metadata": {
    "collapsed": false,
    "deletable": true,
    "editable": true
   },
   "outputs": [],
   "source": [
    "GBPOL_scores, GBPOL_labels, _ = pol_groups.getLabelsScores(name, classifier,n_fold=n_fold, selection=GBPOL_selection, consider_time = \"long\")\n",
    "LIWC_scores, LIWC_labels, _ = pol_groups.getLabelsScores(name, classifier,n_fold=n_fold, selection=LIWC_selection, consider_time = \"long\")\n",
    "latePOL_scores, latePOL_labels, _ = pol_groups.getLabelsScores(name, classifier,n_fold=n_fold, selection=latePOL_selection)\n",
    "LongPOL_scores, LongPOL_labels, _ = pol_groups.getLabelsScores(name, classifier,n_fold=n_fold, selection=LongPOL_selection)"
   ]
  },
  {
   "cell_type": "code",
   "execution_count": 227,
   "metadata": {
    "collapsed": false,
    "deletable": true,
    "editable": true
   },
   "outputs": [],
   "source": [
    "tfidf_scores, tfidf_labels, _ = tfidf_groups.getLabelsScores(\"Long_Bipolar\", classifier,n_fold=n_fold, consider_time = \"long\")"
   ]
  },
  {
   "cell_type": "code",
   "execution_count": 228,
   "metadata": {
    "collapsed": false,
    "deletable": true,
    "editable": true
   },
   "outputs": [],
   "source": [
    "\n",
    "bipolar_SCORES = [GBPOL_scores, LIWC_scores, latePOL_scores, LongPOL_scores , tfidf_scores]\n",
    "bipolar_LABELS = [GBPOL_labels[:,0], LIWC_labels[:,0], latePOL_labels[:,0], LongPOL_labels[:,0], tfidf_labels]\n",
    "bipolar_NAMES =  [GBPOL_labels[:,1], LIWC_labels[:,1], latePOL_labels[:,1], LongPOL_labels[:,1]]\n"
   ]
  },
  {
   "cell_type": "code",
   "execution_count": 238,
   "metadata": {
    "collapsed": false,
    "deletable": true,
    "editable": true,
    "scrolled": false
   },
   "outputs": [
    {
     "name": "stdout",
     "output_type": "stream",
     "text": [
      "Pattern of Life under curve area: 0.982954083518\n",
      "LIWC under curve area: 0.792900960828\n",
      "time-Pattern of Life (late) under curve area: 0.970515702619\n",
      "time-Pattern of Life under curve area: 0.971588364065\n",
      "TF-IDF under curve area: 0.88043758967\n"
     ]
    },
    {
     "data": {
      "image/png": "[encoded data removed]",
      "text/plain": [
       "<matplotlib.figure.Figure at 0x7fb7254bfd90>"
      ]
     },
     "metadata": {},
     "output_type": "display_data"
    },
    {
     "name": "stdout",
     "output_type": "stream",
     "text": [
      "Pattern of Life Average Precision: 0.970942556384\n",
      "LIWC Average Precision: 0.692833609179\n",
      "time-Pattern of Life (late) Average Precision: 0.974555804805\n",
      "time-Pattern of Life Average Precision: 0.976952262081\n",
      "TF-IDF Average Precision: 0.826357652424\n"
     ]
    },
    {
     "data": {
      "image/png": "[encoded data removed]",
      "text/plain": [
       "<matplotlib.figure.Figure at 0x7fb7254bf450>"
      ]
     },
     "metadata": {},
     "output_type": "display_data"
    }
   ],
   "source": [
    "renderROC(bipolar_SCORES, bipolar_LABELS, name,names)  \n",
    "renderPRC(bipolar_SCORES, bipolar_LABELS, name, names)"
   ]
  },
  {
   "cell_type": "markdown",
   "metadata": {
    "deletable": true,
    "editable": true
   },
   "source": [
    "## Evaluation"
   ]
  },
  {
   "cell_type": "code",
   "execution_count": 201,
   "metadata": {
    "collapsed": false,
    "deletable": true,
    "editable": true
   },
   "outputs": [
    {
     "data": {
      "image/png": "[encoded data removed]",
      "text/plain": [
       "<matplotlib.figure.Figure at 0x7f5e52ece210>"
      ]
     },
     "metadata": {},
     "output_type": "display_data"
    }
   ],
   "source": [
    "bipolar_index = [i for i, value in enumerate(bipolar_LABELS[0]) if value == 1]\n",
    "\n",
    "bipolar_value = [bipolar_SCORES[0][i] for i in bipolar_index]\n",
    "\n",
    "regular_value = [bipolar_SCORES[0][i] for i in range(len(bipolar_SCORES[0])) if i not in bipolar_index]\n",
    "\n",
    "plt.hist(bipolar_value, label = 'Bipolar', alpha=0.6)\n",
    "plt.hist(regular_value, label = 'Regular', alpha=0.6)\n",
    "\n",
    "plt.grid(True)\n",
    "plt.xlabel(\"Probability\")\n",
    "plt.ylabel(\"Frequency\")\n",
    "\n",
    "plt.ylim([0, 550])\n",
    "plt.legend() \n",
    "plt.show() \n",
    "plt.close()"
   ]
  },
  {
   "cell_type": "code",
   "execution_count": 202,
   "metadata": {
    "collapsed": false,
    "deletable": true,
    "editable": true
   },
   "outputs": [],
   "source": [
    "b_P_list = []\n",
    "b_R_list = []\n",
    "r_p_list = []\n",
    "r_R_list = []\n",
    "thre_list = np.arange(0.4,0.91,0.001)\n",
    "for thre in thre_list:\n",
    "\n",
    "    bipolar_index = [i for i, value in enumerate(bipolar_LABELS[0]) if value == 1]\n",
    "\n",
    "    bipolar_value = [bipolar_SCORES[0][i] for i in bipolar_index]\n",
    "\n",
    "    TP_bipolar_value = filter(lambda x: x >= thre, bipolar_value)\n",
    "\n",
    "    regular_value = [bipolar_SCORES[0][i]for i in range(len(bipolar_SCORES[0])) if i not in bipolar_index]\n",
    "\n",
    "    TN_regular_value = filter(lambda x: x < thre, regular_value)\n",
    "\n",
    "    Total_Bipolar = len(bipolar_value)\n",
    "\n",
    "    Total_Regular = len(regular_value)\n",
    "\n",
    "    FP = Total_Regular - len(TN_regular_value)\n",
    "\n",
    "    FN = Total_Bipolar - len(TP_bipolar_value)\n",
    "\n",
    "    b_P = float(len(TP_bipolar_value))/(len(TP_bipolar_value) + FP)\n",
    "    b_R = float(len(TP_bipolar_value))/len(bipolar_value)\n",
    "    r_p = float(len(TN_regular_value))/(len(TN_regular_value) + FN)\n",
    "    r_R = float(len(TN_regular_value))/len(regular_value)\n",
    "\n",
    "    b_P_list.append(b_P)\n",
    "    b_R_list.append(b_R)\n",
    "    r_p_list.append(r_p)\n",
    "    r_R_list.append(r_R)\n"
   ]
  },
  {
   "cell_type": "code",
   "execution_count": 203,
   "metadata": {
    "collapsed": false,
    "deletable": true,
    "editable": true
   },
   "outputs": [
    {
     "data": {
      "image/png": "[encoded data removed]",
      "text/plain": [
       "<matplotlib.figure.Figure at 0x7f5e52b50650>"
      ]
     },
     "metadata": {},
     "output_type": "display_data"
    }
   ],
   "source": [
    "plt.plot(thre_list, b_P_list, 'r', label='Bipolar Precision')\n",
    "plt.plot(thre_list, b_R_list, 'b', label='Bipolar Recall')\n",
    "plt.legend()\n",
    "plt.show() \n",
    "plt.close()"
   ]
  },
  {
   "cell_type": "code",
   "execution_count": 204,
   "metadata": {
    "collapsed": false,
    "deletable": true,
    "editable": true
   },
   "outputs": [
    {
     "data": {
      "image/png": "[encoded data removed]",
      "text/plain": [
       "<matplotlib.figure.Figure at 0x7f5ebc13c090>"
      ]
     },
     "metadata": {},
     "output_type": "display_data"
    }
   ],
   "source": [
    "plt.plot(thre_list, r_p_list, 'g', label='Regular Precision')\n",
    "plt.plot(thre_list, r_R_list, 'm', label='Regular Recall')\n",
    "plt.legend()\n",
    "plt.show() \n",
    "plt.close()"
   ]
  },
  {
   "cell_type": "code",
   "execution_count": 205,
   "metadata": {
    "collapsed": false,
    "deletable": true,
    "editable": true
   },
   "outputs": [
    {
     "data": {
      "image/png": "[encoded data removed]",
      "text/plain": [
       "<matplotlib.figure.Figure at 0x7f5e9ff23ad0>"
      ]
     },
     "metadata": {},
     "output_type": "display_data"
    }
   ],
   "source": [
    "plt.plot(thre_list, r_p_list, 'g', label='Regular Precision')\n",
    "plt.plot(thre_list, r_R_list, 'm', label='Regular Recall')\n",
    "plt.plot(thre_list, b_P_list, 'r', label='Bipolar Precision')\n",
    "plt.plot(thre_list, b_R_list, 'b', label='Bipolar Recall')\n",
    "plt.legend()\n",
    "plt.show() \n",
    "plt.close()"
   ]
  },
  {
   "cell_type": "code",
   "execution_count": 206,
   "metadata": {
    "collapsed": false,
    "deletable": true,
    "editable": true
   },
   "outputs": [
    {
     "name": "stdout",
     "output_type": "stream",
     "text": [
      "0.5\n",
      "0.454\n"
     ]
    }
   ],
   "source": [
    "for i, value in enumerate(thre_list):\n",
    "    if b_P_list[i] < r_R_list[i]:\n",
    "        cross_i = i\n",
    "        upper_bound = thre_list[i]\n",
    "        print upper_bound\n",
    "        break\n",
    "for i, value in enumerate(thre_list):\n",
    "    if r_p_list[i] < b_P_list[i]:\n",
    "        \n",
    "        lower_bound = thre_list[i]\n",
    "        print lower_bound\n",
    "        break"
   ]
  },
  {
   "cell_type": "code",
   "execution_count": 251,
   "metadata": {
    "collapsed": false,
    "deletable": true,
    "editable": true
   },
   "outputs": [
    {
     "name": "stdout",
     "output_type": "stream",
     "text": [
      "Bipolar Precision: 0.92676056338\n",
      "Bipolar Recall: 0.889189189189\n"
     ]
    },
    {
     "data": {
      "image/png": "[encoded data removed]",
      "text/plain": [
       "<matplotlib.figure.Figure at 0x7f5e9fb5ded0>"
      ]
     },
     "metadata": {},
     "output_type": "display_data"
    },
    {
     "name": "stdout",
     "output_type": "stream",
     "text": [
      "Regular Precision: 0.889686098655\n",
      "Regular Recall: 0.927102803738\n"
     ]
    },
    {
     "data": {
      "image/png": "[encoded data removed]",
      "text/plain": [
       "<matplotlib.figure.Figure at 0x7f5e9f97bc10>"
      ]
     },
     "metadata": {},
     "output_type": "display_data"
    }
   ],
   "source": [
    "print('Bipolar Precision: {}'.format(b_P_list[cross_i]))\n",
    "print('Bipolar Recall: {}'.format(b_R_list[cross_i]))\n",
    "plt.hist(bipolar_value)\n",
    "plt.grid(True)\n",
    "plt.xlabel(\"Value\")\n",
    "plt.ylabel(\"Frequency\")\n",
    "plt.title(\"Bipolar\")\n",
    "plt.ylim([0, 550])\n",
    "# plt.xlim([0.4, 0.9])\n",
    "plt.show()\n",
    "plt.close()\n",
    "\n",
    "print('Regular Precision: {}'.format(r_p_list[cross_i]))\n",
    "print('Regular Recall: {}'.format(r_R_list[cross_i]))\n",
    "plt.hist(regular_value)\n",
    "plt.grid(True)\n",
    "plt.xlabel(\"Value\")\n",
    "plt.ylabel(\"Frequency\")\n",
    "plt.title(\"Regular\")\n",
    "plt.ylim([0, 550])\n",
    "# plt.xlim([0.4, 0.9])\n",
    "plt.show() \n",
    "plt.close()"
   ]
  },
  {
   "cell_type": "code",
   "execution_count": 252,
   "metadata": {
    "collapsed": false,
    "deletable": true,
    "editable": true,
    "scrolled": false
   },
   "outputs": [
    {
     "name": "stdout",
     "output_type": "stream",
     "text": [
      "Bipolar Precision: 0.911602209945\n",
      "Bipolar Recall: 0.927835051546\n",
      "\n",
      "Regular Precision: 0.926174496644\n",
      "Regular Recall: 0.909604519774\n"
     ]
    },
    {
     "data": {
      "image/png": "[encoded data removed]",
      "text/plain": [
       "<matplotlib.figure.Figure at 0x7f5e9d515290>"
      ]
     },
     "metadata": {},
     "output_type": "display_data"
    }
   ],
   "source": [
    "# Cut in different value\n",
    "\n",
    "bipolar_index = [i for i, value in enumerate(bipolar_LABELS[0]) if value == 1]\n",
    "\n",
    "bipolar_value = [bipolar_SCORES[0][i] for i in bipolar_index]\n",
    "\n",
    "TP_bipolar_value = filter(lambda x: x >= upper_bound, bipolar_value)\n",
    "\n",
    "regular_value = [bipolar_SCORES[0][i] for i in range(len(bipolar_SCORES[0])) if i not in bipolar_index]\n",
    "\n",
    "TN_regular_value = filter(lambda x: x < lower_bound, regular_value)\n",
    "\n",
    "FP = len(filter(lambda x: x < lower_bound, bipolar_value))\n",
    "\n",
    "FN = len(filter(lambda x: x >= upper_bound, regular_value))\n",
    "\n",
    "b_P = float(len(TP_bipolar_value))/(len(TP_bipolar_value) + FP)\n",
    "b_R = float(len(TP_bipolar_value))/(len(TP_bipolar_value)+FN )\n",
    "r_p = float(len(TN_regular_value))/(len(TN_regular_value) + FN)\n",
    "r_R = float(len(TN_regular_value))/(len(TN_regular_value)+ FP)\n",
    "\n",
    "print('Bipolar Precision: {}'.format(b_P))\n",
    "print('Bipolar Recall: {}'.format(b_R))\n",
    "print \n",
    "print('Regular Precision: {}'.format(r_p))\n",
    "print('Regular Recall: {}'.format(r_R))\n",
    "\n",
    "plt.hist(filter(lambda x: x >= upper_bound or x < lower_bound, bipolar_value), label = 'Bipolar', alpha=0.6)\n",
    "plt.hist(filter(lambda x: x >= upper_bound or x < lower_bound, regular_value), label = 'Regular', alpha=0.6)\n",
    "\n",
    "plt.grid(True)\n",
    "plt.xlabel(\"Probability\")\n",
    "plt.ylabel(\"Frequency\")\n",
    "\n",
    "plt.ylim([0, 550])\n",
    "plt.legend() \n",
    "plt.show() \n",
    "plt.close()"
   ]
  },
  {
   "cell_type": "markdown",
   "metadata": {
    "deletable": true,
    "editable": true
   },
   "source": [
    "# Check Polarity user"
   ]
  },
  {
   "cell_type": "code",
   "execution_count": 209,
   "metadata": {
    "collapsed": true,
    "deletable": true,
    "editable": true
   },
   "outputs": [],
   "source": [
    "from collections import Counter"
   ]
  },
  {
   "cell_type": "code",
   "execution_count": 210,
   "metadata": {
    "collapsed": false,
    "deletable": true,
    "editable": true
   },
   "outputs": [],
   "source": [
    "under_lower_index = [i for i in bipolar_index if bipolar_SCORES[0][i] < lower_bound]\n",
    "under_lower_user = [(pol_groups.getGroupUserName()[int(bipolar_NAMES[0][i])], bipolar_SCORES[0][i]) for i in under_lower_index]\n",
    "# Counter([name for name, value in under_lower_user]).most_common()\n"
   ]
  },
  {
   "cell_type": "markdown",
   "metadata": {
    "deletable": true,
    "editable": true
   },
   "source": [
    "## BD user Predict < 0.3"
   ]
  },
  {
   "cell_type": "code",
   "execution_count": 211,
   "metadata": {
    "collapsed": false,
    "deletable": true,
    "editable": true
   },
   "outputs": [
    {
     "data": {
      "text/plain": [
       "[('yohaw', 6),\n",
       " ('PunkRockHappy', 5),\n",
       " ('clyder1966', 4),\n",
       " ('TommmMate', 3),\n",
       " ('_kenziiieee_', 3),\n",
       " ('NiallBunny', 2),\n",
       " ('Megrrrs', 2),\n",
       " ('Boricua611', 2),\n",
       " ('enjoyscarlett_', 2),\n",
       " ('Radica_XO_Khidd', 1),\n",
       " ('AwesomeAsh', 1),\n",
       " ('TWallaceMusic', 1),\n",
       " ('ghostofclifford', 1),\n",
       " ('LochnessaMarie', 1)]"
      ]
     },
     "execution_count": 211,
     "metadata": {},
     "output_type": "execute_result"
    }
   ],
   "source": [
    "Counter([name for name, value in filter(lambda x: x[1]<0.3 ,under_lower_user)]).most_common()"
   ]
  },
  {
   "cell_type": "markdown",
   "metadata": {
    "deletable": true,
    "editable": true
   },
   "source": [
    "## Regular user Predict > 0.7"
   ]
  },
  {
   "cell_type": "code",
   "execution_count": 212,
   "metadata": {
    "collapsed": false,
    "deletable": true,
    "editable": true,
    "scrolled": false
   },
   "outputs": [],
   "source": [
    "regular_index = [i for i in xrange(len(bipolar_SCORES[0])) if i not in bipolar_index]\n",
    "on_upper_index = [i for i in regular_index if bipolar_SCORES[0][i] > upper_bound]\n",
    "on_upper_user = [(pol_groups.getBaseUserName()[int(bipolar_NAMES[0][i])], bipolar_SCORES[0][i]) for i in regular_index]\n",
    "# Counter([name for name, value in on_upper_user]).most_common()\n"
   ]
  },
  {
   "cell_type": "code",
   "execution_count": 234,
   "metadata": {
    "collapsed": false,
    "deletable": true,
    "editable": true
   },
   "outputs": [
    {
     "data": {
      "text/plain": [
       "[(2847673069, 3),\n",
       " (118151476, 3),\n",
       " (85093166, 2),\n",
       " (2905542613, 2),\n",
       " (258224151, 2),\n",
       " (453767970, 1),\n",
       " (356860297, 1)]"
      ]
     },
     "execution_count": 234,
     "metadata": {},
     "output_type": "execute_result"
    }
   ],
   "source": [
    "Counter([name for name, value in filter(lambda x: x[1]>0.7 ,on_upper_user)]).most_common()"
   ]
  },
  {
   "cell_type": "code",
   "execution_count": 233,
   "metadata": {
    "collapsed": false,
    "deletable": true,
    "editable": true
   },
   "outputs": [],
   "source": [
    "# for i, user in enumerate(regular_clean):\n",
    "#     if user['name'][0] != 118151476:continue\n",
    "#     print i"
   ]
  },
  {
   "cell_type": "code",
   "execution_count": 232,
   "metadata": {
    "collapsed": false,
    "deletable": true,
    "editable": true
   },
   "outputs": [],
   "source": [
    "# regular_clean[152]"
   ]
  },
  {
   "cell_type": "markdown",
   "metadata": {
    "deletable": true,
    "editable": true
   },
   "source": [
    "## Testing Predict Model"
   ]
  },
  {
   "cell_type": "code",
   "execution_count": 42,
   "metadata": {
    "collapsed": true,
    "deletable": true,
    "editable": true
   },
   "outputs": [],
   "source": [
    "def getPOLFeature(timeSeries):\n",
    "#     features = np.zeros((len(user_timeSeries_list),20),dtype=float)\n",
    "    features = np.zeros((20),dtype=float)\n",
    "        \n",
    "    tweets_length = float(timeSeries.shape[0])\n",
    "    tweets_rate = getTweetRate(timeSeries)\n",
    "    late_tweets_rate = getLateTweetRate(timeSeries)\n",
    "    mention_rate = getMentionRate(timeSeries)\n",
    "    unique_mentions = getUniqueMentions(timeSeries)\n",
    "    frequent_mentions = getFrequentMentions(timeSeries)\n",
    "    negative_ratio = getNegativeRatio(timeSeries)\n",
    "    positive_ratio = getPositiveRatio(timeSeries)\n",
    "    flips_ratio = getFlipsCount(timeSeries) / tweets_length\n",
    "    negative_combos = getCombosCount(timeSeries,matcher=-1) / tweets_length\n",
    "    positive_combos = getCombosCount(timeSeries,matcher=1) / tweets_length\n",
    "    emotion_counts_dict = getUsersEmotions(timeSeries)\n",
    "\n",
    "\n",
    "    age = getAge(timeSeries)\n",
    "    gender = getGender(timeSeries)\n",
    "\n",
    "    features[0] = tweets_rate\n",
    "    features[1] = late_tweets_rate\n",
    "    features[2] = mention_rate\n",
    "    features[3] = unique_mentions\n",
    "    features[4] = frequent_mentions \n",
    "    features[5] = positive_ratio\n",
    "    features[6] = negative_ratio\n",
    "    features[7] = flips_ratio\n",
    "    features[8] = negative_combos\n",
    "    features[9] = positive_combos\n",
    "    features[10] = age\n",
    "    features[11] = gender\n",
    "    for j, emotion in enumerate([\"joy\",\"sadness\",\"fear\", \"anticipation\", \"anger\", \"trust\", \"disgust\" ,\"surprise\"]):\n",
    "        features[12+j] = np.mean(emotion_counts_dict[emotion])\n",
    "        \n",
    "            \n",
    "    return features"
   ]
  },
  {
   "cell_type": "code",
   "execution_count": 222,
   "metadata": {
    "collapsed": false,
    "deletable": true,
    "editable": true,
    "scrolled": true
   },
   "outputs": [
    {
     "name": "stdout",
     "output_type": "stream",
     "text": [
      "[7, 19, 11, 3, 18, 6, 0, 8, 20, 2, 5, 13, 4, 10, 16, 1, 14, 17, 12, 15, 9]\n"
     ]
    }
   ],
   "source": [
    "# #Dump the pre-trained models\n",
    "\n",
    "# # Get feature\n",
    "feature_order = ['tweets_rate', 'late_tweets_rate','mention_rate','unique_mentions','frequent_mentions','positive_ratio',\\\n",
    "                 'negative_ratio','flips','negative_combos','positive_combos', 'age', 'gender', \"joy\",\"sadness\",\"fear\",  \\\n",
    "                 \"anticipation\", \"anger\", \"trust\", \"disgust\" ,\"surprise\", \"long_tweets_rate\"]\n",
    "online_selection = []\n",
    "\n",
    "for feature_name in feature_order:\n",
    "    for i,(name, category) in enumerate(pol_groups.index2feature):\n",
    "        if name == feature_name:\n",
    "            online_selection.append(i)\n",
    "print(online_selection)\n",
    "            \n",
    "classifier  = RandomForestClassifier(n_jobs=-1, max_features=\"sqrt\", n_estimators=128)\n",
    "\n",
    "X, Y = pol_groups.getLabeledData(\"Bipolar\", selection=online_selection)\n",
    "\n",
    "sss = StratifiedShuffleSplit(Y[:,0], n_fold, test_size = 0.4, random_state=randint(0,65536) )\n",
    "\n",
    "for train_index, test_index in sss:\n",
    "    X_train, X_test           = X[train_index], X[test_index]\n",
    "    Y_train, Y_test           = Y[train_index][:,0], Y[test_index][:,0]\n",
    "    Y_train_name, Y_test_name = Y[train_index][:,1], Y[test_index][:,1]\n",
    "\n",
    "    classifier.fit(X_train, Y_train)\n",
    "\n",
    "SCORES = [classifier.predict_proba(X_test)[:,1]]\n",
    "LABELS = [Y[test_index][:,0]]"
   ]
  },
  {
   "cell_type": "code",
   "execution_count": 249,
   "metadata": {
    "collapsed": false,
    "deletable": true,
    "editable": true
   },
   "outputs": [
    {
     "name": "stdout",
     "output_type": "stream",
     "text": [
      "Pattern of Life Average Precision: 0.974806061141\n"
     ]
    },
    {
     "data": {
      "image/png": "[encoded data removed]",
      "text/plain": [
       "<matplotlib.figure.Figure at 0x7f5e9d64eb90>"
      ]
     },
     "metadata": {},
     "output_type": "display_data"
    }
   ],
   "source": [
    "renderPRC(SCORES, LABELS, \"Bipolar\", [\"Pattern of Life\"])"
   ]
  },
  {
   "cell_type": "code",
   "execution_count": 250,
   "metadata": {
    "collapsed": true,
    "deletable": true,
    "editable": true
   },
   "outputs": [
    {
     "data": {
      "text/plain": [
       "['models/bipolar_forest/bipolar_forest_long_term',\n",
       " 'models/bipolar_forest/bipolar_forest_long_term_01.npy',\n",
       " 'models/bipolar_forest/bipolar_forest_long_term_02.npy',\n",
       " 'models/bipolar_forest/bipolar_forest_long_term_03.npy',\n",
       " 'models/bipolar_forest/bipolar_forest_long_term_04.npy',\n",
       " 'models/bipolar_forest/bipolar_forest_long_term_05.npy',\n",
       " 'models/bipolar_forest/bipolar_forest_long_term_06.npy',\n",
       " 'models/bipolar_forest/bipolar_forest_long_term_07.npy',\n",
       " 'models/bipolar_forest/bipolar_forest_long_term_08.npy',\n",
       " 'models/bipolar_forest/bipolar_forest_long_term_09.npy',\n",
       " 'models/bipolar_forest/bipolar_forest_long_term_10.npy',\n",
       " 'models/bipolar_forest/bipolar_forest_long_term_11.npy',\n",
       " 'models/bipolar_forest/bipolar_forest_long_term_12.npy',\n",
       " 'models/bipolar_forest/bipolar_forest_long_term_13.npy',\n",
       " 'models/bipolar_forest/bipolar_forest_long_term_14.npy',\n",
       " 'models/bipolar_forest/bipolar_forest_long_term_15.npy',\n",
       " 'models/bipolar_forest/bipolar_forest_long_term_16.npy',\n",
       " 'models/bipolar_forest/bipolar_forest_long_term_17.npy',\n",
       " 'models/bipolar_forest/bipolar_forest_long_term_18.npy',\n",
       " 'models/bipolar_forest/bipolar_forest_long_term_19.npy',\n",
       " 'models/bipolar_forest/bipolar_forest_long_term_20.npy',\n",
       " 'models/bipolar_forest/bipolar_forest_long_term_21.npy',\n",
       " 'models/bipolar_forest/bipolar_forest_long_term_22.npy',\n",
       " 'models/bipolar_forest/bipolar_forest_long_term_23.npy',\n",
       " 'models/bipolar_forest/bipolar_forest_long_term_24.npy',\n",
       " 'models/bipolar_forest/bipolar_forest_long_term_25.npy',\n",
       " 'models/bipolar_forest/bipolar_forest_long_term_26.npy',\n",
       " 'models/bipolar_forest/bipolar_forest_long_term_27.npy',\n",
       " 'models/bipolar_forest/bipolar_forest_long_term_28.npy',\n",
       " 'models/bipolar_forest/bipolar_forest_long_term_29.npy',\n",
       " 'models/bipolar_forest/bipolar_forest_long_term_30.npy',\n",
       " 'models/bipolar_forest/bipolar_forest_long_term_31.npy',\n",
       " 'models/bipolar_forest/bipolar_forest_long_term_32.npy',\n",
       " 'models/bipolar_forest/bipolar_forest_long_term_33.npy',\n",
       " 'models/bipolar_forest/bipolar_forest_long_term_34.npy',\n",
       " 'models/bipolar_forest/bipolar_forest_long_term_35.npy',\n",
       " 'models/bipolar_forest/bipolar_forest_long_term_36.npy',\n",
       " 'models/bipolar_forest/bipolar_forest_long_term_37.npy',\n",
       " 'models/bipolar_forest/bipolar_forest_long_term_38.npy',\n",
       " 'models/bipolar_forest/bipolar_forest_long_term_39.npy',\n",
       " 'models/bipolar_forest/bipolar_forest_long_term_40.npy',\n",
       " 'models/bipolar_forest/bipolar_forest_long_term_41.npy',\n",
       " 'models/bipolar_forest/bipolar_forest_long_term_42.npy',\n",
       " 'models/bipolar_forest/bipolar_forest_long_term_43.npy',\n",
       " 'models/bipolar_forest/bipolar_forest_long_term_44.npy',\n",
       " 'models/bipolar_forest/bipolar_forest_long_term_45.npy',\n",
       " 'models/bipolar_forest/bipolar_forest_long_term_46.npy',\n",
       " 'models/bipolar_forest/bipolar_forest_long_term_47.npy',\n",
       " 'models/bipolar_forest/bipolar_forest_long_term_48.npy',\n",
       " 'models/bipolar_forest/bipolar_forest_long_term_49.npy',\n",
       " 'models/bipolar_forest/bipolar_forest_long_term_50.npy',\n",
       " 'models/bipolar_forest/bipolar_forest_long_term_51.npy',\n",
       " 'models/bipolar_forest/bipolar_forest_long_term_52.npy',\n",
       " 'models/bipolar_forest/bipolar_forest_long_term_53.npy',\n",
       " 'models/bipolar_forest/bipolar_forest_long_term_54.npy',\n",
       " 'models/bipolar_forest/bipolar_forest_long_term_55.npy',\n",
       " 'models/bipolar_forest/bipolar_forest_long_term_56.npy',\n",
       " 'models/bipolar_forest/bipolar_forest_long_term_57.npy',\n",
       " 'models/bipolar_forest/bipolar_forest_long_term_58.npy',\n",
       " 'models/bipolar_forest/bipolar_forest_long_term_59.npy',\n",
       " 'models/bipolar_forest/bipolar_forest_long_term_60.npy',\n",
       " 'models/bipolar_forest/bipolar_forest_long_term_61.npy',\n",
       " 'models/bipolar_forest/bipolar_forest_long_term_62.npy',\n",
       " 'models/bipolar_forest/bipolar_forest_long_term_63.npy',\n",
       " 'models/bipolar_forest/bipolar_forest_long_term_64.npy',\n",
       " 'models/bipolar_forest/bipolar_forest_long_term_65.npy',\n",
       " 'models/bipolar_forest/bipolar_forest_long_term_66.npy',\n",
       " 'models/bipolar_forest/bipolar_forest_long_term_67.npy',\n",
       " 'models/bipolar_forest/bipolar_forest_long_term_68.npy',\n",
       " 'models/bipolar_forest/bipolar_forest_long_term_69.npy',\n",
       " 'models/bipolar_forest/bipolar_forest_long_term_70.npy',\n",
       " 'models/bipolar_forest/bipolar_forest_long_term_71.npy',\n",
       " 'models/bipolar_forest/bipolar_forest_long_term_72.npy',\n",
       " 'models/bipolar_forest/bipolar_forest_long_term_73.npy',\n",
       " 'models/bipolar_forest/bipolar_forest_long_term_74.npy',\n",
       " 'models/bipolar_forest/bipolar_forest_long_term_75.npy',\n",
       " 'models/bipolar_forest/bipolar_forest_long_term_76.npy',\n",
       " 'models/bipolar_forest/bipolar_forest_long_term_77.npy',\n",
       " 'models/bipolar_forest/bipolar_forest_long_term_78.npy',\n",
       " 'models/bipolar_forest/bipolar_forest_long_term_79.npy',\n",
       " 'models/bipolar_forest/bipolar_forest_long_term_80.npy',\n",
       " 'models/bipolar_forest/bipolar_forest_long_term_81.npy',\n",
       " 'models/bipolar_forest/bipolar_forest_long_term_82.npy',\n",
       " 'models/bipolar_forest/bipolar_forest_long_term_83.npy',\n",
       " 'models/bipolar_forest/bipolar_forest_long_term_84.npy',\n",
       " 'models/bipolar_forest/bipolar_forest_long_term_85.npy',\n",
       " 'models/bipolar_forest/bipolar_forest_long_term_86.npy',\n",
       " 'models/bipolar_forest/bipolar_forest_long_term_87.npy',\n",
       " 'models/bipolar_forest/bipolar_forest_long_term_88.npy',\n",
       " 'models/bipolar_forest/bipolar_forest_long_term_89.npy',\n",
       " 'models/bipolar_forest/bipolar_forest_long_term_90.npy',\n",
       " 'models/bipolar_forest/bipolar_forest_long_term_91.npy',\n",
       " 'models/bipolar_forest/bipolar_forest_long_term_92.npy',\n",
       " 'models/bipolar_forest/bipolar_forest_long_term_93.npy',\n",
       " 'models/bipolar_forest/bipolar_forest_long_term_94.npy',\n",
       " 'models/bipolar_forest/bipolar_forest_long_term_95.npy',\n",
       " 'models/bipolar_forest/bipolar_forest_long_term_96.npy',\n",
       " 'models/bipolar_forest/bipolar_forest_long_term_97.npy',\n",
       " 'models/bipolar_forest/bipolar_forest_long_term_98.npy',\n",
       " 'models/bipolar_forest/bipolar_forest_long_term_99.npy',\n",
       " 'models/bipolar_forest/bipolar_forest_long_term_100.npy',\n",
       " 'models/bipolar_forest/bipolar_forest_long_term_101.npy',\n",
       " 'models/bipolar_forest/bipolar_forest_long_term_102.npy',\n",
       " 'models/bipolar_forest/bipolar_forest_long_term_103.npy',\n",
       " 'models/bipolar_forest/bipolar_forest_long_term_104.npy',\n",
       " 'models/bipolar_forest/bipolar_forest_long_term_105.npy',\n",
       " 'models/bipolar_forest/bipolar_forest_long_term_106.npy',\n",
       " 'models/bipolar_forest/bipolar_forest_long_term_107.npy',\n",
       " 'models/bipolar_forest/bipolar_forest_long_term_108.npy',\n",
       " 'models/bipolar_forest/bipolar_forest_long_term_109.npy',\n",
       " 'models/bipolar_forest/bipolar_forest_long_term_110.npy',\n",
       " 'models/bipolar_forest/bipolar_forest_long_term_111.npy',\n",
       " 'models/bipolar_forest/bipolar_forest_long_term_112.npy',\n",
       " 'models/bipolar_forest/bipolar_forest_long_term_113.npy',\n",
       " 'models/bipolar_forest/bipolar_forest_long_term_114.npy',\n",
       " 'models/bipolar_forest/bipolar_forest_long_term_115.npy',\n",
       " 'models/bipolar_forest/bipolar_forest_long_term_116.npy',\n",
       " 'models/bipolar_forest/bipolar_forest_long_term_117.npy',\n",
       " 'models/bipolar_forest/bipolar_forest_long_term_118.npy',\n",
       " 'models/bipolar_forest/bipolar_forest_long_term_119.npy',\n",
       " 'models/bipolar_forest/bipolar_forest_long_term_120.npy',\n",
       " 'models/bipolar_forest/bipolar_forest_long_term_121.npy',\n",
       " 'models/bipolar_forest/bipolar_forest_long_term_122.npy',\n",
       " 'models/bipolar_forest/bipolar_forest_long_term_123.npy',\n",
       " 'models/bipolar_forest/bipolar_forest_long_term_124.npy',\n",
       " 'models/bipolar_forest/bipolar_forest_long_term_125.npy',\n",
       " 'models/bipolar_forest/bipolar_forest_long_term_126.npy',\n",
       " 'models/bipolar_forest/bipolar_forest_long_term_127.npy',\n",
       " 'models/bipolar_forest/bipolar_forest_long_term_128.npy',\n",
       " 'models/bipolar_forest/bipolar_forest_long_term_129.npy',\n",
       " 'models/bipolar_forest/bipolar_forest_long_term_130.npy',\n",
       " 'models/bipolar_forest/bipolar_forest_long_term_131.npy',\n",
       " 'models/bipolar_forest/bipolar_forest_long_term_132.npy',\n",
       " 'models/bipolar_forest/bipolar_forest_long_term_133.npy',\n",
       " 'models/bipolar_forest/bipolar_forest_long_term_134.npy',\n",
       " 'models/bipolar_forest/bipolar_forest_long_term_135.npy',\n",
       " 'models/bipolar_forest/bipolar_forest_long_term_136.npy',\n",
       " 'models/bipolar_forest/bipolar_forest_long_term_137.npy',\n",
       " 'models/bipolar_forest/bipolar_forest_long_term_138.npy',\n",
       " 'models/bipolar_forest/bipolar_forest_long_term_139.npy',\n",
       " 'models/bipolar_forest/bipolar_forest_long_term_140.npy',\n",
       " 'models/bipolar_forest/bipolar_forest_long_term_141.npy',\n",
       " 'models/bipolar_forest/bipolar_forest_long_term_142.npy',\n",
       " 'models/bipolar_forest/bipolar_forest_long_term_143.npy',\n",
       " 'models/bipolar_forest/bipolar_forest_long_term_144.npy',\n",
       " 'models/bipolar_forest/bipolar_forest_long_term_145.npy',\n",
       " 'models/bipolar_forest/bipolar_forest_long_term_146.npy',\n",
       " 'models/bipolar_forest/bipolar_forest_long_term_147.npy',\n",
       " 'models/bipolar_forest/bipolar_forest_long_term_148.npy',\n",
       " 'models/bipolar_forest/bipolar_forest_long_term_149.npy',\n",
       " 'models/bipolar_forest/bipolar_forest_long_term_150.npy',\n",
       " 'models/bipolar_forest/bipolar_forest_long_term_151.npy',\n",
       " 'models/bipolar_forest/bipolar_forest_long_term_152.npy',\n",
       " 'models/bipolar_forest/bipolar_forest_long_term_153.npy',\n",
       " 'models/bipolar_forest/bipolar_forest_long_term_154.npy',\n",
       " 'models/bipolar_forest/bipolar_forest_long_term_155.npy',\n",
       " 'models/bipolar_forest/bipolar_forest_long_term_156.npy',\n",
       " 'models/bipolar_forest/bipolar_forest_long_term_157.npy',\n",
       " 'models/bipolar_forest/bipolar_forest_long_term_158.npy',\n",
       " 'models/bipolar_forest/bipolar_forest_long_term_159.npy',\n",
       " 'models/bipolar_forest/bipolar_forest_long_term_160.npy',\n",
       " 'models/bipolar_forest/bipolar_forest_long_term_161.npy',\n",
       " 'models/bipolar_forest/bipolar_forest_long_term_162.npy',\n",
       " 'models/bipolar_forest/bipolar_forest_long_term_163.npy',\n",
       " 'models/bipolar_forest/bipolar_forest_long_term_164.npy',\n",
       " 'models/bipolar_forest/bipolar_forest_long_term_165.npy',\n",
       " 'models/bipolar_forest/bipolar_forest_long_term_166.npy',\n",
       " 'models/bipolar_forest/bipolar_forest_long_term_167.npy',\n",
       " 'models/bipolar_forest/bipolar_forest_long_term_168.npy',\n",
       " 'models/bipolar_forest/bipolar_forest_long_term_169.npy',\n",
       " 'models/bipolar_forest/bipolar_forest_long_term_170.npy',\n",
       " 'models/bipolar_forest/bipolar_forest_long_term_171.npy',\n",
       " 'models/bipolar_forest/bipolar_forest_long_term_172.npy',\n",
       " 'models/bipolar_forest/bipolar_forest_long_term_173.npy',\n",
       " 'models/bipolar_forest/bipolar_forest_long_term_174.npy',\n",
       " 'models/bipolar_forest/bipolar_forest_long_term_175.npy',\n",
       " 'models/bipolar_forest/bipolar_forest_long_term_176.npy',\n",
       " 'models/bipolar_forest/bipolar_forest_long_term_177.npy',\n",
       " 'models/bipolar_forest/bipolar_forest_long_term_178.npy',\n",
       " 'models/bipolar_forest/bipolar_forest_long_term_179.npy',\n",
       " 'models/bipolar_forest/bipolar_forest_long_term_180.npy',\n",
       " 'models/bipolar_forest/bipolar_forest_long_term_181.npy',\n",
       " 'models/bipolar_forest/bipolar_forest_long_term_182.npy',\n",
       " 'models/bipolar_forest/bipolar_forest_long_term_183.npy',\n",
       " 'models/bipolar_forest/bipolar_forest_long_term_184.npy',\n",
       " 'models/bipolar_forest/bipolar_forest_long_term_185.npy',\n",
       " 'models/bipolar_forest/bipolar_forest_long_term_186.npy',\n",
       " 'models/bipolar_forest/bipolar_forest_long_term_187.npy',\n",
       " 'models/bipolar_forest/bipolar_forest_long_term_188.npy',\n",
       " 'models/bipolar_forest/bipolar_forest_long_term_189.npy',\n",
       " 'models/bipolar_forest/bipolar_forest_long_term_190.npy',\n",
       " 'models/bipolar_forest/bipolar_forest_long_term_191.npy',\n",
       " 'models/bipolar_forest/bipolar_forest_long_term_192.npy',\n",
       " 'models/bipolar_forest/bipolar_forest_long_term_193.npy',\n",
       " 'models/bipolar_forest/bipolar_forest_long_term_194.npy',\n",
       " 'models/bipolar_forest/bipolar_forest_long_term_195.npy',\n",
       " 'models/bipolar_forest/bipolar_forest_long_term_196.npy',\n",
       " 'models/bipolar_forest/bipolar_forest_long_term_197.npy',\n",
       " 'models/bipolar_forest/bipolar_forest_long_term_198.npy',\n",
       " 'models/bipolar_forest/bipolar_forest_long_term_199.npy',\n",
       " 'models/bipolar_forest/bipolar_forest_long_term_200.npy',\n",
       " 'models/bipolar_forest/bipolar_forest_long_term_201.npy',\n",
       " 'models/bipolar_forest/bipolar_forest_long_term_202.npy',\n",
       " 'models/bipolar_forest/bipolar_forest_long_term_203.npy',\n",
       " 'models/bipolar_forest/bipolar_forest_long_term_204.npy',\n",
       " 'models/bipolar_forest/bipolar_forest_long_term_205.npy',\n",
       " 'models/bipolar_forest/bipolar_forest_long_term_206.npy',\n",
       " 'models/bipolar_forest/bipolar_forest_long_term_207.npy',\n",
       " 'models/bipolar_forest/bipolar_forest_long_term_208.npy',\n",
       " 'models/bipolar_forest/bipolar_forest_long_term_209.npy',\n",
       " 'models/bipolar_forest/bipolar_forest_long_term_210.npy',\n",
       " 'models/bipolar_forest/bipolar_forest_long_term_211.npy',\n",
       " 'models/bipolar_forest/bipolar_forest_long_term_212.npy',\n",
       " 'models/bipolar_forest/bipolar_forest_long_term_213.npy',\n",
       " 'models/bipolar_forest/bipolar_forest_long_term_214.npy',\n",
       " 'models/bipolar_forest/bipolar_forest_long_term_215.npy',\n",
       " 'models/bipolar_forest/bipolar_forest_long_term_216.npy',\n",
       " 'models/bipolar_forest/bipolar_forest_long_term_217.npy',\n",
       " 'models/bipolar_forest/bipolar_forest_long_term_218.npy',\n",
       " 'models/bipolar_forest/bipolar_forest_long_term_219.npy',\n",
       " 'models/bipolar_forest/bipolar_forest_long_term_220.npy',\n",
       " 'models/bipolar_forest/bipolar_forest_long_term_221.npy',\n",
       " 'models/bipolar_forest/bipolar_forest_long_term_222.npy',\n",
       " 'models/bipolar_forest/bipolar_forest_long_term_223.npy',\n",
       " 'models/bipolar_forest/bipolar_forest_long_term_224.npy',\n",
       " 'models/bipolar_forest/bipolar_forest_long_term_225.npy',\n",
       " 'models/bipolar_forest/bipolar_forest_long_term_226.npy',\n",
       " 'models/bipolar_forest/bipolar_forest_long_term_227.npy',\n",
       " 'models/bipolar_forest/bipolar_forest_long_term_228.npy',\n",
       " 'models/bipolar_forest/bipolar_forest_long_term_229.npy',\n",
       " 'models/bipolar_forest/bipolar_forest_long_term_230.npy',\n",
       " 'models/bipolar_forest/bipolar_forest_long_term_231.npy',\n",
       " 'models/bipolar_forest/bipolar_forest_long_term_232.npy',\n",
       " 'models/bipolar_forest/bipolar_forest_long_term_233.npy',\n",
       " 'models/bipolar_forest/bipolar_forest_long_term_234.npy',\n",
       " 'models/bipolar_forest/bipolar_forest_long_term_235.npy',\n",
       " 'models/bipolar_forest/bipolar_forest_long_term_236.npy',\n",
       " 'models/bipolar_forest/bipolar_forest_long_term_237.npy',\n",
       " 'models/bipolar_forest/bipolar_forest_long_term_238.npy',\n",
       " 'models/bipolar_forest/bipolar_forest_long_term_239.npy',\n",
       " 'models/bipolar_forest/bipolar_forest_long_term_240.npy',\n",
       " 'models/bipolar_forest/bipolar_forest_long_term_241.npy',\n",
       " 'models/bipolar_forest/bipolar_forest_long_term_242.npy',\n",
       " 'models/bipolar_forest/bipolar_forest_long_term_243.npy',\n",
       " 'models/bipolar_forest/bipolar_forest_long_term_244.npy',\n",
       " 'models/bipolar_forest/bipolar_forest_long_term_245.npy',\n",
       " 'models/bipolar_forest/bipolar_forest_long_term_246.npy',\n",
       " 'models/bipolar_forest/bipolar_forest_long_term_247.npy',\n",
       " 'models/bipolar_forest/bipolar_forest_long_term_248.npy',\n",
       " 'models/bipolar_forest/bipolar_forest_long_term_249.npy',\n",
       " 'models/bipolar_forest/bipolar_forest_long_term_250.npy',\n",
       " 'models/bipolar_forest/bipolar_forest_long_term_251.npy',\n",
       " 'models/bipolar_forest/bipolar_forest_long_term_252.npy',\n",
       " 'models/bipolar_forest/bipolar_forest_long_term_253.npy',\n",
       " 'models/bipolar_forest/bipolar_forest_long_term_254.npy',\n",
       " 'models/bipolar_forest/bipolar_forest_long_term_255.npy',\n",
       " 'models/bipolar_forest/bipolar_forest_long_term_256.npy',\n",
       " 'models/bipolar_forest/bipolar_forest_long_term_257.npy',\n",
       " 'models/bipolar_forest/bipolar_forest_long_term_258.npy',\n",
       " 'models/bipolar_forest/bipolar_forest_long_term_259.npy',\n",
       " 'models/bipolar_forest/bipolar_forest_long_term_260.npy',\n",
       " 'models/bipolar_forest/bipolar_forest_long_term_261.npy',\n",
       " 'models/bipolar_forest/bipolar_forest_long_term_262.npy',\n",
       " 'models/bipolar_forest/bipolar_forest_long_term_263.npy',\n",
       " 'models/bipolar_forest/bipolar_forest_long_term_264.npy',\n",
       " 'models/bipolar_forest/bipolar_forest_long_term_265.npy',\n",
       " 'models/bipolar_forest/bipolar_forest_long_term_266.npy',\n",
       " 'models/bipolar_forest/bipolar_forest_long_term_267.npy',\n",
       " 'models/bipolar_forest/bipolar_forest_long_term_268.npy',\n",
       " 'models/bipolar_forest/bipolar_forest_long_term_269.npy',\n",
       " 'models/bipolar_forest/bipolar_forest_long_term_270.npy',\n",
       " 'models/bipolar_forest/bipolar_forest_long_term_271.npy',\n",
       " 'models/bipolar_forest/bipolar_forest_long_term_272.npy',\n",
       " 'models/bipolar_forest/bipolar_forest_long_term_273.npy',\n",
       " 'models/bipolar_forest/bipolar_forest_long_term_274.npy',\n",
       " 'models/bipolar_forest/bipolar_forest_long_term_275.npy',\n",
       " 'models/bipolar_forest/bipolar_forest_long_term_276.npy',\n",
       " 'models/bipolar_forest/bipolar_forest_long_term_277.npy',\n",
       " 'models/bipolar_forest/bipolar_forest_long_term_278.npy',\n",
       " 'models/bipolar_forest/bipolar_forest_long_term_279.npy',\n",
       " 'models/bipolar_forest/bipolar_forest_long_term_280.npy',\n",
       " 'models/bipolar_forest/bipolar_forest_long_term_281.npy',\n",
       " 'models/bipolar_forest/bipolar_forest_long_term_282.npy',\n",
       " 'models/bipolar_forest/bipolar_forest_long_term_283.npy',\n",
       " 'models/bipolar_forest/bipolar_forest_long_term_284.npy',\n",
       " 'models/bipolar_forest/bipolar_forest_long_term_285.npy',\n",
       " 'models/bipolar_forest/bipolar_forest_long_term_286.npy',\n",
       " 'models/bipolar_forest/bipolar_forest_long_term_287.npy',\n",
       " 'models/bipolar_forest/bipolar_forest_long_term_288.npy',\n",
       " 'models/bipolar_forest/bipolar_forest_long_term_289.npy',\n",
       " 'models/bipolar_forest/bipolar_forest_long_term_290.npy',\n",
       " 'models/bipolar_forest/bipolar_forest_long_term_291.npy',\n",
       " 'models/bipolar_forest/bipolar_forest_long_term_292.npy',\n",
       " 'models/bipolar_forest/bipolar_forest_long_term_293.npy',\n",
       " 'models/bipolar_forest/bipolar_forest_long_term_294.npy',\n",
       " 'models/bipolar_forest/bipolar_forest_long_term_295.npy',\n",
       " 'models/bipolar_forest/bipolar_forest_long_term_296.npy',\n",
       " 'models/bipolar_forest/bipolar_forest_long_term_297.npy',\n",
       " 'models/bipolar_forest/bipolar_forest_long_term_298.npy',\n",
       " 'models/bipolar_forest/bipolar_forest_long_term_299.npy',\n",
       " 'models/bipolar_forest/bipolar_forest_long_term_300.npy',\n",
       " 'models/bipolar_forest/bipolar_forest_long_term_301.npy',\n",
       " 'models/bipolar_forest/bipolar_forest_long_term_302.npy',\n",
       " 'models/bipolar_forest/bipolar_forest_long_term_303.npy',\n",
       " 'models/bipolar_forest/bipolar_forest_long_term_304.npy',\n",
       " 'models/bipolar_forest/bipolar_forest_long_term_305.npy',\n",
       " 'models/bipolar_forest/bipolar_forest_long_term_306.npy',\n",
       " 'models/bipolar_forest/bipolar_forest_long_term_307.npy',\n",
       " 'models/bipolar_forest/bipolar_forest_long_term_308.npy',\n",
       " 'models/bipolar_forest/bipolar_forest_long_term_309.npy',\n",
       " 'models/bipolar_forest/bipolar_forest_long_term_310.npy',\n",
       " 'models/bipolar_forest/bipolar_forest_long_term_311.npy',\n",
       " 'models/bipolar_forest/bipolar_forest_long_term_312.npy',\n",
       " 'models/bipolar_forest/bipolar_forest_long_term_313.npy',\n",
       " 'models/bipolar_forest/bipolar_forest_long_term_314.npy',\n",
       " 'models/bipolar_forest/bipolar_forest_long_term_315.npy',\n",
       " 'models/bipolar_forest/bipolar_forest_long_term_316.npy',\n",
       " 'models/bipolar_forest/bipolar_forest_long_term_317.npy',\n",
       " 'models/bipolar_forest/bipolar_forest_long_term_318.npy',\n",
       " 'models/bipolar_forest/bipolar_forest_long_term_319.npy',\n",
       " 'models/bipolar_forest/bipolar_forest_long_term_320.npy',\n",
       " 'models/bipolar_forest/bipolar_forest_long_term_321.npy',\n",
       " 'models/bipolar_forest/bipolar_forest_long_term_322.npy',\n",
       " 'models/bipolar_forest/bipolar_forest_long_term_323.npy',\n",
       " 'models/bipolar_forest/bipolar_forest_long_term_324.npy',\n",
       " 'models/bipolar_forest/bipolar_forest_long_term_325.npy',\n",
       " 'models/bipolar_forest/bipolar_forest_long_term_326.npy',\n",
       " 'models/bipolar_forest/bipolar_forest_long_term_327.npy',\n",
       " 'models/bipolar_forest/bipolar_forest_long_term_328.npy',\n",
       " 'models/bipolar_forest/bipolar_forest_long_term_329.npy',\n",
       " 'models/bipolar_forest/bipolar_forest_long_term_330.npy',\n",
       " 'models/bipolar_forest/bipolar_forest_long_term_331.npy',\n",
       " 'models/bipolar_forest/bipolar_forest_long_term_332.npy',\n",
       " 'models/bipolar_forest/bipolar_forest_long_term_333.npy',\n",
       " 'models/bipolar_forest/bipolar_forest_long_term_334.npy',\n",
       " 'models/bipolar_forest/bipolar_forest_long_term_335.npy',\n",
       " 'models/bipolar_forest/bipolar_forest_long_term_336.npy',\n",
       " 'models/bipolar_forest/bipolar_forest_long_term_337.npy',\n",
       " 'models/bipolar_forest/bipolar_forest_long_term_338.npy',\n",
       " 'models/bipolar_forest/bipolar_forest_long_term_339.npy',\n",
       " 'models/bipolar_forest/bipolar_forest_long_term_340.npy',\n",
       " 'models/bipolar_forest/bipolar_forest_long_term_341.npy',\n",
       " 'models/bipolar_forest/bipolar_forest_long_term_342.npy',\n",
       " 'models/bipolar_forest/bipolar_forest_long_term_343.npy',\n",
       " 'models/bipolar_forest/bipolar_forest_long_term_344.npy',\n",
       " 'models/bipolar_forest/bipolar_forest_long_term_345.npy',\n",
       " 'models/bipolar_forest/bipolar_forest_long_term_346.npy',\n",
       " 'models/bipolar_forest/bipolar_forest_long_term_347.npy',\n",
       " 'models/bipolar_forest/bipolar_forest_long_term_348.npy',\n",
       " 'models/bipolar_forest/bipolar_forest_long_term_349.npy',\n",
       " 'models/bipolar_forest/bipolar_forest_long_term_350.npy',\n",
       " 'models/bipolar_forest/bipolar_forest_long_term_351.npy',\n",
       " 'models/bipolar_forest/bipolar_forest_long_term_352.npy',\n",
       " 'models/bipolar_forest/bipolar_forest_long_term_353.npy',\n",
       " 'models/bipolar_forest/bipolar_forest_long_term_354.npy',\n",
       " 'models/bipolar_forest/bipolar_forest_long_term_355.npy',\n",
       " 'models/bipolar_forest/bipolar_forest_long_term_356.npy',\n",
       " 'models/bipolar_forest/bipolar_forest_long_term_357.npy',\n",
       " 'models/bipolar_forest/bipolar_forest_long_term_358.npy',\n",
       " 'models/bipolar_forest/bipolar_forest_long_term_359.npy',\n",
       " 'models/bipolar_forest/bipolar_forest_long_term_360.npy',\n",
       " 'models/bipolar_forest/bipolar_forest_long_term_361.npy',\n",
       " 'models/bipolar_forest/bipolar_forest_long_term_362.npy',\n",
       " 'models/bipolar_forest/bipolar_forest_long_term_363.npy',\n",
       " 'models/bipolar_forest/bipolar_forest_long_term_364.npy',\n",
       " 'models/bipolar_forest/bipolar_forest_long_term_365.npy',\n",
       " 'models/bipolar_forest/bipolar_forest_long_term_366.npy',\n",
       " 'models/bipolar_forest/bipolar_forest_long_term_367.npy',\n",
       " 'models/bipolar_forest/bipolar_forest_long_term_368.npy',\n",
       " 'models/bipolar_forest/bipolar_forest_long_term_369.npy',\n",
       " 'models/bipolar_forest/bipolar_forest_long_term_370.npy',\n",
       " 'models/bipolar_forest/bipolar_forest_long_term_371.npy',\n",
       " 'models/bipolar_forest/bipolar_forest_long_term_372.npy',\n",
       " 'models/bipolar_forest/bipolar_forest_long_term_373.npy',\n",
       " 'models/bipolar_forest/bipolar_forest_long_term_374.npy',\n",
       " 'models/bipolar_forest/bipolar_forest_long_term_375.npy',\n",
       " 'models/bipolar_forest/bipolar_forest_long_term_376.npy',\n",
       " 'models/bipolar_forest/bipolar_forest_long_term_377.npy',\n",
       " 'models/bipolar_forest/bipolar_forest_long_term_378.npy',\n",
       " 'models/bipolar_forest/bipolar_forest_long_term_379.npy',\n",
       " 'models/bipolar_forest/bipolar_forest_long_term_380.npy',\n",
       " 'models/bipolar_forest/bipolar_forest_long_term_381.npy',\n",
       " 'models/bipolar_forest/bipolar_forest_long_term_382.npy',\n",
       " 'models/bipolar_forest/bipolar_forest_long_term_383.npy',\n",
       " 'models/bipolar_forest/bipolar_forest_long_term_384.npy',\n",
       " 'models/bipolar_forest/bipolar_forest_long_term_385.npy',\n",
       " 'models/bipolar_forest/bipolar_forest_long_term_386.npy',\n",
       " 'models/bipolar_forest/bipolar_forest_long_term_387.npy',\n",
       " 'models/bipolar_forest/bipolar_forest_long_term_388.npy',\n",
       " 'models/bipolar_forest/bipolar_forest_long_term_389.npy',\n",
       " 'models/bipolar_forest/bipolar_forest_long_term_390.npy',\n",
       " 'models/bipolar_forest/bipolar_forest_long_term_391.npy',\n",
       " 'models/bipolar_forest/bipolar_forest_long_term_392.npy',\n",
       " 'models/bipolar_forest/bipolar_forest_long_term_393.npy',\n",
       " 'models/bipolar_forest/bipolar_forest_long_term_394.npy',\n",
       " 'models/bipolar_forest/bipolar_forest_long_term_395.npy',\n",
       " 'models/bipolar_forest/bipolar_forest_long_term_396.npy',\n",
       " 'models/bipolar_forest/bipolar_forest_long_term_397.npy',\n",
       " 'models/bipolar_forest/bipolar_forest_long_term_398.npy',\n",
       " 'models/bipolar_forest/bipolar_forest_long_term_399.npy',\n",
       " 'models/bipolar_forest/bipolar_forest_long_term_400.npy',\n",
       " 'models/bipolar_forest/bipolar_forest_long_term_401.npy',\n",
       " 'models/bipolar_forest/bipolar_forest_long_term_402.npy',\n",
       " 'models/bipolar_forest/bipolar_forest_long_term_403.npy',\n",
       " 'models/bipolar_forest/bipolar_forest_long_term_404.npy',\n",
       " 'models/bipolar_forest/bipolar_forest_long_term_405.npy',\n",
       " 'models/bipolar_forest/bipolar_forest_long_term_406.npy',\n",
       " 'models/bipolar_forest/bipolar_forest_long_term_407.npy',\n",
       " 'models/bipolar_forest/bipolar_forest_long_term_408.npy',\n",
       " 'models/bipolar_forest/bipolar_forest_long_term_409.npy',\n",
       " 'models/bipolar_forest/bipolar_forest_long_term_410.npy',\n",
       " 'models/bipolar_forest/bipolar_forest_long_term_411.npy',\n",
       " 'models/bipolar_forest/bipolar_forest_long_term_412.npy',\n",
       " 'models/bipolar_forest/bipolar_forest_long_term_413.npy',\n",
       " 'models/bipolar_forest/bipolar_forest_long_term_414.npy',\n",
       " 'models/bipolar_forest/bipolar_forest_long_term_415.npy',\n",
       " 'models/bipolar_forest/bipolar_forest_long_term_416.npy',\n",
       " 'models/bipolar_forest/bipolar_forest_long_term_417.npy',\n",
       " 'models/bipolar_forest/bipolar_forest_long_term_418.npy',\n",
       " 'models/bipolar_forest/bipolar_forest_long_term_419.npy',\n",
       " 'models/bipolar_forest/bipolar_forest_long_term_420.npy',\n",
       " 'models/bipolar_forest/bipolar_forest_long_term_421.npy',\n",
       " 'models/bipolar_forest/bipolar_forest_long_term_422.npy',\n",
       " 'models/bipolar_forest/bipolar_forest_long_term_423.npy',\n",
       " 'models/bipolar_forest/bipolar_forest_long_term_424.npy',\n",
       " 'models/bipolar_forest/bipolar_forest_long_term_425.npy',\n",
       " 'models/bipolar_forest/bipolar_forest_long_term_426.npy',\n",
       " 'models/bipolar_forest/bipolar_forest_long_term_427.npy',\n",
       " 'models/bipolar_forest/bipolar_forest_long_term_428.npy',\n",
       " 'models/bipolar_forest/bipolar_forest_long_term_429.npy',\n",
       " 'models/bipolar_forest/bipolar_forest_long_term_430.npy',\n",
       " 'models/bipolar_forest/bipolar_forest_long_term_431.npy',\n",
       " 'models/bipolar_forest/bipolar_forest_long_term_432.npy',\n",
       " 'models/bipolar_forest/bipolar_forest_long_term_433.npy',\n",
       " 'models/bipolar_forest/bipolar_forest_long_term_434.npy',\n",
       " 'models/bipolar_forest/bipolar_forest_long_term_435.npy',\n",
       " 'models/bipolar_forest/bipolar_forest_long_term_436.npy',\n",
       " 'models/bipolar_forest/bipolar_forest_long_term_437.npy',\n",
       " 'models/bipolar_forest/bipolar_forest_long_term_438.npy',\n",
       " 'models/bipolar_forest/bipolar_forest_long_term_439.npy',\n",
       " 'models/bipolar_forest/bipolar_forest_long_term_440.npy',\n",
       " 'models/bipolar_forest/bipolar_forest_long_term_441.npy',\n",
       " 'models/bipolar_forest/bipolar_forest_long_term_442.npy',\n",
       " 'models/bipolar_forest/bipolar_forest_long_term_443.npy',\n",
       " 'models/bipolar_forest/bipolar_forest_long_term_444.npy',\n",
       " 'models/bipolar_forest/bipolar_forest_long_term_445.npy',\n",
       " 'models/bipolar_forest/bipolar_forest_long_term_446.npy',\n",
       " 'models/bipolar_forest/bipolar_forest_long_term_447.npy',\n",
       " 'models/bipolar_forest/bipolar_forest_long_term_448.npy',\n",
       " 'models/bipolar_forest/bipolar_forest_long_term_449.npy',\n",
       " 'models/bipolar_forest/bipolar_forest_long_term_450.npy',\n",
       " 'models/bipolar_forest/bipolar_forest_long_term_451.npy',\n",
       " 'models/bipolar_forest/bipolar_forest_long_term_452.npy',\n",
       " 'models/bipolar_forest/bipolar_forest_long_term_453.npy',\n",
       " 'models/bipolar_forest/bipolar_forest_long_term_454.npy',\n",
       " 'models/bipolar_forest/bipolar_forest_long_term_455.npy',\n",
       " 'models/bipolar_forest/bipolar_forest_long_term_456.npy',\n",
       " 'models/bipolar_forest/bipolar_forest_long_term_457.npy',\n",
       " 'models/bipolar_forest/bipolar_forest_long_term_458.npy',\n",
       " 'models/bipolar_forest/bipolar_forest_long_term_459.npy',\n",
       " 'models/bipolar_forest/bipolar_forest_long_term_460.npy',\n",
       " 'models/bipolar_forest/bipolar_forest_long_term_461.npy',\n",
       " 'models/bipolar_forest/bipolar_forest_long_term_462.npy',\n",
       " 'models/bipolar_forest/bipolar_forest_long_term_463.npy',\n",
       " 'models/bipolar_forest/bipolar_forest_long_term_464.npy',\n",
       " 'models/bipolar_forest/bipolar_forest_long_term_465.npy',\n",
       " 'models/bipolar_forest/bipolar_forest_long_term_466.npy',\n",
       " 'models/bipolar_forest/bipolar_forest_long_term_467.npy',\n",
       " 'models/bipolar_forest/bipolar_forest_long_term_468.npy',\n",
       " 'models/bipolar_forest/bipolar_forest_long_term_469.npy',\n",
       " 'models/bipolar_forest/bipolar_forest_long_term_470.npy',\n",
       " 'models/bipolar_forest/bipolar_forest_long_term_471.npy',\n",
       " 'models/bipolar_forest/bipolar_forest_long_term_472.npy',\n",
       " 'models/bipolar_forest/bipolar_forest_long_term_473.npy',\n",
       " 'models/bipolar_forest/bipolar_forest_long_term_474.npy',\n",
       " 'models/bipolar_forest/bipolar_forest_long_term_475.npy',\n",
       " 'models/bipolar_forest/bipolar_forest_long_term_476.npy',\n",
       " 'models/bipolar_forest/bipolar_forest_long_term_477.npy',\n",
       " 'models/bipolar_forest/bipolar_forest_long_term_478.npy',\n",
       " 'models/bipolar_forest/bipolar_forest_long_term_479.npy',\n",
       " 'models/bipolar_forest/bipolar_forest_long_term_480.npy',\n",
       " 'models/bipolar_forest/bipolar_forest_long_term_481.npy',\n",
       " 'models/bipolar_forest/bipolar_forest_long_term_482.npy',\n",
       " 'models/bipolar_forest/bipolar_forest_long_term_483.npy',\n",
       " 'models/bipolar_forest/bipolar_forest_long_term_484.npy',\n",
       " 'models/bipolar_forest/bipolar_forest_long_term_485.npy',\n",
       " 'models/bipolar_forest/bipolar_forest_long_term_486.npy',\n",
       " 'models/bipolar_forest/bipolar_forest_long_term_487.npy',\n",
       " 'models/bipolar_forest/bipolar_forest_long_term_488.npy',\n",
       " 'models/bipolar_forest/bipolar_forest_long_term_489.npy',\n",
       " 'models/bipolar_forest/bipolar_forest_long_term_490.npy',\n",
       " 'models/bipolar_forest/bipolar_forest_long_term_491.npy',\n",
       " 'models/bipolar_forest/bipolar_forest_long_term_492.npy',\n",
       " 'models/bipolar_forest/bipolar_forest_long_term_493.npy',\n",
       " 'models/bipolar_forest/bipolar_forest_long_term_494.npy',\n",
       " 'models/bipolar_forest/bipolar_forest_long_term_495.npy',\n",
       " 'models/bipolar_forest/bipolar_forest_long_term_496.npy',\n",
       " 'models/bipolar_forest/bipolar_forest_long_term_497.npy',\n",
       " 'models/bipolar_forest/bipolar_forest_long_term_498.npy',\n",
       " 'models/bipolar_forest/bipolar_forest_long_term_499.npy',\n",
       " 'models/bipolar_forest/bipolar_forest_long_term_500.npy',\n",
       " 'models/bipolar_forest/bipolar_forest_long_term_501.npy',\n",
       " 'models/bipolar_forest/bipolar_forest_long_term_502.npy',\n",
       " 'models/bipolar_forest/bipolar_forest_long_term_503.npy',\n",
       " 'models/bipolar_forest/bipolar_forest_long_term_504.npy',\n",
       " 'models/bipolar_forest/bipolar_forest_long_term_505.npy',\n",
       " 'models/bipolar_forest/bipolar_forest_long_term_506.npy',\n",
       " 'models/bipolar_forest/bipolar_forest_long_term_507.npy',\n",
       " 'models/bipolar_forest/bipolar_forest_long_term_508.npy',\n",
       " 'models/bipolar_forest/bipolar_forest_long_term_509.npy',\n",
       " 'models/bipolar_forest/bipolar_forest_long_term_510.npy',\n",
       " 'models/bipolar_forest/bipolar_forest_long_term_511.npy',\n",
       " 'models/bipolar_forest/bipolar_forest_long_term_512.npy',\n",
       " 'models/bipolar_forest/bipolar_forest_long_term_513.npy']"
      ]
     },
     "execution_count": 250,
     "metadata": {},
     "output_type": "execute_result"
    }
   ],
   "source": [
    "#joblib.dump(classifier,\"models/bipolar_forest/bipolar_forest_long_term\")"
   ]
  },
  {
   "cell_type": "markdown",
   "metadata": {
    "deletable": true,
    "editable": true
   },
   "source": [
    "## Check the Feature Order"
   ]
  },
  {
   "cell_type": "code",
   "execution_count": 44,
   "metadata": {
    "collapsed": false,
    "deletable": true,
    "editable": true
   },
   "outputs": [
    {
     "name": "stdout",
     "output_type": "stream",
     "text": [
      "0\tnegative_ratio\tPolarity\n",
      "1\tanticipation\tEmotions\n",
      "2\tpositive_combos\tPolarity\n",
      "3\tunique_mentions\tSocial\n",
      "4\tjoy\tEmotions\n",
      "5\tage\tAgeGender\n",
      "6\tpositive_ratio\tPolarity\n",
      "7\ttweets_rate\tSocial\n",
      "8\tflips\tPolarity\n",
      "9\tsadness\tEmotions\n",
      "10\tmention_rate\tSocial\n",
      "11\tdisgust\tEmotions\n",
      "12\tgender\tAgeGender\n",
      "13\tanger\tEmotions\n",
      "14\tsurprise\tEmotions\n",
      "15\tfear\tEmotions\n",
      "16\ttrust\tEmotions\n",
      "17\tfrequent_mentions\tSocial\n",
      "18\tlate_tweets_rate\tSocial\n",
      "19\tnegative_combos\tPolarity\n"
     ]
    }
   ],
   "source": [
    "for cursor, (name,category) in enumerate(pol_groups.getIndex2Feature()):\n",
    "    print '{}\\t{}\\t{}'.format(cursor, name, category)"
   ]
  },
  {
   "cell_type": "markdown",
   "metadata": {
    "deletable": true,
    "editable": true
   },
   "source": [
    "## Check Testing Result"
   ]
  },
  {
   "cell_type": "code",
   "execution_count": 63,
   "metadata": {
    "collapsed": false,
    "deletable": true,
    "editable": true,
    "scrolled": false
   },
   "outputs": [
    {
     "data": {
      "image/png": "[encoded data removed]",
      "text/plain": [
       "<matplotlib.figure.Figure at 0x7f5ec1b8e5d0>"
      ]
     },
     "metadata": {},
     "output_type": "display_data"
    }
   ],
   "source": [
    "bd_testing_list = []\n",
    "for i, lab in enumerate(LABELS):\n",
    "    if lab[0] == 1:\n",
    "        bd_testing_list.append(SCORES[i])\n",
    "plt.plot(sorted(bd_testing_list))\n",
    "plt.show()\n",
    "plt.close()    "
   ]
  },
  {
   "cell_type": "markdown",
   "metadata": {
    "deletable": true,
    "editable": true
   },
   "source": [
    "## Check Training Result"
   ]
  },
  {
   "cell_type": "code",
   "execution_count": 65,
   "metadata": {
    "collapsed": false,
    "deletable": true,
    "editable": true
   },
   "outputs": [
    {
     "data": {
      "image/png": "[encoded data removed]",
      "text/plain": [
       "<matplotlib.figure.Figure at 0x7f5ebeef9590>"
      ]
     },
     "metadata": {},
     "output_type": "display_data"
    }
   ],
   "source": [
    "bd_testing_list = []\n",
    "train_score = classifier.predict_proba(X_train)[0][:,1]\n",
    "for i, lab in enumerate(Y[train_index]):\n",
    "    if lab[0] == 1:\n",
    "        bd_testing_list.append(train_score[i])\n",
    "plt.plot(sorted(bd_testing_list))\n",
    "plt.show()\n",
    "plt.close()   "
   ]
  },
  {
   "cell_type": "markdown",
   "metadata": {
    "deletable": true,
    "editable": true
   },
   "source": [
    "## Check Original BD user Dataset"
   ]
  },
  {
   "cell_type": "code",
   "execution_count": 66,
   "metadata": {
    "collapsed": false,
    "deletable": true,
    "editable": true
   },
   "outputs": [],
   "source": [
    "# proba_list = []\n",
    "# for timeSeries in bd_clean:\n",
    "#     bd_features = getPOLFeature(timeSeries)\n",
    "#     bd_proba = classifier.predict_proba(bd_features)[0][1]\n",
    "#     proba_list.append(bd_proba)\n",
    "    \n",
    "# plt.plot(sorted(proba_list))\n",
    "# plt.show()\n",
    "# plt.close()\n"
   ]
  },
  {
   "cell_type": "code",
   "execution_count": null,
   "metadata": {
    "collapsed": true,
    "deletable": true,
    "editable": true
   },
   "outputs": [],
   "source": []
  }
 ],
 "metadata": {
  "kernelspec": {
   "display_name": "Python 2",
   "language": "python",
   "name": "python2"
  },
  "language_info": {
   "codemirror_mode": {
    "name": "ipython",
    "version": 2
   },
   "file_extension": ".py",
   "mimetype": "text/x-python",
   "name": "python",
   "nbconvert_exporter": "python",
   "pygments_lexer": "ipython2",
   "version": "2.7.12"
  }
 },
 "nbformat": 4,
 "nbformat_minor": 2
}
