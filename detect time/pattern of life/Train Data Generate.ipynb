{
 "cells": [
  {
   "cell_type": "code",
   "execution_count": 17,
   "metadata": {
    "collapsed": true,
    "deletable": true,
    "editable": true
   },
   "outputs": [],
   "source": [
    "import sys\n",
    "sys.path.append('./library') # age_gender_predictor\n",
    "sys.path.append('../.env/lib/python2.7/site-packages') # make sure it can get virtualenv lib\n",
    "from datetime import datetime, timedelta\n",
    "import numpy as np\n",
    "import re\n",
    "import pandas as pd\n",
    "import json\n",
    "import os\n",
    "from collections import defaultdict\n",
    "from datetime import datetime, timedelta"
   ]
  },
  {
   "cell_type": "code",
   "execution_count": 18,
   "metadata": {
    "collapsed": true,
    "deletable": true,
    "editable": true
   },
   "outputs": [],
   "source": [
    "def checkFolderFile(folder):\n",
    "    return os.listdir(folder)\n",
    "\n",
    "# ## Read BD_user\n",
    "def loadTweets(folder, filename, tweets_dict):\n",
    "    with open(folder + filename, 'r') as openfile:\n",
    "        for line in openfile.readlines():\n",
    "            try:\n",
    "                username, date, datetime, content, sentiment, emotion1, emotion2, ambiguous = line.split('\\t')\n",
    "            except:\n",
    "                print(line.split('\\t'))\n",
    "            tweets_dict[username][int(date)].append((datetime, content, sentiment, emotion1, emotion2, ambiguous.strip()))\n",
    "    return tweets_dict"
   ]
  },
  {
   "cell_type": "code",
   "execution_count": 19,
   "metadata": {
    "collapsed": true,
    "deletable": true,
    "editable": true
   },
   "outputs": [],
   "source": [
    "def date_not_in_range(user, ill_time_dict, date):\n",
    "    if date >= ill_time_dict[user] - timedelta(weeks=6) \\\n",
    "    and date <= ill_time_dict[user] + timedelta(weeks=3):\n",
    "        return False\n",
    "    else:\n",
    "        return True\n",
    "    \n",
    "def timeSeriesTransform(usersEmotions):\n",
    "    for userID in usersEmotions:\n",
    "        usersEmotions[userID] = pd.DataFrame.from_dict(usersEmotions[userID], orient='index').fillna(0)\n",
    "        usersEmotions[userID]['dt'] = np.zeros(usersEmotions[userID].shape[0],dtype=float)\n",
    "        usersEmotions[userID].loc[:-1,'dt'] = (usersEmotions[userID].index[1:].values - usersEmotions[userID].index[:-1].values).astype('timedelta64[s]') / np.timedelta64(60, 's')\n",
    "    return list(usersEmotions.values())\n",
    "\n",
    "def getHTTPRows(timeSeries):\n",
    "    count = 0\n",
    "    patterns = ['http://','https://']\n",
    "    conditions = timeSeries['text'].str.contains(patterns[0])\n",
    "    for pattern in patterns[1:]:\n",
    "        conditions = conditions | timeSeries['text'].str.contains(pattern)\n",
    "\n",
    "    return conditions.values\n",
    "\n",
    "def userFilter(group, spam_threshold=0.5,tweets_threshold=25, time_filter = False):    #Spam and inactive user filter\n",
    "#     to restrict date in latest 8 weeks\n",
    "    if time_filter == True:\n",
    "        temp_group=[]\n",
    "        for timeSeries in group:\n",
    "            eight_week_period = timeSeries.index[-1]- timedelta(weeks=8)\n",
    "            temp_group.append(timeSeries[timeSeries.index > eight_week_period])\n",
    "        group = temp_group\n",
    "            \n",
    "    new_group = []\n",
    "    for timeSeries in group:\n",
    "        http_rows = getHTTPRows(timeSeries)\n",
    "        average_http_count = np.sum(http_rows) / timeSeries.shape[0]\n",
    "        if (average_http_count < spam_threshold) and (timeSeries.shape[0] > tweets_threshold):\n",
    "            new_group.append(timeSeries)\n",
    "    return new_group\n",
    "\n",
    "def TweetsFormating(tweets_dict, ill_time_dict,en_threshold=0.9):\n",
    "    usersTweets = {}\n",
    "    true_yes_dict = {'yes':True, 'no':False, 'None': True}\n",
    "    for user in tweets_dict:       \n",
    "        userID = user\n",
    "        \n",
    "        for date_ in tweets_dict[user]:\n",
    "            if date_not_in_range(user, ill_time_dict ,datetime.strptime(str(date_), \"%Y%m%d\")): continue\n",
    "                \n",
    "            for tweet_info in tweets_dict[user][date_]:\n",
    "                date, content, polarity, emotion1, emotion2, ambiguous = tweet_info\n",
    "   \n",
    "                date = datetime.strptime(str(date), \"%Y-%m-%d %H:%M:%S\")\n",
    "                \n",
    "                date -= timedelta(hours = 8) #Modify the time! Because get all tweets is from taiwan(+8) not +0\n",
    "                text = content\n",
    "                \n",
    "                if userID not in usersTweets:\n",
    "                    usersTweets[userID] = {}\n",
    "                if date not in usersTweets[userID]:\n",
    "                    usersTweets[userID][date] = {}\n",
    "                usersTweets[userID][date]['name'] = userID\n",
    "                usersTweets[userID][date]['text'] = text\n",
    "                usersTweets[userID][date]['polarity'] =  int(polarity.strip())\n",
    "                usersTweets[userID][date]['emotion'] =  emotion1\n",
    "                usersTweets[userID][date]['emotion_2'] =  emotion2\n",
    "                usersTweets[userID][date]['ambiguous'] =  true_yes_dict[ambiguous]\n",
    "\n",
    "    return usersTweets\n",
    "    "
   ]
  },
  {
   "cell_type": "code",
   "execution_count": 20,
   "metadata": {
    "collapsed": false,
    "deletable": true,
    "editable": true
   },
   "outputs": [
    {
     "name": "stdout",
     "output_type": "stream",
     "text": [
      "Patient Counts from month ill time:272\n"
     ]
    }
   ],
   "source": [
    "def readPatientIllTime(folder, filename):\n",
    "    with open(folder + filename, 'r') as openfile:\n",
    "        return [line.strip().split('\\t') for line in openfile.readlines()]\n",
    "    \n",
    "# ## Get ill time information\n",
    "patient_ill_time_list = readPatientIllTime('./', 'bipolar_list')\n",
    "patient_ill_time_dict = {line[0]: line[1] for line in patient_ill_time_list}\n",
    "\n",
    "# dict[user][diagnosed_time(datetime)]\n",
    "patient_month_time_dict = {}\n",
    "\n",
    "for patient in patient_ill_time_dict:\n",
    "    datetime_list = patient_ill_time_dict[patient].split('/')\n",
    "    if len(datetime_list) > 1:\n",
    "        if len(datetime_list) > 2:\n",
    "            patient_month_time_dict[patient] = datetime(int(datetime_list[0]), int(datetime_list[1]), int(datetime_list[2]))\n",
    "        else:\n",
    "            patient_month_time_dict[patient] = datetime(int(datetime_list[0]),int(datetime_list[1]),1)\n",
    "    else:\n",
    "        continue\n",
    "print( 'Patient Counts from month ill time:' + str(len(patient_month_time_dict)))"
   ]
  },
  {
   "cell_type": "code",
   "execution_count": 21,
   "metadata": {
    "collapsed": true,
    "deletable": true,
    "editable": true
   },
   "outputs": [],
   "source": [
    "# weeks sliding windows, move 1 week per time\n",
    "def timeSeriesSlide(timeSeries_list, window_week_size):\n",
    "    timeSeries_slide = []\n",
    "    for timeSeries in timeSeries_list:\n",
    "        timeSeries_slide += slideWindows(timeSeries, window_week_size)\n",
    "    \n",
    "    return timeSeries_slide\n",
    "        \n",
    "def slideWindows(timeline, window_week_size):\n",
    "    limit = timeline.index[0] + timedelta(weeks=window_week_size) + timedelta(days=1)\n",
    "    if timeline.index[-1] < limit:\n",
    "        return [timeline[timeline.index < limit]]\n",
    "    else:\n",
    "        new_start = timeline.index[0]+timedelta(weeks=1) + timedelta(days=1)\n",
    "        return [timeline[timeline.index < limit]] + slideWindows(timeline[timeline.index > new_start], window_week_size)\n",
    "    "
   ]
  },
  {
   "cell_type": "code",
   "execution_count": 27,
   "metadata": {
    "collapsed": false,
    "deletable": true,
    "editable": true
   },
   "outputs": [],
   "source": [
    "user_folder = 'patient emo_senti/'\n",
    "# {username:{int(date):{[(datetime,content,sentiment,emotion1,emotion2,ambiguous),...]}}}\n",
    "bd_tweets_dict = defaultdict(lambda: defaultdict(lambda:[]))\n",
    "for user in checkFolderFile(user_folder):\n",
    "    bd_tweets_dict = loadTweets(user_folder, user, bd_tweets_dict)"
   ]
  },
  {
   "cell_type": "code",
   "execution_count": 28,
   "metadata": {
    "collapsed": false,
    "deletable": true,
    "editable": true
   },
   "outputs": [],
   "source": [
    "bd_tweets = TweetsFormating(bd_tweets_dict, patient_month_time_dict)"
   ]
  },
  {
   "cell_type": "code",
   "execution_count": 29,
   "metadata": {
    "collapsed": true,
    "deletable": true,
    "editable": true
   },
   "outputs": [],
   "source": [
    "bd_timeSeries = timeSeriesTransform(bd_tweets)\n"
   ]
  },
  {
   "cell_type": "code",
   "execution_count": 30,
   "metadata": {
    "collapsed": false,
    "deletable": true,
    "editable": true
   },
   "outputs": [
    {
     "data": {
      "text/plain": [
       "170"
      ]
     },
     "execution_count": 30,
     "metadata": {},
     "output_type": "execute_result"
    }
   ],
   "source": [
    "len(bd_timeSeries)"
   ]
  },
  {
   "cell_type": "code",
   "execution_count": 31,
   "metadata": {
    "collapsed": false,
    "deletable": true,
    "editable": true
   },
   "outputs": [],
   "source": [
    "bd_8weeks_timeSeries = timeSeriesSlide(bd_timeSeries, 8)"
   ]
  },
  {
   "cell_type": "code",
   "execution_count": 32,
   "metadata": {
    "collapsed": false,
    "deletable": true,
    "editable": true
   },
   "outputs": [
    {
     "data": {
      "text/plain": [
       "303"
      ]
     },
     "execution_count": 32,
     "metadata": {},
     "output_type": "execute_result"
    }
   ],
   "source": [
    "len(bd_8weeks_timeSeries)"
   ]
  },
  {
   "cell_type": "code",
   "execution_count": 33,
   "metadata": {
    "collapsed": true,
    "deletable": true,
    "editable": true
   },
   "outputs": [],
   "source": [
    "bd_clean = userFilter(bd_8weeks_timeSeries, spam_threshold=0.7, tweets_threshold=40)"
   ]
  },
  {
   "cell_type": "code",
   "execution_count": 34,
   "metadata": {
    "collapsed": false,
    "deletable": true,
    "editable": true
   },
   "outputs": [
    {
     "data": {
      "text/plain": [
       "276"
      ]
     },
     "execution_count": 34,
     "metadata": {},
     "output_type": "execute_result"
    }
   ],
   "source": [
    "len(bd_clean)"
   ]
  },
  {
   "cell_type": "code",
   "execution_count": 37,
   "metadata": {
    "collapsed": false,
    "deletable": true,
    "editable": true
   },
   "outputs": [],
   "source": [
    "# export\n",
    "for i in range(len(bd_clean)):\n",
    "    bd_clean[i].to_pickle('Bipolar/bd_shift2week/'+str(i)+'.p')"
   ]
  },
  {
   "cell_type": "code",
   "execution_count": null,
   "metadata": {
    "collapsed": true,
    "deletable": true,
    "editable": true
   },
   "outputs": [],
   "source": []
  }
 ],
 "metadata": {
  "kernelspec": {
   "display_name": "Python 2",
   "language": "python",
   "name": "python2"
  },
  "language_info": {
   "codemirror_mode": {
    "name": "ipython",
    "version": 2
   },
   "file_extension": ".py",
   "mimetype": "text/x-python",
   "name": "python",
   "nbconvert_exporter": "python",
   "pygments_lexer": "ipython2",
   "version": "2.7.12"
  }
 },
 "nbformat": 4,
 "nbformat_minor": 2
}
