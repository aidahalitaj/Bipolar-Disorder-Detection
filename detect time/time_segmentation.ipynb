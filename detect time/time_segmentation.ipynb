{
 "cells": [
  {
   "cell_type": "code",
   "execution_count": 6,
   "metadata": {
    "collapsed": true
   },
   "outputs": [],
   "source": [
    "from collections import defaultdict\n",
    "from datetime import datetime, timedelta\n",
    "from __future__ import division\n",
    "import numpy as np\n",
    "\n",
    "import os\n",
    "import pytz\n"
   ]
  },
  {
   "cell_type": "markdown",
   "metadata": {},
   "source": [
    "# Prepare Data"
   ]
  },
  {
   "cell_type": "markdown",
   "metadata": {},
   "source": [
    "## Patient tweets data"
   ]
  },
  {
   "cell_type": "code",
   "execution_count": 7,
   "metadata": {
    "collapsed": true
   },
   "outputs": [],
   "source": [
    "def readPatient(folder, filename):\n",
    "    with open(folder + filename, 'r') as openfile:\n",
    "        return [line.strip().split('\\t') for line in openfile.readlines()]\n",
    "def checkFolderFile(folder):\n",
    "    return os.listdir(folder)"
   ]
  },
  {
   "cell_type": "code",
   "execution_count": 8,
   "metadata": {
    "collapsed": false
   },
   "outputs": [],
   "source": [
    "folder = '../twitter crawler/patient_tweets/'\n",
    "patient_list = checkFolderFile(folder)\n",
    "patient_tweets_dict = defaultdict(lambda : [])\n",
    "for patient_name in patient_list:\n",
    "    patient_tweets_dict[patient_name] = readPatient(folder, patient_name)\n"
   ]
  },
  {
   "cell_type": "markdown",
   "metadata": {},
   "source": [
    "## Patient Time zone"
   ]
  },
  {
   "cell_type": "code",
   "execution_count": 9,
   "metadata": {
    "collapsed": true
   },
   "outputs": [],
   "source": [
    "def readPatientTimezone(folder, filename):\n",
    "    time_dict = {}\n",
    "    with open(folder + filename, 'r') as openfile:\n",
    "        for line in openfile.readlines():\n",
    "            split = line.strip().split('\\t')\n",
    "            if split[2] != None:\n",
    "                time_dict[split[1]] = split[2]\n",
    "#             elif split[3]:\n",
    "#                 time_dict[split[1][1:]] = split[3]\n",
    "            else:\n",
    "                continue\n",
    "    return time_dict"
   ]
  },
  {
   "cell_type": "code",
   "execution_count": 10,
   "metadata": {
    "collapsed": true
   },
   "outputs": [],
   "source": [
    "patient_timezone_dict = readPatientTimezone('../twitter crawler/','bipolar_user_timezone')"
   ]
  },
  {
   "cell_type": "code",
   "execution_count": 11,
   "metadata": {
    "collapsed": true
   },
   "outputs": [],
   "source": [
    "timezone_location_dict = {\n",
    "    'Pacific Time (US & Canada)':'US/Pacific',\n",
    "    'Central Time (US & Canada)':'US/Central',\n",
    "    'Eastern Time (US & Canada)':'US/Eastern',\n",
    "    'London':'Europe/London',\n",
    "    'Sydney':'Australia/Sydney',\n",
    "    'Tokyo':'Asia/Tokyo',\n",
    "    'Africa/Nairobi':'Africa/Nairobi',\n",
    "    'Arizona':'US/Arizona',\n",
    "    'Kyiv':'Europe/Simferopol',\n",
    "    'Europe/London':'Europe/London',\n",
    "    'Atlantic Time (Canada)':'Atlantic/Canary',\n",
    "    'Midway Island':'Pacific/Apia',\n",
    "    'Auckland':'Pacific/Auckland',\n",
    "    'Amsterdam':'Europe/Amsterdam',\n",
    "    'Baghdad':'Asia/Riyadh',\n",
    "    'Riyadh':'Asia/Riyadh',\n",
    "    'Belgrade':'Europe/Belgrade',\n",
    "    'Quito':'Pacific/Galapagos',\n",
    "    'Pretoria':'Africa/Johannesburg',\n",
    "    'Beijing':'Asia/Shanghai',\n",
    "    'Dublin':'Europe/Dublin',\n",
    "    'Mountain Time (US & Canada)':'Mountain/US',\n",
    "    'Hawaii':'Pacific/Honolulu',\n",
    "    'Brisbane':'Australia/Brisbane',\n",
    "    'Vienna':'Europe/Vienna',\n",
    "    'Islamabad':'Asia/Karachi',\n",
    "    'Casablanca':'Africa/Casablanca',\n",
    "    'Yakutsk':'Asia/Yakutsk',\n",
    "    'Tijuana':'America/Tijuana',\n",
    "    'Africa/Johannesburg':'Africa/Johannesburg',\n",
    "    'Mountain Time (US & Canada)':'US/Central'\n",
    "    \n",
    "}"
   ]
  },
  {
   "cell_type": "code",
   "execution_count": 12,
   "metadata": {
    "collapsed": true
   },
   "outputs": [],
   "source": [
    "def to_local_timezone(local, orig_time):\n",
    "    dt = datetime.strptime(orig_time, \"%Y-%m-%d %H:%M:%S\")\n",
    "    dt = pytz.timezone(local).localize(dt)\n",
    "    est_dt = dt.astimezone(pytz.timezone('EST'))\n",
    "\n",
    "#     print est_dt.strftime(\"%Y-%m-%d %H:%M:%S\")\n",
    "    return est_dt.strftime(\"%Y-%m-%d %H:%M:%S\")"
   ]
  },
  {
   "cell_type": "markdown",
   "metadata": {},
   "source": [
    "## To Daily Tweets"
   ]
  },
  {
   "cell_type": "code",
   "execution_count": 13,
   "metadata": {
    "collapsed": true
   },
   "outputs": [],
   "source": [
    "# patient_name -> date time -> tweets_time<\\t>tweet\n",
    "patient_day_tweets = defaultdict(lambda: defaultdict(lambda: []))\n",
    "for patient in patient_tweets_dict:\n",
    "    try:\n",
    "        local = timezone_location_dict[patient_timezone_dict[patient]]\n",
    "    except:\n",
    "        continue\n",
    "        \n",
    "    for tweet in patient_tweets_dict[patient]:\n",
    "        local_time = to_local_timezone(local,tweet[2])\n",
    "        date, time = local_time.split(' ')\n",
    "        date = int(date.replace('-',''))  \n",
    "        try:\n",
    "            patient_day_tweets[patient][date].append(local_time + '\\t' +tweet[3])\n",
    "        except:\n",
    "            patient_day_tweets[patient][date].append(local_time + '\\t<empty_tweets>')\n",
    "patient_tweets_dict = None"
   ]
  },
  {
   "cell_type": "code",
   "execution_count": 23,
   "metadata": {
    "collapsed": false
   },
   "outputs": [
    {
     "data": {
      "text/plain": [
       "228"
      ]
     },
     "execution_count": 23,
     "metadata": {},
     "output_type": "execute_result"
    }
   ],
   "source": [
    "len(patient_day_tweets)"
   ]
  },
  {
   "cell_type": "code",
   "execution_count": 24,
   "metadata": {
    "collapsed": false
   },
   "outputs": [
    {
     "data": {
      "text/plain": [
       "589"
      ]
     },
     "execution_count": 24,
     "metadata": {},
     "output_type": "execute_result"
    }
   ],
   "source": [
    "len(patient_day_tweets['_raspberries'])"
   ]
  },
  {
   "cell_type": "markdown",
   "metadata": {},
   "source": [
    "### Put on-tweets day back"
   ]
  },
  {
   "cell_type": "code",
   "execution_count": 14,
   "metadata": {
    "collapsed": true
   },
   "outputs": [],
   "source": [
    "def convertDatetime(orig_time):\n",
    "    return datetime.strptime(str(orig_time), \"%Y%m%d\")"
   ]
  },
  {
   "cell_type": "code",
   "execution_count": 15,
   "metadata": {
    "collapsed": true
   },
   "outputs": [],
   "source": [
    "for patient in patient_day_tweets:\n",
    "    sorted_date_user = sorted(patient_day_tweets[patient])\n",
    "    last_date = None\n",
    "    for date in sorted_date_user:\n",
    "        # Check date change\n",
    "        if last_date != None:\n",
    "            date_diff = (convertDatetime(date) - convertDatetime(last_date)).days\n",
    "            # If day difference > 1day\n",
    "            # Append the gap, with date, frequence = 0, late = 0\n",
    "            if date_diff > 1:\n",
    "                for i in range(date_diff)[1:]:\n",
    "                    temp_date = convertDatetime(last_date) + timedelta(days=i)\n",
    "                    temp_date = temp_date.strftime(\"%Y%m%d\")\n",
    "                    patient_day_tweets[patient][int(temp_date)]=[]\n",
    "        last_date = date"
   ]
  },
  {
   "cell_type": "code",
   "execution_count": 25,
   "metadata": {
    "collapsed": false
   },
   "outputs": [
    {
     "data": {
      "text/plain": [
       "589"
      ]
     },
     "execution_count": 25,
     "metadata": {},
     "output_type": "execute_result"
    }
   ],
   "source": [
    "len(patient_day_tweets['_raspberries'])"
   ]
  },
  {
   "cell_type": "markdown",
   "metadata": {},
   "source": [
    "# RulSIF"
   ]
  },
  {
   "cell_type": "code",
   "execution_count": 50,
   "metadata": {
    "collapsed": true
   },
   "outputs": [],
   "source": [
    "# RulSIF\n",
    "from pylab import *\n",
    "from scipy import linalg\n",
    "from scipy.stats import norm\n",
    "\n",
    "def compmedDist(X):\n",
    "    size1=X.shape[0];\n",
    "    Xmed = X;\n",
    "\n",
    "    G = sum((Xmed*Xmed),1);\n",
    "    Q = tile(G[:, newaxis],(1,size1));\n",
    "    R = tile(G,(size1,1));\n",
    "\n",
    "    dists = Q + R - 2*dot(Xmed,Xmed.T);\n",
    "    dists = dists-tril(dists);\n",
    "    dists= dists.reshape(size1**2,1,order='F').copy();\n",
    "    return sqrt(0.5*median(dists[dists>0]));\n",
    "\n",
    "def kernel_Gaussian(x, c, sigma):\n",
    "    (d,nx) = x.shape\n",
    "    (d,nc) = c.shape\n",
    "    x2 = sum(x**2,0)\n",
    "    c2 = sum(c**2, 0)\n",
    "\n",
    "    distance2 = tile(c2,(nx,1)) + \\\n",
    "        tile(x2[:, newaxis],(1,nc)) \\\n",
    "        - 2* dot(x.T,c)\n",
    "   \n",
    "    return exp(-distance2/(2* (sigma**2)));\n",
    "\n",
    "def R_ULSIF(x_nu, x_de, x_re, alpha, sigma_list,lambda_list, b, fold):\n",
    "# x_nu: samples from numerator\n",
    "# x_de: samples from denominator\n",
    "# x_re: reference sample\n",
    "# alpha: alpha defined in relative density ratio\n",
    "# sigma_list, lambda_list: parameters for model selection\n",
    "# b: number of kernel basis\n",
    "# fold: number of fold for cross validation\n",
    "\n",
    "    (d,n_nu) = x_nu.shape;\n",
    "    (d,n_de) = x_de.shape;\n",
    "    rand_index = permutation(n_nu);\n",
    "    b = min(b,n_nu);\n",
    "    #x_ce = x_nu[:,rand_index[0:b]]\n",
    "    x_ce = x_nu[:,r_[0:b]]\n",
    "\n",
    "    score_cv=zeros( (size(sigma_list), \\\n",
    "        size(lambda_list)));\n",
    "\n",
    "    cv_index_nu = permutation(n_nu)\n",
    "    #cv_index_nu = r_[0:n_nu]\n",
    "    cv_split_nu=floor(r_[0:n_nu]*fold/n_nu)\n",
    "    cv_index_de=permutation(n_de)\n",
    "    #cv_index_de = r_[0:n_de]\n",
    "    cv_split_de=floor(r_[0:n_de]*fold/n_de)\n",
    "\n",
    "    for sigma_index in r_[0:size(sigma_list)]:\n",
    "        sigma=sigma_list[sigma_index];\n",
    "        K_de=kernel_Gaussian(x_de,x_ce,sigma).T;\n",
    "        K_nu=kernel_Gaussian(x_nu,x_ce,sigma).T;\n",
    "\n",
    "        score_tmp=zeros( (fold,size(lambda_list)));\n",
    "\n",
    "        for k in r_[0:fold]:\n",
    "            Ktmp1=K_de[:,cv_index_de[cv_split_de!=k]];\n",
    "            Ktmp2=K_nu[:,cv_index_nu[cv_split_nu!=k]];\n",
    "            \n",
    "            Ktmp = alpha/Ktmp2.shape[1]*dot(Ktmp2,Ktmp2.T) + \\\n",
    "                (1-alpha)/Ktmp1.shape[1]*dot(Ktmp1, Ktmp1.T);\n",
    "            \n",
    "            mKtmp = mean(K_nu[:,cv_index_nu[cv_split_nu!=k]],1);\n",
    "           \n",
    "            for lambda_index in r_[0:size(lambda_list)]:\n",
    "                \n",
    "                lbd =lambda_list[lambda_index];\n",
    "                \n",
    "                thetat_cv= linalg.solve( Ktmp + lbd*eye(b), mKtmp);\n",
    "                thetah_cv=thetat_cv;\n",
    "\n",
    "                score_tmp[k,lambda_index]= alpha*mean(dot(K_nu[:,cv_index_nu[cv_split_nu==k]].T,thetah_cv)**2)/2. \\\n",
    "                    + (1-alpha)*mean(dot(K_de[:,cv_index_de[cv_split_de==k]].T, thetah_cv)**2)/2. \\\n",
    "                    - mean( dot(K_nu[:,cv_index_nu[cv_split_nu==k]].T, thetah_cv));\n",
    "\n",
    "            score_cv[sigma_index,:]=mean(score_tmp,0);\n",
    "    \n",
    "    score_cv_tmp=score_cv.min(1);\n",
    "    lambda_chosen_index = score_cv.argmin(1);\n",
    "\n",
    "    score=score_cv_tmp.min();\n",
    "    sigma_chosen_index = score_cv_tmp.argmin();\n",
    "\n",
    "    lambda_chosen=lambda_list[lambda_chosen_index[sigma_chosen_index]];\n",
    "    sigma_chosen=sigma_list[sigma_chosen_index];\n",
    "\n",
    "    K_de=kernel_Gaussian(x_de,x_ce,sigma_chosen).T;\n",
    "    K_nu=kernel_Gaussian(x_nu,x_ce,sigma_chosen).T;\n",
    "\n",
    "    coe = alpha*dot(K_nu,K_nu.T)/n_nu + \\\n",
    "        (1-alpha)*dot(K_de,K_de.T)/n_de + \\\n",
    "        lambda_chosen*eye(b)\n",
    "    var = mean(K_nu,1)\n",
    "    \n",
    "    thetat=linalg.solve(coe,var);\n",
    "#    thetat=linalg.lstsq(coe,var)[0]\n",
    "#    linalg.cho_factor(coe,overwrite_a=True)\n",
    "#    linalg.cho_solve((coe,False), var, overwrite_b=True)\n",
    "#    thetat = var\n",
    "    \n",
    "    #thetah=maximum(0,thetat)\n",
    "    thetah = thetat;\n",
    "    wh_x_de=dot(K_de.T,thetah).T;\n",
    "    wh_x_nu=dot(K_nu.T,thetah).T;\n",
    "\n",
    "    K_di=kernel_Gaussian(x_re,x_ce,sigma_chosen).T;\n",
    "    wh_x_re=dot(K_di.T,thetah).T;\n",
    "\n",
    "    wh_x_de[wh_x_de <0 ] = 0\n",
    "    wh_x_re[wh_x_re <0] = 0;\n",
    "    \n",
    "    PE = mean(wh_x_nu) - 1./2*(alpha*mean(wh_x_nu**2) + \\\n",
    "        (1-alpha)*mean(wh_x_de**2)) - 1./2;\n",
    "\n",
    "    return (PE,wh_x_re,score)\n",
    "\n",
    "def sigma_list(x_nu,x_de):\n",
    "    x = c_[x_nu, x_de];\n",
    "    med = compmedDist(x.T);\n",
    "    return med*array([0.6, 0.8, 1, 1.2, 1.4]);\n",
    "\n",
    "def lambda_list():\n",
    "    return 10.0**array([-3,-2,-1,0,1]);\n",
    "\n",
    "def norm_pdf(x,mu,std):\n",
    "    return exp(-(x-mu)**2/(2*(std**2)))/(std*sqrt(2*pi))"
   ]
  },
  {
   "cell_type": "code",
   "execution_count": 68,
   "metadata": {
    "collapsed": true
   },
   "outputs": [],
   "source": [
    "def cal_divergence(list1, list2, total):\n",
    "    # x_nu = randn(1,5)*.25 - 1;\n",
    "#     x_nu = np.random.randn(1,10)*.5;\n",
    "#     x_de = np.random.randn(1,10)*.5;\n",
    "#     x_re = array([arange(-1.5,1.5,.05)])\n",
    "\n",
    "    x_nu = array([list1])\n",
    "    x_de = array([list2])\n",
    "    x_re = array([total])\n",
    "    \n",
    "#     print(x_nu)\n",
    "#     print(x_de)\n",
    "#     print(x_re)\n",
    "    \n",
    "#     x_re = np.array(total)\n",
    "\n",
    "    #using normal ULSIF, which is RULSIF with alpha = 0.\n",
    "    # x_nu: samples from numerator\n",
    "    # x_de: samples from denominator\n",
    "    # x_re: reference sample\n",
    "    # alpha: alpha defined in relative density ratio\n",
    "    # sigma_list, lambda_list: parameters for model selection\n",
    "    # b: number of kernel basis\n",
    "    # fold: number of fold for cross validation\n",
    "    alpha = 0.1;\n",
    "    (PE,w,s) = R_ULSIF(x_nu, x_de, c_[x_re,x_nu,x_de], alpha, sigma_list(x_nu,x_de),lambda_list(), 5, 5)\n",
    "\n",
    "#     print('divergence = ' + str(PE))\n",
    "    return PE"
   ]
  },
  {
   "cell_type": "code",
   "execution_count": 66,
   "metadata": {
    "collapsed": false
   },
   "outputs": [
    {
     "name": "stdout",
     "output_type": "stream",
     "text": [
      "[[  48.   78.   71.   77.  101.   81.  164.]]\n",
      "[[  78.   71.   77.  101.   81.  164.   97.]]\n"
     ]
    },
    {
     "data": {
      "image/png": "[encoded data removed]",
      "text/plain": [
       "<matplotlib.figure.Figure at 0x7f10034f5310>"
      ]
     },
     "metadata": {},
     "output_type": "display_data"
    },
    {
     "name": "stdout",
     "output_type": "stream",
     "text": [
      "alpha =  0.1\n",
      "divergence =  -0.124542325398\n"
     ]
    }
   ],
   "source": [
    "seed(3)\n",
    "#generate data.\n",
    "\n",
    "list1 = [48.0, 78.0, 71.0, 77.0, 101.0, 81.0, 164.0]\n",
    "list2 = [78., 71., 77., 101., 81., 164., 97.]\n",
    "\n",
    "# numerator samples\n",
    "# x_nu = randn(1,5)*.25 - 1;\n",
    "# x_nu = randn(1,10)*.5;\n",
    "x_nu = array([list1])\n",
    "# denominators samples\n",
    "# x_de = randn(1,10)*.5;\n",
    "x_de = array([list2])\n",
    "\n",
    "x_re = array([f_list])\n",
    "\n",
    "print x_nu\n",
    "print x_de\n",
    "\n",
    "# print x_nu    \n",
    "\n",
    "#using normal ULSIF, which is RULSIF with alpha = 0.\n",
    "# x_nu: samples from numerator\n",
    "# x_de: samples from denominator\n",
    "# x_re: reference sample\n",
    "# alpha: alpha defined in relative density ratio\n",
    "# sigma_list, lambda_list: parameters for model selection\n",
    "# b: number of kernel basis\n",
    "# fold: number of fold for cross validation\n",
    "alpha = 0.1;\n",
    "(PE,w,s) = R_ULSIF(x_nu, x_de, c_[x_re,x_nu,x_de], alpha, sigma_list(x_nu,x_de),lambda_list(), 5, 5)\n",
    "\n",
    "#plotting with true density ratio\n",
    "w_re = w[0:x_re.shape[1]]\n",
    "plot(x_re.T,w_re,label='r_{hat}(x)',linewidth=2.5, color='red')\n",
    "w_nu = w[x_re.shape[1]:x_re.shape[1]+x_nu.shape[1]]\n",
    "scatter(x_nu,w_nu,label='x_nu',color = 'green', facecolors='none' ,s=100)\n",
    "w_de= w[x_re.shape[1]+x_nu.shape[1]:]\n",
    "scatter(x_de,w_de,label='x_de',color='magenta', facecolors='none' ,s=100)\n",
    "\n",
    "# x_disp = linspace(-1.5,1.5,100);\n",
    "# plot(x_disp, norm_pdf(x_disp, -1,.25)/norm_pdf(x_disp, 0, .5),\\\n",
    "#      linewidth = 2.5, label='r(x)',color='blue')\n",
    "legend()\n",
    "show()\n",
    "\n",
    "print 'alpha = ',alpha\n",
    "print 'divergence = ', PE\n"
   ]
  },
  {
   "cell_type": "code",
   "execution_count": 73,
   "metadata": {
    "collapsed": false
   },
   "outputs": [
    {
     "name": "stdout",
     "output_type": "stream",
     "text": [
      "dave_ghost\n",
      "\tFinish\n"
     ]
    },
    {
     "data": {
      "image/png": "[encoded data removed]",
      "text/plain": [
       "<matplotlib.figure.Figure at 0x7f0ff43c32d0>"
      ]
     },
     "metadata": {},
     "output_type": "display_data"
    }
   ],
   "source": [
    "for patient in patient_day_tweets:\n",
    "    if patient != 'dave_ghost': continue\n",
    "    sorted_date_user = sorted(patient_day_tweets[patient])\n",
    "\n",
    "#     To calculate means\n",
    "#     F is normal tweets counts\n",
    "#     l is late tweets counts\n",
    "    print(patient)\n",
    "    f_list = []\n",
    "    l_list = []\n",
    "    for date in sorted_date_user:\n",
    "#         if date >= int(start_str) and date <= int(end_str):\n",
    "        f_list.append(float(len(patient_day_tweets[patient][date])))\n",
    "#             Count late\n",
    "        late_count = 0\n",
    "        for tweet in patient_day_tweets[patient][date]:\n",
    "            tweet_time = tweet.split('\\t')[0]\n",
    "            if int(tweet_time.split(' ')[1].split(':')[1]) < 6:\n",
    "                late_count +=1\n",
    "        l_list.append(float(late_count))\n",
    "    \n",
    "    fl_array = np.array([f_list, l_list])\n",
    "    \n",
    "# #     change point\n",
    "    total_slide_windows_value_list = []\n",
    "    windows_size = 7\n",
    "\n",
    "    user_tweets_len = len(sorted_date_user)\n",
    "    for index in range(user_tweets_len):\n",
    "        single_slide_windows_value_list = []\n",
    "\n",
    "#     create sliding window\n",
    "        for each_size in range(windows_size):\n",
    "            window_index = index + each_size\n",
    "#             Check if out if index\n",
    "            if window_index < (user_tweets_len - 1) :\n",
    "                single_slide_windows_value_list.append(f_list[window_index])\n",
    "            else:\n",
    "                single_slide_windows_value_list.append(0)\n",
    "        total_slide_windows_value_list.append(single_slide_windows_value_list)\n",
    "    \n",
    "    divergence_list = []\n",
    "    for i in range(len(total_slide_windows_value_list))[1:]:\n",
    "        try:\n",
    "            divergence_list.append(cal_divergence(total_slide_windows_value_list[i-1], total_slide_windows_value_list[i], f_list))\n",
    "        except:\n",
    "            divergence_list.append(0.0)\n",
    "            print(\"Dead at \" + str(i))\n",
    "    print(\"\\tFinish\")\n",
    "    #plotting with true density ratio\n",
    "    plot(divergence_list)\n",
    "    show()\n",
    "    \n",
    "    break"
   ]
  },
  {
   "cell_type": "code",
   "execution_count": null,
   "metadata": {
    "collapsed": true
   },
   "outputs": [],
   "source": []
  }
 ],
 "metadata": {
  "kernelspec": {
   "display_name": "Python 2",
   "language": "python",
   "name": "python2"
  },
  "language_info": {
   "codemirror_mode": {
    "name": "ipython",
    "version": 2
   },
   "file_extension": ".py",
   "mimetype": "text/x-python",
   "name": "python",
   "nbconvert_exporter": "python",
   "pygments_lexer": "ipython2",
   "version": "2.7.12"
  }
 },
 "nbformat": 4,
 "nbformat_minor": 2
}
